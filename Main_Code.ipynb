{
 "cells": [
  {
   "cell_type": "code",
   "execution_count": 1,
   "metadata": {
    "id": "e6rrsFyi4Bd9"
   },
   "outputs": [],
   "source": [
    "# This is the main jupyter notebook for the coursework of MLIS \n",
    "## Grp 4B\n",
    "## Authors\n",
    "## Alpaslan Erdag , Anshuman Singh , Yixin Fan\n",
    "## Date - 15/01/2022"
   ]
  },
  {
   "cell_type": "markdown",
   "metadata": {
    "id": "G-IY5zC537OU"
   },
   "source": [
    "<h1> <center> Abstract </center> </h1>\n",
    "​<em>\n",
    "\n",
    "Todo - Write some abstract about the data giving some information about.\n",
    "\n",
    "The data is obtanined from UCI repository which can be obtained from the [here](https://archive.ics.uci.edu/ml/datasets/breast+cancer+wisconsin+%28original%29)\n",
    "</em>"
   ]
  },
  {
   "cell_type": "code",
   "execution_count": 2,
   "metadata": {
    "colab": {
     "base_uri": "https://localhost:8080/"
    },
    "id": "3boaTk7A4FrC",
    "outputId": "28e07a26-0a3f-4422-b507-f887576fdaca"
   },
   "outputs": [
    {
     "name": "stdout",
     "output_type": "stream",
     "text": [
      "Citation Request:\n",
      "   This breast cancer databases was obtained from the University of Wisconsin\n",
      "   Hospitals, Madison from Dr. William H. Wolberg.  If you publish results\n",
      "   when using this database, then please include this information in your\n",
      "   acknowledgements.  Also, please cite one or more of:\n",
      "\n",
      "   1. O. L. Mangasarian and W. H. Wolberg: \"Cancer diagnosis via linear \n",
      "      programming\", SIAM News, Volume 23, Number 5, September 1990, pp 1 & 18.\n",
      "\n",
      "   2. William H. Wolberg and O.L. Mangasarian: \"Multisurface method of \n",
      "      pattern separation for medical diagnosis applied to breast cytology\", \n",
      "      Proceedings of the National Academy of Sciences, U.S.A., Volume 87, \n",
      "      December 1990, pp 9193-9196.\n",
      "\n",
      "   3. O. L. Mangasarian, R. Setiono, and W.H. Wolberg: \"Pattern recognition \n",
      "      via linear programming: Theory and application to medical diagnosis\", \n",
      "      in: \"Large-scale numerical optimization\", Thomas F. Coleman and Yuying\n",
      "      Li, editors, SIAM Publications, Philadelphia 1990, pp 22-30.\n",
      "\n",
      "   4. K. P. Bennett & O. L. Mangasarian: \"Robust linear programming \n",
      "      discrimination of two linearly inseparable sets\", Optimization Methods\n",
      "      and Software 1, 1992, 23-34 (Gordon & Breach Science Publishers).\n",
      "\n",
      "1. Title: Wisconsin Breast Cancer Database (January 8, 1991)\n",
      "\n",
      "2. Sources:\n",
      "   -- Dr. WIlliam H. Wolberg (physician)\n",
      "      University of Wisconsin Hospitals\n",
      "      Madison, Wisconsin\n",
      "      USA\n",
      "   -- Donor: Olvi Mangasarian (mangasarian@cs.wisc.edu)\n",
      "      Received by David W. Aha (aha@cs.jhu.edu)\n",
      "   -- Date: 15 July 1992\n",
      "\n",
      "3. Past Usage:\n",
      "\n",
      "   Attributes 2 through 10 have been used to represent instances.\n",
      "   Each instance has one of 2 possible classes: benign or malignant.\n",
      "\n",
      "   1. Wolberg,~W.~H., \\& Mangasarian,~O.~L. (1990). Multisurface method of \n",
      "      pattern separation for medical diagnosis applied to breast cytology. In\n",
      "      {\\it Proceedings of the National Academy of Sciences}, {\\it 87},\n",
      "      9193--9196.\n",
      "      -- Size of data set: only 369 instances (at that point in time)\n",
      "      -- Collected classification results: 1 trial only\n",
      "      -- Two pairs of parallel hyperplanes were found to be consistent with\n",
      "         50% of the data\n",
      "         -- Accuracy on remaining 50% of dataset: 93.5%\n",
      "      -- Three pairs of parallel hyperplanes were found to be consistent with\n",
      "         67% of data\n",
      "         -- Accuracy on remaining 33% of dataset: 95.9%\n",
      "\n",
      "   2. Zhang,~J. (1992). Selecting typical instances in instance-based\n",
      "      learning.  In {\\it Proceedings of the Ninth International Machine\n",
      "      Learning Conference} (pp. 470--479).  Aberdeen, Scotland: Morgan\n",
      "      Kaufmann.\n",
      "      -- Size of data set: only 369 instances (at that point in time)\n",
      "      -- Applied 4 instance-based learning algorithms \n",
      "      -- Collected classification results averaged over 10 trials\n",
      "      -- Best accuracy result: \n",
      "         -- 1-nearest neighbor: 93.7%\n",
      "         -- trained on 200 instances, tested on the other 169\n",
      "      -- Also of interest:\n",
      "         -- Using only typical instances: 92.2% (storing only 23.1 instances)\n",
      "         -- trained on 200 instances, tested on the other 169\n",
      "\n",
      "4. Relevant Information:\n",
      "\n",
      "   Samples arrive periodically as Dr. Wolberg reports his clinical cases.\n",
      "   The database therefore reflects this chronological grouping of the data.\n",
      "   This grouping information appears immediately below, having been removed\n",
      "   from the data itself:\n",
      "\n",
      "     Group 1: 367 instances (January 1989)\n",
      "     Group 2:  70 instances (October 1989)\n",
      "     Group 3:  31 instances (February 1990)\n",
      "     Group 4:  17 instances (April 1990)\n",
      "     Group 5:  48 instances (August 1990)\n",
      "     Group 6:  49 instances (Updated January 1991)\n",
      "     Group 7:  31 instances (June 1991)\n",
      "     Group 8:  86 instances (November 1991)\n",
      "     -----------------------------------------\n",
      "     Total:   699 points (as of the donated datbase on 15 July 1992)\n",
      "\n",
      "   Note that the results summarized above in Past Usage refer to a dataset\n",
      "   of size 369, while Group 1 has only 367 instances.  This is because it\n",
      "   originally contained 369 instances; 2 were removed.  The following\n",
      "   statements summarizes changes to the original Group 1's set of data:\n",
      "\n",
      "   #####  Group 1 : 367 points: 200B 167M (January 1989)\n",
      "   #####  Revised Jan 10, 1991: Replaced zero bare nuclei in 1080185 & 1187805\n",
      "   #####  Revised Nov 22,1991: Removed 765878,4,5,9,7,10,10,10,3,8,1 no record\n",
      "   #####                  : Removed 484201,2,7,8,8,4,3,10,3,4,1 zero epithelial\n",
      "   #####                  : Changed 0 to 1 in field 6 of sample 1219406\n",
      "   #####                  : Changed 0 to 1 in field 8 of following sample:\n",
      "   #####                  : 1182404,2,3,1,1,1,2,0,1,1,1\n",
      "\n",
      "5. Number of Instances: 699 (as of 15 July 1992)\n",
      "\n",
      "6. Number of Attributes: 10 plus the class attribute\n",
      "\n",
      "7. Attribute Information: (class attribute has been moved to last column)\n",
      "\n",
      "   #  Attribute                     Domain\n",
      "   -- -----------------------------------------\n",
      "   1. Sample code number            id number\n",
      "   2. Clump Thickness               1 - 10\n",
      "   3. Uniformity of Cell Size       1 - 10\n",
      "   4. Uniformity of Cell Shape      1 - 10\n",
      "   5. Marginal Adhesion             1 - 10\n",
      "   6. Single Epithelial Cell Size   1 - 10\n",
      "   7. Bare Nuclei                   1 - 10\n",
      "   8. Bland Chromatin               1 - 10\n",
      "   9. Normal Nucleoli               1 - 10\n",
      "  10. Mitoses                       1 - 10\n",
      "  11. Class:                        (2 for benign, 4 for malignant)\n",
      "\n",
      "8. Missing attribute values: 16\n",
      "\n",
      "   There are 16 instances in Groups 1 to 6 that contain a single missing \n",
      "   (i.e., unavailable) attribute value, now denoted by \"?\".  \n",
      "\n",
      "9. Class distribution:\n",
      " \n",
      "   Benign: 458 (65.5%)\n",
      "   Malignant: 241 (34.5%)\n",
      "\n"
     ]
    }
   ],
   "source": [
    "# Also should we show this ? tell me your thoughts\n",
    "about_data ='/Users/anshuman/Desktop/Project_Folder/MLIS_Project_Ideal/breast-cancer-wisconsin.names'\n",
    "#about_data = '/content/breast-cancer-wisconsin.names'\n",
    "with open(about_data) as f:\n",
    "    print(f.read())"
   ]
  },
  {
   "cell_type": "markdown",
   "metadata": {
    "id": "ZN6gh3N24R-W"
   },
   "source": [
    "<h1><center>About code (Suggest a good heading)</center></h1>\n",
    "\n",
    "<h2><em>The code is divided in the following modules/parts/chapters?</h2>\n",
    "<ol>\n",
    "<li> <h4> Data Cleaning and Data Preprocessing </h4></li> \n",
    "<li> <h4>Model Fiting on the clean data </h4></li> \n",
    "<li> <h4>Model Accuracy </h4></li>\n",
    "</ol>\n",
    "</em>"
   ]
  },
  {
   "cell_type": "markdown",
   "metadata": {
    "id": "0TONMQnQ4SDg"
   },
   "source": [
    "<h2><center>1. Data Cleaning and Data Preprocessing</center></h2>\n",
    "\n",
    "<p>To get a good result over model accuracies we are going to first clean the data and then used the cleaned and preprocessed data to train a model. </p>\n",
    "\n",
    "<p> We will be using a systematic approach to clean our data. That will be listed in the following steps</p>\n",
    "<em>\n",
    "&emsp; <li>Data Visulaization</li>\n",
    "&emsp; <li>Checking and Removing nan values</li>\n",
    "&emsp; <li>Removing Useless Attributes</li>\n",
    "&emsp; <li>Deleting Outliers and Data Normalizations</li>\n",
    "</em>"
   ]
  },
  {
   "cell_type": "markdown",
   "metadata": {
    "id": "-daRoybV4SJI"
   },
   "source": [
    "<h3>1.1 Data Visualization </h3>"
   ]
  },
  {
   "cell_type": "markdown",
   "metadata": {
    "id": "dRQhoFvkfl-R"
   },
   "source": [
    "<h4>1.1.1 Code </h4>"
   ]
  },
  {
   "cell_type": "code",
   "execution_count": 3,
   "metadata": {
    "id": "sK9S6Bky4RlC"
   },
   "outputs": [],
   "source": [
    "## Header Files \n",
    "import pandas as pd\n",
    "import numpy as np\n",
    "import warnings\n",
    "warnings.filterwarnings('ignore')\n",
    "import matplotlib.pyplot as plt\n",
    "import seaborn as sns\n",
    "plt.style.use('ggplot')\n",
    "import scipy\n",
    "\n",
    "## Loading Data \n",
    "data = '/Users/anshuman/Desktop/Project_Folder/MLIS_Project_Ideal/breast-cancer-wisconsin.data'\n",
    "#data = '/content/breast-cancer-wisconsin.data'"
   ]
  },
  {
   "cell_type": "code",
   "execution_count": 4,
   "metadata": {
    "id": "xL5c7NTs4omD",
    "scrolled": true
   },
   "outputs": [
    {
     "data": {
      "text/html": [
       "<div>\n",
       "<style scoped>\n",
       "    .dataframe tbody tr th:only-of-type {\n",
       "        vertical-align: middle;\n",
       "    }\n",
       "\n",
       "    .dataframe tbody tr th {\n",
       "        vertical-align: top;\n",
       "    }\n",
       "\n",
       "    .dataframe thead th {\n",
       "        text-align: right;\n",
       "    }\n",
       "</style>\n",
       "<table border=\"1\" class=\"dataframe\">\n",
       "  <thead>\n",
       "    <tr style=\"text-align: right;\">\n",
       "      <th></th>\n",
       "      <th>Samplecodenumber</th>\n",
       "      <th>ClumpThickness</th>\n",
       "      <th>UniformityofCellSize</th>\n",
       "      <th>UniformityofCellShape</th>\n",
       "      <th>MarginalAdhesion</th>\n",
       "      <th>SingleEpithelialCellSize</th>\n",
       "      <th>BareNuclei</th>\n",
       "      <th>BlandChromatin</th>\n",
       "      <th>NormalNucleoli</th>\n",
       "      <th>Mitoses</th>\n",
       "      <th>Class</th>\n",
       "    </tr>\n",
       "  </thead>\n",
       "  <tbody>\n",
       "    <tr>\n",
       "      <th>0</th>\n",
       "      <td>1000025</td>\n",
       "      <td>5</td>\n",
       "      <td>1</td>\n",
       "      <td>1</td>\n",
       "      <td>1</td>\n",
       "      <td>2</td>\n",
       "      <td>1</td>\n",
       "      <td>3</td>\n",
       "      <td>1</td>\n",
       "      <td>1</td>\n",
       "      <td>2</td>\n",
       "    </tr>\n",
       "    <tr>\n",
       "      <th>1</th>\n",
       "      <td>1002945</td>\n",
       "      <td>5</td>\n",
       "      <td>4</td>\n",
       "      <td>4</td>\n",
       "      <td>5</td>\n",
       "      <td>7</td>\n",
       "      <td>10</td>\n",
       "      <td>3</td>\n",
       "      <td>2</td>\n",
       "      <td>1</td>\n",
       "      <td>2</td>\n",
       "    </tr>\n",
       "    <tr>\n",
       "      <th>2</th>\n",
       "      <td>1015425</td>\n",
       "      <td>3</td>\n",
       "      <td>1</td>\n",
       "      <td>1</td>\n",
       "      <td>1</td>\n",
       "      <td>2</td>\n",
       "      <td>2</td>\n",
       "      <td>3</td>\n",
       "      <td>1</td>\n",
       "      <td>1</td>\n",
       "      <td>2</td>\n",
       "    </tr>\n",
       "    <tr>\n",
       "      <th>3</th>\n",
       "      <td>1016277</td>\n",
       "      <td>6</td>\n",
       "      <td>8</td>\n",
       "      <td>8</td>\n",
       "      <td>1</td>\n",
       "      <td>3</td>\n",
       "      <td>4</td>\n",
       "      <td>3</td>\n",
       "      <td>7</td>\n",
       "      <td>1</td>\n",
       "      <td>2</td>\n",
       "    </tr>\n",
       "    <tr>\n",
       "      <th>4</th>\n",
       "      <td>1017023</td>\n",
       "      <td>4</td>\n",
       "      <td>1</td>\n",
       "      <td>1</td>\n",
       "      <td>3</td>\n",
       "      <td>2</td>\n",
       "      <td>1</td>\n",
       "      <td>3</td>\n",
       "      <td>1</td>\n",
       "      <td>1</td>\n",
       "      <td>2</td>\n",
       "    </tr>\n",
       "  </tbody>\n",
       "</table>\n",
       "</div>"
      ],
      "text/plain": [
       "   Samplecodenumber  ClumpThickness  UniformityofCellSize  \\\n",
       "0           1000025               5                     1   \n",
       "1           1002945               5                     4   \n",
       "2           1015425               3                     1   \n",
       "3           1016277               6                     8   \n",
       "4           1017023               4                     1   \n",
       "\n",
       "   UniformityofCellShape  MarginalAdhesion  SingleEpithelialCellSize  \\\n",
       "0                      1                 1                         2   \n",
       "1                      4                 5                         7   \n",
       "2                      1                 1                         2   \n",
       "3                      8                 1                         3   \n",
       "4                      1                 3                         2   \n",
       "\n",
       "  BareNuclei  BlandChromatin  NormalNucleoli  Mitoses  Class  \n",
       "0          1               3               1        1      2  \n",
       "1         10               3               2        1      2  \n",
       "2          2               3               1        1      2  \n",
       "3          4               3               7        1      2  \n",
       "4          1               3               1        1      2  "
      ]
     },
     "execution_count": 4,
     "metadata": {},
     "output_type": "execute_result"
    }
   ],
   "source": [
    "# Nameing the columms\n",
    "col_name = ['Samplecodenumber','ClumpThickness','UniformityofCellSize','UniformityofCellShape',\n",
    "            'MarginalAdhesion','SingleEpithelialCellSize','BareNuclei',\n",
    "            'BlandChromatin','NormalNucleoli','Mitoses','Class']\n",
    "cancerdata = pd.read_csv(data,low_memory=False,names=col_name)\n",
    "cancerdata.head()"
   ]
  },
  {
   "cell_type": "code",
   "execution_count": 5,
   "metadata": {
    "id": "oOGBeeDS4opZ"
   },
   "outputs": [],
   "source": [
    "## Removing attribute that is of no use\n",
    "cancerdata = cancerdata.drop(['Samplecodenumber'], 1)"
   ]
  },
  {
   "cell_type": "code",
   "execution_count": 6,
   "metadata": {
    "id": "nV7-qayy4orv"
   },
   "outputs": [
    {
     "data": {
      "text/plain": [
       "2    458\n",
       "4    241\n",
       "Name: Class, dtype: int64"
      ]
     },
     "execution_count": 6,
     "metadata": {},
     "output_type": "execute_result"
    }
   ],
   "source": [
    "# The number of samples present by class count\n",
    "cancerdata['Class'].value_counts()"
   ]
  },
  {
   "cell_type": "code",
   "execution_count": 7,
   "metadata": {
    "id": "iY_4Kw5F4ous"
   },
   "outputs": [
    {
     "data": {
      "text/html": [
       "<div>\n",
       "<style scoped>\n",
       "    .dataframe tbody tr th:only-of-type {\n",
       "        vertical-align: middle;\n",
       "    }\n",
       "\n",
       "    .dataframe tbody tr th {\n",
       "        vertical-align: top;\n",
       "    }\n",
       "\n",
       "    .dataframe thead th {\n",
       "        text-align: right;\n",
       "    }\n",
       "</style>\n",
       "<table border=\"1\" class=\"dataframe\">\n",
       "  <thead>\n",
       "    <tr style=\"text-align: right;\">\n",
       "      <th></th>\n",
       "      <th>ClumpThickness</th>\n",
       "      <th>UniformityofCellSize</th>\n",
       "      <th>UniformityofCellShape</th>\n",
       "      <th>MarginalAdhesion</th>\n",
       "      <th>SingleEpithelialCellSize</th>\n",
       "      <th>BareNuclei</th>\n",
       "      <th>BlandChromatin</th>\n",
       "      <th>NormalNucleoli</th>\n",
       "      <th>Mitoses</th>\n",
       "      <th>classes</th>\n",
       "    </tr>\n",
       "  </thead>\n",
       "  <tbody>\n",
       "    <tr>\n",
       "      <th>0</th>\n",
       "      <td>5</td>\n",
       "      <td>4</td>\n",
       "      <td>4</td>\n",
       "      <td>5</td>\n",
       "      <td>7</td>\n",
       "      <td>10</td>\n",
       "      <td>3</td>\n",
       "      <td>2</td>\n",
       "      <td>1</td>\n",
       "      <td>0</td>\n",
       "    </tr>\n",
       "    <tr>\n",
       "      <th>1</th>\n",
       "      <td>8</td>\n",
       "      <td>10</td>\n",
       "      <td>10</td>\n",
       "      <td>8</td>\n",
       "      <td>7</td>\n",
       "      <td>10</td>\n",
       "      <td>9</td>\n",
       "      <td>7</td>\n",
       "      <td>1</td>\n",
       "      <td>1</td>\n",
       "    </tr>\n",
       "    <tr>\n",
       "      <th>2</th>\n",
       "      <td>1</td>\n",
       "      <td>1</td>\n",
       "      <td>1</td>\n",
       "      <td>1</td>\n",
       "      <td>2</td>\n",
       "      <td>10</td>\n",
       "      <td>3</td>\n",
       "      <td>1</td>\n",
       "      <td>1</td>\n",
       "      <td>0</td>\n",
       "    </tr>\n",
       "    <tr>\n",
       "      <th>3</th>\n",
       "      <td>2</td>\n",
       "      <td>1</td>\n",
       "      <td>2</td>\n",
       "      <td>1</td>\n",
       "      <td>2</td>\n",
       "      <td>1</td>\n",
       "      <td>3</td>\n",
       "      <td>1</td>\n",
       "      <td>1</td>\n",
       "      <td>0</td>\n",
       "    </tr>\n",
       "    <tr>\n",
       "      <th>4</th>\n",
       "      <td>2</td>\n",
       "      <td>1</td>\n",
       "      <td>1</td>\n",
       "      <td>1</td>\n",
       "      <td>2</td>\n",
       "      <td>1</td>\n",
       "      <td>1</td>\n",
       "      <td>1</td>\n",
       "      <td>5</td>\n",
       "      <td>0</td>\n",
       "    </tr>\n",
       "  </tbody>\n",
       "</table>\n",
       "</div>"
      ],
      "text/plain": [
       "   ClumpThickness  UniformityofCellSize  UniformityofCellShape  \\\n",
       "0               5                     4                      4   \n",
       "1               8                    10                     10   \n",
       "2               1                     1                      1   \n",
       "3               2                     1                      2   \n",
       "4               2                     1                      1   \n",
       "\n",
       "   MarginalAdhesion  SingleEpithelialCellSize BareNuclei  BlandChromatin  \\\n",
       "0                 5                         7         10               3   \n",
       "1                 8                         7         10               9   \n",
       "2                 1                         2         10               3   \n",
       "3                 1                         2          1               3   \n",
       "4                 1                         2          1               1   \n",
       "\n",
       "   NormalNucleoli  Mitoses  classes  \n",
       "0               2        1        0  \n",
       "1               7        1        1  \n",
       "2               1        1        0  \n",
       "3               1        1        0  \n",
       "4               1        5        0  "
      ]
     },
     "execution_count": 7,
     "metadata": {},
     "output_type": "execute_result"
    }
   ],
   "source": [
    "# Making the class counts to similar size\n",
    "Benign = cancerdata[(cancerdata.Class == 2) ].sample(240).index\n",
    "Malignant = cancerdata[(cancerdata.Class == 4) ].sample(240).index\n",
    "cancer = cancerdata.loc[Benign|Malignant]\n",
    "cancer = cancer.reset_index(drop=True)\n",
    "\n",
    "# Making the classess from 2/4 to 0/1 \n",
    "cancer['classes'] = cancer.Class.map({2:0,4:1})\n",
    "cancer = cancer.drop(['Class'], 1)\n",
    "\n",
    "# Printing the updated dataframe\n",
    "cancer.head()"
   ]
  },
  {
   "cell_type": "code",
   "execution_count": 8,
   "metadata": {
    "id": "2gLfIN6F4oxH"
   },
   "outputs": [
    {
     "data": {
      "text/plain": [
       "0    240\n",
       "1    240\n",
       "Name: classes, dtype: int64"
      ]
     },
     "execution_count": 8,
     "metadata": {},
     "output_type": "execute_result"
    }
   ],
   "source": [
    "# Confirming that counts of the classes are similar \n",
    "cancer['classes'].value_counts()\n"
   ]
  },
  {
   "cell_type": "code",
   "execution_count": 9,
   "metadata": {
    "id": "FxwBcGnk429U",
    "scrolled": false
   },
   "outputs": [
    {
     "data": {
      "image/png": "[encoded data removed]",
      "text/plain": [
       "<Figure size 1296x1296 with 9 Axes>"
      ]
     },
     "metadata": {},
     "output_type": "display_data"
    }
   ],
   "source": [
    "# plot date variables and find the variables with similar distributions, keep only one of them.\n",
    "#['ClumpThickness','UniformityofCellSize','UniformityofCellShape','MarginalAdhesion',\n",
    "#'SingleEpithelialCellSize','BareNuclei','BlandChromatin','NormalNucleoli','Mitoses']\n",
    "fig, axs = plt.subplots(3, 3, figsize=(18,18))\n",
    "axs[0,0].hist(cancer['ClumpThickness'])\n",
    "axs[0,0].set_title(\"ClumpThickness\")\n",
    "axs[0,1].hist(cancer['UniformityofCellSize'])\n",
    "axs[0,1].set_title(\"UniformityofCellSize\")\n",
    "axs[0,2].hist(cancer['UniformityofCellShape'])\n",
    "axs[0,2].set_title(\"UniformityofCellShape\")\n",
    "axs[1,0].hist(cancer['MarginalAdhesion'])\n",
    "axs[1,0].set_title(\"MarginalAdhesion\")\n",
    "axs[1,1].hist(cancer['SingleEpithelialCellSize'])\n",
    "axs[1,1].set_title(\"SingleEpithelialCellSize\")\n",
    "axs[1,2].hist(cancer['BareNuclei'])\n",
    "axs[1,2].set_title(\"BareNuclei\")\n",
    "axs[2,0].hist(cancer['BlandChromatin'])\n",
    "axs[2,0].set_title(\"BlandChromatin\")\n",
    "axs[2,1].hist(cancer['NormalNucleoli'])\n",
    "axs[2,1].set_title(\"NormalNucleoli\")\n",
    "axs[2,2].hist(cancer['Mitoses'])\n",
    "axs[2,2].set_title(\"Mitoses\")\n",
    "fig.tight_layout()"
   ]
  },
  {
   "cell_type": "markdown",
   "metadata": {
    "id": "wdpWrB3HWel7"
   },
   "source": [
    "<h4>1.1.2 Observations </h4>\n",
    "<ol>\n",
    "    <li>The class counts is in a 2:1 ratio with benign being 458 and malignant being 241</li>\n",
    "    <li>The graph shows that data is very skewed for every attribute</li>\n",
    "</ol>\n",
    "<h4>1.1.3 Approach </h4>\n",
    "<ol>\n",
    "    <li>First we make the class ratio 1:1 and making data points to 240 for each class</li>\n",
    "</ol>"
   ]
  },
  {
   "cell_type": "markdown",
   "metadata": {
    "id": "fPcTVTlE46vC"
   },
   "source": [
    "<h3>1.2 Checking and Removing nan values</h3>"
   ]
  },
  {
   "cell_type": "markdown",
   "metadata": {
    "id": "wbaWQwlpfyif"
   },
   "source": [
    "<h4>1.2.1 Code </h4>"
   ]
  },
  {
   "cell_type": "code",
   "execution_count": 10,
   "metadata": {
    "id": "dJclAfmh49KE"
   },
   "outputs": [
    {
     "data": {
      "text/plain": [
       "int64     9\n",
       "object    1\n",
       "dtype: int64"
      ]
     },
     "execution_count": 10,
     "metadata": {},
     "output_type": "execute_result"
    }
   ],
   "source": [
    "# Printing all the value counts \n",
    "cancer.dtypes.value_counts()"
   ]
  },
  {
   "cell_type": "code",
   "execution_count": 11,
   "metadata": {
    "id": "3DCa8TIj4_Ty"
   },
   "outputs": [
    {
     "data": {
      "text/html": [
       "<div>\n",
       "<style scoped>\n",
       "    .dataframe tbody tr th:only-of-type {\n",
       "        vertical-align: middle;\n",
       "    }\n",
       "\n",
       "    .dataframe tbody tr th {\n",
       "        vertical-align: top;\n",
       "    }\n",
       "\n",
       "    .dataframe thead th {\n",
       "        text-align: right;\n",
       "    }\n",
       "</style>\n",
       "<table border=\"1\" class=\"dataframe\">\n",
       "  <thead>\n",
       "    <tr style=\"text-align: right;\">\n",
       "      <th></th>\n",
       "      <th>BareNuclei</th>\n",
       "    </tr>\n",
       "  </thead>\n",
       "  <tbody>\n",
       "    <tr>\n",
       "      <th>0</th>\n",
       "      <td>10</td>\n",
       "    </tr>\n",
       "    <tr>\n",
       "      <th>1</th>\n",
       "      <td>10</td>\n",
       "    </tr>\n",
       "    <tr>\n",
       "      <th>2</th>\n",
       "      <td>10</td>\n",
       "    </tr>\n",
       "    <tr>\n",
       "      <th>3</th>\n",
       "      <td>1</td>\n",
       "    </tr>\n",
       "    <tr>\n",
       "      <th>4</th>\n",
       "      <td>1</td>\n",
       "    </tr>\n",
       "    <tr>\n",
       "      <th>...</th>\n",
       "      <td>...</td>\n",
       "    </tr>\n",
       "    <tr>\n",
       "      <th>475</th>\n",
       "      <td>1</td>\n",
       "    </tr>\n",
       "    <tr>\n",
       "      <th>476</th>\n",
       "      <td>1</td>\n",
       "    </tr>\n",
       "    <tr>\n",
       "      <th>477</th>\n",
       "      <td>3</td>\n",
       "    </tr>\n",
       "    <tr>\n",
       "      <th>478</th>\n",
       "      <td>4</td>\n",
       "    </tr>\n",
       "    <tr>\n",
       "      <th>479</th>\n",
       "      <td>5</td>\n",
       "    </tr>\n",
       "  </tbody>\n",
       "</table>\n",
       "<p>480 rows × 1 columns</p>\n",
       "</div>"
      ],
      "text/plain": [
       "    BareNuclei\n",
       "0           10\n",
       "1           10\n",
       "2           10\n",
       "3            1\n",
       "4            1\n",
       "..         ...\n",
       "475          1\n",
       "476          1\n",
       "477          3\n",
       "478          4\n",
       "479          5\n",
       "\n",
       "[480 rows x 1 columns]"
      ]
     },
     "execution_count": 11,
     "metadata": {},
     "output_type": "execute_result"
    }
   ],
   "source": [
    "# Printing data types\n",
    "cancer.select_dtypes('object')"
   ]
  },
  {
   "cell_type": "code",
   "execution_count": 12,
   "metadata": {
    "id": "1CyRzBnb6XnU"
   },
   "outputs": [
    {
     "data": {
      "text/html": [
       "<div>\n",
       "<style scoped>\n",
       "    .dataframe tbody tr th:only-of-type {\n",
       "        vertical-align: middle;\n",
       "    }\n",
       "\n",
       "    .dataframe tbody tr th {\n",
       "        vertical-align: top;\n",
       "    }\n",
       "\n",
       "    .dataframe thead th {\n",
       "        text-align: right;\n",
       "    }\n",
       "</style>\n",
       "<table border=\"1\" class=\"dataframe\">\n",
       "  <thead>\n",
       "    <tr style=\"text-align: right;\">\n",
       "      <th></th>\n",
       "      <th>Count</th>\n",
       "      <th>Percent</th>\n",
       "    </tr>\n",
       "  </thead>\n",
       "  <tbody>\n",
       "    <tr>\n",
       "      <th>BareNuclei</th>\n",
       "      <td>7</td>\n",
       "      <td>1.458333</td>\n",
       "    </tr>\n",
       "  </tbody>\n",
       "</table>\n",
       "</div>"
      ],
      "text/plain": [
       "            Count   Percent\n",
       "BareNuclei      7  1.458333"
      ]
     },
     "execution_count": 12,
     "metadata": {},
     "output_type": "execute_result"
    }
   ],
   "source": [
    "#Replacing nan Values\n",
    "cancer = cancer.replace('?' ,np.nan)\n",
    "\n",
    "##Finding the the count and percentage of values that are missing in the dataframe.\n",
    "null1 = pd.DataFrame({'Count': cancer.isnull().sum(), 'Percent': 100*cancer.isnull().sum()/len(cancer)})\n",
    "\n",
    "##printing columns with null count more than 0\n",
    "null1[null1['Count'] > 0]"
   ]
  },
  {
   "cell_type": "code",
   "execution_count": 13,
   "metadata": {
    "id": "mQKh6EdQ6Xrk"
   },
   "outputs": [],
   "source": [
    "## Filling the columns with nan values with mean of the data\n",
    "cancer[\"BareNuclei\"]=cancer[\"BareNuclei\"].astype(float)\n",
    "cancer=cancer.fillna(cancer.mean())"
   ]
  },
  {
   "cell_type": "markdown",
   "metadata": {
    "id": "PHIdqxDmWMPe"
   },
   "source": [
    "<h4>1.2.2 Observations </h4>\n",
    "<ol>\n",
    "    <li>We obsereve that there is one attribute that is not in integer format</li>\n",
    "    <li>We find that there are nan values in BareNuclei</li>\n",
    "</ol>\n",
    "<h4>1.2.3 Approach </h4>\n",
    "<ol>\n",
    "    <li>We find that BareNuclei is a object type attribute so we convert it to float</li>\n",
    "    <li>We replace nan values in BareNuclei with mean value of BareNuclei</li>\n",
    "</ol>"
   ]
  },
  {
   "cell_type": "markdown",
   "metadata": {
    "id": "uf89AePf6nsZ"
   },
   "source": [
    "<h3>1.3 Removing Useless Attributes </h3>"
   ]
  },
  {
   "cell_type": "markdown",
   "metadata": {
    "id": "aF8wcn9Gf3au"
   },
   "source": [
    "<h4>1.3.1 Code </h4>"
   ]
  },
  {
   "cell_type": "code",
   "execution_count": 14,
   "metadata": {
    "id": "e1xo7hxe6Xv1"
   },
   "outputs": [
    {
     "data": {
      "text/html": [
       "<div>\n",
       "<style scoped>\n",
       "    .dataframe tbody tr th:only-of-type {\n",
       "        vertical-align: middle;\n",
       "    }\n",
       "\n",
       "    .dataframe tbody tr th {\n",
       "        vertical-align: top;\n",
       "    }\n",
       "\n",
       "    .dataframe thead th {\n",
       "        text-align: right;\n",
       "    }\n",
       "</style>\n",
       "<table border=\"1\" class=\"dataframe\">\n",
       "  <thead>\n",
       "    <tr style=\"text-align: right;\">\n",
       "      <th></th>\n",
       "      <th>classes</th>\n",
       "      <th>UniformityofCellShape</th>\n",
       "      <th>UniformityofCellSize</th>\n",
       "      <th>BareNuclei</th>\n",
       "      <th>BlandChromatin</th>\n",
       "      <th>ClumpThickness</th>\n",
       "      <th>NormalNucleoli</th>\n",
       "      <th>SingleEpithelialCellSize</th>\n",
       "      <th>MarginalAdhesion</th>\n",
       "      <th>Mitoses</th>\n",
       "    </tr>\n",
       "  </thead>\n",
       "  <tbody>\n",
       "    <tr>\n",
       "      <th>0</th>\n",
       "      <td>0</td>\n",
       "      <td>4</td>\n",
       "      <td>4</td>\n",
       "      <td>10.0</td>\n",
       "      <td>3</td>\n",
       "      <td>5</td>\n",
       "      <td>2</td>\n",
       "      <td>7</td>\n",
       "      <td>5</td>\n",
       "      <td>1</td>\n",
       "    </tr>\n",
       "    <tr>\n",
       "      <th>1</th>\n",
       "      <td>1</td>\n",
       "      <td>10</td>\n",
       "      <td>10</td>\n",
       "      <td>10.0</td>\n",
       "      <td>9</td>\n",
       "      <td>8</td>\n",
       "      <td>7</td>\n",
       "      <td>7</td>\n",
       "      <td>8</td>\n",
       "      <td>1</td>\n",
       "    </tr>\n",
       "    <tr>\n",
       "      <th>2</th>\n",
       "      <td>0</td>\n",
       "      <td>1</td>\n",
       "      <td>1</td>\n",
       "      <td>10.0</td>\n",
       "      <td>3</td>\n",
       "      <td>1</td>\n",
       "      <td>1</td>\n",
       "      <td>2</td>\n",
       "      <td>1</td>\n",
       "      <td>1</td>\n",
       "    </tr>\n",
       "  </tbody>\n",
       "</table>\n",
       "</div>"
      ],
      "text/plain": [
       "   classes  UniformityofCellShape  UniformityofCellSize  BareNuclei  \\\n",
       "0        0                      4                     4        10.0   \n",
       "1        1                     10                    10        10.0   \n",
       "2        0                      1                     1        10.0   \n",
       "\n",
       "   BlandChromatin  ClumpThickness  NormalNucleoli  SingleEpithelialCellSize  \\\n",
       "0               3               5               2                         7   \n",
       "1               9               8               7                         7   \n",
       "2               3               1               1                         2   \n",
       "\n",
       "   MarginalAdhesion  Mitoses  \n",
       "0                 5        1  \n",
       "1                 8        1  \n",
       "2                 1        1  "
      ]
     },
     "execution_count": 14,
     "metadata": {},
     "output_type": "execute_result"
    }
   ],
   "source": [
    "#Sorting with correlation values\n",
    "corr_list1=cancer.corr()['classes'].abs().sort_values(ascending=False)\n",
    "corr_list_new=corr_list1[corr_list1>0.01].index.values.tolist()\n",
    "corr_list1\n",
    "cancer=cancer[corr_list_new]\n",
    "cancer.head(3)"
   ]
  },
  {
   "cell_type": "code",
   "execution_count": 15,
   "metadata": {
    "id": "5MgSXzzR6XzR"
   },
   "outputs": [
    {
     "data": {
      "text/plain": [
       "classes                   classes                     1.000000\n",
       "UniformityofCellShape     UniformityofCellSize        0.899622\n",
       "                          classes                     0.806517\n",
       "classes                   UniformityofCellSize        0.796854\n",
       "BareNuclei                classes                     0.786907\n",
       "BlandChromatin            classes                     0.745586\n",
       "                          UniformityofCellSize        0.743300\n",
       "SingleEpithelialCellSize  UniformityofCellSize        0.740045\n",
       "BlandChromatin            UniformityofCellShape       0.727171\n",
       "SingleEpithelialCellSize  UniformityofCellShape       0.708104\n",
       "classes                   ClumpThickness              0.703970\n",
       "                          NormalNucleoli              0.695168\n",
       "UniformityofCellShape     NormalNucleoli              0.694475\n",
       "NormalNucleoli            UniformityofCellSize        0.688261\n",
       "MarginalAdhesion          UniformityofCellSize        0.681044\n",
       "classes                   SingleEpithelialCellSize    0.671684\n",
       "BareNuclei                UniformityofCellShape       0.668280\n",
       "classes                   MarginalAdhesion            0.667946\n",
       "MarginalAdhesion          UniformityofCellShape       0.659747\n",
       "                          BlandChromatin              0.650701\n",
       "BlandChromatin            BareNuclei                  0.647703\n",
       "NormalNucleoli            BlandChromatin              0.638899\n",
       "BareNuclei                UniformityofCellSize        0.635266\n",
       "ClumpThickness            UniformityofCellShape       0.628455\n",
       "BareNuclei                MarginalAdhesion            0.625410\n",
       "ClumpThickness            UniformityofCellSize        0.616716\n",
       "SingleEpithelialCellSize  BlandChromatin              0.597814\n",
       "NormalNucleoli            SingleEpithelialCellSize    0.587980\n",
       "SingleEpithelialCellSize  MarginalAdhesion            0.569773\n",
       "NormalNucleoli            MarginalAdhesion            0.568507\n",
       "ClumpThickness            BareNuclei                  0.548466\n",
       "BareNuclei                SingleEpithelialCellSize    0.540593\n",
       "NormalNucleoli            BareNuclei                  0.528162\n",
       "BlandChromatin            ClumpThickness              0.525697\n",
       "NormalNucleoli            ClumpThickness              0.499029\n",
       "SingleEpithelialCellSize  ClumpThickness              0.495825\n",
       "                          Mitoses                     0.482676\n",
       "Mitoses                   UniformityofCellSize        0.439590\n",
       "MarginalAdhesion          ClumpThickness              0.431527\n",
       "Mitoses                   UniformityofCellShape       0.420935\n",
       "                          NormalNucleoli              0.415469\n",
       "                          MarginalAdhesion            0.399960\n",
       "classes                   Mitoses                     0.387391\n",
       "ClumpThickness            Mitoses                     0.336224\n",
       "BlandChromatin            Mitoses                     0.321286\n",
       "BareNuclei                Mitoses                     0.295640\n",
       "dtype: float64"
      ]
     },
     "metadata": {},
     "output_type": "display_data"
    }
   ],
   "source": [
    "## To remove outliers first we have to find the correlation between attributes\n",
    "\n",
    "#find the variables with high correlations\n",
    "cor1 = cancer.corr().abs()\n",
    "list1 = cor1.stack().sort_values(ascending=False).drop_duplicates()  \n",
    "high_corr= list1[list1>0.70].index.values.tolist()\n",
    "high_corr.remove(high_corr[0])\n",
    "\n",
    "display(list1)"
   ]
  },
  {
   "cell_type": "code",
   "execution_count": 16,
   "metadata": {
    "id": "x7OKFrzE6X3D"
   },
   "outputs": [],
   "source": [
    "# for variable pairs with high correlation, keep only one of them\n",
    "columnlist=list(cancer.columns)\n",
    "len(high_corr)\n",
    "for i in range(len(high_corr)):\n",
    "    if \"classes\" in high_corr[i]:\n",
    "        columnlist=columnlist\n",
    "    else:\n",
    "        if high_corr[i][0] in columnlist and high_corr[i][1] in columnlist:\n",
    "            columnlist.remove(high_corr[i][1])\n",
    "        else:\n",
    "            columnlist=columnlist\n",
    "cancer_final=cancer[columnlist]"
   ]
  },
  {
   "cell_type": "code",
   "execution_count": 17,
   "metadata": {
    "id": "ZJPMB2Tq6pOq"
   },
   "outputs": [],
   "source": [
    "## Doing a test train split on the data \n",
    "import random\n",
    "from sklearn.model_selection import train_test_split\n",
    "training_data, test_data = train_test_split(cancer_final,random_state=None, shuffle=True)\n",
    "train_x=training_data.drop(['classes'], 1) \n",
    "train_y=training_data[['classes']]\n",
    "test_x=test_data.drop(['classes'], 1)\n",
    "test_y=test_data[['classes']]"
   ]
  },
  {
   "cell_type": "markdown",
   "metadata": {
    "id": "P-oNBnzbV4lI"
   },
   "source": [
    "<h4>1.3.2 Observations </h4>\n",
    "<ol>\n",
    "    <li>We find the correlation list of the attributes</li>\n",
    "</ol>\n",
    "\n",
    "<h4>1.3.3 Approach </h4>\n",
    "<ol>\n",
    "    <li>We remove the attributes that have low correlations from the data frame</li>\n",
    "    <li>We split the data in test and train datasets</li>\n",
    "</ol>"
   ]
  },
  {
   "cell_type": "markdown",
   "metadata": {
    "id": "6mQKJvN27Bfu"
   },
   "source": [
    "<h3>1.4 Deleting Outliers and Data Normalizations</h3>"
   ]
  },
  {
   "cell_type": "markdown",
   "metadata": {
    "id": "tOcvGwDUf8fd"
   },
   "source": [
    "<h4>1.4.1 Code </h4>"
   ]
  },
  {
   "cell_type": "code",
   "execution_count": 18,
   "metadata": {
    "id": "9Z4bemp56pTY"
   },
   "outputs": [],
   "source": [
    "# Remove outliers\n",
    "cancer_norm = cancer_final[(np.abs(scipy.stats.zscore(cancer_final)) < 3).all(axis=1)]\n",
    "# Zero mean normalisation\n",
    "cancer_norm.iloc[:,1:]=(cancer_norm.iloc[:,1:]-cancer_norm.iloc[:,1:].mean())/cancer_norm.iloc[:,1:].std()"
   ]
  },
  {
   "cell_type": "code",
   "execution_count": 19,
   "metadata": {
    "id": "MQpTYu396pXt"
   },
   "outputs": [
    {
     "data": {
      "text/html": [
       "<div>\n",
       "<style scoped>\n",
       "    .dataframe tbody tr th:only-of-type {\n",
       "        vertical-align: middle;\n",
       "    }\n",
       "\n",
       "    .dataframe tbody tr th {\n",
       "        vertical-align: top;\n",
       "    }\n",
       "\n",
       "    .dataframe thead th {\n",
       "        text-align: right;\n",
       "    }\n",
       "</style>\n",
       "<table border=\"1\" class=\"dataframe\">\n",
       "  <thead>\n",
       "    <tr style=\"text-align: right;\">\n",
       "      <th></th>\n",
       "      <th>classes</th>\n",
       "      <th>BareNuclei</th>\n",
       "      <th>BlandChromatin</th>\n",
       "      <th>ClumpThickness</th>\n",
       "      <th>NormalNucleoli</th>\n",
       "      <th>SingleEpithelialCellSize</th>\n",
       "      <th>MarginalAdhesion</th>\n",
       "      <th>Mitoses</th>\n",
       "    </tr>\n",
       "  </thead>\n",
       "  <tbody>\n",
       "    <tr>\n",
       "      <th>0</th>\n",
       "      <td>0</td>\n",
       "      <td>1.430562</td>\n",
       "      <td>-0.354073</td>\n",
       "      <td>0.008176</td>\n",
       "      <td>-0.415619</td>\n",
       "      <td>1.537362</td>\n",
       "      <td>0.562357</td>\n",
       "      <td>-0.416010</td>\n",
       "    </tr>\n",
       "    <tr>\n",
       "      <th>1</th>\n",
       "      <td>1</td>\n",
       "      <td>1.430562</td>\n",
       "      <td>1.956630</td>\n",
       "      <td>1.031696</td>\n",
       "      <td>1.110535</td>\n",
       "      <td>1.537362</td>\n",
       "      <td>1.546302</td>\n",
       "      <td>-0.416010</td>\n",
       "    </tr>\n",
       "    <tr>\n",
       "      <th>2</th>\n",
       "      <td>0</td>\n",
       "      <td>1.430562</td>\n",
       "      <td>-0.354073</td>\n",
       "      <td>-1.356517</td>\n",
       "      <td>-0.720850</td>\n",
       "      <td>-0.667792</td>\n",
       "      <td>-0.749571</td>\n",
       "      <td>-0.416010</td>\n",
       "    </tr>\n",
       "    <tr>\n",
       "      <th>3</th>\n",
       "      <td>0</td>\n",
       "      <td>-0.873931</td>\n",
       "      <td>-0.354073</td>\n",
       "      <td>-1.015343</td>\n",
       "      <td>-0.720850</td>\n",
       "      <td>-0.667792</td>\n",
       "      <td>-0.749571</td>\n",
       "      <td>-0.416010</td>\n",
       "    </tr>\n",
       "    <tr>\n",
       "      <th>4</th>\n",
       "      <td>0</td>\n",
       "      <td>-0.873931</td>\n",
       "      <td>-1.124307</td>\n",
       "      <td>-1.015343</td>\n",
       "      <td>-0.720850</td>\n",
       "      <td>-0.667792</td>\n",
       "      <td>-0.749571</td>\n",
       "      <td>3.009077</td>\n",
       "    </tr>\n",
       "  </tbody>\n",
       "</table>\n",
       "</div>"
      ],
      "text/plain": [
       "   classes  BareNuclei  BlandChromatin  ClumpThickness  NormalNucleoli  \\\n",
       "0        0    1.430562       -0.354073        0.008176       -0.415619   \n",
       "1        1    1.430562        1.956630        1.031696        1.110535   \n",
       "2        0    1.430562       -0.354073       -1.356517       -0.720850   \n",
       "3        0   -0.873931       -0.354073       -1.015343       -0.720850   \n",
       "4        0   -0.873931       -1.124307       -1.015343       -0.720850   \n",
       "\n",
       "   SingleEpithelialCellSize  MarginalAdhesion   Mitoses  \n",
       "0                  1.537362          0.562357 -0.416010  \n",
       "1                  1.537362          1.546302 -0.416010  \n",
       "2                 -0.667792         -0.749571 -0.416010  \n",
       "3                 -0.667792         -0.749571 -0.416010  \n",
       "4                 -0.667792         -0.749571  3.009077  "
      ]
     },
     "execution_count": 19,
     "metadata": {},
     "output_type": "execute_result"
    }
   ],
   "source": [
    "#printing the normalized head of the data\n",
    "cancer_norm.head()"
   ]
  },
  {
   "cell_type": "code",
   "execution_count": 20,
   "metadata": {
    "id": "Wkh0puJu6pa3"
   },
   "outputs": [],
   "source": [
    "#split the new dataset\n",
    "training_data_norm, test_data_norm = train_test_split(cancer_norm,random_state=None, shuffle=True)\n",
    "train_x_norm=training_data_norm.drop(['classes'], 1) \n",
    "train_y_norm=training_data_norm[['classes']]\n",
    "test_x_norm=test_data_norm.drop(['classes'], 1)\n",
    "test_y_norm=test_data_norm[['classes']]"
   ]
  },
  {
   "cell_type": "code",
   "execution_count": 21,
   "metadata": {
    "colab": {
     "base_uri": "https://localhost:8080/"
    },
    "id": "xlkLRQkM6pee",
    "outputId": "8fc8fc33-4eb4-440d-dd77-37a6680cef4c",
    "scrolled": true
   },
   "outputs": [
    {
     "name": "stdout",
     "output_type": "stream",
     "text": [
      "X_train Shape : (344, 7)\n",
      "Y_train Shape : (344, 1)\n",
      "X_test Shape  : (115, 7)\n",
      "Y_test Shape  : (115, 1)\n"
     ]
    }
   ],
   "source": [
    "# Print the shape of the data attributes\n",
    "x_train = np.array(train_x_norm)\n",
    "print('X_train Shape :',x_train.shape)\n",
    "y_train = np.array(train_y_norm)\n",
    "print('Y_train Shape :',y_train.shape)\n",
    "x_test = np.array(test_x_norm)\n",
    "print('X_test Shape  :',x_test.shape)\n",
    "y_test = np.array(test_y_norm)\n",
    "print('Y_test Shape  :',y_test.shape)"
   ]
  },
  {
   "cell_type": "code",
   "execution_count": 22,
   "metadata": {},
   "outputs": [
    {
     "name": "stdout",
     "output_type": "stream",
     "text": [
      "(344,)\n",
      "(115,)\n"
     ]
    }
   ],
   "source": [
    "y_train=y_train.reshape(len(y_train))\n",
    "print(y_train.shape)\n",
    "y_test=y_test.reshape(len(y_test))\n",
    "print(y_test.shape)"
   ]
  },
  {
   "cell_type": "markdown",
   "metadata": {
    "id": "ezxSeKxKWqBF"
   },
   "source": [
    "<h3>1.5 Conclusion </h3>\n",
    "<ol>\n",
    "    <li>We removed the NAN values from our data and replaced them with mean values</li>\n",
    "    <li>We only keep highly correlated attributes in our final attribute list</li>\n",
    "    <li>We filter our data using the zscores and then normalize it usind mean and standard deviation</li>\n",
    "</ol>"
   ]
  },
  {
   "cell_type": "markdown",
   "metadata": {
    "id": "SNNGSB4Vb2CE"
   },
   "source": [
    "<h2><center>2. Model Fiting on the clean data</center></h2>\n",
    "\n",
    "We have a cleaned and a normalized data now we just have to fit a model over the data and make predictions.\n",
    "We are going to implement 2 models that are implemented by us \n",
    "\n",
    "<ol>\n",
    "    <li>SGD Classifier with Log Loss</li>\n",
    "    <li>SVM with RBF kernel</li>\n",
    "</ol>\n"
   ]
  },
  {
   "cell_type": "markdown",
   "metadata": {
    "id": "LGeB6fiFYPuS"
   },
   "source": [
    "<h3>2.1 SGD Classifier with Log Loss</h3>"
   ]
  },
  {
   "cell_type": "markdown",
   "metadata": {
    "id": "3NIP2zzzYi2e"
   },
   "source": [
    "<h4>2.1.1 Function Call</h4>"
   ]
  },
  {
   "cell_type": "code",
   "execution_count": 23,
   "metadata": {
    "id": "qq2Z7Etj6yun"
   },
   "outputs": [
    {
     "name": "stderr",
     "output_type": "stream",
     "text": [
      " 17%|█▋        | 25/150 [00:00<00:00, 242.70it/s]"
     ]
    },
    {
     "name": "stdout",
     "output_type": "stream",
     "text": [
      "\n",
      "-- Epoch no(iteration no)  1\n",
      "W intercept: [0.06904983 0.07160196 0.07097619 0.07968617 0.08286069 0.04273672\n",
      " 0.03428188], B intercept: 0.004380114816398764, Train loss: 0.24071, Test loss: 0.23878\n",
      "\n",
      "-- Epoch no(iteration no)  2\n",
      "W intercept: [0.14144064 0.14124086 0.10888385 0.14519617 0.14077645 0.1114589\n",
      " 0.09026661], B intercept: 0.022028110377162746, Train loss: 0.19601, Test loss: 0.19347\n",
      "\n",
      "-- Epoch no(iteration no)  3\n",
      "W intercept: [0.19228009 0.17982689 0.14929297 0.19005056 0.18865209 0.17141034\n",
      " 0.10861353], B intercept: 0.02875440078310478, Train loss: 0.16956, Test loss: 0.16620\n",
      "\n",
      "-- Epoch no(iteration no)  4\n",
      "W intercept: [0.24100618 0.2334271  0.19273926 0.21766873 0.22696757 0.21441476\n",
      " 0.11788637], B intercept: 0.017356963234510164, Train loss: 0.14918, Test loss: 0.14505\n",
      "\n",
      "-- Epoch no(iteration no)  5\n",
      "W intercept: [0.28269556 0.25912923 0.23000637 0.24693459 0.24862599 0.23957873\n",
      " 0.1563963 ], B intercept: 0.004464770468529045, Train loss: 0.13561, Test loss: 0.13093\n",
      "\n",
      "-- Epoch no(iteration no)  6\n",
      "W intercept: [0.33037625 0.288842   0.2575955  0.2800736  0.26657705 0.2711505\n",
      " 0.1673711 ], B intercept: 0.022002346029929055, Train loss: 0.12411, Test loss: 0.11864\n",
      "\n",
      "-- Epoch no(iteration no)  7\n",
      "W intercept: [0.35579583 0.32278364 0.29898197 0.30839264 0.29114317 0.29843911\n",
      " 0.16994087], B intercept: 0.015090772404096574, Train loss: 0.11453, Test loss: 0.10825\n",
      "\n",
      "-- Epoch no(iteration no)  8\n",
      "W intercept: [0.38369593 0.35708069 0.32124109 0.32677004 0.31251212 0.31903355\n",
      " 0.17733999], B intercept: -0.006221797425274958, Train loss: 0.10737, Test loss: 0.10089\n",
      "\n",
      "-- Epoch no(iteration no)  9\n",
      "W intercept: [0.40768269 0.37089064 0.3394454  0.35506581 0.33619353 0.34049376\n",
      " 0.19176682], B intercept: 0.0031696567924756813, Train loss: 0.10164, Test loss: 0.09473\n",
      "\n",
      "-- Epoch no(iteration no)  10\n",
      "W intercept: [0.44670664 0.38598423 0.36361292 0.38214194 0.34937813 0.35777097\n",
      " 0.19572798], B intercept: 0.0019396008649125171, Train loss: 0.09608, Test loss: 0.08865\n",
      "\n",
      "-- Epoch no(iteration no)  11\n",
      "W intercept: [0.48733909 0.41070956 0.37429714 0.38969296 0.37136537 0.3817724\n",
      " 0.20230004], B intercept: -0.005319813724212583, Train loss: 0.09113, Test loss: 0.08377\n",
      "\n",
      "-- Epoch no(iteration no)  12\n",
      "W intercept: [0.49196638 0.43458902 0.40456703 0.40001964 0.37359272 0.39115716\n",
      " 0.22034511], B intercept: -0.008021370458119384, Train loss: 0.08819, Test loss: 0.08044\n",
      "\n",
      "-- Epoch no(iteration no)  13\n",
      "W intercept: [0.51339027 0.44251703 0.42271344 0.40327893 0.39480007 0.39220927\n",
      " 0.22166186], B intercept: -0.0220067568030804, Train loss: 0.08576, Test loss: 0.07792\n",
      "\n",
      "-- Epoch no(iteration no)  14\n",
      "W intercept: [0.52562775 0.45981797 0.43781793 0.41810921 0.42477159 0.40526826\n",
      " 0.22814004], B intercept: -0.015778323729721155, Train loss: 0.08273, Test loss: 0.07464\n",
      "\n",
      "-- Epoch no(iteration no)  15\n",
      "W intercept: [0.55216661 0.47624973 0.44632827 0.42966567 0.44115962 0.41001721\n",
      " 0.22863256], B intercept: -0.009777046250746248, Train loss: 0.08026, Test loss: 0.07195\n",
      "\n",
      "-- Epoch no(iteration no)  16\n",
      "W intercept: [0.56850668 0.4930785  0.45438319 0.45109978 0.45503771 0.42855045\n",
      " 0.23259801], B intercept: -0.0006291835634386772, Train loss: 0.07779, Test loss: 0.06920\n",
      "\n",
      "-- Epoch no(iteration no)  17\n",
      "W intercept: [0.58175093 0.5086281  0.47127419 0.45628134 0.45592919 0.44004514\n",
      " 0.2327497 ], B intercept: 0.003565775868385291, Train loss: 0.07614, Test loss: 0.06730\n",
      "\n",
      "-- Epoch no(iteration no)  18\n",
      "W intercept: [0.60045301 0.5247984  0.49338577 0.46196144 0.46724568 0.4521317\n",
      " 0.23653967], B intercept: 0.0040717115363529035, Train loss: 0.07400, Test loss: 0.06491\n",
      "\n",
      "-- Epoch no(iteration no)  19\n",
      "W intercept: [0.6158928  0.53093343 0.50014031 0.47007399 0.4693666  0.45415794\n",
      " 0.25922831], B intercept: 0.009690234690503315, Train loss: 0.07281, Test loss: 0.06362\n",
      "\n",
      "-- Epoch no(iteration no)  20\n",
      "W intercept: [0.63416154 0.5470063  0.51443756 0.48402069 0.47388275 0.47002292\n",
      " 0.26326366], B intercept: 0.018202318489413807, Train loss: 0.07095, Test loss: 0.06147\n",
      "\n",
      "-- Epoch no(iteration no)  21\n",
      "W intercept: [0.64535857 0.55918159 0.53110651 0.49134246 0.48627528 0.48310728\n",
      " 0.26114857], B intercept: 0.015721717054918784, Train loss: 0.06951, Test loss: 0.05983\n",
      "\n",
      "-- Epoch no(iteration no)  22\n",
      "W intercept: [0.65268502 0.57453433 0.53591689 0.49908786 0.49536526 0.49273235\n",
      " 0.25907457], B intercept: -0.0007839405475458804, Train loss: 0.06855, Test loss: 0.05893\n",
      "\n",
      "-- Epoch no(iteration no)  23\n",
      "W intercept: [0.66111516 0.57554136 0.54598157 0.51959076 0.51035837 0.49808533\n",
      " 0.26253799], B intercept: 0.011889986944181757, Train loss: 0.06743, Test loss: 0.05744\n",
      "\n",
      "-- Epoch no(iteration no)  24\n",
      "W intercept: [0.69254005 0.58318745 0.55989282 0.52967246 0.5101904  0.51038998\n",
      " 0.26017518], B intercept: 0.020768832035237786, Train loss: 0.06596, Test loss: 0.05565\n",
      "\n",
      "-- Epoch no(iteration no)  25\n",
      "W intercept: [0.71153461 0.59511139 0.56866431 0.53441263 0.52484588 0.51955206\n",
      " 0.26421752], B intercept: 0.01495945902217816, Train loss: 0.06476, Test loss: 0.05442\n",
      "\n",
      "-- Epoch no(iteration no)  26\n",
      "W intercept: [0.70035698 0.59914564 0.57857066 0.52469673 0.51552488 0.51395114\n",
      " 0.27955384], B intercept: 0.0017586129812755709, Train loss: 0.06504, Test loss: 0.05483\n",
      "\n",
      "-- Epoch no(iteration no)  27\n",
      "W intercept: [0.71643937 0.61288374 0.58839867 0.53315773 0.53022282 0.51635468\n",
      " 0.28161522], B intercept: 0.0012676897995337717, Train loss: 0.06393, Test loss: 0.05358\n",
      "\n",
      "-- Epoch no(iteration no)  28\n",
      "W intercept: [0.72104096 0.61991315 0.59706364 0.5419504  0.54948525 0.52489208\n",
      " 0.28549351], B intercept: 0.0018671453223181112, Train loss: 0.06310, Test loss: 0.05262\n",
      "\n",
      "-- Epoch no(iteration no)  29\n",
      "W intercept: [0.73787462 0.62800749 0.59948448 0.54632686 0.55844577 0.5255317\n",
      " 0.28338245], B intercept: 0.011950132214620731, Train loss: 0.06240, Test loss: 0.05176\n",
      "\n",
      "-- Epoch no(iteration no)  30\n",
      "W intercept: [0.74450049 0.63545922 0.61000422 0.55172096 0.55608755 0.53372842\n",
      " 0.27762593], B intercept: 0.030699786036730764, Train loss: 0.06181, Test loss: 0.05085\n",
      "\n",
      "-- Epoch no(iteration no)  31\n",
      "W intercept: [0.75546897 0.64834992 0.61893584 0.56054957 0.56291762 0.54314104\n",
      " 0.28395784], B intercept: 0.02624873450038047, Train loss: 0.06098, Test loss: 0.04994\n",
      "\n",
      "-- Epoch no(iteration no)  32\n",
      "W intercept: [0.75731129 0.6555404  0.63094748 0.56439607 0.56199203 0.53778375\n",
      " 0.30499282], B intercept: 0.02832454649660043, Train loss: 0.06057, Test loss: 0.04941\n",
      "\n",
      "-- Epoch no(iteration no)  33\n",
      "W intercept: [0.77823031 0.66011484 0.63626699 0.56810274 0.56602434 0.5482871\n",
      " 0.30330776], B intercept: 0.03581286279947497, Train loss: 0.05984, Test loss: 0.04855\n",
      "\n",
      "-- Epoch no(iteration no)  34\n",
      "W intercept: [0.78308243 0.67132696 0.64829039 0.57628274 0.5739599  0.56014017\n",
      " 0.30402033], B intercept: 0.04439489632032474, Train loss: 0.05912, Test loss: 0.04759\n",
      "\n",
      "-- Epoch no(iteration no)  35\n",
      "W intercept: [0.78253358 0.68321177 0.65253558 0.5766798  0.58071825 0.56264656\n",
      " 0.29305032], B intercept: 0.032753159258090164, Train loss: 0.05891, Test loss: 0.04743\n",
      "\n",
      "-- Epoch no(iteration no)  36\n",
      "W intercept: [0.79677778 0.68257526 0.65435787 0.5891266  0.58547972 0.57130345\n",
      " 0.29258767], B intercept: 0.03932178221866497, Train loss: 0.05840, Test loss: 0.04674\n",
      "\n",
      "-- Epoch no(iteration no)  37\n",
      "W intercept: [0.80475142 0.69044581 0.66419589 0.60273778 0.59539084 0.57689447\n",
      " 0.29985733], B intercept: 0.038158576808693175, Train loss: 0.05776, Test loss: 0.04594\n",
      "\n",
      "-- Epoch no(iteration no)  38\n",
      "W intercept: [0.8260309  0.69527304 0.6735044  0.60878385 0.59426335 0.5853551\n",
      " 0.29749675], B intercept: 0.047309507660443076, Train loss: 0.05712, Test loss: 0.04506\n",
      "\n",
      "-- Epoch no(iteration no)  39\n",
      "W intercept: [0.8403368  0.70367696 0.67992698 0.61243028 0.60634386 0.5901127\n",
      " 0.29935837], B intercept: 0.04313394924713615, Train loss: 0.05658, Test loss: 0.04447\n",
      "\n",
      "-- Epoch no(iteration no)  40\n",
      "W intercept: [0.82840565 0.70493597 0.68764807 0.60001602 0.59437055 0.57993207\n",
      " 0.31335835], B intercept: 0.033447559761451216, Train loss: 0.05690, Test loss: 0.04493\n",
      "\n",
      "-- Epoch no(iteration no)  41\n",
      "W intercept: [0.83797263 0.71425997 0.69266332 0.60661727 0.60513391 0.58379402\n",
      " 0.3152686 ], B intercept: 0.030968145399496667, Train loss: 0.05643, Test loss: 0.04440\n",
      "\n",
      "-- Epoch no(iteration no)  42\n",
      "W intercept: [0.84000638 0.71988959 0.69845766 0.61216337 0.61679761 0.58701186\n",
      " 0.31411322], B intercept: 0.04133972254121047, Train loss: 0.05606, Test loss: 0.04385\n",
      "\n"
     ]
    },
    {
     "name": "stdout",
     "output_type": "stream",
     "text": [
      "-- Epoch no(iteration no)  43\n",
      "W intercept: [0.85169203 0.72521593 0.70061108 0.61912177 0.62592442 0.59311052\n",
      " 0.31349083], B intercept: 0.046679662749937616, Train loss: 0.05564, Test loss: 0.04330\n",
      "\n",
      "-- Epoch no(iteration no)  44\n",
      "W intercept: [0.8589001  0.72954136 0.70887513 0.61750648 0.62108501 0.59574949\n",
      " 0.30948172], B intercept: 0.06023825647506177, Train loss: 0.05538, Test loss: 0.04284\n",
      "\n",
      "-- Epoch no(iteration no)  45\n",
      "W intercept: [0.86563117 0.73925799 0.7181272  0.61993719 0.62505893 0.59939697\n",
      " 0.30942045], B intercept: 0.0630932261053905, Train loss: 0.05500, Test loss: 0.04234\n",
      "\n",
      "-- Epoch no(iteration no)  46\n",
      "W intercept: [0.86845615 0.74112992 0.72430411 0.6241928  0.62226305 0.59663586\n",
      " 0.33208561], B intercept: 0.06298333563393944, Train loss: 0.05481, Test loss: 0.04211\n",
      "\n",
      "-- Epoch no(iteration no)  47\n",
      "W intercept: [0.8847368  0.74699027 0.7245871  0.62763349 0.62488772 0.60986086\n",
      " 0.33021487], B intercept: 0.07479366725274006, Train loss: 0.05438, Test loss: 0.04155\n",
      "\n",
      "-- Epoch no(iteration no)  48\n",
      "W intercept: [0.88451914 0.75643452 0.73799338 0.63505181 0.63304402 0.61455325\n",
      " 0.32955758], B intercept: 0.07309072256780254, Train loss: 0.05402, Test loss: 0.04103\n",
      "\n",
      "-- Epoch no(iteration no)  49\n",
      "W intercept: [0.88371769 0.76632836 0.73984807 0.63388161 0.63780087 0.61610058\n",
      " 0.32034272], B intercept: 0.06363480628142296, Train loss: 0.05395, Test loss: 0.04103\n",
      "\n",
      "-- Epoch no(iteration no)  50\n",
      "W intercept: [0.89102554 0.76489889 0.74118179 0.64500845 0.6426095  0.62011474\n",
      " 0.32335562], B intercept: 0.07173993049165218, Train loss: 0.05370, Test loss: 0.04061\n",
      "\n",
      "-- Epoch no(iteration no)  51\n",
      "W intercept: [0.90223604 0.76972278 0.74762834 0.65858227 0.64645106 0.62699005\n",
      " 0.32283763], B intercept: 0.07391472488301978, Train loss: 0.05331, Test loss: 0.04004\n",
      "\n",
      "-- Epoch no(iteration no)  52\n",
      "W intercept: [0.91887615 0.77561927 0.75588688 0.65983734 0.65197294 0.63174671\n",
      " 0.32142925], B intercept: 0.07895920932408969, Train loss: 0.05291, Test loss: 0.03949\n",
      "\n",
      "-- Epoch no(iteration no)  53\n",
      "W intercept: [0.91211388 0.78565157 0.76482808 0.66143601 0.64251908 0.62925727\n",
      " 0.34089498], B intercept: 0.07315473551843932, Train loss: 0.05283, Test loss: 0.03945\n",
      "\n",
      "-- Epoch no(iteration no) "
     ]
    },
    {
     "name": "stderr",
     "output_type": "stream",
     "text": [
      " 55%|█████▌    | 83/150 [00:00<00:00, 273.92it/s]"
     ]
    },
    {
     "name": "stdout",
     "output_type": "stream",
     "text": [
      " 54\n",
      "W intercept: [0.91467093 0.78081217 0.76462297 0.65324968 0.64562082 0.62493715\n",
      " 0.33907585], B intercept: 0.06362087572585622, Train loss: 0.05296, Test loss: 0.03968\n",
      "\n",
      "-- Epoch no(iteration no)  55\n",
      "W intercept: [0.9220971  0.78703315 0.76850174 0.65616747 0.65260457 0.62802204\n",
      " 0.33902107], B intercept: 0.06207118253845908, Train loss: 0.05272, Test loss: 0.03940\n",
      "\n",
      "-- Epoch no(iteration no)  56\n",
      "W intercept: [0.92721413 0.79123352 0.77069504 0.6570222  0.66687642 0.62935086\n",
      " 0.33593777], B intercept: 0.07577386572808119, Train loss: 0.05247, Test loss: 0.03899\n",
      "\n",
      "-- Epoch no(iteration no)  57\n",
      "W intercept: [0.93466949 0.79760955 0.77312651 0.66663116 0.67178282 0.63632173\n",
      " 0.33656827], B intercept: 0.07694505333751248, Train loss: 0.05220, Test loss: 0.03863\n",
      "\n",
      "-- Epoch no(iteration no)  58\n",
      "W intercept: [0.93985878 0.79849606 0.78183199 0.66333673 0.66499157 0.63751919\n",
      " 0.33200925], B intercept: 0.08959551806443611, Train loss: 0.05207, Test loss: 0.03830\n",
      "\n",
      "-- Epoch no(iteration no)  59\n",
      "W intercept: [0.94556034 0.80663612 0.79020015 0.66380734 0.66813696 0.63963465\n",
      " 0.33115666], B intercept: 0.09378218101235677, Train loss: 0.05183, Test loss: 0.03795\n",
      "\n",
      "-- Epoch no(iteration no)  60\n",
      "W intercept: [0.94610829 0.80714069 0.79389349 0.66811017 0.66432024 0.63592323\n",
      " 0.3531142 ], B intercept: 0.0928139137708842, Train loss: 0.05175, Test loss: 0.03787\n",
      "\n",
      "-- Epoch no(iteration no)  61\n",
      "W intercept: [0.95800423 0.81378621 0.79475056 0.67309983 0.66791006 0.64914619\n",
      " 0.35188999], B intercept: 0.10155773529485389, Train loss: 0.05144, Test loss: 0.03744\n",
      "\n",
      "-- Epoch no(iteration no)  62\n",
      "W intercept: [0.95960154 0.82037025 0.80531447 0.67628308 0.67321696 0.65216906\n",
      " 0.34943858], B intercept: 0.10457958531645624, Train loss: 0.05123, Test loss: 0.03707\n",
      "\n",
      "-- Epoch no(iteration no)  63\n",
      "W intercept: [0.95618056 0.82934674 0.80657418 0.67513258 0.6778679  0.65208625\n",
      " 0.34053042], B intercept: 0.09338394226876032, Train loss: 0.05123, Test loss: 0.03717\n",
      "\n",
      "-- Epoch no(iteration no)  64\n",
      "W intercept: [0.96125388 0.82787757 0.80741027 0.68763856 0.68187931 0.65573952\n",
      " 0.34205929], B intercept: 0.10408560607709966, Train loss: 0.05105, Test loss: 0.03680\n",
      "\n",
      "-- Epoch no(iteration no)  65\n",
      "W intercept: [0.97520851 0.82956127 0.8147332  0.6964015  0.68164732 0.65861595\n",
      " 0.34028552], B intercept: 0.10767347773039697, Train loss: 0.05080, Test loss: 0.03636\n",
      "\n",
      "-- Epoch no(iteration no)  66\n",
      "W intercept: [0.99030762 0.83622155 0.81473444 0.69845012 0.69033085 0.66539387\n",
      " 0.34235209], B intercept: 0.10411709093662347, Train loss: 0.05057, Test loss: 0.03613\n",
      "\n",
      "-- Epoch no(iteration no)  67\n",
      "W intercept: [0.97847719 0.84480081 0.82659931 0.69950123 0.6782421  0.66185106\n",
      " 0.35962691], B intercept: 0.1028133747179267, Train loss: 0.05053, Test loss: 0.03608\n",
      "\n",
      "-- Epoch no(iteration no)  68\n",
      "W intercept: [0.98122314 0.8392921  0.82596842 0.69089591 0.68221654 0.65765966\n",
      " 0.35667328], B intercept: 0.09251389236232452, Train loss: 0.05065, Test loss: 0.03632\n",
      "\n",
      "-- Epoch no(iteration no)  69\n",
      "W intercept: [0.9836083  0.84290393 0.82894964 0.69148806 0.69383635 0.66181672\n",
      " 0.35645734], B intercept: 0.09583516554467869, Train loss: 0.05050, Test loss: 0.03610\n",
      "\n",
      "-- Epoch no(iteration no)  70\n",
      "W intercept: [0.99345104 0.8474315  0.82896252 0.69439244 0.70001143 0.66044554\n",
      " 0.3536171 ], B intercept: 0.10610950345706417, Train loss: 0.05032, Test loss: 0.03579\n",
      "\n",
      "-- Epoch no(iteration no)  71\n",
      "W intercept: [0.99917911 0.85271618 0.83162447 0.70329174 0.7050202  0.66661089\n",
      " 0.35365951], B intercept: 0.10969310353154338, Train loss: 0.05013, Test loss: 0.03548\n",
      "\n",
      "-- Epoch no(iteration no)  72\n",
      "W intercept: [1.00152842 0.85372971 0.83992482 0.69798728 0.69640734 0.66785291\n",
      " 0.34971753], B intercept: 0.11862208311879577, Train loss: 0.05006, Test loss: 0.03529\n",
      "\n",
      "-- Epoch no(iteration no)  73\n",
      "W intercept: [1.00715486 0.86043958 0.84785964 0.69777381 0.69890545 0.66896885\n",
      " 0.34923746], B intercept: 0.12274502773669513, Train loss: 0.04989, Test loss: 0.03501\n",
      "\n",
      "-- Epoch no(iteration no)  74\n",
      "W intercept: [1.0073514  0.8598295  0.84842913 0.70152998 0.69520979 0.66414158\n",
      " 0.36818766], B intercept: 0.1258202562759854, Train loss: 0.04985, Test loss: 0.03496\n",
      "\n",
      "-- Epoch no(iteration no)  75\n",
      "W intercept: [1.01572752 0.86915144 0.85267239 0.70532061 0.69552927 0.67463054\n",
      " 0.36722653], B intercept: 0.13350389663424903, Train loss: 0.04962, Test loss: 0.03460\n",
      "\n",
      "-- Epoch no(iteration no)  76\n",
      "W intercept: [1.01804468 0.87303998 0.85985195 0.70731386 0.70161533 0.67947862\n",
      " 0.3652606 ], B intercept: 0.1349419875442644, Train loss: 0.04948, Test loss: 0.03436\n",
      "\n",
      "-- Epoch no(iteration no)  77\n",
      "W intercept: [1.01393689 0.88123497 0.85868915 0.70762297 0.70548678 0.68065255\n",
      " 0.35701363], B intercept: 0.12158543250374619, Train loss: 0.04952, Test loss: 0.03453\n",
      "\n",
      "-- Epoch no(iteration no)  78\n",
      "W intercept: [1.01715612 0.87776952 0.86057928 0.72004162 0.71112868 0.68215301\n",
      " 0.35668243], B intercept: 0.1332441555374699, Train loss: 0.04939, Test loss: 0.03419\n",
      "\n",
      "-- Epoch no(iteration no)  79\n",
      "W intercept: [1.03292459 0.87952325 0.86634937 0.72641553 0.70855956 0.68709688\n",
      " 0.3544785 ], B intercept: 0.13947938562538906, Train loss: 0.04919, Test loss: 0.03380\n",
      "\n",
      "-- Epoch no(iteration no)  80\n",
      "W intercept: [1.0438424  0.88465854 0.86676685 0.72744137 0.71689811 0.6908335\n",
      " 0.35721378], B intercept: 0.13408523083606225, Train loss: 0.04906, Test loss: 0.03370\n",
      "\n",
      "-- Epoch no(iteration no)  81\n",
      "W intercept: [1.02629852 0.8815357  0.87089037 0.71552209 0.70223145 0.68090577\n",
      " 0.37060568], B intercept: 0.12318647178461234, Train loss: 0.04930, Test loss: 0.03414\n",
      "\n",
      "-- Epoch no(iteration no)  82\n",
      "W intercept: [1.03216049 0.88654276 0.87504302 0.72008355 0.70805756 0.68205302\n",
      " 0.37187351], B intercept: 0.12145231540318875, Train loss: 0.04917, Test loss: 0.03396\n",
      "\n",
      "-- Epoch no(iteration no)  83\n",
      "W intercept: [1.0342175  0.88985497 0.87761067 0.72142471 0.71993146 0.68626643\n",
      " 0.37222996], B intercept: 0.12426928367282779, Train loss: 0.04906, Test loss: 0.03378\n",
      "\n",
      "-- Epoch no(iteration no)  84\n",
      "W intercept: [1.043492   0.89354538 0.87708979 0.72271128 0.7243874  0.68483689\n",
      " 0.36865355], B intercept: 0.13416704219999395, Train loss: 0.04894, Test loss: 0.03354\n",
      "\n",
      "-- Epoch no(iteration no)  85\n",
      "W intercept: [1.04910614 0.89262771 0.87709104 0.72536118 0.72025804 0.68989453\n",
      " 0.36440338], B intercept: 0.14502358783528732, Train loss: 0.04886, Test loss: 0.03333\n",
      "\n",
      "-- Epoch no(iteration no)  86\n",
      "W intercept: [1.05043252 0.90113172 0.88702622 0.72572618 0.71948843 0.69156494\n",
      " 0.36415073], B intercept: 0.14705036480584693, Train loss: 0.04873, Test loss: 0.03311\n",
      "\n",
      "-- Epoch no(iteration no)  87\n",
      "W intercept: [1.04798246 0.90534673 0.89388169 0.72720393 0.7160103  0.68619997\n",
      " 0.3746172 ], B intercept: 0.14470154383841133, Train loss: 0.04869, Test loss: 0.03306\n",
      "\n",
      "-- Epoch no(iteration no)  88\n",
      "W intercept: [1.05764252 0.90490607 0.895411   0.72738433 0.71677626 0.68732396\n",
      " 0.38120063], B intercept: 0.15577176903225148, Train loss: 0.04857, Test loss: 0.03282\n",
      "\n",
      "-- Epoch no(iteration no)  89\n",
      "W intercept: [1.06125589 0.91166978 0.89942662 0.73162056 0.718128   0.69666072\n",
      " 0.38101484], B intercept: 0.16056660392472374, Train loss: 0.04842, Test loss: 0.03257\n",
      "\n",
      "-- Epoch no(iteration no)  90\n",
      "W intercept: [1.05149797 0.91885594 0.9017655  0.72874562 0.72554173 0.69565987\n",
      " 0.36805308], B intercept: 0.15393974699474355, Train loss: 0.04847, Test loss: 0.03267\n",
      "\n",
      "-- Epoch no(iteration no)  91\n",
      "W intercept: [1.06210043 0.91723177 0.89562243 0.73509205 0.72433512 0.70260127\n",
      " 0.36673297], B intercept: 0.15879982988124913, Train loss: 0.04840, Test loss: 0.03255\n",
      "\n",
      "-- Epoch no(iteration no)  92\n",
      "W intercept: [1.06380746 0.91996222 0.9048106  0.7454788  0.7318108  0.7031611\n",
      " 0.37059228], B intercept: 0.16041262780276846, Train loss: 0.04826, Test loss: 0.03225\n",
      "\n",
      "-- Epoch no(iteration no)  93\n",
      "W intercept: [1.07739183 0.92163366 0.90995522 0.75007401 0.72982549 0.7076503\n",
      " 0.36775848], B intercept: 0.16715761142638094, Train loss: 0.04811, Test loss: 0.03194\n",
      "\n",
      "-- Epoch no(iteration no)  94\n",
      "W intercept: [1.08676152 0.92543766 0.91120169 0.7526535  0.73798656 0.71034261\n",
      " 0.36989641], B intercept: 0.1621107070271462, Train loss: 0.04802, Test loss: 0.03184\n",
      "\n",
      "-- Epoch no(iteration no)  95\n",
      "W intercept: [1.07047174 0.92267784 0.91382426 0.73947397 0.72301807 0.69916574\n",
      " 0.38300299], B intercept: 0.15121290721267336, Train loss: 0.04822, Test loss: 0.03228\n",
      "\n",
      "-- Epoch no(iteration no)  96\n",
      "W intercept: [1.07571461 0.92775942 0.91612894 0.74275728 0.72853613 0.70106876\n",
      " 0.3839683 ], B intercept: 0.14996073819926456, Train loss: 0.04813, Test loss: 0.03215\n",
      "\n",
      "-- Epoch no(iteration no)  97\n",
      "W intercept: [1.07518002 0.93013355 0.91882628 0.74470162 0.73585683 0.70321528\n",
      " 0.38146142], B intercept: 0.15918737563597812, Train loss: 0.04805, Test loss: 0.03194\n",
      "\n",
      "-- Epoch no(iteration no)  98\n",
      "W intercept: [1.08277649 0.93286602 0.91884482 0.74888667 0.74261389 0.70582567\n",
      " 0.37994815], B intercept: 0.16449492754152012, Train loss: 0.04794, Test loss: 0.03174\n",
      "\n",
      "-- Epoch no(iteration no)  99\n",
      "W intercept: [1.08642107 0.9335216  0.92525297 0.74393102 0.73464963 0.70611078\n",
      " 0.37500893], B intercept: 0.17726357760729355, Train loss: 0.04788, Test loss: 0.03153\n",
      "\n",
      "-- Epoch no(iteration no)  100\n",
      "W intercept: [1.0896145  0.93989072 0.93017977 0.74342261 0.73584865 0.70594576\n",
      " 0.37443331], B intercept: 0.18187535280664993, Train loss: 0.04779, Test loss: 0.03136\n",
      "\n",
      "-- Epoch no(iteration no)  101\n",
      "W intercept: [1.08810946 0.93915306 0.93365084 0.74677199 0.73147985 0.70096171\n",
      " 0.39361907], B intercept: 0.18034879458185435, Train loss: 0.04777, Test loss: 0.03136\n",
      "\n",
      "-- Epoch no(iteration no)  102\n",
      "W intercept: [1.09833427 0.94270002 0.93125008 0.7482544  0.73279366 0.71208055\n",
      " 0.39103674], B intercept: 0.18945573649477987, Train loss: 0.04766, Test loss: 0.03115\n",
      "\n"
     ]
    },
    {
     "name": "stdout",
     "output_type": "stream",
     "text": [
      "-- Epoch no(iteration no)  103\n",
      "W intercept: [1.09621751 0.9485419  0.94063932 0.75272944 0.73879196 0.71480112\n",
      " 0.39156009], B intercept: 0.18951153795874273, Train loss: 0.04756, Test loss: 0.03095\n",
      "\n",
      "-- Epoch no(iteration no)  104\n",
      "W intercept: [1.09033186 0.95571023 0.94078431 0.74994443 0.74224692 0.71344966\n",
      " 0.37988476], B intercept: 0.18029658136954538, Train loss: 0.04761, Test loss: 0.03109\n",
      "\n",
      "-- Epoch no(iteration no)  105\n",
      "W intercept: [1.09589282 0.95287524 0.93856649 0.75926788 0.7442368  0.71668164\n",
      " 0.38116205], B intercept: 0.18805954923318596, Train loss: 0.04754, Test loss: 0.03091\n",
      "\n",
      "-- Epoch no(iteration no)  106\n",
      "W intercept: [1.10331741 0.95553435 0.9421303  0.76865627 0.74601488 0.72101116\n",
      " 0.38005299], B intercept: 0.18961066832269294, Train loss: 0.04744, Test loss: 0.03069\n",
      "\n",
      "-- Epoch no(iteration no)  107\n",
      "W intercept: [1.11410799 0.95722156 0.9480516  0.77035656 0.74983972 0.7239094\n",
      " 0.37925848], B intercept: 0.19232747585693324, Train loss: 0.04733, Test loss: 0.03046\n",
      "\n",
      "-- Epoch no(iteration no)  108\n",
      "W intercept: [1.10759576 0.96930068 0.94701116 0.77440006 0.74152568 0.72306128\n",
      " 0.38382048], B intercept: 0.18143831138383512, Train loss: 0.04735, Test loss: 0.03063\n",
      "\n",
      "-- Epoch no(iteration no)  109\n",
      "W intercept: [1.10510326 0.95822951 0.9495563  0.76100296 0.73949104 0.7148833\n",
      " 0.39526183], B intercept: 0.176461163038559, Train loss: 0.04745, Test loss: 0.03084\n",
      "\n",
      "-- Epoch no(iteration no)  110\n",
      "W intercept: [1.10991755 0.96225275 0.95171383 0.76262541 0.74354793 0.71682179\n",
      " 0.3951407 ], B intercept: 0.17518943014769203, Train loss: 0.04739, Test loss: 0.03075\n",
      "\n",
      "-- Epoch no(iteration no)  111\n",
      "W intercept: [1.11250701 0.96436148 0.95173867 0.76165599 0.75456796 0.7173366\n",
      " 0.39116952], B intercept: 0.18812976733337305, Train loss: 0.04731, Test loss: 0.03054\n",
      "\n",
      "-- Epoch no(iteration no) "
     ]
    },
    {
     "name": "stderr",
     "output_type": "stream",
     "text": [
      "100%|██████████| 150/150 [00:00<00:00, 274.97it/s]"
     ]
    },
    {
     "name": "stdout",
     "output_type": "stream",
     "text": [
      " 112\n",
      "W intercept: [1.11729247 0.96820741 0.95333873 0.76849698 0.75760599 0.72180776\n",
      " 0.39120541], B intercept: 0.18914794925716524, Train loss: 0.04723, Test loss: 0.03039\n",
      "\n",
      "-- Epoch no(iteration no)  113\n",
      "W intercept: [1.12018309 0.9673351  0.95997833 0.76309203 0.74897378 0.72157774\n",
      " 0.38616559], B intercept: 0.20150375757830355, Train loss: 0.04718, Test loss: 0.03020\n",
      "\n",
      "-- Epoch no(iteration no)  114\n",
      "W intercept: [1.12355701 0.97265089 0.96593088 0.76221655 0.75055914 0.72136639\n",
      " 0.38494932], B intercept: 0.20537142874120964, Train loss: 0.04711, Test loss: 0.03004\n",
      "\n",
      "-- Epoch no(iteration no)  115\n",
      "W intercept: [1.12116735 0.9718924  0.9674392  0.76550931 0.74549466 0.71593561\n",
      " 0.40424958], B intercept: 0.20440154620077, Train loss: 0.04710, Test loss: 0.03007\n",
      "\n",
      "-- Epoch no(iteration no)  116\n",
      "W intercept: [1.13109596 0.9760327  0.96447199 0.76794562 0.74722995 0.72664985\n",
      " 0.40211761], B intercept: 0.21272271855466685, Train loss: 0.04700, Test loss: 0.02988\n",
      "\n",
      "-- Epoch no(iteration no)  117\n",
      "W intercept: [1.12886374 0.98089192 0.97434021 0.77071078 0.75223286 0.72949216\n",
      " 0.40045268], B intercept: 0.21452935236535525, Train loss: 0.04693, Test loss: 0.02969\n",
      "\n",
      "-- Epoch no(iteration no)  118\n",
      "W intercept: [1.12244636 0.98794286 0.97391007 0.76852522 0.7562213  0.72786132\n",
      " 0.39067378], B intercept: 0.20340294063522507, Train loss: 0.04698, Test loss: 0.02985\n",
      "\n",
      "-- Epoch no(iteration no)  119\n",
      "W intercept: [1.12632898 0.98520575 0.97219501 0.77886473 0.75763656 0.73062825\n",
      " 0.39089542], B intercept: 0.21332489095471352, Train loss: 0.04692, Test loss: 0.02965\n",
      "\n",
      "-- Epoch no(iteration no)  120\n",
      "W intercept: [1.13688405 0.9859503  0.97724092 0.78549741 0.75685736 0.73245579\n",
      " 0.38899276], B intercept: 0.21629986968672754, Train loss: 0.04683, Test loss: 0.02943\n",
      "\n",
      "-- Epoch no(iteration no)  121\n",
      "W intercept: [1.14874072 0.98985545 0.97550516 0.78751951 0.76393919 0.73745298\n",
      " 0.39115583], B intercept: 0.21189192626243988, Train loss: 0.04677, Test loss: 0.02938\n",
      "\n",
      "-- Epoch no(iteration no)  122\n",
      "W intercept: [1.13548264 0.9965967  0.98479148 0.78816506 0.75054662 0.73262215\n",
      " 0.407762  ], B intercept: 0.20964418304640822, Train loss: 0.04676, Test loss: 0.02941\n",
      "\n",
      "-- Epoch no(iteration no)  123\n",
      "W intercept: [1.13542044 0.98925311 0.98129589 0.77833173 0.75256385 0.72834448\n",
      " 0.40455118], B intercept: 0.19928956056647568, Train loss: 0.04687, Test loss: 0.02967\n",
      "\n",
      "-- Epoch no(iteration no)  124\n",
      "W intercept: [1.13649174 0.99127456 0.98299626 0.77794883 0.76216032 0.73176515\n",
      " 0.40400991], B intercept: 0.2020445587014415, Train loss: 0.04682, Test loss: 0.02957\n",
      "\n",
      "-- Epoch no(iteration no)  125\n",
      "W intercept: [1.14331479 0.99381589 0.98237558 0.77960033 0.76635734 0.72991588\n",
      " 0.40058054], B intercept: 0.21241445526425096, Train loss: 0.04675, Test loss: 0.02938\n",
      "\n",
      "-- Epoch no(iteration no)  126\n",
      "W intercept: [1.14747273 0.99819735 0.98376028 0.78557759 0.7699647  0.73480068\n",
      " 0.40046624], B intercept: 0.21364795787973193, Train loss: 0.04669, Test loss: 0.02925\n",
      "\n",
      "-- Epoch no(iteration no)  127\n",
      "W intercept: [1.14891558 0.99693611 0.99047677 0.77960205 0.76026944 0.7344616\n",
      " 0.39603895], B intercept: 0.22435988358084863, Train loss: 0.04666, Test loss: 0.02910\n",
      "\n",
      "-- Epoch no(iteration no)  128\n",
      "W intercept: [1.15245732 1.0020158  0.99690694 0.77841865 0.76151249 0.73421193\n",
      " 0.39484088], B intercept: 0.22801014539737427, Train loss: 0.04659, Test loss: 0.02895\n",
      "\n",
      "-- Epoch no(iteration no)  129\n",
      "W intercept: [1.14873195 1.00070354 0.99737894 0.78135575 0.75585938 0.72764249\n",
      " 0.41325989], B intercept: 0.22810218865291823, Train loss: 0.04660, Test loss: 0.02900\n",
      "\n",
      "-- Epoch no(iteration no)  130\n",
      "W intercept: [1.15592121 1.00531492 0.99614768 0.78483884 0.7586973  0.73948598\n",
      " 0.4120781 ], B intercept: 0.23414433273418345, Train loss: 0.04651, Test loss: 0.02883\n",
      "\n",
      "-- Epoch no(iteration no)  131\n",
      "W intercept: [1.15586909 1.00955789 1.00341794 0.78647906 0.76282905 0.74154354\n",
      " 0.40983137], B intercept: 0.23707988255707374, Train loss: 0.04645, Test loss: 0.02867\n",
      "\n",
      "-- Epoch no(iteration no)  132\n",
      "W intercept: [1.150158   1.01736832 1.00159805 0.78480996 0.76532081 0.74075938\n",
      " 0.40023583], B intercept: 0.22544120551673758, Train loss: 0.04650, Test loss: 0.02884\n",
      "\n",
      "-- Epoch no(iteration no)  133\n",
      "W intercept: [1.15332122 1.01340263 1.00069941 0.79438771 0.76829142 0.74262622\n",
      " 0.39938998], B intercept: 0.23514276145521817, Train loss: 0.04645, Test loss: 0.02865\n",
      "\n",
      "-- Epoch no(iteration no)  134\n",
      "W intercept: [1.16491963 1.01382548 1.00508321 0.80102607 0.76652651 0.74586577\n",
      " 0.39735591], B intercept: 0.24033009505040384, Train loss: 0.04637, Test loss: 0.02842\n",
      "\n",
      "-- Epoch no(iteration no)  135\n",
      "W intercept: [1.17459676 1.01719345 1.00412694 0.80189987 0.7734177  0.74881276\n",
      " 0.39988398], B intercept: 0.2349804234883956, Train loss: 0.04633, Test loss: 0.02840\n",
      "\n",
      "-- Epoch no(iteration no)  136\n",
      "W intercept: [1.15609751 1.01266166 1.00581108 0.78990692 0.75795461 0.73841894\n",
      " 0.41258772], B intercept: 0.2230762372035486, Train loss: 0.04647, Test loss: 0.02879\n",
      "\n",
      "-- Epoch no(iteration no)  137\n",
      "W intercept: [1.16041021 1.01628009 1.00864352 0.79327139 0.76210532 0.73943807\n",
      " 0.41354292], B intercept: 0.22138455101202434, Train loss: 0.04643, Test loss: 0.02871\n",
      "\n",
      "-- Epoch no(iteration no)  138\n",
      "W intercept: [1.16133644 1.01840751 1.01032003 0.79361237 0.77231709 0.7429804\n",
      " 0.41348007], B intercept: 0.22387107538878148, Train loss: 0.04639, Test loss: 0.02862\n",
      "\n",
      "-- Epoch no(iteration no)  139\n",
      "W intercept: [1.16817758 1.0209976  1.009289   0.79401649 0.77527565 0.74106955\n",
      " 0.40961695], B intercept: 0.233895572724031, Train loss: 0.04633, Test loss: 0.02846\n",
      "\n",
      "-- Epoch no(iteration no)  140\n",
      "W intercept: [1.17293335 1.01867281 1.00834293 0.79492567 0.76998882 0.7449071\n",
      " 0.40545929], B intercept: 0.24371385837502438, Train loss: 0.04630, Test loss: 0.02833\n",
      "\n",
      "-- Epoch no(iteration no)  141\n",
      "W intercept: [1.17291493 1.02500481 1.01726474 0.79434273 0.76873764 0.74536122\n",
      " 0.40468825], B intercept: 0.24639448492696084, Train loss: 0.04624, Test loss: 0.02818\n",
      "\n",
      "-- Epoch no(iteration no)  142\n",
      "W intercept: [1.16852653 1.02753165 1.02212177 0.79492312 0.76429381 0.74016405\n",
      " 0.41310683], B intercept: 0.24379422843684662, Train loss: 0.04624, Test loss: 0.02820\n",
      "\n",
      "-- Epoch no(iteration no)  143\n",
      "W intercept: [1.17610098 1.02747661 1.02282703 0.7951819  0.76507239 0.73883599\n",
      " 0.42040349], B intercept: 0.2527023286849901, Train loss: 0.04618, Test loss: 0.02805\n",
      "\n",
      "-- Epoch no(iteration no)  144\n",
      "W intercept: [1.17882896 1.03316966 1.02431208 0.79819134 0.76537764 0.74784437\n",
      " 0.41939992], B intercept: 0.25789554034365697, Train loss: 0.04612, Test loss: 0.02791\n",
      "\n",
      "-- Epoch no(iteration no)  145\n",
      "W intercept: [1.17990171 1.03590444 1.02961347 0.79973393 0.77061902 0.75133701\n",
      " 0.41799236], B intercept: 0.2589438201304924, Train loss: 0.04607, Test loss: 0.02779\n",
      "\n",
      "-- Epoch no(iteration no)  146\n",
      "W intercept: [1.17421644 1.0371053  1.01954581 0.80235671 0.7688449  0.75254041\n",
      " 0.40571123], B intercept: 0.25393471173834464, Train loss: 0.04614, Test loss: 0.02797\n",
      "\n",
      "-- Epoch no(iteration no)  147\n",
      "W intercept: [1.17693214 1.03835218 1.0268499  0.80897185 0.77671479 0.75210375\n",
      " 0.40768086], B intercept: 0.2571698438434141, Train loss: 0.04607, Test loss: 0.02777\n",
      "\n",
      "-- Epoch no(iteration no)  148\n",
      "W intercept: [1.18834876 1.03952462 1.03088999 0.81362851 0.77445269 0.75581789\n",
      " 0.40529662], B intercept: 0.2619057601314471, Train loss: 0.04600, Test loss: 0.02757\n",
      "\n",
      "-- Epoch no(iteration no)  149\n",
      "W intercept: [1.19683284 1.04185945 1.03026388 0.81592025 0.78165527 0.75837906\n",
      " 0.40786523], B intercept: 0.25640123133732506, Train loss: 0.04598, Test loss: 0.02756\n",
      "\n",
      "-- Epoch no(iteration no)  150\n",
      "W intercept: [1.17864532 1.03751483 1.03016812 0.8031796  0.76653934 0.74755959\n",
      " 0.42055545], B intercept: 0.24391763628249802, Train loss: 0.04611, Test loss: 0.02796\n"
     ]
    },
    {
     "name": "stderr",
     "output_type": "stream",
     "text": [
      "\n"
     ]
    }
   ],
   "source": [
    "## importing self made SGD classifier as Classifier 1 \n",
    "import Sgd_classifier as classfier_1\n",
    "alpha=0.01\n",
    "t_rate=0.009\n",
    "N=len(x_train)\n",
    "epochs=150\n",
    "w,b,loss_train,loss_test=classfier_1.train_classifier(x_train,y_train,x_test,y_test,epochs,alpha,t_rate)"
   ]
  },
  {
   "cell_type": "markdown",
   "metadata": {
    "id": "PNjgLcYRYcIm"
   },
   "source": [
    "<h4>2.1.2 Coding Approach</h4>\n",
    "We send our train data, test data, with learning rate and regularization rate to our classifier. The classifier uses Stochastic gradient descent and updates the weights and bais over the epochs. With each epoch we aim to reduce our loss, when we reach a point where the loss is similar to the loss that was in previous epoch we return then updated weights and bais. These weights and bais that are returned are optimal for making predictions."
   ]
  },
  {
   "cell_type": "markdown",
   "metadata": {
    "id": "ndwbS6ZqaLr3"
   },
   "source": [
    "<h3>2.2 SVM with RBF kernel </h3>"
   ]
  },
  {
   "cell_type": "markdown",
   "metadata": {
    "id": "H-Qtsx6LaTN7"
   },
   "source": [
    "<h4>2.2.1 Function Call</h4>"
   ]
  },
  {
   "cell_type": "code",
   "execution_count": 24,
   "metadata": {},
   "outputs": [],
   "source": [
    "import Svm_classifier as classfier_2\n",
    "\n",
    "a1=classfier_2.SVM(kernel='rbf', C=1.0, max_iter=10, gamma=0.001)\n",
    "a1.fit(x_train,y_train)"
   ]
  },
  {
   "cell_type": "markdown",
   "metadata": {
    "id": "FUu-87k2aXIR"
   },
   "source": [
    "<h4>2.2.2 Coding Approach</h4>\n",
    "\n",
    "<!----> Will be going over the coding how it is done and stuff"
   ]
  },
  {
   "cell_type": "markdown",
   "metadata": {
    "id": "swzuVJ19S1Jr"
   },
   "source": [
    "<h2><center>3. Model Accuracy</center></h2>\n",
    "<em>\n",
    "Here we are going to talk about the model accuracies by using test and train loss graphs, in addition to Confussion Matrix and some ROC curves\n",
    "</em>"
   ]
  },
  {
   "cell_type": "markdown",
   "metadata": {
    "id": "qPy611dMa8Bu"
   },
   "source": [
    "<h3>3.1 Model 1 SGD Classifier with Log Loss</h3>\n"
   ]
  },
  {
   "cell_type": "markdown",
   "metadata": {
    "id": "rI7qXtftah1a"
   },
   "source": [
    "<h4>3.1.1 Prediction accuracies</h4>"
   ]
  },
  {
   "cell_type": "code",
   "execution_count": 25,
   "metadata": {
    "colab": {
     "base_uri": "https://localhost:8080/"
    },
    "id": "057fGPgc6x3_",
    "outputId": "c841cc8b-3706-45a5-886f-2b89fe684824",
    "scrolled": true
   },
   "outputs": [
    {
     "name": "stdout",
     "output_type": "stream",
     "text": [
      "Train_Accuracy : 0.97093\n",
      "Test_Accuracy  : 0.97391\n"
     ]
    }
   ],
   "source": [
    "y_train_pred = classfier_1.predict(w,b,x_train)\n",
    "y_test_pred = classfier_1.predict(w,b,x_test)\n",
    "\n",
    "y_train=y_train.reshape(y_train_pred.shape)\n",
    "print('Train_Accuracy : {:.5f}'.format((y_train ==  y_train_pred).sum() / len(x_train)))\n",
    "y_test=y_test.reshape(y_test_pred.shape)\n",
    "print('Test_Accuracy  : {:.5f}'.format((y_test ==  y_test_pred).sum() / len(x_test)))"
   ]
  },
  {
   "cell_type": "markdown",
   "metadata": {
    "id": "7pAXgaM_bjzs"
   },
   "source": [
    "<h4>3.1.2 Test and Train Loss over Epochs</h4>\n",
    "We will plot graph against the number of epochs with respect to the test and train loss. This will give us insight whehter our code is performing gradient descent in a correct manner."
   ]
  },
  {
   "cell_type": "code",
   "execution_count": 26,
   "metadata": {
    "id": "1gK7yssz073T",
    "scrolled": true
   },
   "outputs": [
    {
     "name": "stdout",
     "output_type": "stream",
     "text": [
      "==============================================================================================================\n"
     ]
    },
    {
     "data": {
      "image/png": "[encoded data removed]",
      "text/plain": [
       "<Figure size 1080x504 with 1 Axes>"
      ]
     },
     "metadata": {},
     "output_type": "display_data"
    }
   ],
   "source": [
    "epochs = np.arange(1, epochs+1, 1)\n",
    "plt.figure(figsize=(15, 7))\n",
    "plt.plot(epochs,loss_train, label='Train Loss', c = 'blue')\n",
    "plt.plot(epochs,loss_test, label='Test Loss',c = 'red')\n",
    "plt.title('Epoch vs Train,Test Loss')\n",
    "plt.xlabel(\"Epochs\")\n",
    "plt.ylabel('Loss')\n",
    "plt.legend()\n",
    "print(110*'=')\n"
   ]
  },
  {
   "cell_type": "markdown",
   "metadata": {
    "id": "qcN8YgFwb0gH"
   },
   "source": [
    "<h4>3.1.3 Confusion Matrix </h4>\n",
    "The confusion matrix we plot here looks like the table mentioned below :-\n"
   ]
  },
  {
   "cell_type": "code",
   "execution_count": 27,
   "metadata": {
    "id": "dwjOiXQsTjjO",
    "scrolled": false
   },
   "outputs": [
    {
     "name": "stdout",
     "output_type": "stream",
     "text": [
      "Confusion Matrix\n",
      " [[53  0]\n",
      " [ 3 59]]\n",
      "False Positive Rate :   0.00000\n",
      "True Positive Rate  :   0.94643\n",
      "Precision of model  :   1.00000\n",
      "Area Under Curve (AUC): 0.97391\n",
      "F1 score of model   :   0.97248\n"
     ]
    }
   ],
   "source": [
    "#from sklearn.metrics import confusion_matrix\n",
    "import confusion_matrix as cm\n",
    "cm_sgd,fpr_sgd,recall_sgd,AUC_score_sgd,precision_sgd,F1_score_sgd= cm.confusion_matrix(y_test, y_test_pred)\n",
    "print('Confusion Matrix\\n',cm_sgd)\n",
    "print('False Positive Rate :   {:.5f}'.format(fpr_sgd))\n",
    "print('True Positive Rate  :   {:.5f}'.format(recall_sgd))\n",
    "print('Precision of model  :   {:.5f}'.format(precision_sgd))\n",
    "print('Area Under Curve (AUC): {:.5f}'.format(AUC_score_sgd))\n",
    "print('F1 score of model   :   {:.5f}'.format(F1_score_sgd))"
   ]
  },
  {
   "cell_type": "markdown",
   "metadata": {},
   "source": [
    "<h3> 3.2 Model 2 SVM with RBF Kernel</h3>"
   ]
  },
  {
   "cell_type": "markdown",
   "metadata": {},
   "source": [
    "<h4>3.2.1 Prediction accuracies</h4>"
   ]
  },
  {
   "cell_type": "code",
   "execution_count": 28,
   "metadata": {},
   "outputs": [
    {
     "name": "stdout",
     "output_type": "stream",
     "text": [
      "Train_Accuracy : 1.0\n",
      "Test_Accuracy  : 0.97391\n"
     ]
    }
   ],
   "source": [
    "y_train_pred_svm = a1.predict(x_train)\n",
    "y_test_pred_svm= a1.predict(x_test)\n",
    "print('Train_Accuracy : {:.1f}'.format((y_train ==  y_train_pred_svm).sum() / len(x_train)))\n",
    "print('Test_Accuracy  : {:.5f}'.format((y_test ==  y_test_pred_svm).sum() / len(x_test)))\n"
   ]
  },
  {
   "cell_type": "markdown",
   "metadata": {},
   "source": [
    "<h4>3.2.2 </h4>\n",
    "<!--->Some grpah here ALP <--->"
   ]
  },
  {
   "cell_type": "code",
   "execution_count": null,
   "metadata": {},
   "outputs": [],
   "source": []
  },
  {
   "cell_type": "markdown",
   "metadata": {},
   "source": [
    "<h4>3.2.3 Confusion Matrix </h4> \n"
   ]
  },
  {
   "cell_type": "code",
   "execution_count": 29,
   "metadata": {},
   "outputs": [
    {
     "name": "stdout",
     "output_type": "stream",
     "text": [
      "Confusion Matrix\n",
      " [[53  0]\n",
      " [ 3 59]]\n",
      "False Positive Rate :   0.00000\n",
      "True Positive Rate  :   0.94643\n",
      "Precision of model  :   1.00000\n",
      "Area Under Curve (AUC): 0.97391\n",
      "F1 score of model   :   0.97248\n"
     ]
    }
   ],
   "source": [
    "import confusion_matrix as cm\n",
    "cm_svm,fpr_svm,recall_svm,AUC_score_svm,precision_svm,F1_score_svm= cm.confusion_matrix(y_test, y_test_pred_svm)\n",
    "print('Confusion Matrix\\n',cm_svm)\n",
    "print('False Positive Rate :   {:.5f}'.format(fpr_svm))\n",
    "print('True Positive Rate  :   {:.5f}'.format(recall_svm))\n",
    "print('Precision of model  :   {:.5f}'.format(precision_svm))\n",
    "print('Area Under Curve (AUC): {:.5f}'.format(AUC_score_svm))\n",
    "print('F1 score of model   :   {:.5f}'.format(F1_score_svm))"
   ]
  },
  {
   "cell_type": "markdown",
   "metadata": {},
   "source": [
    "<h2><center>Model Comparisions</center></h2>\n",
    "\n",
    "<h3>Accuracies</h3>\n"
   ]
  },
  {
   "cell_type": "code",
   "execution_count": null,
   "metadata": {},
   "outputs": [],
   "source": []
  },
  {
   "cell_type": "markdown",
   "metadata": {},
   "source": [
    "<h3>Confusion Matrix</h3>"
   ]
  },
  {
   "cell_type": "code",
   "execution_count": null,
   "metadata": {},
   "outputs": [],
   "source": []
  },
  {
   "cell_type": "markdown",
   "metadata": {
    "id": "XW2Czt08hhqg"
   },
   "source": [
    "<h2><center>Conclusions</center></h2>\n",
    "We were given a task to implement a model that will help classify between M/B(still have to refine these lines).\n",
    "To do this we first normalize and clean the data so that we can get maximum efficiency in our classification model.\n",
    "Then we implement the models that we created using python scripts and make a call back to then in our main IPython notebook.\n",
    "<br> </br>\n",
    "<p>\n",
    "<em>\n",
    "The following are the results obtained for the repesctive implemnted models :-\n",
    "</p>\n",
    "</em>\n",
    "<em>    \n",
    "\n",
    "<br><h4>1. Stochastic Gradient Descent Classifier </h4>\n",
    "<em>\n",
    "    <ol>\n",
    "    <li></li>\n",
    "    <li></li>\n",
    "    <li></li>\n",
    "    </ol>\n",
    "</em>\n",
    "</br>\n",
    "<br><h4>2. Support Vector Machine </h4>\n",
    "<em>\n",
    "    <ol>\n",
    "    <li></li>\n",
    "    <li></li>\n",
    "    <li></li>\n",
    "    </ol>\n",
    "</em>\n",
    "</br>\n",
    "</em>\n",
    "<h2><center>Code's Shortcomings</center></h2>\n",
    "This code works on assumption that #Gradient descents fault... \n",
    "<em>\n",
    "&emsp;<li>Very High Accuracy (Overfitting?) but still high precission and recall? Why?</li>\n",
    "<li>Really Low Data Points </li>\n",
    "<!---> Some shortcommings about the SVMs stuff? What assumptions we make with the SVM stuff?\n"
   ]
  },
  {
   "cell_type": "markdown",
   "metadata": {
    "id": "_tB9iqYfg-NA"
   },
   "source": [
    "<h2><center>References</center></h2>\n"
   ]
  },
  {
   "cell_type": "markdown",
   "metadata": {},
   "source": []
  }
 ],
 "metadata": {
  "colab": {
   "collapsed_sections": [],
   "name": "Main_Code.ipynb",
   "provenance": []
  },
  "kernelspec": {
   "display_name": "Python 3",
   "language": "python",
   "name": "python3"
  },
  "language_info": {
   "codemirror_mode": {
    "name": "ipython",
    "version": 3
   },
   "file_extension": ".py",
   "mimetype": "text/x-python",
   "name": "python",
   "nbconvert_exporter": "python",
   "pygments_lexer": "ipython3",
   "version": "3.8.8"
  }
 },
 "nbformat": 4,
 "nbformat_minor": 1
}
