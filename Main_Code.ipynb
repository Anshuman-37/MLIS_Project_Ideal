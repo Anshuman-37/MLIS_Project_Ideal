{
 "cells": [
  {
   "cell_type": "code",
   "execution_count": 1,
   "metadata": {
    "id": "e6rrsFyi4Bd9"
   },
   "outputs": [],
   "source": [
    "# This is the main jupyter notebook for the coursework of MLIS \n",
    "## Grp 4B\n",
    "## Authors\n",
    "## Alpaslan Erdag , Anshuman Singh , Yixin Fan\n",
    "## Date - 15/01/2022"
   ]
  },
  {
   "cell_type": "markdown",
   "metadata": {
    "id": "G-IY5zC537OU"
   },
   "source": [
    "<h1> <center> Abstract </center> </h1>\n",
    "​<em>\n",
    "\n",
    "There are many factors that can influence the type of tumor but to various extent. This code will construct machine learning models to predict whether a tumour is malignantor benign based on the observed characters.\n",
    "\n",
    "The data is obtanined from UCI repository which can be obtained from the [here](https://archive.ics.uci.edu/ml/datasets/breast+cancer+wisconsin+%28original%29)\n",
    "</em>"
   ]
  },
  {
   "cell_type": "code",
   "execution_count": 2,
   "metadata": {
    "colab": {
     "base_uri": "https://localhost:8080/"
    },
    "id": "3boaTk7A4FrC",
    "outputId": "28e07a26-0a3f-4422-b507-f887576fdaca"
   },
   "outputs": [
    {
     "name": "stdout",
     "output_type": "stream",
     "text": [
      "Citation Request:\n",
      "   This breast cancer databases was obtained from the University of Wisconsin\n",
      "   Hospitals, Madison from Dr. William H. Wolberg.  If you publish results\n",
      "   when using this database, then please include this information in your\n",
      "   acknowledgements.  Also, please cite one or more of:\n",
      "\n",
      "   1. O. L. Mangasarian and W. H. Wolberg: \"Cancer diagnosis via linear \n",
      "      programming\", SIAM News, Volume 23, Number 5, September 1990, pp 1 & 18.\n",
      "\n",
      "   2. William H. Wolberg and O.L. Mangasarian: \"Multisurface method of \n",
      "      pattern separation for medical diagnosis applied to breast cytology\", \n",
      "      Proceedings of the National Academy of Sciences, U.S.A., Volume 87, \n",
      "      December 1990, pp 9193-9196.\n",
      "\n",
      "   3. O. L. Mangasarian, R. Setiono, and W.H. Wolberg: \"Pattern recognition \n",
      "      via linear programming: Theory and application to medical diagnosis\", \n",
      "      in: \"Large-scale numerical optimization\", Thomas F. Coleman and Yuying\n",
      "      Li, editors, SIAM Publications, Philadelphia 1990, pp 22-30.\n",
      "\n",
      "   4. K. P. Bennett & O. L. Mangasarian: \"Robust linear programming \n",
      "      discrimination of two linearly inseparable sets\", Optimization Methods\n",
      "      and Software 1, 1992, 23-34 (Gordon & Breach Science Publishers).\n",
      "\n",
      "1. Title: Wisconsin Breast Cancer Database (January 8, 1991)\n",
      "\n",
      "2. Sources:\n",
      "   -- Dr. WIlliam H. Wolberg (physician)\n",
      "      University of Wisconsin Hospitals\n",
      "      Madison, Wisconsin\n",
      "      USA\n",
      "   -- Donor: Olvi Mangasarian (mangasarian@cs.wisc.edu)\n",
      "      Received by David W. Aha (aha@cs.jhu.edu)\n",
      "   -- Date: 15 July 1992\n",
      "\n",
      "3. Past Usage:\n",
      "\n",
      "   Attributes 2 through 10 have been used to represent instances.\n",
      "   Each instance has one of 2 possible classes: benign or malignant.\n",
      "\n",
      "   1. Wolberg,~W.~H., \\& Mangasarian,~O.~L. (1990). Multisurface method of \n",
      "      pattern separation for medical diagnosis applied to breast cytology. In\n",
      "      {\\it Proceedings of the National Academy of Sciences}, {\\it 87},\n",
      "      9193--9196.\n",
      "      -- Size of data set: only 369 instances (at that point in time)\n",
      "      -- Collected classification results: 1 trial only\n",
      "      -- Two pairs of parallel hyperplanes were found to be consistent with\n",
      "         50% of the data\n",
      "         -- Accuracy on remaining 50% of dataset: 93.5%\n",
      "      -- Three pairs of parallel hyperplanes were found to be consistent with\n",
      "         67% of data\n",
      "         -- Accuracy on remaining 33% of dataset: 95.9%\n",
      "\n",
      "   2. Zhang,~J. (1992). Selecting typical instances in instance-based\n",
      "      learning.  In {\\it Proceedings of the Ninth International Machine\n",
      "      Learning Conference} (pp. 470--479).  Aberdeen, Scotland: Morgan\n",
      "      Kaufmann.\n",
      "      -- Size of data set: only 369 instances (at that point in time)\n",
      "      -- Applied 4 instance-based learning algorithms \n",
      "      -- Collected classification results averaged over 10 trials\n",
      "      -- Best accuracy result: \n",
      "         -- 1-nearest neighbor: 93.7%\n",
      "         -- trained on 200 instances, tested on the other 169\n",
      "      -- Also of interest:\n",
      "         -- Using only typical instances: 92.2% (storing only 23.1 instances)\n",
      "         -- trained on 200 instances, tested on the other 169\n",
      "\n",
      "4. Relevant Information:\n",
      "\n",
      "   Samples arrive periodically as Dr. Wolberg reports his clinical cases.\n",
      "   The database therefore reflects this chronological grouping of the data.\n",
      "   This grouping information appears immediately below, having been removed\n",
      "   from the data itself:\n",
      "\n",
      "     Group 1: 367 instances (January 1989)\n",
      "     Group 2:  70 instances (October 1989)\n",
      "     Group 3:  31 instances (February 1990)\n",
      "     Group 4:  17 instances (April 1990)\n",
      "     Group 5:  48 instances (August 1990)\n",
      "     Group 6:  49 instances (Updated January 1991)\n",
      "     Group 7:  31 instances (June 1991)\n",
      "     Group 8:  86 instances (November 1991)\n",
      "     -----------------------------------------\n",
      "     Total:   699 points (as of the donated datbase on 15 July 1992)\n",
      "\n",
      "   Note that the results summarized above in Past Usage refer to a dataset\n",
      "   of size 369, while Group 1 has only 367 instances.  This is because it\n",
      "   originally contained 369 instances; 2 were removed.  The following\n",
      "   statements summarizes changes to the original Group 1's set of data:\n",
      "\n",
      "   #####  Group 1 : 367 points: 200B 167M (January 1989)\n",
      "   #####  Revised Jan 10, 1991: Replaced zero bare nuclei in 1080185 & 1187805\n",
      "   #####  Revised Nov 22,1991: Removed 765878,4,5,9,7,10,10,10,3,8,1 no record\n",
      "   #####                  : Removed 484201,2,7,8,8,4,3,10,3,4,1 zero epithelial\n",
      "   #####                  : Changed 0 to 1 in field 6 of sample 1219406\n",
      "   #####                  : Changed 0 to 1 in field 8 of following sample:\n",
      "   #####                  : 1182404,2,3,1,1,1,2,0,1,1,1\n",
      "\n",
      "5. Number of Instances: 699 (as of 15 July 1992)\n",
      "\n",
      "6. Number of Attributes: 10 plus the class attribute\n",
      "\n",
      "7. Attribute Information: (class attribute has been moved to last column)\n",
      "\n",
      "   #  Attribute                     Domain\n",
      "   -- -----------------------------------------\n",
      "   1. Sample code number            id number\n",
      "   2. Clump Thickness               1 - 10\n",
      "   3. Uniformity of Cell Size       1 - 10\n",
      "   4. Uniformity of Cell Shape      1 - 10\n",
      "   5. Marginal Adhesion             1 - 10\n",
      "   6. Single Epithelial Cell Size   1 - 10\n",
      "   7. Bare Nuclei                   1 - 10\n",
      "   8. Bland Chromatin               1 - 10\n",
      "   9. Normal Nucleoli               1 - 10\n",
      "  10. Mitoses                       1 - 10\n",
      "  11. Class:                        (2 for benign, 4 for malignant)\n",
      "\n",
      "8. Missing attribute values: 16\n",
      "\n",
      "   There are 16 instances in Groups 1 to 6 that contain a single missing \n",
      "   (i.e., unavailable) attribute value, now denoted by \"?\".  \n",
      "\n",
      "9. Class distribution:\n",
      " \n",
      "   Benign: 458 (65.5%)\n",
      "   Malignant: 241 (34.5%)\n",
      "\n"
     ]
    }
   ],
   "source": [
    "# Loading the Data\n",
    "about_data ='/Users/anshuman/Desktop/Project_Folder/MLIS_Project_Ideal/breast-cancer-wisconsin.names'\n",
    "#about_data = '/content/breast-cancer-wisconsin.names'\n",
    "with open(about_data) as f:\n",
    "    print(f.read())"
   ]
  },
  {
   "cell_type": "markdown",
   "metadata": {
    "id": "ZN6gh3N24R-W"
   },
   "source": [
    "<h1><center>Code Division</center></h1>\n",
    "\n",
    "<h2><em>The code is divided in the following parts</em></h2>\n",
    "<ol>\n",
    "<li> <h4> Data Cleaning and Data Preprocessing </h4></li> \n",
    "<li> <h4>Model Fiting on the clean data </h4></li> \n",
    "<li> <h4>Model Accuracy </h4></li>\n",
    "</ol>\n",
    "</em>"
   ]
  },
  {
   "cell_type": "markdown",
   "metadata": {
    "id": "0TONMQnQ4SDg"
   },
   "source": [
    "<h2><center>1. Data Cleaning and Data Preprocessing</center></h2>\n",
    "\n",
    "<p>To get a good result over model accuracies we are going to first clean the data and then used the cleaned and preprocessed data to train a model. </p>\n",
    "\n",
    "<p> We will be using a systematic approach to clean our data. That will be listed in the following steps</p>\n",
    "<em>\n",
    "&emsp; <li>Data Visulaization</li>\n",
    "&emsp; <li>Checking and Removing nan values</li>\n",
    "&emsp; <li>Removing Useless Attributes</li>\n",
    "&emsp; <li>Deleting Outliers and Data Normalizations</li>\n",
    "</em>"
   ]
  },
  {
   "cell_type": "markdown",
   "metadata": {
    "id": "-daRoybV4SJI"
   },
   "source": [
    "<h3>1.1 Data Visualization </h3>"
   ]
  },
  {
   "cell_type": "markdown",
   "metadata": {
    "id": "dRQhoFvkfl-R"
   },
   "source": [
    "<h4>1.1.1 Code </h4>"
   ]
  },
  {
   "cell_type": "code",
   "execution_count": 3,
   "metadata": {
    "id": "sK9S6Bky4RlC"
   },
   "outputs": [],
   "source": [
    "## Header Files \n",
    "import pandas as pd\n",
    "import numpy as np\n",
    "import warnings\n",
    "warnings.filterwarnings('ignore')\n",
    "import matplotlib.pyplot as plt\n",
    "import seaborn as sns\n",
    "plt.style.use('ggplot')\n",
    "import scipy\n",
    "\n",
    "## Loading Data \n",
    "data = '/Users/anshuman/Desktop/Project_Folder/MLIS_Project_Ideal/breast-cancer-wisconsin.data'\n",
    "#data = '/content/breast-cancer-wisconsin.data'"
   ]
  },
  {
   "cell_type": "code",
   "execution_count": 4,
   "metadata": {
    "id": "xL5c7NTs4omD",
    "scrolled": true
   },
   "outputs": [
    {
     "data": {
      "text/html": [
       "<div>\n",
       "<style scoped>\n",
       "    .dataframe tbody tr th:only-of-type {\n",
       "        vertical-align: middle;\n",
       "    }\n",
       "\n",
       "    .dataframe tbody tr th {\n",
       "        vertical-align: top;\n",
       "    }\n",
       "\n",
       "    .dataframe thead th {\n",
       "        text-align: right;\n",
       "    }\n",
       "</style>\n",
       "<table border=\"1\" class=\"dataframe\">\n",
       "  <thead>\n",
       "    <tr style=\"text-align: right;\">\n",
       "      <th></th>\n",
       "      <th>Samplecodenumber</th>\n",
       "      <th>ClumpThickness</th>\n",
       "      <th>UniformityofCellSize</th>\n",
       "      <th>UniformityofCellShape</th>\n",
       "      <th>MarginalAdhesion</th>\n",
       "      <th>SingleEpithelialCellSize</th>\n",
       "      <th>BareNuclei</th>\n",
       "      <th>BlandChromatin</th>\n",
       "      <th>NormalNucleoli</th>\n",
       "      <th>Mitoses</th>\n",
       "      <th>Class</th>\n",
       "    </tr>\n",
       "  </thead>\n",
       "  <tbody>\n",
       "    <tr>\n",
       "      <th>0</th>\n",
       "      <td>1000025</td>\n",
       "      <td>5</td>\n",
       "      <td>1</td>\n",
       "      <td>1</td>\n",
       "      <td>1</td>\n",
       "      <td>2</td>\n",
       "      <td>1</td>\n",
       "      <td>3</td>\n",
       "      <td>1</td>\n",
       "      <td>1</td>\n",
       "      <td>2</td>\n",
       "    </tr>\n",
       "    <tr>\n",
       "      <th>1</th>\n",
       "      <td>1002945</td>\n",
       "      <td>5</td>\n",
       "      <td>4</td>\n",
       "      <td>4</td>\n",
       "      <td>5</td>\n",
       "      <td>7</td>\n",
       "      <td>10</td>\n",
       "      <td>3</td>\n",
       "      <td>2</td>\n",
       "      <td>1</td>\n",
       "      <td>2</td>\n",
       "    </tr>\n",
       "    <tr>\n",
       "      <th>2</th>\n",
       "      <td>1015425</td>\n",
       "      <td>3</td>\n",
       "      <td>1</td>\n",
       "      <td>1</td>\n",
       "      <td>1</td>\n",
       "      <td>2</td>\n",
       "      <td>2</td>\n",
       "      <td>3</td>\n",
       "      <td>1</td>\n",
       "      <td>1</td>\n",
       "      <td>2</td>\n",
       "    </tr>\n",
       "    <tr>\n",
       "      <th>3</th>\n",
       "      <td>1016277</td>\n",
       "      <td>6</td>\n",
       "      <td>8</td>\n",
       "      <td>8</td>\n",
       "      <td>1</td>\n",
       "      <td>3</td>\n",
       "      <td>4</td>\n",
       "      <td>3</td>\n",
       "      <td>7</td>\n",
       "      <td>1</td>\n",
       "      <td>2</td>\n",
       "    </tr>\n",
       "    <tr>\n",
       "      <th>4</th>\n",
       "      <td>1017023</td>\n",
       "      <td>4</td>\n",
       "      <td>1</td>\n",
       "      <td>1</td>\n",
       "      <td>3</td>\n",
       "      <td>2</td>\n",
       "      <td>1</td>\n",
       "      <td>3</td>\n",
       "      <td>1</td>\n",
       "      <td>1</td>\n",
       "      <td>2</td>\n",
       "    </tr>\n",
       "  </tbody>\n",
       "</table>\n",
       "</div>"
      ],
      "text/plain": [
       "   Samplecodenumber  ClumpThickness  UniformityofCellSize  \\\n",
       "0           1000025               5                     1   \n",
       "1           1002945               5                     4   \n",
       "2           1015425               3                     1   \n",
       "3           1016277               6                     8   \n",
       "4           1017023               4                     1   \n",
       "\n",
       "   UniformityofCellShape  MarginalAdhesion  SingleEpithelialCellSize  \\\n",
       "0                      1                 1                         2   \n",
       "1                      4                 5                         7   \n",
       "2                      1                 1                         2   \n",
       "3                      8                 1                         3   \n",
       "4                      1                 3                         2   \n",
       "\n",
       "  BareNuclei  BlandChromatin  NormalNucleoli  Mitoses  Class  \n",
       "0          1               3               1        1      2  \n",
       "1         10               3               2        1      2  \n",
       "2          2               3               1        1      2  \n",
       "3          4               3               7        1      2  \n",
       "4          1               3               1        1      2  "
      ]
     },
     "execution_count": 4,
     "metadata": {},
     "output_type": "execute_result"
    }
   ],
   "source": [
    "# Nameing the columms\n",
    "col_name = ['Samplecodenumber','ClumpThickness','UniformityofCellSize','UniformityofCellShape',\n",
    "            'MarginalAdhesion','SingleEpithelialCellSize','BareNuclei',\n",
    "            'BlandChromatin','NormalNucleoli','Mitoses','Class']\n",
    "cancerdata = pd.read_csv(data,low_memory=False,names=col_name)\n",
    "cancerdata.head()"
   ]
  },
  {
   "cell_type": "code",
   "execution_count": 5,
   "metadata": {
    "id": "oOGBeeDS4opZ"
   },
   "outputs": [],
   "source": [
    "## Removing attribute that is of no use\n",
    "cancerdata = cancerdata.drop(['Samplecodenumber'], 1)"
   ]
  },
  {
   "cell_type": "code",
   "execution_count": 6,
   "metadata": {
    "id": "nV7-qayy4orv"
   },
   "outputs": [
    {
     "data": {
      "text/plain": [
       "2    458\n",
       "4    241\n",
       "Name: Class, dtype: int64"
      ]
     },
     "execution_count": 6,
     "metadata": {},
     "output_type": "execute_result"
    }
   ],
   "source": [
    "# The number of samples present by class count\n",
    "cancerdata['Class'].value_counts()"
   ]
  },
  {
   "cell_type": "code",
   "execution_count": 7,
   "metadata": {
    "id": "iY_4Kw5F4ous"
   },
   "outputs": [
    {
     "data": {
      "text/html": [
       "<div>\n",
       "<style scoped>\n",
       "    .dataframe tbody tr th:only-of-type {\n",
       "        vertical-align: middle;\n",
       "    }\n",
       "\n",
       "    .dataframe tbody tr th {\n",
       "        vertical-align: top;\n",
       "    }\n",
       "\n",
       "    .dataframe thead th {\n",
       "        text-align: right;\n",
       "    }\n",
       "</style>\n",
       "<table border=\"1\" class=\"dataframe\">\n",
       "  <thead>\n",
       "    <tr style=\"text-align: right;\">\n",
       "      <th></th>\n",
       "      <th>ClumpThickness</th>\n",
       "      <th>UniformityofCellSize</th>\n",
       "      <th>UniformityofCellShape</th>\n",
       "      <th>MarginalAdhesion</th>\n",
       "      <th>SingleEpithelialCellSize</th>\n",
       "      <th>BareNuclei</th>\n",
       "      <th>BlandChromatin</th>\n",
       "      <th>NormalNucleoli</th>\n",
       "      <th>Mitoses</th>\n",
       "      <th>classes</th>\n",
       "    </tr>\n",
       "  </thead>\n",
       "  <tbody>\n",
       "    <tr>\n",
       "      <th>0</th>\n",
       "      <td>5</td>\n",
       "      <td>1</td>\n",
       "      <td>1</td>\n",
       "      <td>1</td>\n",
       "      <td>2</td>\n",
       "      <td>1</td>\n",
       "      <td>3</td>\n",
       "      <td>1</td>\n",
       "      <td>1</td>\n",
       "      <td>0</td>\n",
       "    </tr>\n",
       "    <tr>\n",
       "      <th>1</th>\n",
       "      <td>3</td>\n",
       "      <td>1</td>\n",
       "      <td>1</td>\n",
       "      <td>1</td>\n",
       "      <td>2</td>\n",
       "      <td>2</td>\n",
       "      <td>3</td>\n",
       "      <td>1</td>\n",
       "      <td>1</td>\n",
       "      <td>0</td>\n",
       "    </tr>\n",
       "    <tr>\n",
       "      <th>2</th>\n",
       "      <td>8</td>\n",
       "      <td>10</td>\n",
       "      <td>10</td>\n",
       "      <td>8</td>\n",
       "      <td>7</td>\n",
       "      <td>10</td>\n",
       "      <td>9</td>\n",
       "      <td>7</td>\n",
       "      <td>1</td>\n",
       "      <td>1</td>\n",
       "    </tr>\n",
       "    <tr>\n",
       "      <th>3</th>\n",
       "      <td>2</td>\n",
       "      <td>1</td>\n",
       "      <td>1</td>\n",
       "      <td>1</td>\n",
       "      <td>2</td>\n",
       "      <td>1</td>\n",
       "      <td>2</td>\n",
       "      <td>1</td>\n",
       "      <td>1</td>\n",
       "      <td>0</td>\n",
       "    </tr>\n",
       "    <tr>\n",
       "      <th>4</th>\n",
       "      <td>5</td>\n",
       "      <td>3</td>\n",
       "      <td>3</td>\n",
       "      <td>3</td>\n",
       "      <td>2</td>\n",
       "      <td>3</td>\n",
       "      <td>4</td>\n",
       "      <td>4</td>\n",
       "      <td>1</td>\n",
       "      <td>1</td>\n",
       "    </tr>\n",
       "  </tbody>\n",
       "</table>\n",
       "</div>"
      ],
      "text/plain": [
       "   ClumpThickness  UniformityofCellSize  UniformityofCellShape  \\\n",
       "0               5                     1                      1   \n",
       "1               3                     1                      1   \n",
       "2               8                    10                     10   \n",
       "3               2                     1                      1   \n",
       "4               5                     3                      3   \n",
       "\n",
       "   MarginalAdhesion  SingleEpithelialCellSize BareNuclei  BlandChromatin  \\\n",
       "0                 1                         2          1               3   \n",
       "1                 1                         2          2               3   \n",
       "2                 8                         7         10               9   \n",
       "3                 1                         2          1               2   \n",
       "4                 3                         2          3               4   \n",
       "\n",
       "   NormalNucleoli  Mitoses  classes  \n",
       "0               1        1        0  \n",
       "1               1        1        0  \n",
       "2               7        1        1  \n",
       "3               1        1        0  \n",
       "4               4        1        1  "
      ]
     },
     "execution_count": 7,
     "metadata": {},
     "output_type": "execute_result"
    }
   ],
   "source": [
    "# Making the class counts to similar size\n",
    "Benign = cancerdata[(cancerdata.Class == 2) ].sample(240).index\n",
    "Malignant = cancerdata[(cancerdata.Class == 4) ].sample(240).index\n",
    "cancer = cancerdata.loc[Benign|Malignant]\n",
    "cancer = cancer.reset_index(drop=True)\n",
    "\n",
    "# Making the classess from 2/4 to 0/1 \n",
    "cancer['classes'] = cancer.Class.map({2:0,4:1})\n",
    "cancer = cancer.drop(['Class'], 1)\n",
    "\n",
    "# Printing the updated dataframe\n",
    "cancer.head()"
   ]
  },
  {
   "cell_type": "code",
   "execution_count": 8,
   "metadata": {
    "id": "2gLfIN6F4oxH"
   },
   "outputs": [
    {
     "data": {
      "text/plain": [
       "0    240\n",
       "1    240\n",
       "Name: classes, dtype: int64"
      ]
     },
     "execution_count": 8,
     "metadata": {},
     "output_type": "execute_result"
    }
   ],
   "source": [
    "# Confirming that counts of the classes are similar \n",
    "cancer['classes'].value_counts()\n"
   ]
  },
  {
   "cell_type": "code",
   "execution_count": 9,
   "metadata": {
    "id": "FxwBcGnk429U",
    "scrolled": false
   },
   "outputs": [
    {
     "data": {
      "image/png": "[encoded data removed]",
      "text/plain": [
       "<Figure size 1296x1296 with 9 Axes>"
      ]
     },
     "metadata": {},
     "output_type": "display_data"
    }
   ],
   "source": [
    "# plot date variables and find the variables with similar distributions, keep only one of them.\n",
    "#['ClumpThickness','UniformityofCellSize','UniformityofCellShape','MarginalAdhesion',\n",
    "#'SingleEpithelialCellSize','BareNuclei','BlandChromatin','NormalNucleoli','Mitoses']\n",
    "fig, axs = plt.subplots(3, 3, figsize=(18,18))\n",
    "axs[0,0].hist(cancer['ClumpThickness'])\n",
    "axs[0,0].set_title(\"ClumpThickness\")\n",
    "axs[0,1].hist(cancer['UniformityofCellSize'])\n",
    "axs[0,1].set_title(\"UniformityofCellSize\")\n",
    "axs[0,2].hist(cancer['UniformityofCellShape'])\n",
    "axs[0,2].set_title(\"UniformityofCellShape\")\n",
    "axs[1,0].hist(cancer['MarginalAdhesion'])\n",
    "axs[1,0].set_title(\"MarginalAdhesion\")\n",
    "axs[1,1].hist(cancer['SingleEpithelialCellSize'])\n",
    "axs[1,1].set_title(\"SingleEpithelialCellSize\")\n",
    "axs[1,2].hist(cancer['BareNuclei'])\n",
    "axs[1,2].set_title(\"BareNuclei\")\n",
    "axs[2,0].hist(cancer['BlandChromatin'])\n",
    "axs[2,0].set_title(\"BlandChromatin\")\n",
    "axs[2,1].hist(cancer['NormalNucleoli'])\n",
    "axs[2,1].set_title(\"NormalNucleoli\")\n",
    "axs[2,2].hist(cancer['Mitoses'])\n",
    "axs[2,2].set_title(\"Mitoses\")\n",
    "fig.tight_layout()"
   ]
  },
  {
   "cell_type": "markdown",
   "metadata": {
    "id": "wdpWrB3HWel7"
   },
   "source": [
    "<h4>1.1.2 Observations </h4>\n",
    "<ol>\n",
    "    <li>The class counts is in a 2:1 ratio with benign being 458 and malignant being 241</li>\n",
    "    <li>The graph shows that data is very skewed for every attribute</li>\n",
    "</ol>\n",
    "<h4>1.1.3 Approach </h4>\n",
    "<ol>\n",
    "    <li>First we make the class ratio 1:1 and making data points to 240 for each class</li>\n",
    "</ol>"
   ]
  },
  {
   "cell_type": "markdown",
   "metadata": {
    "id": "fPcTVTlE46vC"
   },
   "source": [
    "<h3>1.2 Checking and Removing nan values</h3>"
   ]
  },
  {
   "cell_type": "markdown",
   "metadata": {
    "id": "wbaWQwlpfyif"
   },
   "source": [
    "<h4>1.2.1 Code </h4>"
   ]
  },
  {
   "cell_type": "code",
   "execution_count": 10,
   "metadata": {
    "id": "dJclAfmh49KE"
   },
   "outputs": [
    {
     "data": {
      "text/plain": [
       "int64     9\n",
       "object    1\n",
       "dtype: int64"
      ]
     },
     "execution_count": 10,
     "metadata": {},
     "output_type": "execute_result"
    }
   ],
   "source": [
    "# Printing all the value counts \n",
    "cancer.dtypes.value_counts()"
   ]
  },
  {
   "cell_type": "code",
   "execution_count": 11,
   "metadata": {
    "id": "3DCa8TIj4_Ty"
   },
   "outputs": [
    {
     "data": {
      "text/html": [
       "<div>\n",
       "<style scoped>\n",
       "    .dataframe tbody tr th:only-of-type {\n",
       "        vertical-align: middle;\n",
       "    }\n",
       "\n",
       "    .dataframe tbody tr th {\n",
       "        vertical-align: top;\n",
       "    }\n",
       "\n",
       "    .dataframe thead th {\n",
       "        text-align: right;\n",
       "    }\n",
       "</style>\n",
       "<table border=\"1\" class=\"dataframe\">\n",
       "  <thead>\n",
       "    <tr style=\"text-align: right;\">\n",
       "      <th></th>\n",
       "      <th>BareNuclei</th>\n",
       "    </tr>\n",
       "  </thead>\n",
       "  <tbody>\n",
       "    <tr>\n",
       "      <th>0</th>\n",
       "      <td>1</td>\n",
       "    </tr>\n",
       "    <tr>\n",
       "      <th>1</th>\n",
       "      <td>2</td>\n",
       "    </tr>\n",
       "    <tr>\n",
       "      <th>2</th>\n",
       "      <td>10</td>\n",
       "    </tr>\n",
       "    <tr>\n",
       "      <th>3</th>\n",
       "      <td>1</td>\n",
       "    </tr>\n",
       "    <tr>\n",
       "      <th>4</th>\n",
       "      <td>3</td>\n",
       "    </tr>\n",
       "    <tr>\n",
       "      <th>...</th>\n",
       "      <td>...</td>\n",
       "    </tr>\n",
       "    <tr>\n",
       "      <th>475</th>\n",
       "      <td>2</td>\n",
       "    </tr>\n",
       "    <tr>\n",
       "      <th>476</th>\n",
       "      <td>1</td>\n",
       "    </tr>\n",
       "    <tr>\n",
       "      <th>477</th>\n",
       "      <td>3</td>\n",
       "    </tr>\n",
       "    <tr>\n",
       "      <th>478</th>\n",
       "      <td>4</td>\n",
       "    </tr>\n",
       "    <tr>\n",
       "      <th>479</th>\n",
       "      <td>5</td>\n",
       "    </tr>\n",
       "  </tbody>\n",
       "</table>\n",
       "<p>480 rows × 1 columns</p>\n",
       "</div>"
      ],
      "text/plain": [
       "    BareNuclei\n",
       "0            1\n",
       "1            2\n",
       "2           10\n",
       "3            1\n",
       "4            3\n",
       "..         ...\n",
       "475          2\n",
       "476          1\n",
       "477          3\n",
       "478          4\n",
       "479          5\n",
       "\n",
       "[480 rows x 1 columns]"
      ]
     },
     "execution_count": 11,
     "metadata": {},
     "output_type": "execute_result"
    }
   ],
   "source": [
    "# Printing data types\n",
    "cancer.select_dtypes('object')"
   ]
  },
  {
   "cell_type": "code",
   "execution_count": 12,
   "metadata": {
    "id": "1CyRzBnb6XnU"
   },
   "outputs": [
    {
     "data": {
      "text/html": [
       "<div>\n",
       "<style scoped>\n",
       "    .dataframe tbody tr th:only-of-type {\n",
       "        vertical-align: middle;\n",
       "    }\n",
       "\n",
       "    .dataframe tbody tr th {\n",
       "        vertical-align: top;\n",
       "    }\n",
       "\n",
       "    .dataframe thead th {\n",
       "        text-align: right;\n",
       "    }\n",
       "</style>\n",
       "<table border=\"1\" class=\"dataframe\">\n",
       "  <thead>\n",
       "    <tr style=\"text-align: right;\">\n",
       "      <th></th>\n",
       "      <th>Count</th>\n",
       "      <th>Percent</th>\n",
       "    </tr>\n",
       "  </thead>\n",
       "  <tbody>\n",
       "    <tr>\n",
       "      <th>BareNuclei</th>\n",
       "      <td>10</td>\n",
       "      <td>2.083333</td>\n",
       "    </tr>\n",
       "  </tbody>\n",
       "</table>\n",
       "</div>"
      ],
      "text/plain": [
       "            Count   Percent\n",
       "BareNuclei     10  2.083333"
      ]
     },
     "execution_count": 12,
     "metadata": {},
     "output_type": "execute_result"
    }
   ],
   "source": [
    "#Replacing nan Values\n",
    "cancer = cancer.replace('?' ,np.nan)\n",
    "\n",
    "##Finding the the count and percentage of values that are missing in the dataframe.\n",
    "null1 = pd.DataFrame({'Count': cancer.isnull().sum(), 'Percent': 100*cancer.isnull().sum()/len(cancer)})\n",
    "\n",
    "##printing columns with null count more than 0\n",
    "null1[null1['Count'] > 0]"
   ]
  },
  {
   "cell_type": "code",
   "execution_count": 13,
   "metadata": {
    "id": "mQKh6EdQ6Xrk"
   },
   "outputs": [],
   "source": [
    "## Filling the columns with nan values with mean of the data\n",
    "cancer[\"BareNuclei\"]=cancer[\"BareNuclei\"].astype(float)\n",
    "cancer=cancer.fillna(cancer.mean())"
   ]
  },
  {
   "cell_type": "markdown",
   "metadata": {
    "id": "PHIdqxDmWMPe"
   },
   "source": [
    "<h4>1.2.2 Observations </h4>\n",
    "<ol>\n",
    "    <li>We obsereve that there is one attribute that is not in integer format</li>\n",
    "    <li>We find that there are nan values in BareNuclei. It also mentioned in the .names file </li>\n",
    "</ol>\n",
    "<h4>1.2.3 Approach </h4>\n",
    "<ol>\n",
    "    <li>We find that BareNuclei is a object type attribute so we convert it to float</li>\n",
    "    <li>We replace nan values in BareNuclei with mean value of BareNuclei</li>\n",
    "</ol>"
   ]
  },
  {
   "cell_type": "markdown",
   "metadata": {
    "id": "uf89AePf6nsZ"
   },
   "source": [
    "<h3>1.3 Removing Useless Attributes </h3>"
   ]
  },
  {
   "cell_type": "markdown",
   "metadata": {
    "id": "aF8wcn9Gf3au"
   },
   "source": [
    "<h4>1.3.1 Code </h4>"
   ]
  },
  {
   "cell_type": "code",
   "execution_count": 14,
   "metadata": {
    "id": "e1xo7hxe6Xv1"
   },
   "outputs": [
    {
     "data": {
      "text/html": [
       "<div>\n",
       "<style scoped>\n",
       "    .dataframe tbody tr th:only-of-type {\n",
       "        vertical-align: middle;\n",
       "    }\n",
       "\n",
       "    .dataframe tbody tr th {\n",
       "        vertical-align: top;\n",
       "    }\n",
       "\n",
       "    .dataframe thead th {\n",
       "        text-align: right;\n",
       "    }\n",
       "</style>\n",
       "<table border=\"1\" class=\"dataframe\">\n",
       "  <thead>\n",
       "    <tr style=\"text-align: right;\">\n",
       "      <th></th>\n",
       "      <th>classes</th>\n",
       "      <th>UniformityofCellShape</th>\n",
       "      <th>UniformityofCellSize</th>\n",
       "      <th>BareNuclei</th>\n",
       "      <th>BlandChromatin</th>\n",
       "      <th>ClumpThickness</th>\n",
       "      <th>NormalNucleoli</th>\n",
       "      <th>MarginalAdhesion</th>\n",
       "      <th>SingleEpithelialCellSize</th>\n",
       "      <th>Mitoses</th>\n",
       "    </tr>\n",
       "  </thead>\n",
       "  <tbody>\n",
       "    <tr>\n",
       "      <th>0</th>\n",
       "      <td>0</td>\n",
       "      <td>1</td>\n",
       "      <td>1</td>\n",
       "      <td>1.0</td>\n",
       "      <td>3</td>\n",
       "      <td>5</td>\n",
       "      <td>1</td>\n",
       "      <td>1</td>\n",
       "      <td>2</td>\n",
       "      <td>1</td>\n",
       "    </tr>\n",
       "    <tr>\n",
       "      <th>1</th>\n",
       "      <td>0</td>\n",
       "      <td>1</td>\n",
       "      <td>1</td>\n",
       "      <td>2.0</td>\n",
       "      <td>3</td>\n",
       "      <td>3</td>\n",
       "      <td>1</td>\n",
       "      <td>1</td>\n",
       "      <td>2</td>\n",
       "      <td>1</td>\n",
       "    </tr>\n",
       "    <tr>\n",
       "      <th>2</th>\n",
       "      <td>1</td>\n",
       "      <td>10</td>\n",
       "      <td>10</td>\n",
       "      <td>10.0</td>\n",
       "      <td>9</td>\n",
       "      <td>8</td>\n",
       "      <td>7</td>\n",
       "      <td>8</td>\n",
       "      <td>7</td>\n",
       "      <td>1</td>\n",
       "    </tr>\n",
       "  </tbody>\n",
       "</table>\n",
       "</div>"
      ],
      "text/plain": [
       "   classes  UniformityofCellShape  UniformityofCellSize  BareNuclei  \\\n",
       "0        0                      1                     1         1.0   \n",
       "1        0                      1                     1         2.0   \n",
       "2        1                     10                    10        10.0   \n",
       "\n",
       "   BlandChromatin  ClumpThickness  NormalNucleoli  MarginalAdhesion  \\\n",
       "0               3               5               1                 1   \n",
       "1               3               3               1                 1   \n",
       "2               9               8               7                 8   \n",
       "\n",
       "   SingleEpithelialCellSize  Mitoses  \n",
       "0                         2        1  \n",
       "1                         2        1  \n",
       "2                         7        1  "
      ]
     },
     "execution_count": 14,
     "metadata": {},
     "output_type": "execute_result"
    }
   ],
   "source": [
    "#Sorting with correlation values\n",
    "corr_list1=cancer.corr()['classes'].abs().sort_values(ascending=False)\n",
    "corr_list_new=corr_list1[corr_list1>0.01].index.values.tolist()\n",
    "corr_list1\n",
    "cancer=cancer[corr_list_new]\n",
    "cancer.head(3)"
   ]
  },
  {
   "cell_type": "code",
   "execution_count": 15,
   "metadata": {
    "id": "5MgSXzzR6XzR"
   },
   "outputs": [
    {
     "data": {
      "text/plain": [
       "classes                   classes                     1.000000\n",
       "UniformityofCellShape     UniformityofCellSize        0.896855\n",
       "                          classes                     0.797637\n",
       "classes                   UniformityofCellSize        0.794149\n",
       "                          BareNuclei                  0.787686\n",
       "SingleEpithelialCellSize  UniformityofCellSize        0.733041\n",
       "UniformityofCellSize      BlandChromatin              0.732121\n",
       "classes                   BlandChromatin              0.717383\n",
       "                          ClumpThickness              0.710643\n",
       "BlandChromatin            UniformityofCellShape       0.708831\n",
       "SingleEpithelialCellSize  UniformityofCellShape       0.697575\n",
       "UniformityofCellSize      NormalNucleoli              0.679227\n",
       "UniformityofCellShape     NormalNucleoli              0.676767\n",
       "MarginalAdhesion          UniformityofCellSize        0.672988\n",
       "UniformityofCellShape     BareNuclei                  0.664456\n",
       "classes                   NormalNucleoli              0.660552\n",
       "MarginalAdhesion          classes                     0.657849\n",
       "UniformityofCellShape     MarginalAdhesion            0.650179\n",
       "classes                   SingleEpithelialCellSize    0.647522\n",
       "MarginalAdhesion          BlandChromatin              0.638723\n",
       "UniformityofCellSize      BareNuclei                  0.632366\n",
       "BareNuclei                BlandChromatin              0.629660\n",
       "ClumpThickness            UniformityofCellShape       0.626870\n",
       "MarginalAdhesion          BareNuclei                  0.623394\n",
       "NormalNucleoli            BlandChromatin              0.620883\n",
       "UniformityofCellSize      ClumpThickness              0.617797\n",
       "SingleEpithelialCellSize  NormalNucleoli              0.586640\n",
       "BlandChromatin            SingleEpithelialCellSize    0.582574\n",
       "MarginalAdhesion          SingleEpithelialCellSize    0.563852\n",
       "BareNuclei                ClumpThickness              0.560224\n",
       "MarginalAdhesion          NormalNucleoli              0.555254\n",
       "BlandChromatin            ClumpThickness              0.536278\n",
       "BareNuclei                SingleEpithelialCellSize    0.526389\n",
       "NormalNucleoli            BareNuclei                  0.511625\n",
       "                          ClumpThickness              0.492489\n",
       "ClumpThickness            SingleEpithelialCellSize    0.489452\n",
       "SingleEpithelialCellSize  Mitoses                     0.469546\n",
       "UniformityofCellSize      Mitoses                     0.439646\n",
       "MarginalAdhesion          ClumpThickness              0.432385\n",
       "UniformityofCellShape     Mitoses                     0.420054\n",
       "NormalNucleoli            Mitoses                     0.401841\n",
       "MarginalAdhesion          Mitoses                     0.396039\n",
       "Mitoses                   classes                     0.388697\n",
       "ClumpThickness            Mitoses                     0.335768\n",
       "Mitoses                   BlandChromatin              0.312432\n",
       "BareNuclei                Mitoses                     0.298894\n",
       "dtype: float64"
      ]
     },
     "metadata": {},
     "output_type": "display_data"
    }
   ],
   "source": [
    "## To remove outliers first we have to find the correlation between attributes\n",
    "\n",
    "#find the variables with high correlations\n",
    "cor1 = cancer.corr().abs()\n",
    "list1 = cor1.stack().sort_values(ascending=False).drop_duplicates()  \n",
    "high_corr= list1[list1>0.70].index.values.tolist()\n",
    "high_corr.remove(high_corr[0])\n",
    "\n",
    "display(list1)"
   ]
  },
  {
   "cell_type": "code",
   "execution_count": 16,
   "metadata": {
    "id": "x7OKFrzE6X3D"
   },
   "outputs": [],
   "source": [
    "# for variable pairs with high correlation, keep only one of them\n",
    "columnlist=list(cancer.columns)\n",
    "len(high_corr)\n",
    "for i in range(len(high_corr)):\n",
    "    if \"classes\" in high_corr[i]:\n",
    "        columnlist=columnlist\n",
    "    else:\n",
    "        if high_corr[i][0] in columnlist and high_corr[i][1] in columnlist:\n",
    "            columnlist.remove(high_corr[i][1])\n",
    "        else:\n",
    "            columnlist=columnlist\n",
    "cancer_final=cancer[columnlist]"
   ]
  },
  {
   "cell_type": "code",
   "execution_count": 17,
   "metadata": {
    "id": "ZJPMB2Tq6pOq"
   },
   "outputs": [
    {
     "name": "stdout",
     "output_type": "stream",
     "text": [
      "360 360 120 120\n"
     ]
    }
   ],
   "source": [
    "# Numpy Reference in [1]\n",
    "# To shuffle data and then split  \n",
    "def shuffle_split_data(x, y):\n",
    "    arr_rand = np.random.rand(x.shape[0])\n",
    "    split = arr_rand < np.percentile(arr_rand, 75)\n",
    "\n",
    "    x_train = x[split]\n",
    "    y_train = y[split]\n",
    "    x_test =  x[~split]\n",
    "    y_test = y[~split]\n",
    "\n",
    "    print(len(x_train), len(y_train), len(x_test), len(y_test))\n",
    "    return x_train, y_train, x_test, y_test\n",
    "\n",
    "\n",
    "# Dividing the data in classes  \n",
    "x = cancer_final.drop(['classes'], 1)\n",
    "y = cancer_final[['classes']]\n",
    "x = np.array(x)\n",
    "y = np.array(y)\n",
    "train_x_norm,train_y_norm,test_x_norm,test_y_norm = shuffle_split_data(x,y)"
   ]
  },
  {
   "cell_type": "markdown",
   "metadata": {
    "id": "P-oNBnzbV4lI"
   },
   "source": [
    "<h4>1.3.2 Observations </h4>\n",
    "<ol>\n",
    "    <li>We find the correlation list of the attributes</li>\n",
    "</ol>\n",
    "\n",
    "<h4>1.3.3 Approach </h4>\n",
    "<ol>\n",
    "    <li>We remove the attributes that have low correlations from the data frame</li>\n",
    "    <li>We split the data in test and train datasets</li>\n",
    "</ol>"
   ]
  },
  {
   "cell_type": "markdown",
   "metadata": {
    "id": "6mQKJvN27Bfu"
   },
   "source": [
    "<h3>1.4 Deleting Outliers and Data Normalizations</h3>"
   ]
  },
  {
   "cell_type": "markdown",
   "metadata": {
    "id": "tOcvGwDUf8fd"
   },
   "source": [
    "<h4>1.4.1 Code </h4>"
   ]
  },
  {
   "cell_type": "code",
   "execution_count": 18,
   "metadata": {
    "id": "9Z4bemp56pTY"
   },
   "outputs": [],
   "source": [
    "# Remove outliers\n",
    "cancer_norm = cancer_final[(np.abs(scipy.stats.zscore(cancer_final)) < 3).all(axis=1)]\n",
    "# Zero mean normalisation\n",
    "cancer_norm.iloc[:,1:]=(cancer_norm.iloc[:,1:]-cancer_norm.iloc[:,1:].mean())/cancer_norm.iloc[:,1:].std()"
   ]
  },
  {
   "cell_type": "code",
   "execution_count": 19,
   "metadata": {
    "id": "MQpTYu396pXt"
   },
   "outputs": [
    {
     "data": {
      "text/html": [
       "<div>\n",
       "<style scoped>\n",
       "    .dataframe tbody tr th:only-of-type {\n",
       "        vertical-align: middle;\n",
       "    }\n",
       "\n",
       "    .dataframe tbody tr th {\n",
       "        vertical-align: top;\n",
       "    }\n",
       "\n",
       "    .dataframe thead th {\n",
       "        text-align: right;\n",
       "    }\n",
       "</style>\n",
       "<table border=\"1\" class=\"dataframe\">\n",
       "  <thead>\n",
       "    <tr style=\"text-align: right;\">\n",
       "      <th></th>\n",
       "      <th>classes</th>\n",
       "      <th>BareNuclei</th>\n",
       "      <th>BlandChromatin</th>\n",
       "      <th>ClumpThickness</th>\n",
       "      <th>NormalNucleoli</th>\n",
       "      <th>MarginalAdhesion</th>\n",
       "      <th>SingleEpithelialCellSize</th>\n",
       "      <th>Mitoses</th>\n",
       "    </tr>\n",
       "  </thead>\n",
       "  <tbody>\n",
       "    <tr>\n",
       "      <th>0</th>\n",
       "      <td>0</td>\n",
       "      <td>-0.894725</td>\n",
       "      <td>-0.385042</td>\n",
       "      <td>0.025750</td>\n",
       "      <td>-0.741827</td>\n",
       "      <td>-0.744444</td>\n",
       "      <td>-0.689484</td>\n",
       "      <td>-0.405289</td>\n",
       "    </tr>\n",
       "    <tr>\n",
       "      <th>1</th>\n",
       "      <td>0</td>\n",
       "      <td>-0.635375</td>\n",
       "      <td>-0.385042</td>\n",
       "      <td>-0.649630</td>\n",
       "      <td>-0.741827</td>\n",
       "      <td>-0.744444</td>\n",
       "      <td>-0.689484</td>\n",
       "      <td>-0.405289</td>\n",
       "    </tr>\n",
       "    <tr>\n",
       "      <th>2</th>\n",
       "      <td>1</td>\n",
       "      <td>1.439430</td>\n",
       "      <td>1.940407</td>\n",
       "      <td>1.038819</td>\n",
       "      <td>1.074166</td>\n",
       "      <td>1.524909</td>\n",
       "      <td>1.508247</td>\n",
       "      <td>-0.405289</td>\n",
       "    </tr>\n",
       "    <tr>\n",
       "      <th>3</th>\n",
       "      <td>0</td>\n",
       "      <td>-0.894725</td>\n",
       "      <td>-0.772616</td>\n",
       "      <td>-0.987320</td>\n",
       "      <td>-0.741827</td>\n",
       "      <td>-0.744444</td>\n",
       "      <td>-0.689484</td>\n",
       "      <td>-0.405289</td>\n",
       "    </tr>\n",
       "    <tr>\n",
       "      <th>4</th>\n",
       "      <td>1</td>\n",
       "      <td>-0.376024</td>\n",
       "      <td>0.002533</td>\n",
       "      <td>0.025750</td>\n",
       "      <td>0.166169</td>\n",
       "      <td>-0.096057</td>\n",
       "      <td>-0.689484</td>\n",
       "      <td>-0.405289</td>\n",
       "    </tr>\n",
       "  </tbody>\n",
       "</table>\n",
       "</div>"
      ],
      "text/plain": [
       "   classes  BareNuclei  BlandChromatin  ClumpThickness  NormalNucleoli  \\\n",
       "0        0   -0.894725       -0.385042        0.025750       -0.741827   \n",
       "1        0   -0.635375       -0.385042       -0.649630       -0.741827   \n",
       "2        1    1.439430        1.940407        1.038819        1.074166   \n",
       "3        0   -0.894725       -0.772616       -0.987320       -0.741827   \n",
       "4        1   -0.376024        0.002533        0.025750        0.166169   \n",
       "\n",
       "   MarginalAdhesion  SingleEpithelialCellSize   Mitoses  \n",
       "0         -0.744444                 -0.689484 -0.405289  \n",
       "1         -0.744444                 -0.689484 -0.405289  \n",
       "2          1.524909                  1.508247 -0.405289  \n",
       "3         -0.744444                 -0.689484 -0.405289  \n",
       "4         -0.096057                 -0.689484 -0.405289  "
      ]
     },
     "execution_count": 19,
     "metadata": {},
     "output_type": "execute_result"
    }
   ],
   "source": [
    "#printing the normalized head of the data\n",
    "cancer_norm.head()"
   ]
  },
  {
   "cell_type": "code",
   "execution_count": 20,
   "metadata": {},
   "outputs": [],
   "source": [
    "# Numpy Reference in [1]\n",
    "\n",
    "# To shuffle the data and split data\n",
    "def shuffle_split_data(x, y):\n",
    "    \n",
    "    # To randomize \n",
    "    arr_rand = np.random.rand(x.shape[0])\n",
    "    \n",
    "    # To split numpy percentile by frequency \n",
    "    split = arr_rand < np.percentile(arr_rand, 75)\n",
    "\n",
    "    x_train = x[split]\n",
    "    y_train = y[split]\n",
    "    x_test =  x[~split]\n",
    "    y_test = y[~split]\n",
    "    \n",
    "    # Return train and test\n",
    "    return x_train, y_train, x_test, y_test\n",
    "\n",
    "# Dividing the data in classes \n",
    "x = cancer_norm.drop(['classes'], 1)\n",
    "y = cancer_norm[['classes']]\n",
    "x = np.array(x)\n",
    "y = np.array(y)\n",
    "train_x_norm,train_y_norm,test_x_norm,test_y_norm = shuffle_split_data(x,y)"
   ]
  },
  {
   "cell_type": "code",
   "execution_count": 21,
   "metadata": {
    "colab": {
     "base_uri": "https://localhost:8080/"
    },
    "id": "xlkLRQkM6pee",
    "outputId": "8fc8fc33-4eb4-440d-dd77-37a6680cef4c",
    "scrolled": true
   },
   "outputs": [
    {
     "name": "stdout",
     "output_type": "stream",
     "text": [
      "X_train Shape : (344, 7)\n",
      "Y_train Shape : (344, 1)\n",
      "X_test Shape  : (115, 7)\n",
      "Y_test Shape  : (115, 1)\n"
     ]
    }
   ],
   "source": [
    "# Print the shape of the data attributes\n",
    "x_train = np.array(train_x_norm)\n",
    "print('X_train Shape :',x_train.shape)\n",
    "y_train = np.array(train_y_norm)\n",
    "print('Y_train Shape :',y_train.shape)\n",
    "x_test = np.array(test_x_norm)\n",
    "print('X_test Shape  :',x_test.shape)\n",
    "y_test = np.array(test_y_norm)\n",
    "print('Y_test Shape  :',y_test.shape)"
   ]
  },
  {
   "cell_type": "code",
   "execution_count": 22,
   "metadata": {},
   "outputs": [
    {
     "name": "stdout",
     "output_type": "stream",
     "text": [
      "(344,)\n",
      "(115,)\n"
     ]
    }
   ],
   "source": [
    "# Changed the shape of the y_train from (x,1) to (x,)\n",
    "y_train=y_train.reshape(len(y_train))\n",
    "print(y_train.shape)\n",
    "y_test=y_test.reshape(len(y_test))\n",
    "print(y_test.shape)"
   ]
  },
  {
   "cell_type": "markdown",
   "metadata": {
    "id": "ezxSeKxKWqBF"
   },
   "source": [
    "<h3>1.5 Conclusion </h3>\n",
    "<ol>\n",
    "    <li>We removed the NAN values from our data and replaced them with mean values</li>\n",
    "    <li>We only keep highly correlated attributes in our final attribute list</li>\n",
    "    <li>We filter our data using the zscores and then normalize it usind mean and standard deviation</li>\n",
    "</ol>"
   ]
  },
  {
   "cell_type": "markdown",
   "metadata": {
    "id": "SNNGSB4Vb2CE"
   },
   "source": [
    "<h2><center>2. Model Fiting on the clean data</center></h2>\n",
    "\n",
    "We have a cleaned and a normalized data now we just have to fit a model over the data and make predictions.\n",
    "We are going to implement 2 models that are implemented by us \n",
    "\n",
    "<ol>\n",
    "    <li>SGD Classifier with Log Loss</li>\n",
    "    <li>SVM with RBF kernel</li>\n",
    "</ol>\n"
   ]
  },
  {
   "cell_type": "markdown",
   "metadata": {
    "id": "LGeB6fiFYPuS"
   },
   "source": [
    "<h3>2.1 SGD Classifier with Log Loss</h3>"
   ]
  },
  {
   "cell_type": "markdown",
   "metadata": {
    "id": "3NIP2zzzYi2e"
   },
   "source": [
    "<h4>2.1.1 Function Call</h4>"
   ]
  },
  {
   "cell_type": "code",
   "execution_count": 23,
   "metadata": {
    "id": "qq2Z7Etj6yun"
   },
   "outputs": [
    {
     "name": "stderr",
     "output_type": "stream",
     "text": [
      "\r",
      "  0%|          | 0/300 [00:00<?, ?it/s]"
     ]
    },
    {
     "name": "stdout",
     "output_type": "stream",
     "text": [
      "\n",
      "-- Epoch no(iteration no)  1\n",
      "W intercept: [0.00661127 0.00652539 0.00859498 0.00700613 0.00780507 0.00982648\n",
      " 0.00319096], B intercept: 0.002460585302215336, Train loss: 0.29399, Test loss: 0.29366\n",
      "\n",
      "-- Epoch no(iteration no)  2\n",
      "W intercept: [0.0130385  0.00896858 0.01714977 0.01470365 0.00934146 0.01772563\n",
      " 0.00840133], B intercept: 0.005916401889134682, Train loss: 0.28863, Test loss: 0.28796\n",
      "\n",
      "-- Epoch no(iteration no)  3\n",
      "W intercept: [0.0225321  0.01544467 0.02596066 0.02028966 0.01541035 0.02771905\n",
      " 0.01296535], B intercept: 0.004403172283133556, Train loss: 0.28165, Test loss: 0.28055\n",
      "\n",
      "-- Epoch no(iteration no)  4\n",
      "W intercept: [0.03272148 0.02069986 0.03509547 0.02585469 0.02207239 0.03452672\n",
      " 0.015007  ], B intercept: 0.00016558370591309053, Train loss: 0.27533, Test loss: 0.27385\n",
      "\n",
      "-- Epoch no(iteration no)  5\n",
      "W intercept: [0.04290675 0.02853004 0.04349653 0.03628031 0.03214152 0.04448407\n",
      " 0.01981444], B intercept: 0.0030578779258412553, Train loss: 0.26734, Test loss: 0.26542\n",
      "\n",
      "-- Epoch no(iteration no)  6\n",
      "W intercept: [0.05199907 0.03430729 0.05314013 0.04116451 0.03719815 0.05059089\n",
      " 0.02314039], B intercept: 0.006969469225330389, Train loss: 0.26168, Test loss: 0.25957\n",
      "\n",
      "-- Epoch no(iteration no)  7\n",
      "W intercept: [0.06071277 0.03844893 0.06176859 0.04810989 0.04412717 0.05440796\n",
      " 0.02769474], B intercept: 0.007168042250256437, Train loss: 0.25627, Test loss: 0.25379\n",
      "\n",
      "-- Epoch no(iteration no)  8\n",
      "W intercept: [0.06965153 0.04247617 0.06894777 0.05305764 0.05194617 0.0579996\n",
      " 0.03290527], B intercept: 0.011161592489611195, Train loss: 0.25127, Test loss: 0.24853\n"
     ]
    },
    {
     "name": "stderr",
     "output_type": "stream",
     "text": [
      "\r",
      "  4%|▍         | 12/300 [00:00<00:02, 117.36it/s]"
     ]
    },
    {
     "name": "stdout",
     "output_type": "stream",
     "text": [
      "\n",
      "-- Epoch no(iteration no)  9\n",
      "W intercept: [0.07958174 0.0530465  0.07872649 0.05876584 0.05857827 0.06621824\n",
      " 0.03490062], B intercept: 0.006238217434145988, Train loss: 0.24473, Test loss: 0.24165\n",
      "\n",
      "-- Epoch no(iteration no)  10\n",
      "W intercept: [0.08893898 0.06580002 0.0862781  0.06656744 0.0664574  0.07297868\n",
      " 0.03775631], B intercept: 0.0054942765401370655, Train loss: 0.23822, Test loss: 0.23481\n",
      "\n",
      "-- Epoch no(iteration no)  11\n",
      "W intercept: [0.09747897 0.07503054 0.0902611  0.07349437 0.07305994 0.07723694\n",
      " 0.03986167], B intercept: 0.0018644466182262524, Train loss: 0.23339, Test loss: 0.22963\n",
      "\n",
      "-- Epoch no(iteration no)  12\n",
      "W intercept: [0.10615253 0.08379947 0.09692279 0.08055499 0.08073303 0.08437032\n",
      " 0.04215327], B intercept: -0.0012872428395832476, Train loss: 0.22794, Test loss: 0.22388\n",
      "\n",
      "-- Epoch no(iteration no)  13\n",
      "W intercept: [0.11271125 0.09414812 0.10358985 0.08529477 0.08927608 0.09142116\n",
      " 0.04432447], B intercept: -0.0014404493624825799, Train loss: 0.22290, Test loss: 0.21866\n",
      "\n",
      "-- Epoch no(iteration no)  14\n",
      "W intercept: [0.11763119 0.10337635 0.10862144 0.09231268 0.09608315 0.09706888\n",
      " 0.04778394], B intercept: -0.002248291373211307, Train loss: 0.21853, Test loss: 0.21403\n",
      "\n",
      "-- Epoch no(iteration no)  15\n",
      "W intercept: [0.12312999 0.10742283 0.11447758 0.09797954 0.10050821 0.10350343\n",
      " 0.05189829], B intercept: 0.0015093100644253982, Train loss: 0.21492, Test loss: 0.21032\n",
      "\n",
      "-- Epoch no(iteration no)  16\n",
      "W intercept: [0.12876997 0.11013026 0.12277973 0.10511981 0.10197169 0.11107819\n",
      " 0.05390612], B intercept: 0.0016473914524762013, Train loss: 0.21137, Test loss: 0.20664\n",
      "\n",
      "-- Epoch no(iteration no)  17\n",
      "W intercept: [0.13651948 0.11488077 0.12839829 0.1088131  0.10716422 0.11817926\n",
      " 0.05711146], B intercept: 0.000507690567208756, Train loss: 0.20765, Test loss: 0.20275\n",
      "\n",
      "-- Epoch no(iteration no)  18\n",
      "W intercept: [0.14508796 0.11925362 0.13455894 0.11330062 0.11292673 0.12352149\n",
      " 0.05747153], B intercept: 4.010983940409363e-05, Train loss: 0.20405, Test loss: 0.19906\n"
     ]
    },
    {
     "name": "stderr",
     "output_type": "stream",
     "text": [
      "\r",
      "  9%|▊         | 26/300 [00:00<00:02, 129.49it/s]"
     ]
    },
    {
     "name": "stdout",
     "output_type": "stream",
     "text": [
      "\n",
      "-- Epoch no(iteration no)  19\n",
      "W intercept: [0.15170144 0.12461901 0.14055269 0.11934553 0.11781197 0.12837816\n",
      " 0.06010481], B intercept: 0.0015219652393867501, Train loss: 0.20057, Test loss: 0.19546\n",
      "\n",
      "-- Epoch no(iteration no)  20\n",
      "W intercept: [0.15899323 0.12719897 0.14845112 0.12231073 0.12252923 0.13286348\n",
      " 0.06221669], B intercept: 0.0032836031138536947, Train loss: 0.19749, Test loss: 0.19234\n",
      "\n",
      "-- Epoch no(iteration no)  21\n",
      "W intercept: [0.16484373 0.12995867 0.1554696  0.12694006 0.12684882 0.13555726\n",
      " 0.06530028], B intercept: 0.0031249800681189973, Train loss: 0.19471, Test loss: 0.18941\n",
      "\n",
      "-- Epoch no(iteration no)  22\n",
      "W intercept: [0.17230311 0.13393682 0.16076786 0.12998089 0.13275946 0.13750136\n",
      " 0.06940406], B intercept: 0.005086389943967113, Train loss: 0.19187, Test loss: 0.18645\n",
      "\n",
      "-- Epoch no(iteration no)  23\n",
      "W intercept: [0.17938659 0.14252573 0.1679546  0.13454781 0.13790432 0.14404487\n",
      " 0.0708162 ], B intercept: 0.0016021626915225973, Train loss: 0.18816, Test loss: 0.18258\n",
      "\n",
      "-- Epoch no(iteration no)  24\n",
      "W intercept: [0.1855917  0.15051467 0.17243285 0.1389915  0.14232968 0.14757346\n",
      " 0.07250272], B intercept: 0.002492667951951524, Train loss: 0.18525, Test loss: 0.17958\n",
      "\n",
      "-- Epoch no(iteration no)  25\n",
      "W intercept: [0.19277342 0.15812741 0.17612745 0.14581844 0.14828831 0.15208833\n",
      " 0.07499445], B intercept: -0.0024933779752815853, Train loss: 0.18198, Test loss: 0.17604\n",
      "\n",
      "-- Epoch no(iteration no)  26\n",
      "W intercept: [0.19942449 0.16514733 0.18086212 0.14876188 0.15425065 0.15714329\n",
      " 0.07543436], B intercept: -0.002263813224904136, Train loss: 0.17913, Test loss: 0.17315\n",
      "\n",
      "-- Epoch no(iteration no)  27\n",
      "W intercept: [0.20463251 0.17290816 0.18670466 0.15386784 0.16060324 0.16254286\n",
      " 0.07860435], B intercept: -0.005063588762830281, Train loss: 0.17599, Test loss: 0.16984\n",
      "\n",
      "-- Epoch no(iteration no)  28\n",
      "W intercept: [0.208602   0.17954992 0.19046515 0.15964556 0.16601074 0.16732972\n",
      " 0.08108548], B intercept: -0.004324365262733859, Train loss: 0.17343, Test loss: 0.16718\n",
      "\n",
      "-- Epoch no(iteration no)  29\n",
      "W intercept: [0.2115689  0.18214627 0.1967038  0.16337285 0.16691361 0.17190263\n",
      " 0.08340562], B intercept: 0.0016993416033917247, Train loss: 0.17164, Test loss: 0.16545\n",
      "\n",
      "-- Epoch no(iteration no)  30\n",
      "W intercept: [0.21687887 0.18460015 0.20106078 0.17014327 0.16977578 0.17815137\n",
      " 0.08498937], B intercept: 0.0007460198948092354, Train loss: 0.16936, Test loss: 0.16306\n",
      "\n",
      "-- Epoch no(iteration no)  31\n",
      "W intercept: [0.22365947 0.18788338 0.20692379 0.17176703 0.17309479 0.18288983\n",
      " 0.08819172], B intercept: -0.0005379687510384495, Train loss: 0.16715, Test loss: 0.16075\n",
      "\n",
      "-- Epoch no(iteration no)  32\n",
      "W intercept: [0.22998873 0.19093064 0.21072232 0.17491037 0.17776818 0.18805991\n",
      " 0.08752236], B intercept: -0.0026588954485837354, Train loss: 0.16511, Test loss: 0.15866\n",
      "\n",
      "-- Epoch no(iteration no)  33\n",
      "W intercept: [0.23523136 0.19424254 0.21640976 0.17989893 0.18129762 0.19095623\n",
      " 0.08941444], B intercept: -0.0005495199273335095, Train loss: 0.16307, Test loss: 0.15658\n",
      "\n",
      "-- Epoch no(iteration no)  34\n",
      "W intercept: [0.24028875 0.19702906 0.2213576  0.18269287 0.18478081 0.1941743\n",
      " 0.09059276], B intercept: 0.000924442147730584, Train loss: 0.16132, Test loss: 0.15482\n",
      "\n",
      "-- Epoch no(iteration no)  35\n",
      "W intercept: [0.24703499 0.19876724 0.22821494 0.18449238 0.18818689 0.19506966\n",
      " 0.091808  ], B intercept: 0.0022843669502088638, Train loss: 0.15959, Test loss: 0.15307\n",
      "\n",
      "-- Epoch no(iteration no)  36\n",
      "W intercept: [0.25200962 0.20253607 0.23228413 0.18796363 0.19307954 0.19714589\n",
      " 0.09593712], B intercept: 0.0010932278487273586, Train loss: 0.15774, Test loss: 0.15108\n",
      "\n",
      "-- Epoch no(iteration no)  37\n",
      "W intercept: [0.2572584  0.20887936 0.23776656 0.19097663 0.19670136 0.20178728\n",
      " 0.09692271], B intercept: -0.000235487084757048, Train loss: 0.15564, Test loss: 0.14891\n",
      "\n",
      "-- Epoch no(iteration no)  38\n",
      "W intercept: [0.26238486 0.21524663 0.24046762 0.19466821 0.20023247 0.20493719\n",
      " 0.09858162], B intercept: -0.0015567001387647018, Train loss: 0.15384, Test loss: 0.14700\n",
      "\n",
      "-- Epoch no(iteration no)  39\n",
      "W intercept: [0.26836608 0.2207976  0.24352436 0.19954489 0.20529947 0.20859456\n",
      " 0.10053004], B intercept: -0.005478764432481552, Train loss: 0.15181, Test loss: 0.14481\n",
      "\n",
      "-- Epoch no(iteration no)  40\n",
      "W intercept: [0.27312699 0.22736762 0.24792235 0.2015903  0.2104155  0.21269542\n",
      " 0.10064735], B intercept: -0.0034703405955983724, Train loss: 0.14995, Test loss: 0.14298\n"
     ]
    },
    {
     "name": "stderr",
     "output_type": "stream",
     "text": [
      "\r",
      " 14%|█▍        | 43/300 [00:00<00:01, 145.14it/s]"
     ]
    },
    {
     "name": "stdout",
     "output_type": "stream",
     "text": [
      "\n",
      "-- Epoch no(iteration no)  41\n",
      "W intercept: [0.27706575 0.23335893 0.25178579 0.20702816 0.21471072 0.2171237\n",
      " 0.10334857], B intercept: -0.006024823624863008, Train loss: 0.14803, Test loss: 0.14092\n",
      "\n",
      "-- Epoch no(iteration no)  42\n",
      "W intercept: [0.2801026  0.23865641 0.25587385 0.2111061  0.2184585  0.22014143\n",
      " 0.10472368], B intercept: -0.004512534796181095, Train loss: 0.14648, Test loss: 0.13934\n",
      "\n",
      "-- Epoch no(iteration no)  43\n",
      "W intercept: [0.28256229 0.23945809 0.26077945 0.21563134 0.21849538 0.22532497\n",
      " 0.10628896], B intercept: 0.001254126094635528, Train loss: 0.14529, Test loss: 0.13822\n",
      "\n",
      "-- Epoch no(iteration no)  44\n",
      "W intercept: [0.28750039 0.24199523 0.26535987 0.21909221 0.22183611 0.22990962\n",
      " 0.10790901], B intercept: -0.00033279064976360123, Train loss: 0.14373, Test loss: 0.13658\n",
      "\n",
      "-- Epoch no(iteration no)  45\n",
      "W intercept: [0.2935589  0.24490219 0.26961049 0.22077905 0.22495521 0.23337816\n",
      " 0.10922398], B intercept: -0.002256393023830692, Train loss: 0.14228, Test loss: 0.13506\n",
      "\n",
      "-- Epoch no(iteration no)  46\n",
      "W intercept: [0.29833137 0.24654489 0.27221468 0.22334066 0.22821951 0.23797055\n",
      " 0.11036339], B intercept: -0.003528375593538035, Train loss: 0.14104, Test loss: 0.13376\n",
      "\n",
      "-- Epoch no(iteration no)  47\n",
      "W intercept: [0.3023197  0.24895226 0.27637282 0.22584825 0.23006773 0.2399701\n",
      " 0.11020245], B intercept: -0.0019016963947480177, Train loss: 0.13996, Test loss: 0.13270\n",
      "\n",
      "-- Epoch no(iteration no)  48\n",
      "W intercept: [0.30676242 0.25091242 0.28132287 0.22906191 0.23414812 0.24239276\n",
      " 0.11189099], B intercept: -0.0003875094685109986, Train loss: 0.13862, Test loss: 0.13134\n",
      "\n",
      "-- Epoch no(iteration no)  49\n",
      "W intercept: [0.31184087 0.25220275 0.28562989 0.22947381 0.23667836 0.24121742\n",
      " 0.11344653], B intercept: 0.001503821261203094, Train loss: 0.13775, Test loss: 0.13046\n",
      "\n",
      "-- Epoch no(iteration no)  50\n",
      "W intercept: [0.31643573 0.25643941 0.29034168 0.23289807 0.24025637 0.24410051\n",
      " 0.1162393 ], B intercept: -0.0011137493111716618, Train loss: 0.13627, Test loss: 0.12886\n"
     ]
    },
    {
     "name": "stderr",
     "output_type": "stream",
     "text": [
      "\r",
      " 20%|██        | 60/300 [00:00<00:01, 153.37it/s]"
     ]
    },
    {
     "name": "stdout",
     "output_type": "stream",
     "text": [
      "\n",
      "-- Epoch no(iteration no)  51\n",
      "W intercept: [0.32115748 0.26147468 0.2943455  0.23552255 0.24269868 0.24728858\n",
      " 0.1172678 ], B intercept: -0.0015552499183877793, Train loss: 0.13493, Test loss: 0.12747\n",
      "\n",
      "-- Epoch no(iteration no)  52\n",
      "W intercept: [0.3252687  0.26687604 0.29646773 0.23844158 0.24594236 0.2492098\n",
      " 0.1181818 ], B intercept: -0.002486409269434918, Train loss: 0.13376, Test loss: 0.12623\n",
      "\n",
      "-- Epoch no(iteration no)  53\n",
      "W intercept: [0.33044872 0.27080358 0.29925771 0.24206893 0.24966787 0.25331224\n",
      " 0.12000184], B intercept: -0.0055951007504606185, Train loss: 0.13239, Test loss: 0.12475\n",
      "\n",
      "-- Epoch no(iteration no)  54\n",
      "W intercept: [0.3341601  0.27663868 0.30240467 0.24394995 0.25426367 0.25672106\n",
      " 0.1204313 ], B intercept: -0.004821091198279163, Train loss: 0.13112, Test loss: 0.12347\n",
      "\n",
      "-- Epoch no(iteration no)  55\n",
      "W intercept: [0.3370906  0.28238458 0.30528642 0.24885545 0.25782321 0.26003315\n",
      " 0.12243175], B intercept: -0.0059418820680141055, Train loss: 0.12983, Test loss: 0.12208\n",
      "\n",
      "-- Epoch no(iteration no)  56\n",
      "W intercept: [0.33963785 0.28552442 0.30833582 0.25168391 0.26109254 0.26423257\n",
      " 0.12288108], B intercept: -0.003542735216496955, Train loss: 0.12881, Test loss: 0.12109\n",
      "\n",
      "-- Epoch no(iteration no)  57\n",
      "W intercept: [0.34212976 0.28598684 0.31410528 0.25608444 0.26073734 0.26723688\n",
      " 0.12497201], B intercept: -0.0004887436638349161, Train loss: 0.12790, Test loss: 0.12018\n",
      "\n",
      "-- Epoch no(iteration no)  58\n",
      "W intercept: [0.34646516 0.28844732 0.31720793 0.25876086 0.26328682 0.2716275\n",
      " 0.12616044], B intercept: -0.0009794596235473741, Train loss: 0.12684, Test loss: 0.11907\n",
      "\n",
      "-- Epoch no(iteration no)  59\n",
      "W intercept: [0.35213149 0.29028113 0.32121722 0.25988253 0.26620272 0.27424541\n",
      " 0.12705335], B intercept: -0.0022805418373043314, Train loss: 0.12581, Test loss: 0.11801\n",
      "\n",
      "-- Epoch no(iteration no)  60\n",
      "W intercept: [0.3550237  0.29192439 0.32318206 0.26216613 0.26880002 0.27743587\n",
      " 0.12771703], B intercept: -0.0029347354760979744, Train loss: 0.12505, Test loss: 0.11722\n",
      "\n",
      "-- Epoch no(iteration no)  61\n",
      "W intercept: [0.35903306 0.29359252 0.32674744 0.26325143 0.27027643 0.27913857\n",
      " 0.12778315], B intercept: -0.0013749735996249886, Train loss: 0.12431, Test loss: 0.11649\n",
      "\n",
      "-- Epoch no(iteration no)  62\n",
      "W intercept: [0.36251409 0.29440768 0.33089474 0.26485442 0.27217751 0.27919651\n",
      " 0.12883417], B intercept: -0.0017633332897633233, Train loss: 0.12364, Test loss: 0.11578\n",
      "\n",
      "-- Epoch no(iteration no)  63\n",
      "W intercept: [0.36704215 0.29596808 0.33497884 0.26645847 0.27579642 0.27950727\n",
      " 0.13102328], B intercept: 0.0010778091165465028, Train loss: 0.12276, Test loss: 0.11490\n",
      "\n",
      "-- Epoch no(iteration no)  64\n",
      "W intercept: [0.37130716 0.30003587 0.33879668 0.2684945  0.27817426 0.28200547\n",
      " 0.13207261], B intercept: -0.0010567707449108876, Train loss: 0.12176, Test loss: 0.11383\n",
      "\n",
      "-- Epoch no(iteration no)  65\n",
      "W intercept: [0.37508036 0.30445476 0.34178767 0.2714092  0.28062219 0.28444907\n",
      " 0.13324527], B intercept: -0.002033463689034548, Train loss: 0.12080, Test loss: 0.11280\n",
      "\n",
      "-- Epoch no(iteration no)  66\n",
      "W intercept: [0.3787873  0.30881798 0.34347046 0.27412264 0.28302919 0.28608318\n",
      " 0.13410149], B intercept: -0.0031549074617727084, Train loss: 0.11998, Test loss: 0.11191\n",
      "\n",
      "-- Epoch no(iteration no)  67\n",
      "W intercept: [0.38283158 0.31225897 0.34648652 0.27701706 0.28621993 0.28948368\n",
      " 0.13547115], B intercept: -0.00533334642772611, Train loss: 0.11900, Test loss: 0.11085\n",
      "\n",
      "-- Epoch no(iteration no)  68\n",
      "W intercept: [0.38567355 0.31720535 0.34905343 0.27876788 0.29018987 0.29246105\n",
      " 0.13592034], B intercept: -0.004625051253986693, Train loss: 0.11810, Test loss: 0.10995\n",
      "\n",
      "-- Epoch no(iteration no)  69\n",
      "W intercept: [0.38798915 0.32232446 0.35113521 0.28253176 0.29326227 0.29475844\n",
      " 0.13741573], B intercept: -0.004784597171840154, Train loss: 0.11723, Test loss: 0.10902\n",
      "\n",
      "-- Epoch no(iteration no)  70\n",
      "W intercept: [0.39043179 0.32366755 0.35445773 0.28535869 0.29527062 0.29782353\n",
      " 0.138962  ], B intercept: -0.0015615202147820557, Train loss: 0.11652, Test loss: 0.10832\n",
      "\n",
      "-- Epoch no(iteration no)  71\n",
      "W intercept: [0.39306703 0.32505057 0.35922898 0.28935032 0.29563528 0.30148843\n",
      " 0.14012279], B intercept: -0.0004766880350647819, Train loss: 0.11573, Test loss: 0.10751\n",
      "\n",
      "-- Epoch no(iteration no)  72\n",
      "W intercept: [0.3969966  0.32680316 0.36184021 0.29145954 0.2979355  0.30540285\n",
      " 0.14123128], B intercept: -0.0005572943621565831, Train loss: 0.11495, Test loss: 0.10671\n",
      "\n",
      "-- Epoch no(iteration no)  73\n",
      "W intercept: [0.40221182 0.32880304 0.36489164 0.29232689 0.3005196  0.30748635\n",
      " 0.14107113], B intercept: -0.0008755379041995824, Train loss: 0.11420, Test loss: 0.10595\n",
      "\n",
      "-- Epoch no(iteration no)  74\n",
      "W intercept: [0.40426288 0.32961266 0.3666616  0.29338033 0.30187037 0.30869101\n",
      " 0.14115352], B intercept: -0.00038718698301430556, Train loss: 0.11383, Test loss: 0.10557\n",
      "\n",
      "-- Epoch no(iteration no) "
     ]
    },
    {
     "name": "stderr",
     "output_type": "stream",
     "text": [
      "\r",
      " 27%|██▋       | 80/300 [00:00<00:01, 167.84it/s]"
     ]
    },
    {
     "name": "stdout",
     "output_type": "stream",
     "text": [
      " 75\n",
      "W intercept: [0.40801466 0.33069461 0.37034306 0.29438706 0.30305081 0.31090939\n",
      " 0.14115777], B intercept: 4.522473156298452e-05, Train loss: 0.11322, Test loss: 0.10497\n",
      "\n",
      "-- Epoch no(iteration no)  76\n",
      "W intercept: [0.41122509 0.33156693 0.37393575 0.29533077 0.30515909 0.31068595\n",
      " 0.14283806], B intercept: -0.0009333339639832961, Train loss: 0.11269, Test loss: 0.10439\n",
      "\n",
      "-- Epoch no(iteration no)  77\n",
      "W intercept: [0.41514107 0.3332043  0.37712759 0.29679852 0.30813638 0.31077363\n",
      " 0.1445967 ], B intercept: 0.0011571438566471736, Train loss: 0.11205, Test loss: 0.10374\n",
      "\n",
      "-- Epoch no(iteration no)  78\n",
      "W intercept: [0.41837213 0.33694744 0.38038642 0.29871402 0.31030312 0.31332619\n",
      " 0.14538715], B intercept: -0.0007926528010245014, Train loss: 0.11131, Test loss: 0.10294\n",
      "\n",
      "-- Epoch no(iteration no)  79\n",
      "W intercept: [0.42147806 0.34002154 0.38266831 0.30001879 0.31272884 0.31469904\n",
      " 0.14590172], B intercept: 0.0003424007824980664, Train loss: 0.11071, Test loss: 0.10234\n",
      "\n",
      "-- Epoch no(iteration no)  80\n",
      "W intercept: [0.42495674 0.34422577 0.38440069 0.30375782 0.31440011 0.31687095\n",
      " 0.14736065], B intercept: -0.0027660225404369933, Train loss: 0.10999, Test loss: 0.10150\n",
      "\n",
      "-- Epoch no(iteration no)  81\n",
      "W intercept: [0.42848129 0.34814565 0.38694986 0.30467403 0.31751885 0.31964199\n",
      " 0.14752498], B intercept: -0.002447073414050868, Train loss: 0.10929, Test loss: 0.10079\n",
      "\n",
      "-- Epoch no(iteration no)  82\n",
      "W intercept: [0.43098971 0.35181228 0.38942045 0.307335   0.32064381 0.3222288\n",
      " 0.14903119], B intercept: -0.003968376769519466, Train loss: 0.10859, Test loss: 0.10002\n",
      "\n",
      "-- Epoch no(iteration no)  83\n",
      "W intercept: [0.43270098 0.35575114 0.39129979 0.31049411 0.32349341 0.32476181\n",
      " 0.15009341], B intercept: -0.0031798823543843766, Train loss: 0.10795, Test loss: 0.09936\n",
      "\n",
      "-- Epoch no(iteration no)  84\n",
      "W intercept: [0.43482658 0.35672262 0.39508594 0.31329037 0.3236867  0.32744772\n",
      " 0.15178476], B intercept: 0.001416170833405719, Train loss: 0.10741, Test loss: 0.09885\n",
      "\n",
      "-- Epoch no(iteration no)  85\n",
      "W intercept: [0.43705776 0.35784057 0.39805744 0.31701455 0.32487048 0.33055238\n",
      " 0.1518918 ], B intercept: 0.0020080852336531894, Train loss: 0.10685, Test loss: 0.09828\n",
      "\n",
      "-- Epoch no(iteration no)  86\n",
      "W intercept: [0.44166892 0.3593219  0.40118756 0.31732948 0.32659059 0.33295605\n",
      " 0.1538717 ], B intercept: 0.0010952097354245815, Train loss: 0.10625, Test loss: 0.09762\n",
      "\n",
      "-- Epoch no(iteration no)  87\n",
      "W intercept: [0.44485529 0.36026415 0.40264316 0.31795371 0.32870466 0.33535197\n",
      " 0.15271322], B intercept: -0.00014486808606343582, Train loss: 0.10584, Test loss: 0.09721\n",
      "\n",
      "-- Epoch no(iteration no)  88\n",
      "W intercept: [0.44748755 0.36153781 0.40487289 0.32005831 0.33053708 0.33662976\n",
      " 0.15342889], B intercept: 0.0005394889301774046, Train loss: 0.10538, Test loss: 0.09674\n",
      "\n",
      "-- Epoch no(iteration no)  89\n",
      "W intercept: [0.45037275 0.36266476 0.40791328 0.32077988 0.33134029 0.33798546\n",
      " 0.15309883], B intercept: 0.0012708178415636177, Train loss: 0.10497, Test loss: 0.09633\n",
      "\n",
      "-- Epoch no(iteration no) "
     ]
    },
    {
     "name": "stderr",
     "output_type": "stream",
     "text": [
      "\r",
      " 35%|███▍      | 104/300 [00:00<00:01, 190.86it/s]"
     ]
    },
    {
     "name": "stdout",
     "output_type": "stream",
     "text": [
      " 90\n",
      "W intercept: [0.45451938 0.36321473 0.41236862 0.32127156 0.33293001 0.33719788\n",
      " 0.15349126], B intercept: 0.0020286210486060233, Train loss: 0.10450, Test loss: 0.09586\n",
      "\n",
      "-- Epoch no(iteration no)  91\n",
      "W intercept: [0.4571335  0.36510368 0.41444596 0.32273319 0.33583327 0.33771859\n",
      " 0.15599989], B intercept: 0.0018030402522240968, Train loss: 0.10403, Test loss: 0.09533\n",
      "\n",
      "-- Epoch no(iteration no)  92\n",
      "W intercept: [0.45989492 0.36778171 0.41774757 0.32393078 0.3371541  0.33962174\n",
      " 0.15673097], B intercept: 0.0011374794041793326, Train loss: 0.10351, Test loss: 0.09478\n",
      "\n",
      "-- Epoch no(iteration no)  93\n",
      "W intercept: [0.46252982 0.37126411 0.41891305 0.32575749 0.33856238 0.34101838\n",
      " 0.15737662], B intercept: 0.0005929152320811754, Train loss: 0.10306, Test loss: 0.09428\n",
      "\n",
      "-- Epoch no(iteration no)  94\n",
      "W intercept: [0.46608408 0.37443138 0.42068525 0.32829315 0.34146058 0.34331369\n",
      " 0.15864745], B intercept: -0.002119180424536053, Train loss: 0.10246, Test loss: 0.09360\n",
      "\n",
      "-- Epoch no(iteration no)  95\n",
      "W intercept: [0.46884617 0.3781754  0.42301745 0.329188   0.34400691 0.34551278\n",
      " 0.15859517], B intercept: -0.0008147916352676233, Train loss: 0.10192, Test loss: 0.09308\n",
      "\n",
      "-- Epoch no(iteration no)  96\n",
      "W intercept: [0.4707673  0.38181339 0.42489672 0.33240533 0.3467107  0.34810362\n",
      " 0.16000714], B intercept: -0.0018041705596673605, Train loss: 0.10136, Test loss: 0.09245\n",
      "\n",
      "-- Epoch no(iteration no)  97\n",
      "W intercept: [0.47249869 0.3851522  0.42731517 0.33482363 0.34865059 0.34947415\n",
      " 0.16038166], B intercept: -0.00036973061150228796, Train loss: 0.10090, Test loss: 0.09198\n",
      "\n",
      "-- Epoch no(iteration no)  98\n",
      "W intercept: [0.47342471 0.38536502 0.43124897 0.33797994 0.34852956 0.35251657\n",
      " 0.16163005], B intercept: 0.004583408654788689, Train loss: 0.10048, Test loss: 0.09161\n",
      "\n",
      "-- Epoch no(iteration no)  99\n",
      "W intercept: [0.47669738 0.38641644 0.43365492 0.34021161 0.35023209 0.3553923\n",
      " 0.1622173 ], B intercept: 0.004234907493743823, Train loss: 0.10000, Test loss: 0.09110\n",
      "\n",
      "-- Epoch no(iteration no)  100\n",
      "W intercept: [0.48090217 0.38805839 0.43629935 0.34064398 0.35217793 0.35723344\n",
      " 0.16285085], B intercept: 0.0030583418275131283, Train loss: 0.09952, Test loss: 0.09058\n",
      "\n",
      "-- Epoch no(iteration no)  101\n",
      "W intercept: [0.48351236 0.38834155 0.43720088 0.34126167 0.35370524 0.35988208\n",
      " 0.16302429], B intercept: 0.0016661090738179097, Train loss: 0.09922, Test loss: 0.09026\n",
      "\n",
      "-- Epoch no(iteration no)  102\n",
      "W intercept: [0.48530723 0.38949688 0.43921688 0.34183639 0.35440463 0.36059115\n",
      " 0.16238157], B intercept: 0.002233879981515947, Train loss: 0.09897, Test loss: 0.09002\n",
      "\n",
      "-- Epoch no(iteration no)  103\n",
      "W intercept: [0.48847286 0.39047025 0.44213164 0.34364218 0.35607069 0.36143805\n",
      " 0.1630363 ], B intercept: 0.0033444432756594106, Train loss: 0.09855, Test loss: 0.08959\n",
      "\n",
      "-- Epoch no(iteration no)  104\n",
      "W intercept: [0.49185931 0.39084785 0.44535397 0.34314953 0.35827834 0.35991254\n",
      " 0.16337678], B intercept: 0.004081300804028113, Train loss: 0.09825, Test loss: 0.08929\n",
      "\n",
      "-- Epoch no(iteration no)  105\n",
      "W intercept: [0.49446314 0.39298948 0.44792402 0.34497231 0.3598522  0.36108441\n",
      " 0.16584116], B intercept: 0.0030468065992570047, Train loss: 0.09781, Test loss: 0.08879\n",
      "\n",
      "-- Epoch no(iteration no)  106\n",
      "W intercept: [0.49706557 0.39528749 0.45071065 0.3460506  0.36087162 0.36256825\n",
      " 0.16649037], B intercept: 0.003063072375411439, Train loss: 0.09741, Test loss: 0.08837\n",
      "\n",
      "-- Epoch no(iteration no)  107\n",
      "W intercept: [0.49949943 0.39853751 0.45137929 0.34780699 0.36229806 0.36366374\n",
      " 0.16700531], B intercept: 0.002300876688587326, Train loss: 0.09706, Test loss: 0.08797\n",
      "\n",
      "-- Epoch no(iteration no)  108\n",
      "W intercept: [0.50272934 0.40092072 0.45339285 0.34973915 0.36458947 0.36623004\n",
      " 0.16811356], B intercept: 0.0003026461801980878, Train loss: 0.09659, Test loss: 0.08743\n",
      "\n",
      "-- Epoch no(iteration no)  109\n",
      "W intercept: [0.50488241 0.40487607 0.45510197 0.35072405 0.36745578 0.36821668\n",
      " 0.16817012], B intercept: 0.0012882355621345466, Train loss: 0.09615, Test loss: 0.08700\n",
      "\n",
      "-- Epoch no(iteration no)  110\n",
      "W intercept: [0.50666663 0.4080154  0.45691548 0.35373121 0.36953255 0.37038926\n",
      " 0.16950767], B intercept: 0.00043138868491400637, Train loss: 0.09571, Test loss: 0.08650\n",
      "\n",
      "-- Epoch no(iteration no)  111\n",
      "W intercept: [0.50819083 0.41056133 0.45857085 0.3556115  0.37169985 0.37297514\n",
      " 0.16926419], B intercept: 0.0028429893693504567, Train loss: 0.09534, Test loss: 0.08615\n",
      "\n",
      "-- Epoch no(iteration no)  112\n",
      "W intercept: [0.50935839 0.41056612 0.46325905 0.35900234 0.37092228 0.37468443\n",
      " 0.17087269], B intercept: 0.006275385597782599, Train loss: 0.09498, Test loss: 0.08580\n",
      "\n",
      "-- Epoch no(iteration no)  113\n",
      "W intercept: [0.51204827 0.41199001 0.46499944 0.36088224 0.37277872 0.37712232\n",
      " 0.17154179], B intercept: 0.0058125873984795195, Train loss: 0.09460, Test loss: 0.08539\n",
      "\n",
      "-- Epoch no(iteration no)  114\n",
      "W intercept: [0.51613258 0.41313595 0.46761707 0.36111586 0.37450012 0.37864147\n",
      " 0.17199774], B intercept: 0.004967157878492044, Train loss: 0.09421, Test loss: 0.08497\n",
      "\n",
      "-- Epoch no(iteration no)  115\n",
      "W intercept: [0.51799757 0.41329035 0.46816515 0.36146044 0.37563543 0.38069449\n",
      " 0.17191925], B intercept: 0.004378456198249173, Train loss: 0.09403, Test loss: 0.08478\n",
      "\n",
      "-- Epoch no(iteration no)  116\n",
      "W intercept: [0.52036382 0.41403686 0.47016323 0.36159645 0.37599739 0.38134719\n",
      " 0.17118581], B intercept: 0.0055100642645459835, Train loss: 0.09381, Test loss: 0.08459\n",
      "\n",
      "-- Epoch no(iteration no)  117\n",
      "W intercept: [0.52280318 0.4150072  0.47284352 0.36182261 0.37685943 0.38133564\n",
      " 0.17171484], B intercept: 0.005326036098220174, Train loss: 0.09355, Test loss: 0.08431\n",
      "\n",
      "-- Epoch no(iteration no)  118\n",
      "W intercept: [0.52566587 0.41499324 0.47589501 0.3626587  0.37931219 0.38026255\n",
      " 0.17346349], B intercept: 0.007102003812887828, Train loss: 0.09325, Test loss: 0.08400\n",
      "\n",
      "-- Epoch no(iteration no)  119\n",
      "W intercept: [0.52844394 0.41746377 0.47826183 0.36381435 0.38069879 0.38154678\n",
      " 0.17407403], B intercept: 0.005731152589472212, Train loss: 0.09289, Test loss: 0.08359\n",
      "\n",
      "-- Epoch no(iteration no)  120\n",
      "W intercept: [0.53084682 0.41979351 0.48020512 0.36536104 0.38199708 0.38283277\n",
      " 0.17495151], B intercept: 0.005125828413864565, Train loss: 0.09255, Test loss: 0.08322\n",
      "\n",
      "-- Epoch no(iteration no)  121\n",
      "W intercept: [0.5330498  0.42273864 0.48129915 0.36699951 0.38307084 0.38372882\n",
      " 0.17532525], B intercept: 0.00462971717543237, Train loss: 0.09226, Test loss: 0.08289\n",
      "\n",
      "-- Epoch no(iteration no)  122\n",
      "W intercept: [0.53566845 0.42480488 0.48328183 0.36881875 0.38511102 0.38601349\n",
      " 0.17638511], B intercept: 0.00281041056421345, Train loss: 0.09188, Test loss: 0.08245\n",
      "\n",
      "-- Epoch no(iteration no)  123\n",
      "W intercept: [0.53752661 0.42833253 0.48468104 0.36974287 0.38779955 0.38794242\n",
      " 0.17640453], B intercept: 0.003772479924554431, Train loss: 0.09153, Test loss: 0.08211\n",
      "\n",
      "-- Epoch no(iteration no)  124\n",
      "W intercept: [0.53886231 0.432023   0.48597805 0.37240656 0.38969047 0.389297\n",
      " 0.17719779], B intercept: 0.003949006097093358, Train loss: 0.09119, Test loss: 0.08173\n",
      "\n",
      "-- Epoch no(iteration no)  125\n",
      "W intercept: [0.54047729 0.43266603 0.48816382 0.37397207 0.39119352 0.39151209\n",
      " 0.17844401], B intercept: 0.006800608853654437, Train loss: 0.09089, Test loss: 0.08145\n"
     ]
    },
    {
     "name": "stderr",
     "output_type": "stream",
     "text": [
      "\r",
      " 43%|████▎     | 130/300 [00:00<00:00, 212.48it/s]"
     ]
    },
    {
     "name": "stdout",
     "output_type": "stream",
     "text": [
      "\n",
      "-- Epoch no(iteration no)  126\n",
      "W intercept: [0.54191005 0.43347708 0.4922313  0.37731379 0.3908674  0.39381711\n",
      " 0.17911564], B intercept: 0.00854912107446331, Train loss: 0.09055, Test loss: 0.08110\n",
      "\n",
      "-- Epoch no(iteration no)  127\n",
      "W intercept: [0.54474384 0.43443272 0.4936854  0.3788356  0.39249292 0.39650017\n",
      " 0.179664  ], B intercept: 0.00859999980474631, Train loss: 0.09023, Test loss: 0.08076\n",
      "\n",
      "-- Epoch no(iteration no)  128\n",
      "W intercept: [0.54889797 0.4356622  0.49576848 0.37877306 0.3942348  0.39770704\n",
      " 0.17951021], B intercept: 0.008378443259275196, Train loss: 0.08991, Test loss: 0.08043\n",
      "\n",
      "-- Epoch no(iteration no)  129\n",
      "W intercept: [0.54987052 0.43531886 0.49633325 0.37850503 0.39472412 0.397898\n",
      " 0.17908648], B intercept: 0.008544366257287965, Train loss: 0.08986, Test loss: 0.08039\n",
      "\n",
      "-- Epoch no(iteration no)  130\n",
      "W intercept: [0.5520546  0.43597152 0.49839565 0.37916294 0.39525028 0.39957643\n",
      " 0.17863148], B intercept: 0.008577306461276767, Train loss: 0.08963, Test loss: 0.08016\n",
      "\n",
      "-- Epoch no(iteration no)  131\n",
      "W intercept: [0.55448255 0.43627823 0.50124322 0.37895872 0.39609438 0.3984171\n",
      " 0.17975491], B intercept: 0.007583869010177293, Train loss: 0.08944, Test loss: 0.07994\n",
      "\n",
      "-- Epoch no(iteration no)  132\n",
      "W intercept: [0.55712085 0.43728999 0.50371806 0.3796577  0.39830164 0.39805748\n",
      " 0.18103607], B intercept: 0.009536765946941736, Train loss: 0.08916, Test loss: 0.07966\n",
      "\n",
      "-- Epoch no(iteration no)  133\n",
      "W intercept: [0.55935083 0.4396682  0.50575151 0.38092779 0.39964459 0.39960392\n",
      " 0.18168479], B intercept: 0.007936475617861639, Train loss: 0.08886, Test loss: 0.07931\n",
      "\n",
      "-- Epoch no(iteration no)  134\n",
      "W intercept: [0.56133977 0.44133863 0.50741603 0.38140443 0.40108877 0.40017345\n",
      " 0.18185637], B intercept: 0.00918437154454169, Train loss: 0.08863, Test loss: 0.07909\n",
      "\n",
      "-- Epoch no(iteration no)  135\n",
      "W intercept: [0.56374235 0.44425454 0.5084812  0.3839397  0.40177361 0.40167562\n",
      " 0.18291562], B intercept: 0.006774153655829104, Train loss: 0.08834, Test loss: 0.07872\n",
      "\n",
      "-- Epoch no(iteration no)  136\n",
      "W intercept: [0.5657698  0.44696264 0.51036712 0.38466078 0.40415696 0.40363058\n",
      " 0.18314807], B intercept: 0.006934046029080583, Train loss: 0.08803, Test loss: 0.07839\n",
      "\n",
      "-- Epoch no(iteration no)  137\n",
      "W intercept: [0.56773988 0.44962329 0.51172728 0.38620634 0.40614137 0.40533274\n",
      " 0.18396082], B intercept: 0.006266296904970205, Train loss: 0.08773, Test loss: 0.07806\n",
      "\n",
      "-- Epoch no(iteration no)  138\n",
      "W intercept: [0.56863285 0.45261925 0.51305136 0.3885589  0.40798516 0.40710392\n",
      " 0.18442859], B intercept: 0.0071330055234303524, Train loss: 0.08746, Test loss: 0.07777\n",
      "\n",
      "-- Epoch no(iteration no)  139\n",
      "W intercept: [0.56982795 0.45293455 0.51609268 0.39088746 0.40825555 0.40865201\n",
      " 0.18617582], B intercept: 0.011001371264953621, Train loss: 0.08720, Test loss: 0.07753\n",
      "\n",
      "-- Epoch no(iteration no)  140\n",
      "W intercept: [0.57153022 0.45365026 0.51816919 0.39353139 0.40864121 0.41093161\n",
      " 0.18579761], B intercept: 0.012486721280016768, Train loss: 0.08695, Test loss: 0.07729\n"
     ]
    },
    {
     "name": "stderr",
     "output_type": "stream",
     "text": [
      "\r",
      " 51%|█████     | 153/300 [00:00<00:00, 216.24it/s]"
     ]
    },
    {
     "name": "stdout",
     "output_type": "stream",
     "text": [
      "\n",
      "-- Epoch no(iteration no)  141\n",
      "W intercept: [0.57507218 0.45455348 0.52042707 0.39336281 0.41002164 0.41239484\n",
      " 0.18705082], B intercept: 0.011467037438098317, Train loss: 0.08667, Test loss: 0.07697\n",
      "\n",
      "-- Epoch no(iteration no)  142\n",
      "W intercept: [0.57740013 0.45472226 0.52102585 0.39319755 0.41120156 0.41402189\n",
      " 0.18611452], B intercept: 0.010494438897575228, Train loss: 0.08653, Test loss: 0.07683\n",
      "\n",
      "-- Epoch no(iteration no)  143\n",
      "W intercept: [0.57927947 0.4553286  0.52222531 0.39425724 0.4123054  0.41463052\n",
      " 0.18640873], B intercept: 0.01117988770151683, Train loss: 0.08635, Test loss: 0.07664\n",
      "\n",
      "-- Epoch no(iteration no)  144\n",
      "W intercept: [0.58107876 0.4560843  0.52450334 0.39446971 0.41241537 0.41555789\n",
      " 0.18566897], B intercept: 0.011387627602983265, Train loss: 0.08618, Test loss: 0.07648\n",
      "\n",
      "-- Epoch no(iteration no)  145\n",
      "W intercept: [0.58407101 0.45606065 0.52773917 0.39425864 0.41342557 0.41438289\n",
      " 0.18603839], B intercept: 0.011601591097484442, Train loss: 0.08598, Test loss: 0.07627\n",
      "\n",
      "-- Epoch no(iteration no)  146\n",
      "W intercept: [0.58591515 0.45735629 0.52932542 0.39509395 0.41547418 0.41422601\n",
      " 0.18793574], B intercept: 0.011854586449358797, Train loss: 0.08577, Test loss: 0.07603\n",
      "\n",
      "-- Epoch no(iteration no)  147\n",
      "W intercept: [0.58783215 0.45880836 0.53188846 0.39570413 0.41610562 0.41527802\n",
      " 0.1885312 ], B intercept: 0.01152301660308138, Train loss: 0.08554, Test loss: 0.07578\n",
      "\n",
      "-- Epoch no(iteration no)  148\n",
      "W intercept: [0.58961025 0.46134539 0.5324611  0.39693674 0.41680186 0.41610692\n",
      " 0.18888365], B intercept: 0.011235631725705571, Train loss: 0.08535, Test loss: 0.07556\n",
      "\n",
      "-- Epoch no(iteration no)  149\n",
      "W intercept: [0.59209969 0.46359312 0.53380817 0.3985439  0.41882322 0.41773621\n",
      " 0.18977917], B intercept: 0.009295496434396536, Train loss: 0.08508, Test loss: 0.07523\n",
      "\n",
      "-- Epoch no(iteration no)  150\n",
      "W intercept: [0.59403751 0.46642754 0.53527932 0.39917736 0.42062379 0.41941502\n",
      " 0.18969363], B intercept: 0.010175224950561524, Train loss: 0.08482, Test loss: 0.07498\n",
      "\n",
      "-- Epoch no(iteration no)  151\n",
      "W intercept: [0.59530925 0.46905761 0.53653011 0.40142282 0.42255151 0.42119837\n",
      " 0.19068276], B intercept: 0.009714405793513852, Train loss: 0.08457, Test loss: 0.07469\n",
      "\n",
      "-- Epoch no(iteration no)  152\n",
      "W intercept: [0.59639519 0.47159813 0.53836233 0.40325558 0.42386317 0.42197324\n",
      " 0.19065254], B intercept: 0.01127281338346193, Train loss: 0.08435, Test loss: 0.07446\n",
      "\n",
      "-- Epoch no(iteration no)  153\n",
      "W intercept: [0.59683902 0.47151879 0.54177056 0.40581323 0.42350059 0.42425385\n",
      " 0.19180017], B intercept: 0.01589958778298722, Train loss: 0.08413, Test loss: 0.07428\n",
      "\n",
      "-- Epoch no(iteration no)  154\n",
      "W intercept: [0.59931174 0.47209297 0.54333888 0.40743349 0.42470274 0.42625598\n",
      " 0.19205981], B intercept: 0.01589295269964649, Train loss: 0.08390, Test loss: 0.07403\n",
      "\n",
      "-- Epoch no(iteration no)  155\n",
      "W intercept: [0.60279571 0.47302589 0.54509713 0.40732567 0.42622093 0.42732072\n",
      " 0.19336012], B intercept: 0.015008653398037013, Train loss: 0.08366, Test loss: 0.07376\n",
      "\n",
      "-- Epoch no(iteration no)  156\n",
      "W intercept: [0.60448354 0.47297142 0.54559515 0.40729745 0.4270754  0.42923573\n",
      " 0.1924029 ], B intercept: 0.013704936910132247, Train loss: 0.08356, Test loss: 0.07365\n",
      "\n",
      "-- Epoch no(iteration no)  157\n",
      "W intercept: [0.60560448 0.47371675 0.54658501 0.40739574 0.42747231 0.42925835\n",
      " 0.19156537], B intercept: 0.013741750510754129, Train loss: 0.08347, Test loss: 0.07357\n",
      "\n",
      "-- Epoch no(iteration no)  158\n",
      "W intercept: [0.6079634  0.47422778 0.54885318 0.40848484 0.42832306 0.43009252\n",
      " 0.19183968], B intercept: 0.014772171585591546, Train loss: 0.08327, Test loss: 0.07336\n",
      "\n",
      "-- Epoch no(iteration no)  159\n",
      "W intercept: [0.61052482 0.47424492 0.55158276 0.40752262 0.42995451 0.42811942\n",
      " 0.19204888], B intercept: 0.014945624742572432, Train loss: 0.08312, Test loss: 0.07322\n",
      "\n",
      "-- Epoch no(iteration no)  160\n",
      "W intercept: [0.61238418 0.47567706 0.55326028 0.40881184 0.43100185 0.42885225\n",
      " 0.19414925], B intercept: 0.014501926545404139, Train loss: 0.08292, Test loss: 0.07297\n",
      "\n",
      "-- Epoch no(iteration no)  161\n",
      "W intercept: [0.61427344 0.47701048 0.55544419 0.40938638 0.43150381 0.42969971\n",
      " 0.19469731], B intercept: 0.014585505834196275, Train loss: 0.08273, Test loss: 0.07276\n",
      "\n",
      "-- Epoch no(iteration no)  162\n",
      "W intercept: [0.61590173 0.47934456 0.55588305 0.41056387 0.43219341 0.43037237\n",
      " 0.19496086], B intercept: 0.014209734211296728, Train loss: 0.08257, Test loss: 0.07258\n",
      "\n",
      "-- Epoch no(iteration no)  163\n",
      "W intercept: [0.61836597 0.48110523 0.55734343 0.41201962 0.43396677 0.43222158\n",
      " 0.1958909 ], B intercept: 0.012476879537180094, Train loss: 0.08233, Test loss: 0.07229\n",
      "\n",
      "-- Epoch no(iteration no)  164\n",
      "W intercept: [0.61986501 0.48424947 0.55849796 0.41252973 0.43608952 0.43374427\n",
      " 0.19577592], B intercept: 0.013502383603461836, Train loss: 0.08211, Test loss: 0.07207\n",
      "\n",
      "-- Epoch no(iteration no)  165\n",
      "W intercept: [0.6211882  0.48644931 0.55981408 0.41461306 0.43759261 0.43522729\n",
      " 0.19673208], B intercept: 0.012775078959120724, Train loss: 0.08190, Test loss: 0.07182\n",
      "\n",
      "-- Epoch no(iteration no)  166\n",
      "W intercept: [0.62249853 0.48877806 0.56104233 0.41659675 0.43892535 0.43640044\n",
      " 0.19646249], B intercept: 0.014837155153409123, Train loss: 0.08170, Test loss: 0.07163\n",
      "\n",
      "-- Epoch no(iteration no)  167\n",
      "W intercept: [0.62281138 0.48838862 0.56503464 0.41903503 0.43825699 0.43843076\n",
      " 0.19774415], B intercept: 0.018732712303909004, Train loss: 0.08150, Test loss: 0.07145\n",
      "\n",
      "-- Epoch no(iteration no)  168\n",
      "W intercept: [0.62487041 0.48936602 0.56616629 0.42058716 0.43979332 0.44018865\n",
      " 0.19811859], B intercept: 0.01837282091204795, Train loss: 0.08131, Test loss: 0.07124\n",
      "\n",
      "-- Epoch no(iteration no)  169\n",
      "W intercept: [0.6282149  0.49006903 0.56817668 0.42024469 0.4409701  0.44113245\n",
      " 0.19839655], B intercept: 0.017910696416610587, Train loss: 0.08111, Test loss: 0.07102\n",
      "\n",
      "-- Epoch no(iteration no)  170\n",
      "W intercept: [0.62957556 0.48973189 0.56822634 0.41999946 0.44160369 0.44264233\n",
      " 0.19816453], B intercept: 0.017047074623032496, Train loss: 0.08105, Test loss: 0.07095\n",
      "\n",
      "-- Epoch no(iteration no)  171\n",
      "W intercept: [0.63102857 0.49020271 0.56924089 0.41992008 0.44167493 0.44297191\n",
      " 0.19712267], B intercept: 0.01774227404947917, Train loss: 0.08096, Test loss: 0.07089\n",
      "\n",
      "-- Epoch no(iteration no)  172\n",
      "W intercept: [0.63301399 0.49082474 0.57159922 0.41941139 0.44187134 0.44248146\n",
      " 0.19761317], B intercept: 0.017540305889626306, Train loss: 0.08084, Test loss: 0.07075\n"
     ]
    },
    {
     "name": "stderr",
     "output_type": "stream",
     "text": [
      "\r",
      " 59%|█████▉    | 177/300 [00:00<00:00, 222.66it/s]"
     ]
    },
    {
     "name": "stdout",
     "output_type": "stream",
     "text": [
      "\n",
      "-- Epoch no(iteration no)  173\n",
      "W intercept: [0.63509129 0.49049637 0.57401141 0.41991233 0.44388604 0.44117443\n",
      " 0.19908792], B intercept: 0.019082056631489114, Train loss: 0.08068, Test loss: 0.07059\n",
      "\n",
      "-- Epoch no(iteration no)  174\n",
      "W intercept: [0.63697146 0.49226816 0.57542021 0.42095229 0.44511158 0.44212421\n",
      " 0.19965596], B intercept: 0.017742854674417458, Train loss: 0.08050, Test loss: 0.07037\n",
      "\n",
      "-- Epoch no(iteration no)  175\n",
      "W intercept: [0.6390273  0.49377047 0.5773601  0.42172371 0.44571737 0.44288101\n",
      " 0.20030415], B intercept: 0.017549339924333513, Train loss: 0.08032, Test loss: 0.07017\n",
      "\n",
      "-- Epoch no(iteration no)  176\n",
      "W intercept: [0.64051365 0.49603774 0.57808832 0.42281115 0.44628262 0.44342591\n",
      " 0.20052049], B intercept: 0.01725798162702062, Train loss: 0.08018, Test loss: 0.07000\n",
      "\n",
      "-- Epoch no(iteration no)  177\n",
      "W intercept: [0.64252764 0.49750801 0.57962951 0.42416543 0.44772344 0.44511102\n",
      " 0.20126716], B intercept: 0.01601543316949323, Train loss: 0.07998, Test loss: 0.06977\n",
      "\n",
      "-- Epoch no(iteration no)  178\n",
      "W intercept: [0.64388833 0.50039895 0.58053367 0.42477337 0.44982522 0.44659159\n",
      " 0.20119649], B intercept: 0.01687363004639191, Train loss: 0.07980, Test loss: 0.06958\n",
      "\n",
      "-- Epoch no(iteration no)  179\n",
      "W intercept: [0.64480486 0.50335987 0.58137183 0.42687849 0.45119222 0.44750809\n",
      " 0.20171571], B intercept: 0.017291180113010538, Train loss: 0.07962, Test loss: 0.06938\n",
      "\n",
      "-- Epoch no(iteration no)  180\n",
      "W intercept: [0.64608588 0.5039397  0.58332049 0.42803808 0.45226956 0.44973973\n",
      " 0.20310022], B intercept: 0.019332061282761173, Train loss: 0.07944, Test loss: 0.06920\n",
      "\n",
      "-- Epoch no(iteration no)  181\n",
      "W intercept: [0.64688459 0.504228   0.58674604 0.43092252 0.45189708 0.4510297\n",
      " 0.20328165], B intercept: 0.021802188026307418, Train loss: 0.07925, Test loss: 0.06902\n",
      "\n",
      "-- Epoch no(iteration no)  182\n",
      "W intercept: [0.64911171 0.50485411 0.58771798 0.43211706 0.45313668 0.45305226\n",
      " 0.20355788], B intercept: 0.022005328403717016, Train loss: 0.07908, Test loss: 0.06884\n",
      "\n",
      "-- Epoch no(iteration no)  183\n",
      "W intercept: [0.65264646 0.50559869 0.58954159 0.43147005 0.45443154 0.45379298\n",
      " 0.20348527], B intercept: 0.021665956483568245, Train loss: 0.07890, Test loss: 0.06865\n",
      "\n",
      "-- Epoch no(iteration no)  184\n",
      "W intercept: [0.65320863 0.50478864 0.58927961 0.43082109 0.45464708 0.45370564\n",
      " 0.20292101], B intercept: 0.021713533356178892, Train loss: 0.07892, Test loss: 0.06868\n",
      "\n",
      "-- Epoch no(iteration no)  185\n",
      "W intercept: [0.65463562 0.50536325 0.59109335 0.43120921 0.45443696 0.45491044\n",
      " 0.20218366], B intercept: 0.021623241098590623, Train loss: 0.07881, Test loss: 0.06857\n",
      "\n",
      "-- Epoch no(iteration no)  186\n",
      "W intercept: [0.65645534 0.50537891 0.59288152 0.43062087 0.45530554 0.45361474\n",
      " 0.20318911], B intercept: 0.02032425127071435, Train loss: 0.07872, Test loss: 0.06846\n",
      "\n",
      "-- Epoch no(iteration no)  187\n",
      "W intercept: [0.65839978 0.50587926 0.59501294 0.43120973 0.4570431  0.45311628\n",
      " 0.2043373 ], B intercept: 0.022036632186503476, Train loss: 0.07856, Test loss: 0.06830\n",
      "\n",
      "-- Epoch no(iteration no)  188\n",
      "W intercept: [0.66033237 0.50779237 0.59665156 0.4319169  0.45793103 0.45400391\n",
      " 0.20471154], B intercept: 0.021113171087929844, Train loss: 0.07840, Test loss: 0.06810\n",
      "\n",
      "-- Epoch no(iteration no)  189\n",
      "W intercept: [0.66156597 0.5086572  0.59803907 0.43224328 0.45902    0.45436262\n",
      " 0.20490092], B intercept: 0.022110600522889302, Train loss: 0.07828, Test loss: 0.06799\n",
      "\n",
      "-- Epoch no(iteration no)  190\n",
      "W intercept: [0.66367145 0.51121161 0.59879976 0.43406911 0.45921293 0.45537156\n",
      " 0.20566223], B intercept: 0.02036291855766495, Train loss: 0.07812, Test loss: 0.06777\n",
      "\n",
      "-- Epoch no(iteration no)  191\n",
      "W intercept: [0.66502216 0.51351637 0.60001622 0.43463785 0.46108554 0.45703455\n",
      " 0.20590757], B intercept: 0.02032188701719762, Train loss: 0.07795, Test loss: 0.06759\n",
      "\n",
      "-- Epoch no(iteration no)  192\n",
      "W intercept: [0.66664301 0.51547528 0.60118998 0.43573203 0.46257522 0.45830709\n",
      " 0.20632905], B intercept: 0.01991487822398884, Train loss: 0.07778, Test loss: 0.06740\n"
     ]
    },
    {
     "name": "stderr",
     "output_type": "stream",
     "text": [
      "\r",
      " 67%|██████▋   | 200/300 [00:01<00:00, 223.88it/s]"
     ]
    },
    {
     "name": "stdout",
     "output_type": "stream",
     "text": [
      "\n",
      "-- Epoch no(iteration no)  193\n",
      "W intercept: [0.66710964 0.51795085 0.60232054 0.4374882  0.46394473 0.45955165\n",
      " 0.20661472], B intercept: 0.02114214569577956, Train loss: 0.07763, Test loss: 0.06724\n",
      "\n",
      "-- Epoch no(iteration no)  194\n",
      "W intercept: [0.66845765 0.51794183 0.60454404 0.43947438 0.46441656 0.46062527\n",
      " 0.20760393], B intercept: 0.024251542537096108, Train loss: 0.07748, Test loss: 0.06710\n",
      "\n",
      "-- Epoch no(iteration no)  195\n",
      "W intercept: [0.66929871 0.51853312 0.60666486 0.44170809 0.46422001 0.46239978\n",
      " 0.20781629], B intercept: 0.02618659314266378, Train loss: 0.07733, Test loss: 0.06696\n",
      "\n",
      "-- Epoch no(iteration no)  196\n",
      "W intercept: [0.67186268 0.51942411 0.60793452 0.44226507 0.46538092 0.46481134\n",
      " 0.20852073], B intercept: 0.02599168431511934, Train loss: 0.07716, Test loss: 0.06676\n",
      "\n",
      "-- Epoch no(iteration no)  197\n",
      "W intercept: [0.67419585 0.51895698 0.6085015  0.44078578 0.46623812 0.46477156\n",
      " 0.20782996], B intercept: 0.02441107698038286, Train loss: 0.07711, Test loss: 0.06671\n",
      "\n",
      "-- Epoch no(iteration no)  198\n",
      "W intercept: [0.67569003 0.51922533 0.60917854 0.44139981 0.46700061 0.46497086\n",
      " 0.2079789 ], B intercept: 0.025108698364983844, Train loss: 0.07702, Test loss: 0.06662\n",
      "\n",
      "-- Epoch no(iteration no)  199\n",
      "W intercept: [0.67696083 0.51967467 0.61109121 0.44136245 0.46665475 0.46554632\n",
      " 0.20698398], B intercept: 0.025281776132698542, Train loss: 0.07693, Test loss: 0.06655\n",
      "\n",
      "-- Epoch no(iteration no)  200\n",
      "W intercept: [0.67909067 0.51960424 0.61356695 0.44089593 0.46731112 0.46440956\n",
      " 0.20750488], B intercept: 0.024763289710746747, Train loss: 0.07683, Test loss: 0.06643\n",
      "\n",
      "-- Epoch no(iteration no)  201\n",
      "W intercept: [0.68070046 0.52049673 0.61493782 0.4413528  0.469143   0.46388811\n",
      " 0.20908588], B intercept: 0.025313395378533814, Train loss: 0.07670, Test loss: 0.06628\n",
      "\n",
      "-- Epoch no(iteration no)  202\n",
      "W intercept: [0.68225229 0.5213745  0.61709044 0.44165724 0.46947479 0.46456117\n",
      " 0.20963585], B intercept: 0.025080389599116747, Train loss: 0.07657, Test loss: 0.06614\n",
      "\n",
      "-- Epoch no(iteration no)  203\n",
      "W intercept: [0.68340474 0.52342321 0.61755195 0.4425329  0.46969486 0.46501529\n",
      " 0.20976155], B intercept: 0.025155033802324565, Train loss: 0.07648, Test loss: 0.06602\n",
      "\n",
      "-- Epoch no(iteration no)  204\n",
      "W intercept: [0.6854117  0.52518456 0.61854586 0.44373313 0.47132267 0.4663492\n",
      " 0.21049478], B intercept: 0.02354164226780102, Train loss: 0.07632, Test loss: 0.06582\n",
      "\n",
      "-- Epoch no(iteration no)  205\n",
      "W intercept: [0.68698336 0.52759395 0.61964505 0.44424954 0.4728368  0.46772917\n",
      " 0.21043826], B intercept: 0.024186360080786614, Train loss: 0.07617, Test loss: 0.06567\n",
      "\n",
      "-- Epoch no(iteration no)  206\n",
      "W intercept: [0.68782263 0.5295548  0.62066594 0.44603885 0.47414827 0.46911227\n",
      " 0.2112693 ], B intercept: 0.023751533588016977, Train loss: 0.07603, Test loss: 0.06549\n",
      "\n",
      "-- Epoch no(iteration no)  207\n",
      "W intercept: [0.68861739 0.53180412 0.62199643 0.44752104 0.47530595 0.46961075\n",
      " 0.21095811], B intercept: 0.025580940781856864, Train loss: 0.07589, Test loss: 0.06537\n",
      "\n",
      "-- Epoch no(iteration no)  208\n",
      "W intercept: [0.68916214 0.53176638 0.62500876 0.44906521 0.47522068 0.47127637\n",
      " 0.21228202], B intercept: 0.029437793702365773, Train loss: 0.07575, Test loss: 0.06524\n",
      "\n",
      "-- Epoch no(iteration no)  209\n",
      "W intercept: [0.69084206 0.53187434 0.62625773 0.45114292 0.47584383 0.47299507\n",
      " 0.21220991], B intercept: 0.030024819598623145, Train loss: 0.07562, Test loss: 0.06511\n",
      "\n",
      "-- Epoch no(iteration no)  210\n",
      "W intercept: [0.69395157 0.53248232 0.62756489 0.45067806 0.47703252 0.47376284\n",
      " 0.21321783], B intercept: 0.029386714059679537, Train loss: 0.07548, Test loss: 0.06494\n",
      "\n",
      "-- Epoch no(iteration no)  211\n",
      "W intercept: [0.69514031 0.53224812 0.6277518  0.45034629 0.47759878 0.47523137\n",
      " 0.21230666], B intercept: 0.028114922382547744, Train loss: 0.07543, Test loss: 0.06490\n",
      "\n",
      "-- Epoch no(iteration no)  212\n",
      "W intercept: [0.69715646 0.53241869 0.62870188 0.45057059 0.478222   0.47490979\n",
      " 0.2124083 ], B intercept: 0.02884544406159964, Train loss: 0.07535, Test loss: 0.06481\n",
      "\n",
      "-- Epoch no(iteration no)  213\n",
      "W intercept: [0.69775678 0.53311847 0.6301852  0.4508608  0.47828547 0.4757193\n",
      " 0.21141727], B intercept: 0.028791113067073285, Train loss: 0.07528, Test loss: 0.06475\n",
      "\n",
      "-- Epoch no(iteration no)  214\n",
      "W intercept: [0.69965538 0.53286946 0.63219349 0.45018425 0.47960296 0.4744194\n",
      " 0.21149075], B intercept: 0.029286203122262357, Train loss: 0.07519, Test loss: 0.06467\n",
      "\n",
      "-- Epoch no(iteration no)  215\n",
      "W intercept: [0.70126819 0.53392075 0.6338087  0.45069599 0.48034285 0.47401719\n",
      " 0.21355338], B intercept: 0.02853967038000107, Train loss: 0.07508, Test loss: 0.06451\n",
      "\n",
      "-- Epoch no(iteration no)  216\n",
      "W intercept: [0.70275847 0.534731   0.63571522 0.4510097  0.48058697 0.47454208\n",
      " 0.21403105], B intercept: 0.02869465742595194, Train loss: 0.07497, Test loss: 0.06439\n",
      "\n",
      "-- Epoch no(iteration no)  217\n",
      "W intercept: [0.70400276 0.53666667 0.63595918 0.45193464 0.48092503 0.47501585\n",
      " 0.21419218], B intercept: 0.02847259521713931, Train loss: 0.07488, Test loss: 0.06429\n",
      "\n",
      "-- Epoch no(iteration no)  218\n",
      "W intercept: [0.7060682  0.53807769 0.63715985 0.45309187 0.48236139 0.47652559\n",
      " 0.2149946 ], B intercept: 0.02694904943345095, Train loss: 0.07474, Test loss: 0.06410\n",
      "\n",
      "-- Epoch no(iteration no)  219\n",
      "W intercept: [0.70716618 0.54072569 0.63807797 0.4533329  0.4841057  0.4776551\n",
      " 0.21473422], B intercept: 0.027821249705129433, Train loss: 0.07461, Test loss: 0.06397\n",
      "\n",
      "-- Epoch no(iteration no) "
     ]
    },
    {
     "name": "stderr",
     "output_type": "stream",
     "text": [
      "\r",
      " 75%|███████▌  | 225/300 [00:01<00:00, 230.33it/s]"
     ]
    },
    {
     "name": "stdout",
     "output_type": "stream",
     "text": [
      " 220\n",
      "W intercept: [0.70815357 0.54251441 0.63901415 0.45507848 0.48526206 0.4789312\n",
      " 0.21557948], B intercept: 0.02741173074815011, Train loss: 0.07448, Test loss: 0.06381\n",
      "\n",
      "-- Epoch no(iteration no)  221\n",
      "W intercept: [0.70914012 0.54448464 0.64004361 0.45683529 0.48639077 0.47974669\n",
      " 0.21513918], B intercept: 0.02929821661908166, Train loss: 0.07436, Test loss: 0.06370\n",
      "\n",
      "-- Epoch no(iteration no)  222\n",
      "W intercept: [0.70916331 0.54398034 0.64370001 0.45885527 0.48561522 0.48142428\n",
      " 0.2163867 ], B intercept: 0.03327594880106517, Train loss: 0.07423, Test loss: 0.06359\n",
      "\n",
      "-- Epoch no(iteration no)  223\n",
      "W intercept: [0.71090511 0.54472754 0.64442586 0.46015296 0.4868494  0.48281369\n",
      " 0.21660295], B intercept: 0.03311404930234082, Train loss: 0.07411, Test loss: 0.06346\n",
      "\n",
      "-- Epoch no(iteration no)  224\n",
      "W intercept: [0.71386795 0.54523541 0.64603684 0.45961568 0.48784528 0.48343833\n",
      " 0.21681437], B intercept: 0.03267373980742633, Train loss: 0.07398, Test loss: 0.06332\n",
      "\n",
      "-- Epoch no(iteration no)  225\n",
      "W intercept: [0.7148767  0.5446909  0.64580787 0.45910488 0.48822199 0.48464738\n",
      " 0.21650863], B intercept: 0.03178009024992304, Train loss: 0.07397, Test loss: 0.06330\n",
      "\n",
      "-- Epoch no(iteration no)  226\n",
      "W intercept: [0.71602453 0.54495769 0.6464752  0.45885952 0.48802974 0.48464706\n",
      " 0.21530054], B intercept: 0.03217597772605314, Train loss: 0.07393, Test loss: 0.06328\n",
      "\n",
      "-- Epoch no(iteration no)  227\n",
      "W intercept: [0.7172155  0.54545008 0.64849929 0.45803213 0.48812458 0.48390965\n",
      " 0.21589327], B intercept: 0.03163855990351709, Train loss: 0.07386, Test loss: 0.06320\n",
      "\n",
      "-- Epoch no(iteration no)  228\n",
      "W intercept: [0.71915635 0.5448005  0.65047767 0.45820341 0.48966676 0.48270077\n",
      " 0.21711278], B intercept: 0.03331433530208331, Train loss: 0.07376, Test loss: 0.06310\n",
      "\n",
      "-- Epoch no(iteration no)  229\n",
      "W intercept: [0.72063334 0.54623883 0.65164962 0.45908524 0.49067052 0.48329788\n",
      " 0.21758508], B intercept: 0.032184467261401145, Train loss: 0.07365, Test loss: 0.06296\n",
      "\n",
      "-- Epoch no(iteration no)  230\n",
      "W intercept: [0.72235435 0.54729748 0.6533487  0.45959757 0.49107218 0.48382456\n",
      " 0.21817268], B intercept: 0.03204853646700026, Train loss: 0.07354, Test loss: 0.06283\n",
      "\n",
      "-- Epoch no(iteration no)  231\n",
      "W intercept: [0.72349995 0.54922256 0.65387394 0.46045848 0.49133377 0.48417674\n",
      " 0.21829384], B intercept: 0.031909165009080906, Train loss: 0.07346, Test loss: 0.06273\n",
      "\n",
      "-- Epoch no(iteration no)  232\n",
      "W intercept: [0.72517374 0.55040246 0.65507487 0.46152457 0.49253203 0.48561349\n",
      " 0.21893118], B intercept: 0.030819921531706908, Train loss: 0.07334, Test loss: 0.06258\n",
      "\n",
      "-- Epoch no(iteration no)  233\n",
      "W intercept: [0.72620507 0.55289519 0.65576397 0.46193139 0.49426313 0.4868116\n",
      " 0.21880462], B intercept: 0.03164582439068616, Train loss: 0.07322, Test loss: 0.06246\n",
      "\n",
      "-- Epoch no(iteration no)  234\n",
      "W intercept: [0.72716029 0.55545082 0.65643245 0.46366161 0.4954499  0.48797695\n",
      " 0.21946392], B intercept: 0.03146341441744431, Train loss: 0.07310, Test loss: 0.06231\n",
      "\n",
      "-- Epoch no(iteration no)  235\n",
      "W intercept: [0.72812952 0.55625438 0.65742933 0.4650982  0.49665199 0.4898629\n",
      " 0.21888644], B intercept: 0.03355287962431955, Train loss: 0.07299, Test loss: 0.06222\n",
      "\n",
      "-- Epoch no(iteration no)  236\n",
      "W intercept: [0.72839091 0.55600441 0.66117297 0.46723786 0.49577072 0.49042516\n",
      " 0.22054281], B intercept: 0.03660898194672191, Train loss: 0.07287, Test loss: 0.06210\n",
      "\n",
      "-- Epoch no(iteration no)  237\n",
      "W intercept: [0.73020687 0.5563865  0.66189931 0.46828049 0.49673047 0.49197607\n",
      " 0.22062814], B intercept: 0.037010617100262835, Train loss: 0.07277, Test loss: 0.06199\n",
      "\n",
      "-- Epoch no(iteration no)  238\n",
      "W intercept: [0.7332824  0.55692196 0.66326097 0.46758205 0.49789632 0.49254556\n",
      " 0.2206774 ], B intercept: 0.03642250163618775, Train loss: 0.07265, Test loss: 0.06187\n",
      "\n",
      "-- Epoch no(iteration no)  239\n",
      "W intercept: [0.73379538 0.55590899 0.66286375 0.4664951  0.49794656 0.49224872\n",
      " 0.21998885], B intercept: 0.03655491260790692, Train loss: 0.07268, Test loss: 0.06191\n",
      "\n",
      "-- Epoch no(iteration no)  240\n",
      "W intercept: [0.73479633 0.55636044 0.664248   0.46669828 0.49750483 0.4931834\n",
      " 0.21905868], B intercept: 0.03646677051809257, Train loss: 0.07262, Test loss: 0.06186\n",
      "\n",
      "-- Epoch no(iteration no) "
     ]
    },
    {
     "name": "stderr",
     "output_type": "stream",
     "text": [
      "\r",
      " 83%|████████▎ | 249/300 [00:01<00:00, 232.74it/s]"
     ]
    },
    {
     "name": "stdout",
     "output_type": "stream",
     "text": [
      " 241\n",
      "W intercept: [0.73605983 0.55624163 0.66585589 0.46602698 0.49765693 0.49188723\n",
      " 0.22012052], B intercept: 0.034709242345146, Train loss: 0.07258, Test loss: 0.06179\n",
      "\n",
      "-- Epoch no(iteration no)  242\n",
      "W intercept: [0.73772268 0.55650148 0.66764923 0.46613772 0.49949679 0.491212\n",
      " 0.22104746], B intercept: 0.036649774442678515, Train loss: 0.07247, Test loss: 0.06169\n",
      "\n",
      "-- Epoch no(iteration no)  243\n",
      "W intercept: [0.73944699 0.55807156 0.66888852 0.46680016 0.50030517 0.49183239\n",
      " 0.22141221], B intercept: 0.03574974676626238, Train loss: 0.07237, Test loss: 0.06156\n",
      "\n",
      "-- Epoch no(iteration no)  244\n",
      "W intercept: [0.74040759 0.55860058 0.67013476 0.46688896 0.50119174 0.4919951\n",
      " 0.2215196 ], B intercept: 0.03683295931773954, Train loss: 0.07229, Test loss: 0.06149\n",
      "\n",
      "-- Epoch no(iteration no)  245\n",
      "W intercept: [0.74208417 0.56076923 0.67078947 0.46841402 0.50103993 0.49276291\n",
      " 0.22216849], B intercept: 0.03532548113081616, Train loss: 0.07220, Test loss: 0.06134\n",
      "\n",
      "-- Epoch no(iteration no)  246\n",
      "W intercept: [0.74305743 0.56271467 0.67189435 0.46875864 0.50259856 0.49421186\n",
      " 0.22245033], B intercept: 0.035090284463774865, Train loss: 0.07209, Test loss: 0.06122\n",
      "\n",
      "-- Epoch no(iteration no)  247\n",
      "W intercept: [0.74452328 0.56443403 0.6726458  0.46970051 0.50387771 0.49522974\n",
      " 0.22269452], B intercept: 0.03497220067711819, Train loss: 0.07198, Test loss: 0.06110\n",
      "\n",
      "-- Epoch no(iteration no)  248\n",
      "W intercept: [0.74470885 0.56661008 0.67350053 0.47131483 0.50496329 0.49628513\n",
      " 0.22283925], B intercept: 0.03608900260985026, Train loss: 0.07189, Test loss: 0.06100\n",
      "\n",
      "-- Epoch no(iteration no)  249\n",
      "W intercept: [0.74584709 0.56655363 0.6753313  0.47252956 0.50558775 0.49722251\n",
      " 0.22391819], B intercept: 0.038854087734029895, Train loss: 0.07178, Test loss: 0.06091\n",
      "\n",
      "-- Epoch no(iteration no)  250\n",
      "W intercept: [0.74664935 0.56654618 0.67713741 0.47521131 0.5053489  0.49825781\n",
      " 0.2240319 ], B intercept: 0.04085038294671018, Train loss: 0.07169, Test loss: 0.06081\n",
      "\n",
      "-- Epoch no(iteration no)  251\n",
      "W intercept: [0.74872978 0.56757463 0.6783544  0.47535381 0.50603552 0.50068853\n",
      " 0.22444021], B intercept: 0.04107314743339009, Train loss: 0.07157, Test loss: 0.06068\n",
      "\n",
      "-- Epoch no(iteration no)  252\n",
      "W intercept: [0.75074317 0.56691505 0.67872201 0.47368486 0.50669782 0.50040179\n",
      " 0.22379283], B intercept: 0.039492127196700706, Train loss: 0.07155, Test loss: 0.06066\n",
      "\n",
      "-- Epoch no(iteration no)  253\n",
      "W intercept: [0.75211115 0.56703078 0.67908375 0.47396666 0.50729284 0.5003507\n",
      " 0.22374958], B intercept: 0.0400227433391173, Train loss: 0.07150, Test loss: 0.06061\n",
      "\n",
      "-- Epoch no(iteration no)  254\n",
      "W intercept: [0.75302884 0.56740311 0.68079539 0.47457042 0.50673321 0.50097853\n",
      " 0.222519  ], B intercept: 0.04076741938998298, Train loss: 0.07143, Test loss: 0.06057\n",
      "\n",
      "-- Epoch no(iteration no)  255\n",
      "W intercept: [0.75454925 0.56722408 0.68288614 0.47319676 0.50700768 0.49951624\n",
      " 0.22334388], B intercept: 0.03929880080012262, Train loss: 0.07139, Test loss: 0.06050\n",
      "\n",
      "-- Epoch no(iteration no)  256\n",
      "W intercept: [0.75596104 0.56782733 0.68401519 0.47344949 0.50883257 0.49895344\n",
      " 0.22477231], B intercept: 0.039944013768554755, Train loss: 0.07130, Test loss: 0.06040\n",
      "\n",
      "-- Epoch no(iteration no)  257\n",
      "W intercept: [0.7572767  0.56842839 0.6859307  0.47365504 0.50899894 0.49940228\n",
      " 0.22526099], B intercept: 0.039842430477640044, Train loss: 0.07122, Test loss: 0.06030\n",
      "\n",
      "-- Epoch no(iteration no)  258\n",
      "W intercept: [0.75810833 0.57011898 0.68625663 0.47430303 0.50894678 0.49963525\n",
      " 0.22527945], B intercept: 0.040077188701469466, Train loss: 0.07116, Test loss: 0.06024\n",
      "\n",
      "-- Epoch no(iteration no)  259\n",
      "W intercept: [0.75983095 0.57159983 0.68704648 0.47527233 0.51034369 0.50079521\n",
      " 0.22591853], B intercept: 0.0386536577730555, Train loss: 0.07106, Test loss: 0.06010\n",
      "\n",
      "-- Epoch no(iteration no)  260\n",
      "W intercept: [0.7611216  0.57374868 0.68792582 0.47565736 0.511656   0.50197731\n",
      " 0.22584682], B intercept: 0.03923678318914004, Train loss: 0.07096, Test loss: 0.05999\n",
      "\n",
      "-- Epoch no(iteration no)  261\n",
      "W intercept: [0.76179408 0.57535628 0.68879086 0.4771017  0.51265116 0.50312565\n",
      " 0.22658588], B intercept: 0.03880723535714604, Train loss: 0.07087, Test loss: 0.05988\n",
      "\n",
      "-- Epoch no(iteration no)  262\n",
      "W intercept: [0.76238479 0.5773509  0.68988698 0.47851151 0.51368835 0.5034146\n",
      " 0.22611269], B intercept: 0.04064576605746988, Train loss: 0.07078, Test loss: 0.05980\n",
      "\n",
      "-- Epoch no(iteration no)  263\n",
      "W intercept: [0.76267049 0.57728569 0.69261254 0.47984884 0.51361377 0.50465231\n",
      " 0.22748184], B intercept: 0.044293273527957734, Train loss: 0.07067, Test loss: 0.05971\n",
      "\n",
      "-- Epoch no(iteration no)  264\n",
      "W intercept: [0.7641113  0.57720313 0.69368686 0.48171969 0.51398567 0.5063468\n",
      " 0.22725237], B intercept: 0.04506657713685651, Train loss: 0.07059, Test loss: 0.05962\n",
      "\n",
      "-- Epoch no(iteration no)  265\n",
      "W intercept: [0.7669166  0.57765352 0.69472937 0.48106771 0.51501724 0.50681118\n",
      " 0.22811792], B intercept: 0.044549690126799484, Train loss: 0.07049, Test loss: 0.05951\n",
      "\n",
      "-- Epoch no(iteration no)  266\n",
      "W intercept: [0.76787011 0.57731943 0.69453819 0.48052741 0.51544844 0.5078907\n",
      " 0.22731329], B intercept: 0.043140403974469756, Train loss: 0.07048, Test loss: 0.05949\n",
      "\n",
      "-- Epoch no(iteration no)  267\n",
      "W intercept: [0.76965193 0.5772609  0.6953853  0.48063638 0.5158433  0.50764575\n",
      " 0.22725636], B intercept: 0.043929789681432116, Train loss: 0.07042, Test loss: 0.05944\n",
      "\n",
      "-- Epoch no(iteration no)  268\n",
      "W intercept: [0.76982083 0.57792219 0.69655802 0.48072355 0.51560605 0.50832742\n",
      " 0.22627001], B intercept: 0.04365418735139914, Train loss: 0.07039, Test loss: 0.05941\n",
      "\n",
      "-- Epoch no(iteration no)  269\n",
      "W intercept: [0.77134452 0.5772893  0.6984244  0.47976461 0.51682789 0.50693569\n",
      " 0.22639102], B intercept: 0.04386192296441745, Train loss: 0.07033, Test loss: 0.05936\n",
      "\n",
      "-- Epoch no(iteration no)  270\n",
      "W intercept: [0.77280678 0.57826518 0.69970849 0.4802056  0.5174592  0.50632425\n",
      " 0.22822118], B intercept: 0.043447031571895056, Train loss: 0.07026, Test loss: 0.05925\n",
      "\n",
      "-- Epoch no(iteration no)  271\n",
      "W intercept: [0.77403738 0.57880684 0.70144949 0.48036829 0.51755182 0.50670267\n",
      " 0.22865749], B intercept: 0.04352845453170194, Train loss: 0.07018, Test loss: 0.05917\n"
     ]
    },
    {
     "name": "stderr",
     "output_type": "stream",
     "text": [
      "\r",
      " 92%|█████████▏| 275/300 [00:01<00:00, 240.53it/s]"
     ]
    },
    {
     "name": "stdout",
     "output_type": "stream",
     "text": [
      "\n",
      "-- Epoch no(iteration no)  272\n",
      "W intercept: [0.77505411 0.58047743 0.70164336 0.48111075 0.51764908 0.50704367\n",
      " 0.22878863], B intercept: 0.04343350049426598, Train loss: 0.07013, Test loss: 0.05910\n",
      "\n",
      "-- Epoch no(iteration no)  273\n",
      "W intercept: [0.77669063 0.58182604 0.70251074 0.48205361 0.51901776 0.50820244\n",
      " 0.22941525], B intercept: 0.04200667885093637, Train loss: 0.07003, Test loss: 0.05897\n",
      "\n",
      "-- Epoch no(iteration no)  274\n",
      "W intercept: [0.77765854 0.58401561 0.70336549 0.48219154 0.52035068 0.5092302\n",
      " 0.22917474], B intercept: 0.04303308782658508, Train loss: 0.06994, Test loss: 0.05888\n",
      "\n",
      "-- Epoch no(iteration no)  275\n",
      "W intercept: [0.7785069  0.58556217 0.70408519 0.48373704 0.52133669 0.51035795\n",
      " 0.22991715], B intercept: 0.04265427938729042, Train loss: 0.06986, Test loss: 0.05877\n",
      "\n",
      "-- Epoch no(iteration no)  276\n",
      "W intercept: [0.77918648 0.5870603  0.70524006 0.48522357 0.52233424 0.51078362\n",
      " 0.22952884], B intercept: 0.04423878695225292, Train loss: 0.06978, Test loss: 0.05870\n",
      "\n",
      "-- Epoch no(iteration no)  277\n",
      "W intercept: [0.7791577  0.58675335 0.70836017 0.48712328 0.52151152 0.51243544\n",
      " 0.23061599], B intercept: 0.04838044179400415, Train loss: 0.06968, Test loss: 0.05862\n",
      "\n",
      "-- Epoch no(iteration no)  278\n",
      "W intercept: [0.78064976 0.58731264 0.70884229 0.48822905 0.52255106 0.51355013\n",
      " 0.23071558], B intercept: 0.04839430624635998, Train loss: 0.06961, Test loss: 0.05853\n",
      "\n",
      "-- Epoch no(iteration no)  279\n",
      "W intercept: [0.78337163 0.58769295 0.71023249 0.48758862 0.52344246 0.51398016\n",
      " 0.23089715], B intercept: 0.04794352158497575, Train loss: 0.06951, Test loss: 0.05843\n",
      "\n",
      "-- Epoch no(iteration no)  280\n",
      "W intercept: [0.78417438 0.58703639 0.70984563 0.48686102 0.52363693 0.51499147\n",
      " 0.23054716], B intercept: 0.04695841102928952, Train loss: 0.06951, Test loss: 0.05843\n",
      "\n",
      "-- Epoch no(iteration no)  281\n",
      "W intercept: [0.78502644 0.58716264 0.71026449 0.48652015 0.52337568 0.51486857\n",
      " 0.2292974 ], B intercept: 0.04725249718051017, Train loss: 0.06950, Test loss: 0.05843\n",
      "\n",
      "-- Epoch no(iteration no)  282\n",
      "W intercept: [0.78604379 0.58759134 0.71180894 0.48694546 0.52401111 0.51530142\n",
      " 0.22948327], B intercept: 0.04751906871813059, Train loss: 0.06943, Test loss: 0.05836\n",
      "\n",
      "-- Epoch no(iteration no)  283\n",
      "W intercept: [0.78752991 0.58678668 0.71385743 0.48561542 0.52452276 0.51266991\n",
      " 0.2308935 ], B intercept: 0.04804442920075787, Train loss: 0.06939, Test loss: 0.05832\n",
      "\n",
      "-- Epoch no(iteration no)  284\n",
      "W intercept: [0.78887219 0.58802167 0.7147744  0.48631649 0.52550272 0.51319758\n",
      " 0.23142629], B intercept: 0.04712296837598277, Train loss: 0.06932, Test loss: 0.05822\n",
      "\n",
      "-- Epoch no(iteration no)  285\n",
      "W intercept: [0.79028185 0.58875599 0.71632789 0.48665889 0.52566484 0.51358143\n",
      " 0.23197876], B intercept: 0.04700758791376799, Train loss: 0.06924, Test loss: 0.05813\n",
      "\n",
      "-- Epoch no(iteration no)  286\n",
      "W intercept: [0.79117846 0.59037079 0.71676736 0.48732646 0.52578654 0.51374772\n",
      " 0.23198236], B intercept: 0.047113432823042936, Train loss: 0.06919, Test loss: 0.05806\n",
      "\n",
      "-- Epoch no(iteration no)  287\n",
      "W intercept: [0.79279306 0.59133457 0.71752688 0.4881416  0.52687634 0.51503645\n",
      " 0.23263494], B intercept: 0.04590902104765973, Train loss: 0.06911, Test loss: 0.05795\n",
      "\n",
      "-- Epoch no(iteration no)  288\n",
      "W intercept: [0.7935518  0.59370929 0.71826677 0.48855749 0.52835463 0.51607714\n",
      " 0.23242519], B intercept: 0.04680366173196979, Train loss: 0.06902, Test loss: 0.05787\n",
      "\n",
      "-- Epoch no(iteration no)  289\n",
      "W intercept: [0.79428205 0.59593721 0.71877501 0.49005428 0.52932346 0.51706176\n",
      " 0.23297944], B intercept: 0.04674872412977936, Train loss: 0.06895, Test loss: 0.05777\n",
      "\n",
      "-- Epoch no(iteration no)  290\n",
      "W intercept: [0.79499897 0.59659868 0.71963921 0.49128132 0.53040846 0.51871892\n",
      " 0.23232533], B intercept: 0.048874121612739005, Train loss: 0.06887, Test loss: 0.05771\n",
      "\n",
      "-- Epoch no(iteration no)  291\n",
      "W intercept: [0.79515075 0.59632411 0.72311913 0.49328158 0.52948491 0.51913531\n",
      " 0.23392958], B intercept: 0.05181744170358172, Train loss: 0.06878, Test loss: 0.05762\n",
      "\n",
      "-- Epoch no(iteration no)  292\n",
      "W intercept: [0.7967277  0.59657735 0.72361654 0.49420647 0.53032432 0.52042396\n",
      " 0.23392788], B intercept: 0.05227020220502386, Train loss: 0.06871, Test loss: 0.05755\n",
      "\n",
      "-- Epoch no(iteration no)  293\n",
      "W intercept: [0.79958212 0.59696678 0.72485212 0.4933919  0.53133495 0.52083115\n",
      " 0.23399329], B intercept: 0.0516744633215927, Train loss: 0.06862, Test loss: 0.05745\n",
      "\n",
      "-- Epoch no(iteration no)  294\n",
      "W intercept: [0.79994738 0.59582612 0.72426349 0.4921583  0.53129259 0.52040426\n",
      " 0.23325482], B intercept: 0.05177927835148708, Train loss: 0.06865, Test loss: 0.05751\n",
      "\n",
      "-- Epoch no(iteration no)  295\n",
      "W intercept: [0.800665   0.59619871 0.7253521  0.49224663 0.53070858 0.52117375\n",
      " 0.23222377], B intercept: 0.051656703279856865, Train loss: 0.06862, Test loss: 0.05748\n",
      "\n",
      "-- Epoch no(iteration no)  296\n",
      "W intercept: [0.80168716 0.59595682 0.72679657 0.49134648 0.53066597 0.51971481\n",
      " 0.23323894], B intercept: 0.049819357894806855, Train loss: 0.06860, Test loss: 0.05743\n",
      "\n",
      "-- Epoch no(iteration no)  297\n",
      "W intercept: [0.80308537 0.59609929 0.72834997 0.49138253 0.53238113 0.51904339\n",
      " 0.23415926], B intercept: 0.051572890222625484, Train loss: 0.06852, Test loss: 0.05736\n",
      "\n",
      "-- Epoch no(iteration no) "
     ]
    },
    {
     "name": "stderr",
     "output_type": "stream",
     "text": [
      "100%|██████████| 300/300 [00:01<00:00, 205.29it/s]"
     ]
    },
    {
     "name": "stdout",
     "output_type": "stream",
     "text": [
      " 298\n",
      "W intercept: [0.80457756 0.59740305 0.72933955 0.49193058 0.53309029 0.51952805\n",
      " 0.23446933], B intercept: 0.05080778312503393, Train loss: 0.06845, Test loss: 0.05726\n",
      "\n",
      "-- Epoch no(iteration no)  299\n",
      "W intercept: [0.80546966 0.59778754 0.73031364 0.49242028 0.53436488 0.51977764\n",
      " 0.23481999], B intercept: 0.05121156956595353, Train loss: 0.06839, Test loss: 0.05720\n",
      "\n",
      "-- Epoch no(iteration no)  300\n",
      "W intercept: [0.80677725 0.59968767 0.73105166 0.49324515 0.53348807 0.52021432\n",
      " 0.23511999], B intercept: 0.05054281429911314, Train loss: 0.06833, Test loss: 0.05711\n"
     ]
    },
    {
     "name": "stderr",
     "output_type": "stream",
     "text": [
      "\n"
     ]
    }
   ],
   "source": [
    "## importing self made SGD classifier as Classifier 1 \n",
    "import Sgd_classifier as classfier_1\n",
    "alpha=0.001\n",
    "t_rate=0.001\n",
    "N=len(x_train)\n",
    "epochs=300\n",
    "w,b,loss_train,loss_test=classfier_1.train_classifier(x_train,y_train,x_test,y_test,epochs,alpha,t_rate)"
   ]
  },
  {
   "cell_type": "markdown",
   "metadata": {
    "id": "PNjgLcYRYcIm"
   },
   "source": [
    "<h4>2.1.2 Coding Approach</h4>\n",
    "We send our train data, test data, with learning rate and regularization rate to our classifier. The classifier uses Stochastic gradient descent and updates the weights and bais over the epochs. With each epoch we aim to reduce our loss, when we reach a point where the loss is similar to the loss that was in previous epoch we return then updated weights and bais. These weights and bais that are returned are optimal for making predictions."
   ]
  },
  {
   "cell_type": "markdown",
   "metadata": {
    "id": "ndwbS6ZqaLr3"
   },
   "source": [
    "<h3>2.2 SVM with RBF kernel </h3>"
   ]
  },
  {
   "cell_type": "markdown",
   "metadata": {
    "id": "H-Qtsx6LaTN7"
   },
   "source": [
    "<h4>2.2.1 Function Call</h4>"
   ]
  },
  {
   "cell_type": "code",
   "execution_count": 24,
   "metadata": {},
   "outputs": [],
   "source": [
    "# import Svm_classifier as classfier_2\n",
    "\n",
    "# a1=classfier_2.SVM(kernel='rbf', C=0.5, max_iter=10, gamma=0.001)\n",
    "# a1.fit(x_train,y_train)\n",
    "\n",
    "import Svm_classifier as classfier_2\n",
    "\n",
    "a1=classfier_2.OurSVM(kernel='rbf', C=1.0, gamma=0.001)\n",
    "a1.fit(x_train, y_train)\n",
    "#y_ = a1.predict(x_test)"
   ]
  },
  {
   "cell_type": "markdown",
   "metadata": {
    "id": "FUu-87k2aXIR"
   },
   "source": [
    "<h4>2.2.2 Coding Approach</h4>\n",
    "\n",
    "<!----> Will be going over the coding how it is done and stuff"
   ]
  },
  {
   "cell_type": "markdown",
   "metadata": {
    "id": "swzuVJ19S1Jr"
   },
   "source": [
    "<h2><center>3. Model Accuracy</center></h2>\n",
    "<em>\n",
    "Here we are going to talk about the model accuracies by using test and train loss graphs, in addition to Confussion Matrix and some ROC curves\n",
    "</em>"
   ]
  },
  {
   "cell_type": "markdown",
   "metadata": {
    "id": "qPy611dMa8Bu"
   },
   "source": [
    "<h3>3.1 Model 1 SGD Classifier with Log Loss</h3>\n"
   ]
  },
  {
   "cell_type": "markdown",
   "metadata": {
    "id": "rI7qXtftah1a"
   },
   "source": [
    "<h4>3.1.1 Prediction accuracies</h4>"
   ]
  },
  {
   "cell_type": "code",
   "execution_count": 25,
   "metadata": {
    "colab": {
     "base_uri": "https://localhost:8080/"
    },
    "id": "057fGPgc6x3_",
    "outputId": "c841cc8b-3706-45a5-886f-2b89fe684824",
    "scrolled": false
   },
   "outputs": [
    {
     "name": "stdout",
     "output_type": "stream",
     "text": [
      "Train_Accuracy : 0.945\n",
      "Test_Accuracy  : 0.983\n"
     ]
    }
   ],
   "source": [
    "# Getting the predict vector for the train and test data\n",
    "y_train_pred = classfier_1.predict(w,b,x_train)\n",
    "y_test_pred = classfier_1.predict(w,b,x_test)\n",
    "\n",
    "#y_train=y_train.reshape(y_train_pred.shape)\n",
    "print('Train_Accuracy : {:.3f}'.format((y_train ==  y_train_pred).sum() / len(x_train)))\n",
    "#y_test=y_test.reshape(y_test_pred.shape)\n",
    "print('Test_Accuracy  : {:.3f}'.format((y_test ==  y_test_pred).sum() / len(x_test)))"
   ]
  },
  {
   "cell_type": "markdown",
   "metadata": {
    "id": "7pAXgaM_bjzs"
   },
   "source": [
    "<h4>3.1.2 Test and Train Loss over Epochs</h4>\n",
    "We will plot graph against the number of epochs with respect to the test and train loss. This will give us insight whether our code is performing gradient descent in a correct manner."
   ]
  },
  {
   "cell_type": "code",
   "execution_count": 26,
   "metadata": {
    "id": "1gK7yssz073T",
    "scrolled": true
   },
   "outputs": [
    {
     "name": "stdout",
     "output_type": "stream",
     "text": [
      "==============================================================================================================\n"
     ]
    },
    {
     "data": {
      "image/png": "[encoded data removed]",
      "text/plain": [
       "<Figure size 1080x504 with 1 Axes>"
      ]
     },
     "metadata": {},
     "output_type": "display_data"
    }
   ],
   "source": [
    "# Converting epochs to an array and ploting the graphs of test and train loss over the epochs\n",
    "epochs = np.arange(1, epochs+1, 1)\n",
    "plt.figure(figsize=(15, 7))\n",
    "plt.plot(epochs,loss_train, label='Train Loss', c = 'blue')\n",
    "plt.plot(epochs,loss_test, label='Test Loss',c = 'red')\n",
    "plt.title('Epoch vs Train,Test Loss')\n",
    "plt.xlabel(\"Epochs\")\n",
    "plt.ylabel('Loss')\n",
    "plt.legend()\n",
    "print(110*'=')\n"
   ]
  },
  {
   "cell_type": "markdown",
   "metadata": {
    "id": "qcN8YgFwb0gH"
   },
   "source": [
    "<h4>3.1.3 Confusion Matrix and Performance Metrics</h4>\n",
    "The confusion matrix we plot here looks like the table mentioned below :-\n",
    "<table>\n",
    "  <tr>\n",
    "    <th><em><h4>Total Population</h4></em></th>\n",
    "    <th><em><h4>Malignant</h4></em></th>\n",
    "    <th><em><h4>Benign</h4></em></th>\n",
    "  </tr>\n",
    "  <tr>\n",
    "    <td><center><em><h4>Predicted Malignant</h4></em></center></td>\n",
    "      <td><center><h5>True Positives</h5></center></td>\n",
    "    <td><center><h5>False Positives</h5></center></td> \n",
    "  </tr>\n",
    "  <tr>\n",
    "     <td><em><h4>Predicted Benign</h4></em></td>\n",
    "     <td><center><h5>False Negatives</h5></center></td>\n",
    "     <td><center><h5>True Negatives</h5></center></td>\n",
    "  </tr>\n",
    "</table>\n",
    "\n"
   ]
  },
  {
   "cell_type": "code",
   "execution_count": 27,
   "metadata": {
    "id": "dwjOiXQsTjjO",
    "scrolled": true
   },
   "outputs": [
    {
     "name": "stdout",
     "output_type": "stream",
     "text": [
      "Confusion Matrix\n",
      " [[50  2]\n",
      " [ 0 63]]\n",
      "False Positive Rate :   0.031\n",
      "True Positive Rate  :   1.000\n",
      "Precision of model  :   0.962\n",
      "Area Under Curve (AUC): 0.983\n",
      "F1 score of model   :   0.980\n"
     ]
    }
   ],
   "source": [
    "# Calling our confusion matrix from the directory\n",
    "\n",
    "import confusion_matrix as cm\n",
    "cm_sgd,fpr_sgd,recall_sgd,AUC_score_sgd,precision_sgd,F1_score_sgd= cm.confusion_matrix(y_test, y_test_pred)\n",
    "print('Confusion Matrix\\n',cm_sgd)\n",
    "print('False Positive Rate :   {:.3f}'.format(fpr_sgd))\n",
    "print('True Positive Rate  :   {:.3f}'.format(recall_sgd))\n",
    "print('Precision of model  :   {:.3f}'.format(precision_sgd))\n",
    "print('Area Under Curve (AUC): {:.3f}'.format(AUC_score_sgd))\n",
    "print('F1 score of model   :   {:.3f}'.format(F1_score_sgd))\n"
   ]
  },
  {
   "cell_type": "markdown",
   "metadata": {},
   "source": [
    "<h3> 3.2 Model 2 SVM with RBF Kernel</h3>"
   ]
  },
  {
   "cell_type": "markdown",
   "metadata": {},
   "source": [
    "<h4>3.2.1 Prediction accuracies</h4>"
   ]
  },
  {
   "cell_type": "code",
   "execution_count": 28,
   "metadata": {},
   "outputs": [
    {
     "name": "stdout",
     "output_type": "stream",
     "text": [
      "Train_Accuracy : 0.945\n",
      "Test_Accuracy  : 0.957\n"
     ]
    }
   ],
   "source": [
    "# Getting the predict vector for the train and test data\n",
    "\n",
    "y_train_pred_svm = a1.predict(x_train)\n",
    "y_test_pred_svm= a1.predict(x_test)\n",
    "print('Train_Accuracy : {:.3f}'.format((y_train ==  y_train_pred_svm).sum() / len(x_train)))\n",
    "print('Test_Accuracy  : {:.3f}'.format((y_test ==  y_test_pred_svm).sum() / len(x_test)))\n"
   ]
  },
  {
   "cell_type": "markdown",
   "metadata": {},
   "source": [
    "<h4>3.2.2  APLS GRAPH</h4>\n",
    "<!---> Some grpah here ALP  <--->"
   ]
  },
  {
   "cell_type": "code",
   "execution_count": null,
   "metadata": {},
   "outputs": [],
   "source": []
  },
  {
   "cell_type": "markdown",
   "metadata": {},
   "source": [
    "<h4>3.2.3 Confusion Matrix and Performance Metrics</h4> \n",
    "The confusion matrix we plot here looks like the table mentioned below :-\n",
    "<table>\n",
    "  <tr>\n",
    "    <th><em><h4>Total Population</h4></em></th>\n",
    "    <th><em><h4>Malignant</h4></em></th>\n",
    "    <th><em><h4>Benign</h4></em></th>\n",
    "  </tr>\n",
    "  <tr>\n",
    "    <td><center><em><h4>Predicted Malignant</h4></em></center></td>\n",
    "      <td><center><h5>True Positives</h5></center></td>\n",
    "    <td><center><h5>False Positives</h5></center></td> \n",
    "  </tr>\n",
    "  <tr>\n",
    "     <td><em><h4>Predicted Benign</h4></em></td>\n",
    "     <td><center><h5>False Negatives</h5></center></td>\n",
    "     <td><center><h5>True Negatives</h5></center></td>\n",
    "  </tr>\n",
    "</table>"
   ]
  },
  {
   "cell_type": "code",
   "execution_count": 29,
   "metadata": {
    "scrolled": true
   },
   "outputs": [
    {
     "name": "stdout",
     "output_type": "stream",
     "text": [
      "Confusion Matrix\n",
      " [[48  3]\n",
      " [ 2 62]]\n",
      "False Positive Rate :   0.046\n",
      "True Positive Rate  :   0.960\n",
      "Precision of model  :   0.941\n",
      "Area Under Curve (AUC): 0.957\n",
      "F1 score of model   :   0.950\n"
     ]
    }
   ],
   "source": [
    "# Calling our confusion matrix from the directory\n",
    "\n",
    "import confusion_matrix as cm\n",
    "cm_svm,fpr_svm,recall_svm,AUC_score_svm,precision_svm,F1_score_svm= cm.confusion_matrix(y_test, y_test_pred_svm)\n",
    "print('Confusion Matrix\\n',cm_svm)\n",
    "print('False Positive Rate :   {:.3f}'.format(fpr_svm))\n",
    "print('True Positive Rate  :   {:.3f}'.format(recall_svm))\n",
    "print('Precision of model  :   {:.3f}'.format(precision_svm))\n",
    "print('Area Under Curve (AUC): {:.3f}'.format(AUC_score_svm))\n",
    "print('F1 score of model   :   {:.3f}'.format(F1_score_svm))\n",
    "\n"
   ]
  },
  {
   "cell_type": "markdown",
   "metadata": {},
   "source": [
    "<h2><center>Model Comparisions</center></h2>\n",
    "\n",
    "<h3><center>Metrics Comparsions</center></h3>\n"
   ]
  },
  {
   "cell_type": "code",
   "execution_count": 30,
   "metadata": {},
   "outputs": [],
   "source": [
    "# Making a data frame of all the result \n",
    "cols = ['Metric' , 'SGD Classifier' , 'SVM Classifier']\n",
    "values = [['F1_score',F1_score_sgd,F1_score_svm] ,[ 'Recal',recall_sgd,recall_svm]\\\n",
    "          ,['FPR',fpr_sgd,fpr_svm],['AUC',AUC_score_sgd,AUC_score_svm]\\\n",
    "          ,['Precision',precision_sgd,precision_svm]]\n",
    "result = pd.DataFrame(values, columns = cols) "
   ]
  },
  {
   "cell_type": "code",
   "execution_count": 35,
   "metadata": {},
   "outputs": [
    {
     "name": "stdout",
     "output_type": "stream",
     "text": [
      "      Metric  SGD Classifier  SVM Classifier\n",
      "0   F1_score        0.980392        0.950495\n",
      "1      Recal        1.000000        0.960000\n",
      "2        FPR        0.030769        0.046154\n",
      "3        AUC        0.982609        0.956522\n",
      "4  Precision        0.961538        0.941176\n"
     ]
    }
   ],
   "source": [
    "# Printing the result\n",
    "print(result)"
   ]
  },
  {
   "cell_type": "markdown",
   "metadata": {
    "id": "XW2Czt08hhqg"
   },
   "source": [
    "<h2><center>Conclusions</center></h2>\n",
    "We were given a task to implement a model which was meant to classify between Malignant and Benign and measure the performance metrics of the implemented model. To achive the aim of the coursework we made two classification models that perform binary classification for the given dataset. \n",
    "<br> </br>\n",
    "<p>\n",
    "<em>\n",
    "The following are the results obtained for the repesctive implemented models :-\n",
    "<p></em>\n",
    "<em>    \n",
    "    \n",
    "<br><h4>1. Stochastic Gradient Descent Classifier </h4>\n"
   ]
  },
  {
   "cell_type": "code",
   "execution_count": 32,
   "metadata": {},
   "outputs": [
    {
     "data": {
      "text/html": [
       "<div>\n",
       "<style scoped>\n",
       "    .dataframe tbody tr th:only-of-type {\n",
       "        vertical-align: middle;\n",
       "    }\n",
       "\n",
       "    .dataframe tbody tr th {\n",
       "        vertical-align: top;\n",
       "    }\n",
       "\n",
       "    .dataframe thead th {\n",
       "        text-align: right;\n",
       "    }\n",
       "</style>\n",
       "<table border=\"1\" class=\"dataframe\">\n",
       "  <thead>\n",
       "    <tr style=\"text-align: right;\">\n",
       "      <th></th>\n",
       "      <th>Metric</th>\n",
       "      <th>SGD Classifier</th>\n",
       "    </tr>\n",
       "  </thead>\n",
       "  <tbody>\n",
       "    <tr>\n",
       "      <th>0</th>\n",
       "      <td>F1_score</td>\n",
       "      <td>0.980392</td>\n",
       "    </tr>\n",
       "    <tr>\n",
       "      <th>1</th>\n",
       "      <td>Recal</td>\n",
       "      <td>1.000000</td>\n",
       "    </tr>\n",
       "    <tr>\n",
       "      <th>2</th>\n",
       "      <td>FPR</td>\n",
       "      <td>0.030769</td>\n",
       "    </tr>\n",
       "    <tr>\n",
       "      <th>3</th>\n",
       "      <td>AUC</td>\n",
       "      <td>0.982609</td>\n",
       "    </tr>\n",
       "    <tr>\n",
       "      <th>4</th>\n",
       "      <td>Precision</td>\n",
       "      <td>0.961538</td>\n",
       "    </tr>\n",
       "  </tbody>\n",
       "</table>\n",
       "</div>"
      ],
      "text/plain": [
       "      Metric  SGD Classifier\n",
       "0   F1_score        0.980392\n",
       "1      Recal        1.000000\n",
       "2        FPR        0.030769\n",
       "3        AUC        0.982609\n",
       "4  Precision        0.961538"
      ]
     },
     "execution_count": 32,
     "metadata": {},
     "output_type": "execute_result"
    }
   ],
   "source": [
    "# printing only the SGD classifier from Result\n",
    "result.loc[:,['Metric','SGD Classifier']]"
   ]
  },
  {
   "cell_type": "markdown",
   "metadata": {},
   "source": [
    "\n",
    "<em><br><h4>2. Support Vector Machine </h4>\n",
    "\n"
   ]
  },
  {
   "cell_type": "code",
   "execution_count": 33,
   "metadata": {},
   "outputs": [
    {
     "data": {
      "text/html": [
       "<div>\n",
       "<style scoped>\n",
       "    .dataframe tbody tr th:only-of-type {\n",
       "        vertical-align: middle;\n",
       "    }\n",
       "\n",
       "    .dataframe tbody tr th {\n",
       "        vertical-align: top;\n",
       "    }\n",
       "\n",
       "    .dataframe thead th {\n",
       "        text-align: right;\n",
       "    }\n",
       "</style>\n",
       "<table border=\"1\" class=\"dataframe\">\n",
       "  <thead>\n",
       "    <tr style=\"text-align: right;\">\n",
       "      <th></th>\n",
       "      <th>Metric</th>\n",
       "      <th>SVM Classifier</th>\n",
       "    </tr>\n",
       "  </thead>\n",
       "  <tbody>\n",
       "    <tr>\n",
       "      <th>0</th>\n",
       "      <td>F1_score</td>\n",
       "      <td>0.950495</td>\n",
       "    </tr>\n",
       "    <tr>\n",
       "      <th>1</th>\n",
       "      <td>Recal</td>\n",
       "      <td>0.960000</td>\n",
       "    </tr>\n",
       "    <tr>\n",
       "      <th>2</th>\n",
       "      <td>FPR</td>\n",
       "      <td>0.046154</td>\n",
       "    </tr>\n",
       "    <tr>\n",
       "      <th>3</th>\n",
       "      <td>AUC</td>\n",
       "      <td>0.956522</td>\n",
       "    </tr>\n",
       "    <tr>\n",
       "      <th>4</th>\n",
       "      <td>Precision</td>\n",
       "      <td>0.941176</td>\n",
       "    </tr>\n",
       "  </tbody>\n",
       "</table>\n",
       "</div>"
      ],
      "text/plain": [
       "      Metric  SVM Classifier\n",
       "0   F1_score        0.950495\n",
       "1      Recal        0.960000\n",
       "2        FPR        0.046154\n",
       "3        AUC        0.956522\n",
       "4  Precision        0.941176"
      ]
     },
     "execution_count": 33,
     "metadata": {},
     "output_type": "execute_result"
    }
   ],
   "source": [
    "# Printing only SVM classifier from Result\n",
    "result.loc[:,['Metric','SVM Classifier']]"
   ]
  },
  {
   "cell_type": "markdown",
   "metadata": {
    "id": "_tB9iqYfg-NA"
   },
   "source": [
    "<h2><center> Coding References</center></h2>\n"
   ]
  },
  {
   "cell_type": "markdown",
   "metadata": {},
   "source": [
    "\n",
    "1. [Confusion Matrix](https://www.nbshare.io/notebook/626706996/Learn-And-Code-Confusion-Matrix-With-Python/)\n",
    "2. [SGD Classifier <sup>[1]</sup>](https://www.cs.princeton.edu/courses/archive/fall18/cos324/files/logistic-regression.pdf)\n",
    "3. [SGD Classifier <sup>[2]</sup>]()\n",
    "4. [Pandas <sup>[1]</sup>](https://stackoverflow.com/questions/43772362/how-to-print-a-specific-row-of-a-pandas-dataframe)\n",
    "5. [Pandas <sup>[2]</sup>]()\n",
    "6. [SVM <sup>[1]</sup>]()\n",
    "7. [SVM <sup>[2]</sup>]()\n",
    "8. [SVM <sup>[3]</sup>]()\n",
    "9. [Numpy<sup>[1]</sup>](https://stackoverflow.com/questions/35932223/writing-a-train-test-split-function-with-numpy)\n",
    "\n",
    "\n",
    "<!--> ALP add some references add hyper links in there <--->"
   ]
  },
  {
   "cell_type": "code",
   "execution_count": null,
   "metadata": {},
   "outputs": [],
   "source": []
  }
 ],
 "metadata": {
  "colab": {
   "collapsed_sections": [],
   "name": "Main_Code.ipynb",
   "provenance": []
  },
  "kernelspec": {
   "display_name": "Python 3",
   "language": "python",
   "name": "python3"
  },
  "language_info": {
   "codemirror_mode": {
    "name": "ipython",
    "version": 3
   },
   "file_extension": ".py",
   "mimetype": "text/x-python",
   "name": "python",
   "nbconvert_exporter": "python",
   "pygments_lexer": "ipython3",
   "version": "3.8.8"
  }
 },
 "nbformat": 4,
 "nbformat_minor": 1
}
