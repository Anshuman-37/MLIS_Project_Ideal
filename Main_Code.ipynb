{
 "cells": [
  {
   "cell_type": "code",
   "execution_count": 1,
   "metadata": {
    "id": "e6rrsFyi4Bd9"
   },
   "outputs": [],
   "source": [
    "# This is the main jupyter notebook for the coursework of MLIS \n",
    "## Grp 4B\n",
    "## Authors\n",
    "## Alpaslan Erdag , Anshuman Singh , Yixin Fan\n",
    "## Date - 15/01/2022"
   ]
  },
  {
   "cell_type": "markdown",
   "metadata": {
    "id": "G-IY5zC537OU"
   },
   "source": [
    "<h1> <center> Abstract </center> </h1>\n",
    "​<em>\n",
    "\n",
    "Todo - Write some abstract about the data giving some information about.\n",
    "\n",
    "The data is obtanined from UCI repository which can be obtained from the [here](https://archive.ics.uci.edu/ml/datasets/breast+cancer+wisconsin+%28original%29)\n",
    "</em>"
   ]
  },
  {
   "cell_type": "code",
   "execution_count": 2,
   "metadata": {
    "colab": {
     "base_uri": "https://localhost:8080/"
    },
    "id": "3boaTk7A4FrC",
    "outputId": "28e07a26-0a3f-4422-b507-f887576fdaca"
   },
   "outputs": [
    {
     "name": "stdout",
     "output_type": "stream",
     "text": [
      "Citation Request:\n",
      "   This breast cancer databases was obtained from the University of Wisconsin\n",
      "   Hospitals, Madison from Dr. William H. Wolberg.  If you publish results\n",
      "   when using this database, then please include this information in your\n",
      "   acknowledgements.  Also, please cite one or more of:\n",
      "\n",
      "   1. O. L. Mangasarian and W. H. Wolberg: \"Cancer diagnosis via linear \n",
      "      programming\", SIAM News, Volume 23, Number 5, September 1990, pp 1 & 18.\n",
      "\n",
      "   2. William H. Wolberg and O.L. Mangasarian: \"Multisurface method of \n",
      "      pattern separation for medical diagnosis applied to breast cytology\", \n",
      "      Proceedings of the National Academy of Sciences, U.S.A., Volume 87, \n",
      "      December 1990, pp 9193-9196.\n",
      "\n",
      "   3. O. L. Mangasarian, R. Setiono, and W.H. Wolberg: \"Pattern recognition \n",
      "      via linear programming: Theory and application to medical diagnosis\", \n",
      "      in: \"Large-scale numerical optimization\", Thomas F. Coleman and Yuying\n",
      "      Li, editors, SIAM Publications, Philadelphia 1990, pp 22-30.\n",
      "\n",
      "   4. K. P. Bennett & O. L. Mangasarian: \"Robust linear programming \n",
      "      discrimination of two linearly inseparable sets\", Optimization Methods\n",
      "      and Software 1, 1992, 23-34 (Gordon & Breach Science Publishers).\n",
      "\n",
      "1. Title: Wisconsin Breast Cancer Database (January 8, 1991)\n",
      "\n",
      "2. Sources:\n",
      "   -- Dr. WIlliam H. Wolberg (physician)\n",
      "      University of Wisconsin Hospitals\n",
      "      Madison, Wisconsin\n",
      "      USA\n",
      "   -- Donor: Olvi Mangasarian (mangasarian@cs.wisc.edu)\n",
      "      Received by David W. Aha (aha@cs.jhu.edu)\n",
      "   -- Date: 15 July 1992\n",
      "\n",
      "3. Past Usage:\n",
      "\n",
      "   Attributes 2 through 10 have been used to represent instances.\n",
      "   Each instance has one of 2 possible classes: benign or malignant.\n",
      "\n",
      "   1. Wolberg,~W.~H., \\& Mangasarian,~O.~L. (1990). Multisurface method of \n",
      "      pattern separation for medical diagnosis applied to breast cytology. In\n",
      "      {\\it Proceedings of the National Academy of Sciences}, {\\it 87},\n",
      "      9193--9196.\n",
      "      -- Size of data set: only 369 instances (at that point in time)\n",
      "      -- Collected classification results: 1 trial only\n",
      "      -- Two pairs of parallel hyperplanes were found to be consistent with\n",
      "         50% of the data\n",
      "         -- Accuracy on remaining 50% of dataset: 93.5%\n",
      "      -- Three pairs of parallel hyperplanes were found to be consistent with\n",
      "         67% of data\n",
      "         -- Accuracy on remaining 33% of dataset: 95.9%\n",
      "\n",
      "   2. Zhang,~J. (1992). Selecting typical instances in instance-based\n",
      "      learning.  In {\\it Proceedings of the Ninth International Machine\n",
      "      Learning Conference} (pp. 470--479).  Aberdeen, Scotland: Morgan\n",
      "      Kaufmann.\n",
      "      -- Size of data set: only 369 instances (at that point in time)\n",
      "      -- Applied 4 instance-based learning algorithms \n",
      "      -- Collected classification results averaged over 10 trials\n",
      "      -- Best accuracy result: \n",
      "         -- 1-nearest neighbor: 93.7%\n",
      "         -- trained on 200 instances, tested on the other 169\n",
      "      -- Also of interest:\n",
      "         -- Using only typical instances: 92.2% (storing only 23.1 instances)\n",
      "         -- trained on 200 instances, tested on the other 169\n",
      "\n",
      "4. Relevant Information:\n",
      "\n",
      "   Samples arrive periodically as Dr. Wolberg reports his clinical cases.\n",
      "   The database therefore reflects this chronological grouping of the data.\n",
      "   This grouping information appears immediately below, having been removed\n",
      "   from the data itself:\n",
      "\n",
      "     Group 1: 367 instances (January 1989)\n",
      "     Group 2:  70 instances (October 1989)\n",
      "     Group 3:  31 instances (February 1990)\n",
      "     Group 4:  17 instances (April 1990)\n",
      "     Group 5:  48 instances (August 1990)\n",
      "     Group 6:  49 instances (Updated January 1991)\n",
      "     Group 7:  31 instances (June 1991)\n",
      "     Group 8:  86 instances (November 1991)\n",
      "     -----------------------------------------\n",
      "     Total:   699 points (as of the donated datbase on 15 July 1992)\n",
      "\n",
      "   Note that the results summarized above in Past Usage refer to a dataset\n",
      "   of size 369, while Group 1 has only 367 instances.  This is because it\n",
      "   originally contained 369 instances; 2 were removed.  The following\n",
      "   statements summarizes changes to the original Group 1's set of data:\n",
      "\n",
      "   #####  Group 1 : 367 points: 200B 167M (January 1989)\n",
      "   #####  Revised Jan 10, 1991: Replaced zero bare nuclei in 1080185 & 1187805\n",
      "   #####  Revised Nov 22,1991: Removed 765878,4,5,9,7,10,10,10,3,8,1 no record\n",
      "   #####                  : Removed 484201,2,7,8,8,4,3,10,3,4,1 zero epithelial\n",
      "   #####                  : Changed 0 to 1 in field 6 of sample 1219406\n",
      "   #####                  : Changed 0 to 1 in field 8 of following sample:\n",
      "   #####                  : 1182404,2,3,1,1,1,2,0,1,1,1\n",
      "\n",
      "5. Number of Instances: 699 (as of 15 July 1992)\n",
      "\n",
      "6. Number of Attributes: 10 plus the class attribute\n",
      "\n",
      "7. Attribute Information: (class attribute has been moved to last column)\n",
      "\n",
      "   #  Attribute                     Domain\n",
      "   -- -----------------------------------------\n",
      "   1. Sample code number            id number\n",
      "   2. Clump Thickness               1 - 10\n",
      "   3. Uniformity of Cell Size       1 - 10\n",
      "   4. Uniformity of Cell Shape      1 - 10\n",
      "   5. Marginal Adhesion             1 - 10\n",
      "   6. Single Epithelial Cell Size   1 - 10\n",
      "   7. Bare Nuclei                   1 - 10\n",
      "   8. Bland Chromatin               1 - 10\n",
      "   9. Normal Nucleoli               1 - 10\n",
      "  10. Mitoses                       1 - 10\n",
      "  11. Class:                        (2 for benign, 4 for malignant)\n",
      "\n",
      "8. Missing attribute values: 16\n",
      "\n",
      "   There are 16 instances in Groups 1 to 6 that contain a single missing \n",
      "   (i.e., unavailable) attribute value, now denoted by \"?\".  \n",
      "\n",
      "9. Class distribution:\n",
      " \n",
      "   Benign: 458 (65.5%)\n",
      "   Malignant: 241 (34.5%)\n",
      "\n"
     ]
    }
   ],
   "source": [
    "# Loading the Data\n",
    "about_data ='/Users/anshuman/Desktop/Project_Folder/MLIS_Project_Ideal/breast-cancer-wisconsin.names'\n",
    "#about_data = '/content/breast-cancer-wisconsin.names'\n",
    "with open(about_data) as f:\n",
    "    print(f.read())"
   ]
  },
  {
   "cell_type": "markdown",
   "metadata": {
    "id": "ZN6gh3N24R-W"
   },
   "source": [
    "<h1><center>About code (Suggest a good heading)</center></h1>\n",
    "\n",
    "<h2><em>The code is divided in the following modules/parts/chapters?</h2>\n",
    "<ol>\n",
    "<li> <h4> Data Cleaning and Data Preprocessing </h4></li> \n",
    "<li> <h4>Model Fiting on the clean data </h4></li> \n",
    "<li> <h4>Model Accuracy </h4></li>\n",
    "</ol>\n",
    "</em>"
   ]
  },
  {
   "cell_type": "markdown",
   "metadata": {
    "id": "0TONMQnQ4SDg"
   },
   "source": [
    "<h2><center>1. Data Cleaning and Data Preprocessing</center></h2>\n",
    "\n",
    "<p>To get a good result over model accuracies we are going to first clean the data and then used the cleaned and preprocessed data to train a model. </p>\n",
    "\n",
    "<p> We will be using a systematic approach to clean our data. That will be listed in the following steps</p>\n",
    "<em>\n",
    "&emsp; <li>Data Visulaization</li>\n",
    "&emsp; <li>Checking and Removing nan values</li>\n",
    "&emsp; <li>Removing Useless Attributes</li>\n",
    "&emsp; <li>Deleting Outliers and Data Normalizations</li>\n",
    "</em>"
   ]
  },
  {
   "cell_type": "markdown",
   "metadata": {
    "id": "-daRoybV4SJI"
   },
   "source": [
    "<h3>1.1 Data Visualization </h3>"
   ]
  },
  {
   "cell_type": "markdown",
   "metadata": {
    "id": "dRQhoFvkfl-R"
   },
   "source": [
    "<h4>1.1.1 Code </h4>"
   ]
  },
  {
   "cell_type": "code",
   "execution_count": 3,
   "metadata": {
    "id": "sK9S6Bky4RlC"
   },
   "outputs": [],
   "source": [
    "## Header Files \n",
    "import pandas as pd\n",
    "import numpy as np\n",
    "import warnings\n",
    "warnings.filterwarnings('ignore')\n",
    "import matplotlib.pyplot as plt\n",
    "import seaborn as sns\n",
    "plt.style.use('ggplot')\n",
    "import scipy\n",
    "\n",
    "## Loading Data \n",
    "data = '/Users/anshuman/Desktop/Project_Folder/MLIS_Project_Ideal/breast-cancer-wisconsin.data'\n",
    "#data = '/content/breast-cancer-wisconsin.data'"
   ]
  },
  {
   "cell_type": "code",
   "execution_count": 4,
   "metadata": {
    "id": "xL5c7NTs4omD",
    "scrolled": true
   },
   "outputs": [
    {
     "data": {
      "text/html": [
       "<div>\n",
       "<style scoped>\n",
       "    .dataframe tbody tr th:only-of-type {\n",
       "        vertical-align: middle;\n",
       "    }\n",
       "\n",
       "    .dataframe tbody tr th {\n",
       "        vertical-align: top;\n",
       "    }\n",
       "\n",
       "    .dataframe thead th {\n",
       "        text-align: right;\n",
       "    }\n",
       "</style>\n",
       "<table border=\"1\" class=\"dataframe\">\n",
       "  <thead>\n",
       "    <tr style=\"text-align: right;\">\n",
       "      <th></th>\n",
       "      <th>Samplecodenumber</th>\n",
       "      <th>ClumpThickness</th>\n",
       "      <th>UniformityofCellSize</th>\n",
       "      <th>UniformityofCellShape</th>\n",
       "      <th>MarginalAdhesion</th>\n",
       "      <th>SingleEpithelialCellSize</th>\n",
       "      <th>BareNuclei</th>\n",
       "      <th>BlandChromatin</th>\n",
       "      <th>NormalNucleoli</th>\n",
       "      <th>Mitoses</th>\n",
       "      <th>Class</th>\n",
       "    </tr>\n",
       "  </thead>\n",
       "  <tbody>\n",
       "    <tr>\n",
       "      <th>0</th>\n",
       "      <td>1000025</td>\n",
       "      <td>5</td>\n",
       "      <td>1</td>\n",
       "      <td>1</td>\n",
       "      <td>1</td>\n",
       "      <td>2</td>\n",
       "      <td>1</td>\n",
       "      <td>3</td>\n",
       "      <td>1</td>\n",
       "      <td>1</td>\n",
       "      <td>2</td>\n",
       "    </tr>\n",
       "    <tr>\n",
       "      <th>1</th>\n",
       "      <td>1002945</td>\n",
       "      <td>5</td>\n",
       "      <td>4</td>\n",
       "      <td>4</td>\n",
       "      <td>5</td>\n",
       "      <td>7</td>\n",
       "      <td>10</td>\n",
       "      <td>3</td>\n",
       "      <td>2</td>\n",
       "      <td>1</td>\n",
       "      <td>2</td>\n",
       "    </tr>\n",
       "    <tr>\n",
       "      <th>2</th>\n",
       "      <td>1015425</td>\n",
       "      <td>3</td>\n",
       "      <td>1</td>\n",
       "      <td>1</td>\n",
       "      <td>1</td>\n",
       "      <td>2</td>\n",
       "      <td>2</td>\n",
       "      <td>3</td>\n",
       "      <td>1</td>\n",
       "      <td>1</td>\n",
       "      <td>2</td>\n",
       "    </tr>\n",
       "    <tr>\n",
       "      <th>3</th>\n",
       "      <td>1016277</td>\n",
       "      <td>6</td>\n",
       "      <td>8</td>\n",
       "      <td>8</td>\n",
       "      <td>1</td>\n",
       "      <td>3</td>\n",
       "      <td>4</td>\n",
       "      <td>3</td>\n",
       "      <td>7</td>\n",
       "      <td>1</td>\n",
       "      <td>2</td>\n",
       "    </tr>\n",
       "    <tr>\n",
       "      <th>4</th>\n",
       "      <td>1017023</td>\n",
       "      <td>4</td>\n",
       "      <td>1</td>\n",
       "      <td>1</td>\n",
       "      <td>3</td>\n",
       "      <td>2</td>\n",
       "      <td>1</td>\n",
       "      <td>3</td>\n",
       "      <td>1</td>\n",
       "      <td>1</td>\n",
       "      <td>2</td>\n",
       "    </tr>\n",
       "  </tbody>\n",
       "</table>\n",
       "</div>"
      ],
      "text/plain": [
       "   Samplecodenumber  ClumpThickness  UniformityofCellSize  \\\n",
       "0           1000025               5                     1   \n",
       "1           1002945               5                     4   \n",
       "2           1015425               3                     1   \n",
       "3           1016277               6                     8   \n",
       "4           1017023               4                     1   \n",
       "\n",
       "   UniformityofCellShape  MarginalAdhesion  SingleEpithelialCellSize  \\\n",
       "0                      1                 1                         2   \n",
       "1                      4                 5                         7   \n",
       "2                      1                 1                         2   \n",
       "3                      8                 1                         3   \n",
       "4                      1                 3                         2   \n",
       "\n",
       "  BareNuclei  BlandChromatin  NormalNucleoli  Mitoses  Class  \n",
       "0          1               3               1        1      2  \n",
       "1         10               3               2        1      2  \n",
       "2          2               3               1        1      2  \n",
       "3          4               3               7        1      2  \n",
       "4          1               3               1        1      2  "
      ]
     },
     "execution_count": 4,
     "metadata": {},
     "output_type": "execute_result"
    }
   ],
   "source": [
    "# Nameing the columms\n",
    "col_name = ['Samplecodenumber','ClumpThickness','UniformityofCellSize','UniformityofCellShape',\n",
    "            'MarginalAdhesion','SingleEpithelialCellSize','BareNuclei',\n",
    "            'BlandChromatin','NormalNucleoli','Mitoses','Class']\n",
    "cancerdata = pd.read_csv(data,low_memory=False,names=col_name)\n",
    "cancerdata.head()"
   ]
  },
  {
   "cell_type": "code",
   "execution_count": 5,
   "metadata": {
    "id": "oOGBeeDS4opZ"
   },
   "outputs": [],
   "source": [
    "## Removing attribute that is of no use\n",
    "cancerdata = cancerdata.drop(['Samplecodenumber'], 1)"
   ]
  },
  {
   "cell_type": "code",
   "execution_count": 6,
   "metadata": {
    "id": "nV7-qayy4orv"
   },
   "outputs": [
    {
     "data": {
      "text/plain": [
       "2    458\n",
       "4    241\n",
       "Name: Class, dtype: int64"
      ]
     },
     "execution_count": 6,
     "metadata": {},
     "output_type": "execute_result"
    }
   ],
   "source": [
    "# The number of samples present by class count\n",
    "cancerdata['Class'].value_counts()"
   ]
  },
  {
   "cell_type": "code",
   "execution_count": 7,
   "metadata": {
    "id": "iY_4Kw5F4ous"
   },
   "outputs": [
    {
     "data": {
      "text/html": [
       "<div>\n",
       "<style scoped>\n",
       "    .dataframe tbody tr th:only-of-type {\n",
       "        vertical-align: middle;\n",
       "    }\n",
       "\n",
       "    .dataframe tbody tr th {\n",
       "        vertical-align: top;\n",
       "    }\n",
       "\n",
       "    .dataframe thead th {\n",
       "        text-align: right;\n",
       "    }\n",
       "</style>\n",
       "<table border=\"1\" class=\"dataframe\">\n",
       "  <thead>\n",
       "    <tr style=\"text-align: right;\">\n",
       "      <th></th>\n",
       "      <th>ClumpThickness</th>\n",
       "      <th>UniformityofCellSize</th>\n",
       "      <th>UniformityofCellShape</th>\n",
       "      <th>MarginalAdhesion</th>\n",
       "      <th>SingleEpithelialCellSize</th>\n",
       "      <th>BareNuclei</th>\n",
       "      <th>BlandChromatin</th>\n",
       "      <th>NormalNucleoli</th>\n",
       "      <th>Mitoses</th>\n",
       "      <th>classes</th>\n",
       "    </tr>\n",
       "  </thead>\n",
       "  <tbody>\n",
       "    <tr>\n",
       "      <th>0</th>\n",
       "      <td>5</td>\n",
       "      <td>1</td>\n",
       "      <td>1</td>\n",
       "      <td>1</td>\n",
       "      <td>2</td>\n",
       "      <td>1</td>\n",
       "      <td>3</td>\n",
       "      <td>1</td>\n",
       "      <td>1</td>\n",
       "      <td>0</td>\n",
       "    </tr>\n",
       "    <tr>\n",
       "      <th>1</th>\n",
       "      <td>5</td>\n",
       "      <td>4</td>\n",
       "      <td>4</td>\n",
       "      <td>5</td>\n",
       "      <td>7</td>\n",
       "      <td>10</td>\n",
       "      <td>3</td>\n",
       "      <td>2</td>\n",
       "      <td>1</td>\n",
       "      <td>0</td>\n",
       "    </tr>\n",
       "    <tr>\n",
       "      <th>2</th>\n",
       "      <td>8</td>\n",
       "      <td>10</td>\n",
       "      <td>10</td>\n",
       "      <td>8</td>\n",
       "      <td>7</td>\n",
       "      <td>10</td>\n",
       "      <td>9</td>\n",
       "      <td>7</td>\n",
       "      <td>1</td>\n",
       "      <td>1</td>\n",
       "    </tr>\n",
       "    <tr>\n",
       "      <th>3</th>\n",
       "      <td>1</td>\n",
       "      <td>1</td>\n",
       "      <td>1</td>\n",
       "      <td>1</td>\n",
       "      <td>2</td>\n",
       "      <td>10</td>\n",
       "      <td>3</td>\n",
       "      <td>1</td>\n",
       "      <td>1</td>\n",
       "      <td>0</td>\n",
       "    </tr>\n",
       "    <tr>\n",
       "      <th>4</th>\n",
       "      <td>2</td>\n",
       "      <td>1</td>\n",
       "      <td>1</td>\n",
       "      <td>1</td>\n",
       "      <td>2</td>\n",
       "      <td>1</td>\n",
       "      <td>1</td>\n",
       "      <td>1</td>\n",
       "      <td>5</td>\n",
       "      <td>0</td>\n",
       "    </tr>\n",
       "  </tbody>\n",
       "</table>\n",
       "</div>"
      ],
      "text/plain": [
       "   ClumpThickness  UniformityofCellSize  UniformityofCellShape  \\\n",
       "0               5                     1                      1   \n",
       "1               5                     4                      4   \n",
       "2               8                    10                     10   \n",
       "3               1                     1                      1   \n",
       "4               2                     1                      1   \n",
       "\n",
       "   MarginalAdhesion  SingleEpithelialCellSize BareNuclei  BlandChromatin  \\\n",
       "0                 1                         2          1               3   \n",
       "1                 5                         7         10               3   \n",
       "2                 8                         7         10               9   \n",
       "3                 1                         2         10               3   \n",
       "4                 1                         2          1               1   \n",
       "\n",
       "   NormalNucleoli  Mitoses  classes  \n",
       "0               1        1        0  \n",
       "1               2        1        0  \n",
       "2               7        1        1  \n",
       "3               1        1        0  \n",
       "4               1        5        0  "
      ]
     },
     "execution_count": 7,
     "metadata": {},
     "output_type": "execute_result"
    }
   ],
   "source": [
    "# Making the class counts to similar size\n",
    "Benign = cancerdata[(cancerdata.Class == 2) ].sample(240).index\n",
    "Malignant = cancerdata[(cancerdata.Class == 4) ].sample(240).index\n",
    "cancer = cancerdata.loc[Benign|Malignant]\n",
    "cancer = cancer.reset_index(drop=True)\n",
    "\n",
    "# Making the classess from 2/4 to 0/1 \n",
    "cancer['classes'] = cancer.Class.map({2:0,4:1})\n",
    "cancer = cancer.drop(['Class'], 1)\n",
    "\n",
    "# Printing the updated dataframe\n",
    "cancer.head()"
   ]
  },
  {
   "cell_type": "code",
   "execution_count": 8,
   "metadata": {
    "id": "2gLfIN6F4oxH"
   },
   "outputs": [
    {
     "data": {
      "text/plain": [
       "0    240\n",
       "1    240\n",
       "Name: classes, dtype: int64"
      ]
     },
     "execution_count": 8,
     "metadata": {},
     "output_type": "execute_result"
    }
   ],
   "source": [
    "# Confirming that counts of the classes are similar \n",
    "cancer['classes'].value_counts()\n"
   ]
  },
  {
   "cell_type": "code",
   "execution_count": 9,
   "metadata": {
    "id": "FxwBcGnk429U",
    "scrolled": false
   },
   "outputs": [
    {
     "data": {
      "image/png": "[encoded data removed]",
      "text/plain": [
       "<Figure size 1296x1296 with 9 Axes>"
      ]
     },
     "metadata": {},
     "output_type": "display_data"
    }
   ],
   "source": [
    "# plot date variables and find the variables with similar distributions, keep only one of them.\n",
    "#['ClumpThickness','UniformityofCellSize','UniformityofCellShape','MarginalAdhesion',\n",
    "#'SingleEpithelialCellSize','BareNuclei','BlandChromatin','NormalNucleoli','Mitoses']\n",
    "fig, axs = plt.subplots(3, 3, figsize=(18,18))\n",
    "axs[0,0].hist(cancer['ClumpThickness'])\n",
    "axs[0,0].set_title(\"ClumpThickness\")\n",
    "axs[0,1].hist(cancer['UniformityofCellSize'])\n",
    "axs[0,1].set_title(\"UniformityofCellSize\")\n",
    "axs[0,2].hist(cancer['UniformityofCellShape'])\n",
    "axs[0,2].set_title(\"UniformityofCellShape\")\n",
    "axs[1,0].hist(cancer['MarginalAdhesion'])\n",
    "axs[1,0].set_title(\"MarginalAdhesion\")\n",
    "axs[1,1].hist(cancer['SingleEpithelialCellSize'])\n",
    "axs[1,1].set_title(\"SingleEpithelialCellSize\")\n",
    "axs[1,2].hist(cancer['BareNuclei'])\n",
    "axs[1,2].set_title(\"BareNuclei\")\n",
    "axs[2,0].hist(cancer['BlandChromatin'])\n",
    "axs[2,0].set_title(\"BlandChromatin\")\n",
    "axs[2,1].hist(cancer['NormalNucleoli'])\n",
    "axs[2,1].set_title(\"NormalNucleoli\")\n",
    "axs[2,2].hist(cancer['Mitoses'])\n",
    "axs[2,2].set_title(\"Mitoses\")\n",
    "fig.tight_layout()"
   ]
  },
  {
   "cell_type": "markdown",
   "metadata": {
    "id": "wdpWrB3HWel7"
   },
   "source": [
    "<h4>1.1.2 Observations </h4>\n",
    "<ol>\n",
    "    <li>The class counts is in a 2:1 ratio with benign being 458 and malignant being 241</li>\n",
    "    <li>The graph shows that data is very skewed for every attribute</li>\n",
    "</ol>\n",
    "<h4>1.1.3 Approach </h4>\n",
    "<ol>\n",
    "    <li>First we make the class ratio 1:1 and making data points to 240 for each class</li>\n",
    "</ol>"
   ]
  },
  {
   "cell_type": "markdown",
   "metadata": {
    "id": "fPcTVTlE46vC"
   },
   "source": [
    "<h3>1.2 Checking and Removing nan values</h3>"
   ]
  },
  {
   "cell_type": "markdown",
   "metadata": {
    "id": "wbaWQwlpfyif"
   },
   "source": [
    "<h4>1.2.1 Code </h4>"
   ]
  },
  {
   "cell_type": "code",
   "execution_count": 10,
   "metadata": {
    "id": "dJclAfmh49KE"
   },
   "outputs": [
    {
     "data": {
      "text/plain": [
       "int64     9\n",
       "object    1\n",
       "dtype: int64"
      ]
     },
     "execution_count": 10,
     "metadata": {},
     "output_type": "execute_result"
    }
   ],
   "source": [
    "# Printing all the value counts \n",
    "cancer.dtypes.value_counts()"
   ]
  },
  {
   "cell_type": "code",
   "execution_count": 11,
   "metadata": {
    "id": "3DCa8TIj4_Ty"
   },
   "outputs": [
    {
     "data": {
      "text/html": [
       "<div>\n",
       "<style scoped>\n",
       "    .dataframe tbody tr th:only-of-type {\n",
       "        vertical-align: middle;\n",
       "    }\n",
       "\n",
       "    .dataframe tbody tr th {\n",
       "        vertical-align: top;\n",
       "    }\n",
       "\n",
       "    .dataframe thead th {\n",
       "        text-align: right;\n",
       "    }\n",
       "</style>\n",
       "<table border=\"1\" class=\"dataframe\">\n",
       "  <thead>\n",
       "    <tr style=\"text-align: right;\">\n",
       "      <th></th>\n",
       "      <th>BareNuclei</th>\n",
       "    </tr>\n",
       "  </thead>\n",
       "  <tbody>\n",
       "    <tr>\n",
       "      <th>0</th>\n",
       "      <td>1</td>\n",
       "    </tr>\n",
       "    <tr>\n",
       "      <th>1</th>\n",
       "      <td>10</td>\n",
       "    </tr>\n",
       "    <tr>\n",
       "      <th>2</th>\n",
       "      <td>10</td>\n",
       "    </tr>\n",
       "    <tr>\n",
       "      <th>3</th>\n",
       "      <td>10</td>\n",
       "    </tr>\n",
       "    <tr>\n",
       "      <th>4</th>\n",
       "      <td>1</td>\n",
       "    </tr>\n",
       "    <tr>\n",
       "      <th>...</th>\n",
       "      <td>...</td>\n",
       "    </tr>\n",
       "    <tr>\n",
       "      <th>475</th>\n",
       "      <td>1</td>\n",
       "    </tr>\n",
       "    <tr>\n",
       "      <th>476</th>\n",
       "      <td>2</td>\n",
       "    </tr>\n",
       "    <tr>\n",
       "      <th>477</th>\n",
       "      <td>3</td>\n",
       "    </tr>\n",
       "    <tr>\n",
       "      <th>478</th>\n",
       "      <td>4</td>\n",
       "    </tr>\n",
       "    <tr>\n",
       "      <th>479</th>\n",
       "      <td>5</td>\n",
       "    </tr>\n",
       "  </tbody>\n",
       "</table>\n",
       "<p>480 rows × 1 columns</p>\n",
       "</div>"
      ],
      "text/plain": [
       "    BareNuclei\n",
       "0            1\n",
       "1           10\n",
       "2           10\n",
       "3           10\n",
       "4            1\n",
       "..         ...\n",
       "475          1\n",
       "476          2\n",
       "477          3\n",
       "478          4\n",
       "479          5\n",
       "\n",
       "[480 rows x 1 columns]"
      ]
     },
     "execution_count": 11,
     "metadata": {},
     "output_type": "execute_result"
    }
   ],
   "source": [
    "# Printing data types\n",
    "cancer.select_dtypes('object')"
   ]
  },
  {
   "cell_type": "code",
   "execution_count": 12,
   "metadata": {
    "id": "1CyRzBnb6XnU"
   },
   "outputs": [
    {
     "data": {
      "text/html": [
       "<div>\n",
       "<style scoped>\n",
       "    .dataframe tbody tr th:only-of-type {\n",
       "        vertical-align: middle;\n",
       "    }\n",
       "\n",
       "    .dataframe tbody tr th {\n",
       "        vertical-align: top;\n",
       "    }\n",
       "\n",
       "    .dataframe thead th {\n",
       "        text-align: right;\n",
       "    }\n",
       "</style>\n",
       "<table border=\"1\" class=\"dataframe\">\n",
       "  <thead>\n",
       "    <tr style=\"text-align: right;\">\n",
       "      <th></th>\n",
       "      <th>Count</th>\n",
       "      <th>Percent</th>\n",
       "    </tr>\n",
       "  </thead>\n",
       "  <tbody>\n",
       "    <tr>\n",
       "      <th>BareNuclei</th>\n",
       "      <td>10</td>\n",
       "      <td>2.083333</td>\n",
       "    </tr>\n",
       "  </tbody>\n",
       "</table>\n",
       "</div>"
      ],
      "text/plain": [
       "            Count   Percent\n",
       "BareNuclei     10  2.083333"
      ]
     },
     "execution_count": 12,
     "metadata": {},
     "output_type": "execute_result"
    }
   ],
   "source": [
    "#Replacing nan Values\n",
    "cancer = cancer.replace('?' ,np.nan)\n",
    "\n",
    "##Finding the the count and percentage of values that are missing in the dataframe.\n",
    "null1 = pd.DataFrame({'Count': cancer.isnull().sum(), 'Percent': 100*cancer.isnull().sum()/len(cancer)})\n",
    "\n",
    "##printing columns with null count more than 0\n",
    "null1[null1['Count'] > 0]"
   ]
  },
  {
   "cell_type": "code",
   "execution_count": 13,
   "metadata": {
    "id": "mQKh6EdQ6Xrk"
   },
   "outputs": [],
   "source": [
    "## Filling the columns with nan values with mean of the data\n",
    "cancer[\"BareNuclei\"]=cancer[\"BareNuclei\"].astype(float)\n",
    "cancer=cancer.fillna(cancer.mean())"
   ]
  },
  {
   "cell_type": "markdown",
   "metadata": {
    "id": "PHIdqxDmWMPe"
   },
   "source": [
    "<h4>1.2.2 Observations </h4>\n",
    "<ol>\n",
    "    <li>We obsereve that there is one attribute that is not in integer format</li>\n",
    "    <li>We find that there are nan values in BareNuclei. It also mentioned in the .names file </li>\n",
    "</ol>\n",
    "<h4>1.2.3 Approach </h4>\n",
    "<ol>\n",
    "    <li>We find that BareNuclei is a object type attribute so we convert it to float</li>\n",
    "    <li>We replace nan values in BareNuclei with mean value of BareNuclei</li>\n",
    "</ol>"
   ]
  },
  {
   "cell_type": "markdown",
   "metadata": {
    "id": "uf89AePf6nsZ"
   },
   "source": [
    "<h3>1.3 Removing Useless Attributes </h3>"
   ]
  },
  {
   "cell_type": "markdown",
   "metadata": {
    "id": "aF8wcn9Gf3au"
   },
   "source": [
    "<h4>1.3.1 Code </h4>"
   ]
  },
  {
   "cell_type": "code",
   "execution_count": 14,
   "metadata": {
    "id": "e1xo7hxe6Xv1"
   },
   "outputs": [
    {
     "data": {
      "text/html": [
       "<div>\n",
       "<style scoped>\n",
       "    .dataframe tbody tr th:only-of-type {\n",
       "        vertical-align: middle;\n",
       "    }\n",
       "\n",
       "    .dataframe tbody tr th {\n",
       "        vertical-align: top;\n",
       "    }\n",
       "\n",
       "    .dataframe thead th {\n",
       "        text-align: right;\n",
       "    }\n",
       "</style>\n",
       "<table border=\"1\" class=\"dataframe\">\n",
       "  <thead>\n",
       "    <tr style=\"text-align: right;\">\n",
       "      <th></th>\n",
       "      <th>classes</th>\n",
       "      <th>UniformityofCellShape</th>\n",
       "      <th>UniformityofCellSize</th>\n",
       "      <th>BareNuclei</th>\n",
       "      <th>BlandChromatin</th>\n",
       "      <th>ClumpThickness</th>\n",
       "      <th>NormalNucleoli</th>\n",
       "      <th>MarginalAdhesion</th>\n",
       "      <th>SingleEpithelialCellSize</th>\n",
       "      <th>Mitoses</th>\n",
       "    </tr>\n",
       "  </thead>\n",
       "  <tbody>\n",
       "    <tr>\n",
       "      <th>0</th>\n",
       "      <td>0</td>\n",
       "      <td>1</td>\n",
       "      <td>1</td>\n",
       "      <td>1.0</td>\n",
       "      <td>3</td>\n",
       "      <td>5</td>\n",
       "      <td>1</td>\n",
       "      <td>1</td>\n",
       "      <td>2</td>\n",
       "      <td>1</td>\n",
       "    </tr>\n",
       "    <tr>\n",
       "      <th>1</th>\n",
       "      <td>0</td>\n",
       "      <td>4</td>\n",
       "      <td>4</td>\n",
       "      <td>10.0</td>\n",
       "      <td>3</td>\n",
       "      <td>5</td>\n",
       "      <td>2</td>\n",
       "      <td>5</td>\n",
       "      <td>7</td>\n",
       "      <td>1</td>\n",
       "    </tr>\n",
       "    <tr>\n",
       "      <th>2</th>\n",
       "      <td>1</td>\n",
       "      <td>10</td>\n",
       "      <td>10</td>\n",
       "      <td>10.0</td>\n",
       "      <td>9</td>\n",
       "      <td>8</td>\n",
       "      <td>7</td>\n",
       "      <td>8</td>\n",
       "      <td>7</td>\n",
       "      <td>1</td>\n",
       "    </tr>\n",
       "  </tbody>\n",
       "</table>\n",
       "</div>"
      ],
      "text/plain": [
       "   classes  UniformityofCellShape  UniformityofCellSize  BareNuclei  \\\n",
       "0        0                      1                     1         1.0   \n",
       "1        0                      4                     4        10.0   \n",
       "2        1                     10                    10        10.0   \n",
       "\n",
       "   BlandChromatin  ClumpThickness  NormalNucleoli  MarginalAdhesion  \\\n",
       "0               3               5               1                 1   \n",
       "1               3               5               2                 5   \n",
       "2               9               8               7                 8   \n",
       "\n",
       "   SingleEpithelialCellSize  Mitoses  \n",
       "0                         2        1  \n",
       "1                         7        1  \n",
       "2                         7        1  "
      ]
     },
     "execution_count": 14,
     "metadata": {},
     "output_type": "execute_result"
    }
   ],
   "source": [
    "#Sorting with correlation values\n",
    "corr_list1=cancer.corr()['classes'].abs().sort_values(ascending=False)\n",
    "corr_list_new=corr_list1[corr_list1>0.01].index.values.tolist()\n",
    "corr_list1\n",
    "cancer=cancer[corr_list_new]\n",
    "cancer.head(3)"
   ]
  },
  {
   "cell_type": "code",
   "execution_count": 15,
   "metadata": {
    "id": "5MgSXzzR6XzR"
   },
   "outputs": [
    {
     "data": {
      "text/plain": [
       "classes                   classes                     1.000000\n",
       "UniformityofCellShape     UniformityofCellSize        0.895808\n",
       "                          classes                     0.803072\n",
       "classes                   UniformityofCellSize        0.796929\n",
       "                          BareNuclei                  0.782140\n",
       "                          BlandChromatin              0.743567\n",
       "BlandChromatin            UniformityofCellSize        0.743454\n",
       "UniformityofCellSize      SingleEpithelialCellSize    0.738984\n",
       "UniformityofCellShape     BlandChromatin              0.727062\n",
       "classes                   ClumpThickness              0.711721\n",
       "SingleEpithelialCellSize  UniformityofCellShape       0.706966\n",
       "UniformityofCellShape     NormalNucleoli              0.687596\n",
       "UniformityofCellSize      NormalNucleoli              0.684908\n",
       "classes                   NormalNucleoli              0.683086\n",
       "MarginalAdhesion          UniformityofCellSize        0.679211\n",
       "                          classes                     0.675369\n",
       "classes                   SingleEpithelialCellSize    0.665600\n",
       "UniformityofCellShape     BareNuclei                  0.662473\n",
       "MarginalAdhesion          UniformityofCellShape       0.656916\n",
       "                          BlandChromatin              0.655193\n",
       "BareNuclei                BlandChromatin              0.638048\n",
       "ClumpThickness            UniformityofCellShape       0.633513\n",
       "NormalNucleoli            BlandChromatin              0.633003\n",
       "BareNuclei                UniformityofCellSize        0.629779\n",
       "MarginalAdhesion          BareNuclei                  0.626517\n",
       "ClumpThickness            UniformityofCellSize        0.622056\n",
       "SingleEpithelialCellSize  BlandChromatin              0.598070\n",
       "                          NormalNucleoli              0.586850\n",
       "NormalNucleoli            MarginalAdhesion            0.564019\n",
       "MarginalAdhesion          SingleEpithelialCellSize    0.561853\n",
       "ClumpThickness            BareNuclei                  0.545702\n",
       "BareNuclei                SingleEpithelialCellSize    0.535129\n",
       "ClumpThickness            BlandChromatin              0.525878\n",
       "NormalNucleoli            BareNuclei                  0.514764\n",
       "ClumpThickness            SingleEpithelialCellSize    0.505715\n",
       "NormalNucleoli            ClumpThickness              0.499000\n",
       "SingleEpithelialCellSize  Mitoses                     0.457836\n",
       "MarginalAdhesion          ClumpThickness              0.437883\n",
       "UniformityofCellSize      Mitoses                     0.420927\n",
       "Mitoses                   UniformityofCellShape       0.400466\n",
       "                          NormalNucleoli              0.393565\n",
       "MarginalAdhesion          Mitoses                     0.384396\n",
       "Mitoses                   classes                     0.369525\n",
       "                          ClumpThickness              0.317370\n",
       "                          BlandChromatin              0.301194\n",
       "BareNuclei                Mitoses                     0.279694\n",
       "dtype: float64"
      ]
     },
     "metadata": {},
     "output_type": "display_data"
    }
   ],
   "source": [
    "## To remove outliers first we have to find the correlation between attributes\n",
    "\n",
    "#find the variables with high correlations\n",
    "cor1 = cancer.corr().abs()\n",
    "list1 = cor1.stack().sort_values(ascending=False).drop_duplicates()  \n",
    "high_corr= list1[list1>0.70].index.values.tolist()\n",
    "high_corr.remove(high_corr[0])\n",
    "\n",
    "display(list1)"
   ]
  },
  {
   "cell_type": "code",
   "execution_count": 16,
   "metadata": {
    "id": "x7OKFrzE6X3D"
   },
   "outputs": [],
   "source": [
    "# for variable pairs with high correlation, keep only one of them\n",
    "columnlist=list(cancer.columns)\n",
    "len(high_corr)\n",
    "for i in range(len(high_corr)):\n",
    "    if \"classes\" in high_corr[i]:\n",
    "        columnlist=columnlist\n",
    "    else:\n",
    "        if high_corr[i][0] in columnlist and high_corr[i][1] in columnlist:\n",
    "            columnlist.remove(high_corr[i][1])\n",
    "        else:\n",
    "            columnlist=columnlist\n",
    "cancer_final=cancer[columnlist]"
   ]
  },
  {
   "cell_type": "code",
   "execution_count": 17,
   "metadata": {
    "id": "ZJPMB2Tq6pOq"
   },
   "outputs": [],
   "source": [
    "## Doing a test train split on the data \n",
    "import random\n",
    "from sklearn.model_selection import train_test_split\n",
    "training_data, test_data = train_test_split(cancer_final,random_state=None, shuffle=True)\n",
    "train_x=training_data.drop(['classes'], 1) \n",
    "train_y=training_data[['classes']]\n",
    "test_x=test_data.drop(['classes'], 1)\n",
    "test_y=test_data[['classes']]"
   ]
  },
  {
   "cell_type": "markdown",
   "metadata": {
    "id": "P-oNBnzbV4lI"
   },
   "source": [
    "<h4>1.3.2 Observations </h4>\n",
    "<ol>\n",
    "    <li>We find the correlation list of the attributes</li>\n",
    "</ol>\n",
    "\n",
    "<h4>1.3.3 Approach </h4>\n",
    "<ol>\n",
    "    <li>We remove the attributes that have low correlations from the data frame</li>\n",
    "    <li>We split the data in test and train datasets</li>\n",
    "</ol>"
   ]
  },
  {
   "cell_type": "markdown",
   "metadata": {
    "id": "6mQKJvN27Bfu"
   },
   "source": [
    "<h3>1.4 Deleting Outliers and Data Normalizations</h3>"
   ]
  },
  {
   "cell_type": "markdown",
   "metadata": {
    "id": "tOcvGwDUf8fd"
   },
   "source": [
    "<h4>1.4.1 Code </h4>"
   ]
  },
  {
   "cell_type": "code",
   "execution_count": 18,
   "metadata": {
    "id": "9Z4bemp56pTY"
   },
   "outputs": [],
   "source": [
    "# Remove outliers\n",
    "cancer_norm = cancer_final[(np.abs(scipy.stats.zscore(cancer_final)) < 3).all(axis=1)]\n",
    "# Zero mean normalisation\n",
    "cancer_norm.iloc[:,1:]=(cancer_norm.iloc[:,1:]-cancer_norm.iloc[:,1:].mean())/cancer_norm.iloc[:,1:].std()"
   ]
  },
  {
   "cell_type": "code",
   "execution_count": 19,
   "metadata": {
    "id": "MQpTYu396pXt"
   },
   "outputs": [
    {
     "data": {
      "text/html": [
       "<div>\n",
       "<style scoped>\n",
       "    .dataframe tbody tr th:only-of-type {\n",
       "        vertical-align: middle;\n",
       "    }\n",
       "\n",
       "    .dataframe tbody tr th {\n",
       "        vertical-align: top;\n",
       "    }\n",
       "\n",
       "    .dataframe thead th {\n",
       "        text-align: right;\n",
       "    }\n",
       "</style>\n",
       "<table border=\"1\" class=\"dataframe\">\n",
       "  <thead>\n",
       "    <tr style=\"text-align: right;\">\n",
       "      <th></th>\n",
       "      <th>classes</th>\n",
       "      <th>BareNuclei</th>\n",
       "      <th>ClumpThickness</th>\n",
       "      <th>NormalNucleoli</th>\n",
       "      <th>MarginalAdhesion</th>\n",
       "      <th>SingleEpithelialCellSize</th>\n",
       "      <th>Mitoses</th>\n",
       "    </tr>\n",
       "  </thead>\n",
       "  <tbody>\n",
       "    <tr>\n",
       "      <th>0</th>\n",
       "      <td>0</td>\n",
       "      <td>-0.891048</td>\n",
       "      <td>0.018672</td>\n",
       "      <td>-0.729938</td>\n",
       "      <td>-0.748563</td>\n",
       "      <td>-0.667197</td>\n",
       "      <td>-0.414158</td>\n",
       "    </tr>\n",
       "    <tr>\n",
       "      <th>1</th>\n",
       "      <td>0</td>\n",
       "      <td>1.426954</td>\n",
       "      <td>0.018672</td>\n",
       "      <td>-0.425465</td>\n",
       "      <td>0.558747</td>\n",
       "      <td>1.515491</td>\n",
       "      <td>-0.414158</td>\n",
       "    </tr>\n",
       "    <tr>\n",
       "      <th>2</th>\n",
       "      <td>1</td>\n",
       "      <td>1.426954</td>\n",
       "      <td>1.044875</td>\n",
       "      <td>1.096901</td>\n",
       "      <td>1.539229</td>\n",
       "      <td>1.515491</td>\n",
       "      <td>-0.414158</td>\n",
       "    </tr>\n",
       "    <tr>\n",
       "      <th>3</th>\n",
       "      <td>0</td>\n",
       "      <td>1.426954</td>\n",
       "      <td>-1.349600</td>\n",
       "      <td>-0.729938</td>\n",
       "      <td>-0.748563</td>\n",
       "      <td>-0.667197</td>\n",
       "      <td>-0.414158</td>\n",
       "    </tr>\n",
       "    <tr>\n",
       "      <th>4</th>\n",
       "      <td>0</td>\n",
       "      <td>-0.891048</td>\n",
       "      <td>-1.007532</td>\n",
       "      <td>-0.729938</td>\n",
       "      <td>-0.748563</td>\n",
       "      <td>-0.667197</td>\n",
       "      <td>2.928301</td>\n",
       "    </tr>\n",
       "  </tbody>\n",
       "</table>\n",
       "</div>"
      ],
      "text/plain": [
       "   classes  BareNuclei  ClumpThickness  NormalNucleoli  MarginalAdhesion  \\\n",
       "0        0   -0.891048        0.018672       -0.729938         -0.748563   \n",
       "1        0    1.426954        0.018672       -0.425465          0.558747   \n",
       "2        1    1.426954        1.044875        1.096901          1.539229   \n",
       "3        0    1.426954       -1.349600       -0.729938         -0.748563   \n",
       "4        0   -0.891048       -1.007532       -0.729938         -0.748563   \n",
       "\n",
       "   SingleEpithelialCellSize   Mitoses  \n",
       "0                 -0.667197 -0.414158  \n",
       "1                  1.515491 -0.414158  \n",
       "2                  1.515491 -0.414158  \n",
       "3                 -0.667197 -0.414158  \n",
       "4                 -0.667197  2.928301  "
      ]
     },
     "execution_count": 19,
     "metadata": {},
     "output_type": "execute_result"
    }
   ],
   "source": [
    "#printing the normalized head of the data\n",
    "cancer_norm.head()"
   ]
  },
  {
   "cell_type": "code",
   "execution_count": 20,
   "metadata": {
    "id": "Wkh0puJu6pa3"
   },
   "outputs": [],
   "source": [
    "#split the new dataset\n",
    "training_data_norm, test_data_norm = train_test_split(cancer_norm,random_state=None, shuffle=True)\n",
    "train_x_norm=training_data_norm.drop(['classes'], 1) \n",
    "train_y_norm=training_data_norm[['classes']]\n",
    "test_x_norm=test_data_norm.drop(['classes'], 1)\n",
    "test_y_norm=test_data_norm[['classes']]"
   ]
  },
  {
   "cell_type": "code",
   "execution_count": 21,
   "metadata": {
    "colab": {
     "base_uri": "https://localhost:8080/"
    },
    "id": "xlkLRQkM6pee",
    "outputId": "8fc8fc33-4eb4-440d-dd77-37a6680cef4c",
    "scrolled": true
   },
   "outputs": [
    {
     "name": "stdout",
     "output_type": "stream",
     "text": [
      "X_train Shape : (343, 6)\n",
      "Y_train Shape : (343, 1)\n",
      "X_test Shape  : (115, 6)\n",
      "Y_test Shape  : (115, 1)\n"
     ]
    }
   ],
   "source": [
    "# Print the shape of the data attributes\n",
    "x_train = np.array(train_x_norm)\n",
    "print('X_train Shape :',x_train.shape)\n",
    "y_train = np.array(train_y_norm)\n",
    "print('Y_train Shape :',y_train.shape)\n",
    "x_test = np.array(test_x_norm)\n",
    "print('X_test Shape  :',x_test.shape)\n",
    "y_test = np.array(test_y_norm)\n",
    "print('Y_test Shape  :',y_test.shape)"
   ]
  },
  {
   "cell_type": "code",
   "execution_count": 22,
   "metadata": {},
   "outputs": [
    {
     "name": "stdout",
     "output_type": "stream",
     "text": [
      "(343,)\n",
      "(115,)\n"
     ]
    }
   ],
   "source": [
    "# Changed the shape of the y_train from (x,1) to (x,)\n",
    "y_train=y_train.reshape(len(y_train))\n",
    "print(y_train.shape)\n",
    "y_test=y_test.reshape(len(y_test))\n",
    "print(y_test.shape)"
   ]
  },
  {
   "cell_type": "markdown",
   "metadata": {
    "id": "ezxSeKxKWqBF"
   },
   "source": [
    "<h3>1.5 Conclusion </h3>\n",
    "<ol>\n",
    "    <li>We removed the NAN values from our data and replaced them with mean values</li>\n",
    "    <li>We only keep highly correlated attributes in our final attribute list</li>\n",
    "    <li>We filter our data using the zscores and then normalize it usind mean and standard deviation</li>\n",
    "</ol>"
   ]
  },
  {
   "cell_type": "markdown",
   "metadata": {
    "id": "SNNGSB4Vb2CE"
   },
   "source": [
    "<h2><center>2. Model Fiting on the clean data</center></h2>\n",
    "\n",
    "We have a cleaned and a normalized data now we just have to fit a model over the data and make predictions.\n",
    "We are going to implement 2 models that are implemented by us \n",
    "\n",
    "<ol>\n",
    "    <li>SGD Classifier with Log Loss</li>\n",
    "    <li>SVM with RBF kernel</li>\n",
    "</ol>\n"
   ]
  },
  {
   "cell_type": "markdown",
   "metadata": {
    "id": "LGeB6fiFYPuS"
   },
   "source": [
    "<h3>2.1 SGD Classifier with Log Loss</h3>"
   ]
  },
  {
   "cell_type": "markdown",
   "metadata": {
    "id": "3NIP2zzzYi2e"
   },
   "source": [
    "<h4>2.1.1 Function Call</h4>"
   ]
  },
  {
   "cell_type": "code",
   "execution_count": 23,
   "metadata": {
    "id": "qq2Z7Etj6yun"
   },
   "outputs": [
    {
     "name": "stderr",
     "output_type": "stream",
     "text": [
      " 15%|█▍        | 22/150 [00:00<00:00, 217.15it/s]"
     ]
    },
    {
     "name": "stdout",
     "output_type": "stream",
     "text": [
      "\n",
      "-- Epoch no(iteration no)  1\n",
      "W intercept: [0.07141978 0.04525451 0.05554513 0.0658927  0.06815726 0.02941842], B intercept: -0.0038536729304456856, Train loss: 0.25540, Test loss: 0.25535\n",
      "\n",
      "-- Epoch no(iteration no)  2\n",
      "W intercept: [0.13750354 0.08024637 0.10234387 0.1198771  0.12801393 0.03002072], B intercept: -3.8738017157241306e-05, Train loss: 0.22326, Test loss: 0.22326\n",
      "\n",
      "-- Epoch no(iteration no)  3\n",
      "W intercept: [0.20180367 0.12631584 0.14593504 0.15495339 0.16020849 0.04662048], B intercept: -0.02136571916846573, Train loss: 0.19806, Test loss: 0.19826\n",
      "\n",
      "-- Epoch no(iteration no)  4\n",
      "W intercept: [0.25349902 0.16259745 0.20087038 0.20138963 0.20158547 0.06894517], B intercept: -0.02666453051470452, Train loss: 0.17556, Test loss: 0.17568\n",
      "\n",
      "-- Epoch no(iteration no)  5\n",
      "W intercept: [0.30119212 0.21385707 0.21770961 0.22738322 0.24468214 0.09780128], B intercept: -0.028149881490621333, Train loss: 0.15913, Test loss: 0.15914\n",
      "\n",
      "-- Epoch no(iteration no)  6\n",
      "W intercept: [0.33588756 0.25946642 0.25451639 0.23770184 0.2788245  0.11970489], B intercept: -0.032637089015226196, Train loss: 0.14653, Test loss: 0.14639\n",
      "\n",
      "-- Epoch no(iteration no)  7\n",
      "W intercept: [0.36873856 0.29507142 0.27983373 0.26163481 0.3015764  0.12878517], B intercept: -0.032105122175580605, Train loss: 0.13690, Test loss: 0.13662\n",
      "\n",
      "-- Epoch no(iteration no)  8\n",
      "W intercept: [0.39056896 0.312627   0.3030503  0.28818314 0.31579707 0.14908702], B intercept: -0.03636850427895709, Train loss: 0.13014, Test loss: 0.12981\n",
      "\n",
      "-- Epoch no(iteration no)  9\n",
      "W intercept: [0.42442941 0.33957559 0.32275323 0.30335552 0.33136907 0.15882035], B intercept: -0.027739470271500304, Train loss: 0.12335, Test loss: 0.12324\n",
      "\n",
      "-- Epoch no(iteration no)  10\n",
      "W intercept: [0.4548847  0.36355688 0.34600669 0.32533496 0.35799853 0.16494124], B intercept: -0.03539289610729866, Train loss: 0.11660, Test loss: 0.11642\n",
      "\n",
      "-- Epoch no(iteration no)  11\n",
      "W intercept: [0.48693413 0.38132995 0.37085126 0.35137547 0.37240506 0.16784894], B intercept: -0.030229376790458416, Train loss: 0.11085, Test loss: 0.11084\n",
      "\n",
      "-- Epoch no(iteration no)  12\n",
      "W intercept: [0.51781105 0.39375894 0.38405627 0.3676702  0.37802178 0.17549112], B intercept: -0.04139387801557091, Train loss: 0.10693, Test loss: 0.10721\n",
      "\n",
      "-- Epoch no(iteration no)  13\n",
      "W intercept: [0.53870892 0.41711722 0.41109269 0.38671308 0.39074255 0.18154399], B intercept: -0.042461577680128655, Train loss: 0.10245, Test loss: 0.10264\n",
      "\n",
      "-- Epoch no(iteration no)  14\n",
      "W intercept: [0.55852736 0.4379006  0.42251621 0.4003961  0.40029322 0.19196643], B intercept: -0.03182064601917678, Train loss: 0.09915, Test loss: 0.09942\n",
      "\n",
      "-- Epoch no(iteration no)  15\n",
      "W intercept: [0.58546831 0.45401862 0.43060837 0.41600312 0.41639924 0.18968428], B intercept: -0.015654700272587654, Train loss: 0.09586, Test loss: 0.09630\n",
      "\n",
      "-- Epoch no(iteration no)  16\n",
      "W intercept: [0.61119099 0.46317486 0.44733846 0.4320091  0.43453549 0.18362727], B intercept: -0.008567358726569423, Train loss: 0.09279, Test loss: 0.09337\n",
      "\n",
      "-- Epoch no(iteration no)  17\n",
      "W intercept: [0.63311736 0.47853857 0.46480876 0.44528805 0.44710237 0.1882477 ], B intercept: -0.015143935925751499, Train loss: 0.08994, Test loss: 0.09057\n",
      "\n",
      "-- Epoch no(iteration no)  18\n",
      "W intercept: [0.65420376 0.48999504 0.48008537 0.45726355 0.46352403 0.19468475], B intercept: -0.020419500632083615, Train loss: 0.08740, Test loss: 0.08810\n",
      "\n",
      "-- Epoch no(iteration no)  19\n",
      "W intercept: [0.67331281 0.51380672 0.48540301 0.45981149 0.47521266 0.21733136], B intercept: -0.019863542177389403, Train loss: 0.08509, Test loss: 0.08587\n",
      "\n",
      "-- Epoch no(iteration no)  20\n",
      "W intercept: [0.68518804 0.52767229 0.49524951 0.46620656 0.48652237 0.21853265], B intercept: -0.015051613669551989, Train loss: 0.08349, Test loss: 0.08423\n",
      "\n",
      "-- Epoch no(iteration no)  21\n",
      "W intercept: [0.69806602 0.54570959 0.51338466 0.47858003 0.49762657 0.22547932], B intercept: -0.010129422219746791, Train loss: 0.08138, Test loss: 0.08206\n",
      "\n",
      "-- Epoch no(iteration no)  22\n",
      "W intercept: [0.69992308 0.55630978 0.52304559 0.48528858 0.48728172 0.23698774], B intercept: -0.018533920074837743, Train loss: 0.08075, Test loss: 0.08143\n",
      "\n",
      "-- Epoch no(iteration no)  23\n",
      "W intercept: [0.72414554 0.56717695 0.52903958 0.49205787 0.5011967  0.23668394], B intercept: -0.010019110964578727, Train loss: 0.07895, Test loss: 0.07983\n",
      "\n",
      "-- Epoch no(iteration no)  24\n",
      "W intercept: [0.74189266 0.58066585 0.53564861 0.49989036 0.5154086  0.24035642], B intercept: -0.018188060974141475, Train loss: 0.07739, Test loss: 0.07827\n",
      "\n",
      "-- Epoch no(iteration no)  25\n",
      "W intercept: [0.75681685 0.58337113 0.55453113 0.51478206 0.51963325 0.23762333], B intercept: -0.008870955778081543, Train loss: 0.07601, Test loss: 0.07703\n",
      "\n",
      "-- Epoch no(iteration no)  26\n",
      "W intercept: [0.77713128 0.58969061 0.55794773 0.52696205 0.5194131  0.24573244], B intercept: -0.02155323586037643, Train loss: 0.07486, Test loss: 0.07611\n",
      "\n",
      "-- Epoch no(iteration no)  27\n",
      "W intercept: [0.78730975 0.61344902 0.56806474 0.53396349 0.5204658  0.2466029 ], B intercept: -0.010681782792042285, Train loss: 0.07354, Test loss: 0.07471\n",
      "\n",
      "-- Epoch no(iteration no)  28\n",
      "W intercept: [0.80030237 0.61766367 0.57556635 0.54497905 0.53046432 0.24868325], B intercept: 0.0022476606464184763, Train loss: 0.07245, Test loss: 0.07373\n",
      "\n",
      "-- Epoch no(iteration no)  29\n",
      "W intercept: [0.81898798 0.62971418 0.58055976 0.5532953  0.53871499 0.24955226], B intercept: 0.0068386939321986645, Train loss: 0.07122, Test loss: 0.07260\n",
      "\n",
      "-- Epoch no(iteration no)  30\n",
      "W intercept: [0.83753006 0.63716806 0.59121251 0.56039397 0.54963224 0.24363671], B intercept: 0.012659712872068045, Train loss: 0.07006, Test loss: 0.07154\n",
      "\n",
      "-- Epoch no(iteration no)  31\n",
      "W intercept: [0.85302041 0.64125902 0.60325493 0.56850075 0.55744113 0.24500715], B intercept: 0.011795812720456685, Train loss: 0.06908, Test loss: 0.07067\n",
      "\n",
      "-- Epoch no(iteration no)  32\n",
      "W intercept: [0.86903779 0.65068431 0.60642324 0.57260581 0.56574363 0.24762068], B intercept: 0.01123059230198617, Train loss: 0.06820, Test loss: 0.06989\n",
      "\n",
      "-- Epoch no(iteration no)  33\n",
      "W intercept: [0.87371662 0.67127642 0.61399424 0.57010245 0.57219572 0.26626679], B intercept: 0.015888783902288053, Train loss: 0.06734, Test loss: 0.06898\n",
      "\n",
      "-- Epoch no(iteration no)  34\n",
      "W intercept: [0.88450659 0.67992332 0.61678156 0.57365078 0.57991012 0.26796373], B intercept: 0.02470076872424443, Train loss: 0.06664, Test loss: 0.06833\n",
      "\n",
      "-- Epoch no(iteration no)  35\n",
      "W intercept: [0.8921335  0.68638389 0.62432841 0.58335402 0.577669   0.27130329], B intercept: 0.024931684230913333, Train loss: 0.06606, Test loss: 0.06782\n",
      "\n",
      "-- Epoch no(iteration no)  36\n",
      "W intercept: [0.88822255 0.69646586 0.6356116  0.58946165 0.57146841 0.27989661], B intercept: 0.017521369277149097, Train loss: 0.06577, Test loss: 0.06743\n",
      "\n",
      "-- Epoch no(iteration no)  37\n",
      "W intercept: [0.90554617 0.70135735 0.63830566 0.59323646 0.58601983 0.27920598], B intercept: 0.02142447847306395, Train loss: 0.06497, Test loss: 0.06674\n",
      "\n",
      "-- Epoch no(iteration no)  38\n",
      "W intercept: [0.91601372 0.70918106 0.64399652 0.59911551 0.59351488 0.28284927], B intercept: 0.01484378577977775, Train loss: 0.06435, Test loss: 0.06613\n",
      "\n",
      "-- Epoch no(iteration no)  39\n",
      "W intercept: [0.93133828 0.709007   0.64809263 0.61189541 0.58520073 0.28352862], B intercept: 0.012026756895838412, Train loss: 0.06385, Test loss: 0.06589\n",
      "\n",
      "-- Epoch no(iteration no)  40\n",
      "W intercept: [0.94366113 0.71467822 0.65724134 0.61852031 0.59203836 0.28798115], B intercept: 0.0073837886384786125, Train loss: 0.06319, Test loss: 0.06531\n"
     ]
    },
    {
     "name": "stderr",
     "output_type": "stream",
     "text": [
      "\r",
      " 31%|███▏      | 47/150 [00:00<00:00, 235.08it/s]"
     ]
    },
    {
     "name": "stdout",
     "output_type": "stream",
     "text": [
      "\n",
      "-- Epoch no(iteration no)  41\n",
      "W intercept: [0.95130154 0.73156152 0.66553308 0.62478727 0.59171728 0.28518638], B intercept: 0.017951888996696464, Train loss: 0.06250, Test loss: 0.06456\n",
      "\n",
      "-- Epoch no(iteration no)  42\n",
      "W intercept: [0.95935156 0.73727251 0.66961192 0.63256205 0.59932989 0.28788165], B intercept: 0.03241040072219559, Train loss: 0.06191, Test loss: 0.06402\n",
      "\n",
      "-- Epoch no(iteration no)  43\n",
      "W intercept: [0.97273926 0.74672711 0.67009047 0.63709734 0.60973254 0.28341514], B intercept: 0.04130018276266294, Train loss: 0.06129, Test loss: 0.06340\n",
      "\n",
      "-- Epoch no(iteration no)  44\n",
      "W intercept: [0.99321272 0.74646071 0.67735555 0.64061705 0.61333807 0.28165471], B intercept: 0.04595919566752399, Train loss: 0.06067, Test loss: 0.06305\n",
      "\n",
      "-- Epoch no(iteration no)  45\n",
      "W intercept: [1.00092319 0.75071971 0.68795728 0.64766984 0.6191508  0.28334356], B intercept: 0.043385588351478925, Train loss: 0.06020, Test loss: 0.06259\n",
      "\n",
      "-- Epoch no(iteration no)  46\n",
      "W intercept: [1.01344356 0.75843279 0.68998939 0.65049027 0.62551708 0.28492729], B intercept: 0.04243760333294515, Train loss: 0.05972, Test loss: 0.06217\n",
      "\n",
      "-- Epoch no(iteration no)  47\n",
      "W intercept: [1.01681724 0.77775253 0.69436562 0.64476893 0.62906361 0.30106728], B intercept: 0.05044117582329723, Train loss: 0.05922, Test loss: 0.06166\n",
      "\n",
      "-- Epoch no(iteration no)  48\n",
      "W intercept: [1.02311649 0.78246741 0.69634433 0.64901656 0.63569605 0.30241687], B intercept: 0.05796465411287371, Train loss: 0.05886, Test loss: 0.06132\n"
     ]
    },
    {
     "name": "stderr",
     "output_type": "stream",
     "text": [
      "\r",
      " 47%|████▋     | 71/150 [00:00<00:00, 232.47it/s]"
     ]
    },
    {
     "name": "stdout",
     "output_type": "stream",
     "text": [
      "\n",
      "-- Epoch no(iteration no)  49\n",
      "W intercept: [1.02299569 0.78610699 0.70236645 0.66146358 0.62910413 0.30709978], B intercept: 0.05576556190234181, Train loss: 0.05865, Test loss: 0.06113\n",
      "\n",
      "-- Epoch no(iteration no)  50\n",
      "W intercept: [1.02640679 0.79086192 0.70722056 0.65916086 0.62661779 0.31038788], B intercept: 0.055372502260885664, Train loss: 0.05849, Test loss: 0.06102\n",
      "\n",
      "-- Epoch no(iteration no)  51\n",
      "W intercept: [1.03662755 0.79664508 0.71154018 0.66359102 0.63497754 0.31147309], B intercept: 0.05393433851642324, Train loss: 0.05807, Test loss: 0.06062\n",
      "\n",
      "-- Epoch no(iteration no)  52\n",
      "W intercept: [1.04417143 0.80270316 0.7186367  0.66801074 0.63969336 0.31365325], B intercept: 0.0503384807782158, Train loss: 0.05771, Test loss: 0.06027\n",
      "\n",
      "-- Epoch no(iteration no)  53\n",
      "W intercept: [1.05917524 0.80188427 0.71659774 0.67789549 0.63249105 0.31460547], B intercept: 0.046175056126711606, Train loss: 0.05743, Test loss: 0.06025\n",
      "\n",
      "-- Epoch no(iteration no)  54\n",
      "W intercept: [1.06778955 0.80480759 0.72545379 0.6851854  0.6378324  0.3187541 ], B intercept: 0.04071536989847, Train loss: 0.05706, Test loss: 0.05993\n",
      "\n",
      "-- Epoch no(iteration no)  55\n",
      "W intercept: [1.07161015 0.81979736 0.73138999 0.68489883 0.63440677 0.32246713], B intercept: 0.05426972838599426, Train loss: 0.05666, Test loss: 0.05954\n",
      "\n",
      "-- Epoch no(iteration no)  56\n",
      "W intercept: [1.08120654 0.82309676 0.73420454 0.69445786 0.64310788 0.3178567 ], B intercept: 0.06778598260601572, Train loss: 0.05622, Test loss: 0.05911\n",
      "\n",
      "-- Epoch no(iteration no)  57\n",
      "W intercept: [1.09039657 0.83069359 0.73752198 0.70002778 0.65048782 0.3134704 ], B intercept: 0.0747069566181456, Train loss: 0.05583, Test loss: 0.05869\n",
      "\n",
      "-- Epoch no(iteration no)  58\n",
      "W intercept: [1.10639306 0.83095524 0.74198628 0.70180807 0.65312566 0.31167061], B intercept: 0.07973585854026251, Train loss: 0.05546, Test loss: 0.05851\n",
      "\n",
      "-- Epoch no(iteration no)  59\n",
      "W intercept: [1.11452531 0.83435508 0.74932951 0.70592071 0.65901842 0.31411982], B intercept: 0.07582249216748894, Train loss: 0.05516, Test loss: 0.05825\n",
      "\n",
      "-- Epoch no(iteration no)  60\n",
      "W intercept: [1.12410368 0.84544765 0.74764832 0.70499251 0.66095195 0.32455491], B intercept: 0.07888740211790574, Train loss: 0.05482, Test loss: 0.05801\n",
      "\n",
      "-- Epoch no(iteration no)  61\n",
      "W intercept: [1.12920426 0.85405682 0.75361725 0.70190081 0.66636988 0.33081584], B intercept: 0.08075830354390412, Train loss: 0.05455, Test loss: 0.05775\n",
      "\n",
      "-- Epoch no(iteration no)  62\n",
      "W intercept: [1.12819525 0.85910695 0.75789826 0.71102009 0.67272395 0.33169318], B intercept: 0.09466470722095958, Train loss: 0.05429, Test loss: 0.05740\n",
      "\n",
      "-- Epoch no(iteration no)  63\n",
      "W intercept: [1.12053485 0.86345342 0.76132538 0.71281719 0.65321783 0.33876244], B intercept: 0.08261607852090573, Train loss: 0.05444, Test loss: 0.05760\n",
      "\n",
      "-- Epoch no(iteration no)  64\n",
      "W intercept: [1.13277489 0.86586532 0.76186767 0.71402424 0.66157427 0.33748716], B intercept: 0.08823334201739785, Train loss: 0.05414, Test loss: 0.05738\n",
      "\n",
      "-- Epoch no(iteration no)  65\n",
      "W intercept: [1.14017835 0.87096695 0.76602715 0.71817321 0.66669502 0.33805875], B intercept: 0.08695161154050957, Train loss: 0.05388, Test loss: 0.05713\n",
      "\n",
      "-- Epoch no(iteration no)  66\n",
      "W intercept: [1.14870622 0.87107392 0.77403665 0.72422511 0.66764726 0.33621708], B intercept: 0.08873949244423335, Train loss: 0.05363, Test loss: 0.05696\n",
      "\n",
      "-- Epoch no(iteration no)  67\n",
      "W intercept: [1.16120855 0.87224451 0.77037585 0.7314903  0.66149255 0.34258023], B intercept: 0.07516233607523633, Train loss: 0.05348, Test loss: 0.05703\n",
      "\n",
      "-- Epoch no(iteration no)  68\n",
      "W intercept: [1.16769898 0.88064032 0.78096126 0.73669365 0.66460193 0.34394239], B intercept: 0.0799559135834624, Train loss: 0.05312, Test loss: 0.05667\n",
      "\n",
      "-- Epoch no(iteration no)  69\n",
      "W intercept: [1.16752846 0.88910439 0.78104821 0.73921446 0.66992291 0.34605268], B intercept: 0.09228788163121654, Train loss: 0.05291, Test loss: 0.05639\n",
      "\n",
      "-- Epoch no(iteration no)  70\n",
      "W intercept: [1.17896027 0.89427932 0.78179782 0.74331996 0.67026752 0.34332476], B intercept: 0.102410686389526, Train loss: 0.05261, Test loss: 0.05618\n",
      "\n",
      "-- Epoch no(iteration no)  71\n",
      "W intercept: [1.19115069 0.89892438 0.78568345 0.74491588 0.67644626 0.33743342], B intercept: 0.11164129487590191, Train loss: 0.05230, Test loss: 0.05590\n",
      "\n",
      "-- Epoch no(iteration no)  72\n",
      "W intercept: [1.19997607 0.8992462  0.79075438 0.74929421 0.68026915 0.33748943], B intercept: 0.11209525565085061, Train loss: 0.05209, Test loss: 0.05576\n",
      "\n",
      "-- Epoch no(iteration no)  73\n",
      "W intercept: [1.20574031 0.90207509 0.79498062 0.75210552 0.68477593 0.33971463], B intercept: 0.10852782417912726, Train loss: 0.05193, Test loss: 0.05562\n",
      "\n",
      "-- Epoch no(iteration no)  74\n",
      "W intercept: [1.21233985 0.91521055 0.7951235  0.74919079 0.68771405 0.35512109], B intercept: 0.11296261971469106, Train loss: 0.05163, Test loss: 0.05542\n",
      "\n",
      "-- Epoch no(iteration no)  75\n",
      "W intercept: [1.21498778 0.91970599 0.7946159  0.75022967 0.69022509 0.35169344], B intercept: 0.12180693635022063, Train loss: 0.05150, Test loss: 0.05526\n",
      "\n",
      "-- Epoch no(iteration no)  76\n",
      "W intercept: [1.21656749 0.92508691 0.8032397  0.75618149 0.69120455 0.35838684], B intercept: 0.1206749260330627, Train loss: 0.05131, Test loss: 0.05508\n",
      "\n",
      "-- Epoch no(iteration no)  77\n",
      "W intercept: [1.20794559 0.92694325 0.8053802  0.75794947 0.67581503 0.36271292], B intercept: 0.11540332819373804, Train loss: 0.05144, Test loss: 0.05523\n",
      "\n",
      "-- Epoch no(iteration no)  78\n",
      "W intercept: [1.21922475 0.92921767 0.80595902 0.75906289 0.68350536 0.36085287], B intercept: 0.12049731635956004, Train loss: 0.05121, Test loss: 0.05506\n",
      "\n",
      "-- Epoch no(iteration no)  79\n",
      "W intercept: [1.22642536 0.93469641 0.80708525 0.75981569 0.68899254 0.36337966], B intercept: 0.11482470557751884, Train loss: 0.05106, Test loss: 0.05492\n",
      "\n",
      "-- Epoch no(iteration no)  80\n",
      "W intercept: [1.23435933 0.93197005 0.81721995 0.76689249 0.68867834 0.36019352], B intercept: 0.12055993803473065, Train loss: 0.05085, Test loss: 0.05481\n",
      "\n",
      "-- Epoch no(iteration no)  81\n",
      "W intercept: [1.24346072 0.93371661 0.8132645  0.77524775 0.68271195 0.3671445 ], B intercept: 0.1066686326001894, Train loss: 0.05075, Test loss: 0.05489\n",
      "\n",
      "-- Epoch no(iteration no)  82\n",
      "W intercept: [1.24641822 0.94732948 0.81667817 0.77666049 0.68049245 0.36529866], B intercept: 0.11625465608882404, Train loss: 0.05052, Test loss: 0.05460\n",
      "\n",
      "-- Epoch no(iteration no)  83\n",
      "W intercept: [1.2509378  0.94838265 0.82005837 0.7819656  0.68633665 0.36712406], B intercept: 0.128961918767989, Train loss: 0.05031, Test loss: 0.05442\n",
      "\n",
      "-- Epoch no(iteration no)  84\n",
      "W intercept: [1.2589785  0.95770385 0.81847554 0.78244666 0.69324884 0.36318278], B intercept: 0.13658885287669018, Train loss: 0.05009, Test loss: 0.05415\n",
      "\n",
      "-- Epoch no(iteration no)  85\n",
      "W intercept: [1.27518526 0.95437976 0.82266671 0.78490537 0.69517334 0.36024222], B intercept: 0.1438130591556985, Train loss: 0.04985, Test loss: 0.05410\n",
      "\n",
      "-- Epoch no(iteration no)  86\n",
      "W intercept: [1.27955157 0.95650939 0.82949555 0.7891145  0.69887149 0.36126082], B intercept: 0.1417078903352408, Train loss: 0.04971, Test loss: 0.05397\n",
      "\n",
      "-- Epoch no(iteration no)  87\n",
      "W intercept: [1.28801799 0.96081596 0.83015558 0.79043215 0.70221181 0.3617917 ], B intercept: 0.14173330319820648, Train loss: 0.04956, Test loss: 0.05386\n",
      "\n",
      "-- Epoch no(iteration no)  88\n",
      "W intercept: [1.28805546 0.97473901 0.83207678 0.78494059 0.70426089 0.37535759], B intercept: 0.1486218375751642, Train loss: 0.04937, Test loss: 0.05368\n",
      "\n",
      "-- Epoch no(iteration no)  89\n",
      "W intercept: [1.29163025 0.97597829 0.83087083 0.78744062 0.70860685 0.37532049], B intercept: 0.15699460489760875, Train loss: 0.04926, Test loss: 0.05358\n",
      "\n",
      "-- Epoch no(iteration no)  90\n",
      "W intercept: [1.29463297 0.97768716 0.83647532 0.79270931 0.70233633 0.37713755], B intercept: 0.15893862138435982, Train loss: 0.04915, Test loss: 0.05355\n"
     ]
    },
    {
     "name": "stderr",
     "output_type": "stream",
     "text": [
      "\r",
      " 64%|██████▍   | 96/150 [00:00<00:00, 236.50it/s]"
     ]
    },
    {
     "name": "stdout",
     "output_type": "stream",
     "text": [
      "\n",
      "-- Epoch no(iteration no)  91\n",
      "W intercept: [1.28655846 0.97980523 0.83818283 0.79485472 0.69404602 0.38238334], B intercept: 0.1503837830473262, Train loss: 0.04924, Test loss: 0.05363\n",
      "\n",
      "-- Epoch no(iteration no)  92\n",
      "W intercept: [1.29421089 0.98302697 0.84039211 0.79693697 0.69970422 0.38238162], B intercept: 0.15085344896994843, Train loss: 0.04909, Test loss: 0.05350\n",
      "\n",
      "-- Epoch no(iteration no)  93\n",
      "W intercept: [1.29898359 0.98760114 0.84446423 0.79846476 0.70287207 0.38427489], B intercept: 0.14707839721162422, Train loss: 0.04897, Test loss: 0.05339\n",
      "\n",
      "-- Epoch no(iteration no)  94\n",
      "W intercept: [1.30875359 0.98441457 0.84127814 0.80761279 0.6929569  0.38605749], B intercept: 0.14032253265460534, Train loss: 0.04890, Test loss: 0.05354\n",
      "\n",
      "-- Epoch no(iteration no)  95\n",
      "W intercept: [1.31518418 0.98574682 0.84668494 0.81114344 0.69639952 0.38896545], B intercept: 0.13643863481922774, Train loss: 0.04877, Test loss: 0.05348\n",
      "\n",
      "-- Epoch no(iteration no)  96\n",
      "W intercept: [1.31680121 0.99816997 0.85031727 0.80971114 0.69354348 0.39198088], B intercept: 0.14980187390161703, Train loss: 0.04857, Test loss: 0.05326\n",
      "\n",
      "-- Epoch no(iteration no)  97\n",
      "W intercept: [1.32080168 1.00070671 0.85231695 0.81796399 0.69943803 0.38822171], B intercept: 0.15929094222481002, Train loss: 0.04840, Test loss: 0.05305\n",
      "\n",
      "-- Epoch no(iteration no)  98\n",
      "W intercept: [1.32918453 1.00702149 0.85138939 0.81954519 0.70706074 0.38497385], B intercept: 0.16514999172395314, Train loss: 0.04823, Test loss: 0.05284\n"
     ]
    },
    {
     "name": "stderr",
     "output_type": "stream",
     "text": [
      "\r",
      " 80%|████████  | 120/150 [00:00<00:00, 234.40it/s]"
     ]
    },
    {
     "name": "stdout",
     "output_type": "stream",
     "text": [
      "\n",
      "-- Epoch no(iteration no)  99\n",
      "W intercept: [1.34328858 1.00441469 0.8543894  0.82007704 0.70799437 0.38207943], B intercept: 0.17228536066020786, Train loss: 0.04806, Test loss: 0.05283\n",
      "\n",
      "-- Epoch no(iteration no)  100\n",
      "W intercept: [1.34733451 1.00625545 0.86048611 0.82375278 0.71141    0.38311184], B intercept: 0.1708885256835335, Train loss: 0.04795, Test loss: 0.05273\n",
      "\n",
      "-- Epoch no(iteration no)  101\n",
      "W intercept: [1.35371974 1.01399196 0.85893612 0.82277994 0.71223198 0.39179899], B intercept: 0.17371149722495802, Train loss: 0.04779, Test loss: 0.05267\n",
      "\n",
      "-- Epoch no(iteration no)  102\n",
      "W intercept: [1.35523009 1.02344943 0.862784   0.81880269 0.71578131 0.39594016], B intercept: 0.17808419189402444, Train loss: 0.04767, Test loss: 0.05251\n",
      "\n",
      "-- Epoch no(iteration no)  103\n",
      "W intercept: [1.3572169  1.02417921 0.86150432 0.8223431  0.72045116 0.39623541], B intercept: 0.18492452648383695, Train loss: 0.04759, Test loss: 0.05243\n",
      "\n",
      "-- Epoch no(iteration no)  104\n",
      "W intercept: [1.35449405 1.0251047  0.86416133 0.83188486 0.71024906 0.40034262], B intercept: 0.18304383756933748, Train loss: 0.04756, Test loss: 0.05246\n",
      "\n",
      "-- Epoch no(iteration no)  105\n",
      "W intercept: [1.35376499 1.02616138 0.86673686 0.82797922 0.70632733 0.40195207], B intercept: 0.18063442562516147, Train loss: 0.04758, Test loss: 0.05251\n",
      "\n",
      "-- Epoch no(iteration no)  106\n",
      "W intercept: [1.3580621  1.0291579  0.86955653 0.83045275 0.70966877 0.40268965], B intercept: 0.1791528877322103, Train loss: 0.04749, Test loss: 0.05243\n",
      "\n",
      "-- Epoch no(iteration no)  107\n",
      "W intercept: [1.36442669 1.03260766 0.8726767  0.83268719 0.71231324 0.40390216], B intercept: 0.17692704758832759, Train loss: 0.04738, Test loss: 0.05235\n",
      "\n",
      "-- Epoch no(iteration no)  108\n",
      "W intercept: [1.37431104 1.02831908 0.87024272 0.841195   0.70186873 0.40665842], B intercept: 0.16776743022366836, Train loss: 0.04733, Test loss: 0.05254\n",
      "\n",
      "-- Epoch no(iteration no)  109\n",
      "W intercept: [1.37843761 1.03250884 0.87570314 0.84562796 0.70663724 0.40820435], B intercept: 0.1668095549271735, Train loss: 0.04721, Test loss: 0.05241\n",
      "\n",
      "-- Epoch no(iteration no)  110\n",
      "W intercept: [1.37886539 1.04206496 0.87808946 0.84315075 0.70323225 0.41105012], B intercept: 0.18025814831033105, Train loss: 0.04706, Test loss: 0.05227\n",
      "\n",
      "-- Epoch no(iteration no)  111\n",
      "W intercept: [1.38605971 1.04552272 0.87761216 0.84890294 0.70829574 0.4070419 ], B intercept: 0.19131579033296395, Train loss: 0.04690, Test loss: 0.05209\n",
      "\n",
      "-- Epoch no(iteration no)  112\n",
      "W intercept: [1.39427638 1.04799549 0.88018467 0.84943806 0.71419752 0.40200658], B intercept: 0.20040135122402322, Train loss: 0.04676, Test loss: 0.05194\n",
      "\n",
      "-- Epoch no(iteration no)  113\n",
      "W intercept: [1.40182961 1.04869422 0.88284038 0.85218384 0.71656093 0.40182728], B intercept: 0.201052443108328, Train loss: 0.04665, Test loss: 0.05190\n",
      "\n",
      "-- Epoch no(iteration no)  114\n",
      "W intercept: [1.40664581 1.05003759 0.88690879 0.85441947 0.71974627 0.40332971], B intercept: 0.19833346239942384, Train loss: 0.04658, Test loss: 0.05185\n",
      "\n",
      "-- Epoch no(iteration no)  115\n",
      "W intercept: [1.41111116 1.06016446 0.88590655 0.85143789 0.72198558 0.41641011], B intercept: 0.20254797999075502, Train loss: 0.04642, Test loss: 0.05179\n",
      "\n",
      "-- Epoch no(iteration no)  116\n",
      "W intercept: [1.41040896 1.06109968 0.88411075 0.8529707  0.72506884 0.41395371], B intercept: 0.20912301928060964, Train loss: 0.04640, Test loss: 0.05171\n",
      "\n",
      "-- Epoch no(iteration no)  117\n",
      "W intercept: [1.41272189 1.0652005  0.89064081 0.85779295 0.72882276 0.41650944], B intercept: 0.2157249389812578, Train loss: 0.04626, Test loss: 0.05156\n",
      "\n",
      "-- Epoch no(iteration no)  118\n",
      "W intercept: [1.40193673 1.06701151 0.89254512 0.85825028 0.70637889 0.42268999], B intercept: 0.20339533513678928, Train loss: 0.04640, Test loss: 0.05178\n",
      "\n",
      "-- Epoch no(iteration no)  119\n",
      "W intercept: [1.41058788 1.0676032  0.89179772 0.8583111  0.71301164 0.4213042 ], B intercept: 0.20729621511802088, Train loss: 0.04629, Test loss: 0.05171\n",
      "\n",
      "-- Epoch no(iteration no)  120\n",
      "W intercept: [1.41605311 1.0726102  0.89251319 0.85748944 0.71668825 0.42308238], B intercept: 0.2030390400329293, Train loss: 0.04622, Test loss: 0.05166\n",
      "\n",
      "-- Epoch no(iteration no)  121\n",
      "W intercept: [1.42069134 1.06920833 0.90031484 0.86376468 0.71585568 0.42015393], B intercept: 0.20799024424812174, Train loss: 0.04613, Test loss: 0.05162\n",
      "\n",
      "-- Epoch no(iteration no)  122\n",
      "W intercept: [1.42966231 1.06899706 0.89552897 0.87047586 0.70914971 0.42663247], B intercept: 0.1946491843593722, Train loss: 0.04609, Test loss: 0.05178\n",
      "\n",
      "-- Epoch no(iteration no)  123\n",
      "W intercept: [1.43433158 1.07442659 0.90196493 0.87376326 0.71059207 0.42678962], B intercept: 0.19735970552279494, Train loss: 0.04596, Test loss: 0.05166\n",
      "\n",
      "-- Epoch no(iteration no)  124\n",
      "W intercept: [1.43393515 1.08210892 0.89950081 0.87454553 0.71464074 0.4283034 ], B intercept: 0.21126280444928983, Train loss: 0.04585, Test loss: 0.05148\n",
      "\n",
      "-- Epoch no(iteration no)  125\n",
      "W intercept: [1.44056788 1.08580834 0.90057402 0.87753369 0.71398368 0.4261325 ], B intercept: 0.21841017228783013, Train loss: 0.04573, Test loss: 0.05139\n",
      "\n",
      "-- Epoch no(iteration no)  126\n",
      "W intercept: [1.44863004 1.0885674  0.90328633 0.87758351 0.71943949 0.42118604], B intercept: 0.2264947961997434, Train loss: 0.04561, Test loss: 0.05126\n",
      "\n",
      "-- Epoch no(iteration no)  127\n",
      "W intercept: [1.45611671 1.08751585 0.90657563 0.88060389 0.72218162 0.42104356], B intercept: 0.22704147367199634, Train loss: 0.04552, Test loss: 0.05124\n",
      "\n",
      "-- Epoch no(iteration no)  128\n",
      "W intercept: [1.46085174 1.09097608 0.90859721 0.88127312 0.72433683 0.42206441], B intercept: 0.22538367837333106, Train loss: 0.04546, Test loss: 0.05119\n",
      "\n",
      "-- Epoch no(iteration no)  129\n",
      "W intercept: [1.46264202 1.10223866 0.90843718 0.87579186 0.72567144 0.43294223], B intercept: 0.2336384246602836, Train loss: 0.04533, Test loss: 0.05111\n",
      "\n",
      "-- Epoch no(iteration no)  130\n",
      "W intercept: [1.46470401 1.10161237 0.90647709 0.87847155 0.73015817 0.43270653], B intercept: 0.2409046413451382, Train loss: 0.04528, Test loss: 0.05106\n",
      "\n",
      "-- Epoch no(iteration no)  131\n",
      "W intercept: [1.46657108 1.1021805  0.90757463 0.88276349 0.72211358 0.43382214], B intercept: 0.24393240071256744, Train loss: 0.04523, Test loss: 0.05110\n",
      "\n",
      "-- Epoch no(iteration no)  132\n",
      "W intercept: [1.4541597  1.10531891 0.91393213 0.88541176 0.70975206 0.4401739 ], B intercept: 0.23107717479096673, Train loss: 0.04532, Test loss: 0.05117\n",
      "\n",
      "-- Epoch no(iteration no)  133\n",
      "W intercept: [1.46264283 1.10549171 0.91370327 0.88585218 0.7173012  0.43912774], B intercept: 0.23380320333365895, Train loss: 0.04523, Test loss: 0.05111\n",
      "\n",
      "-- Epoch no(iteration no)  134\n",
      "W intercept: [1.46694488 1.10932423 0.91416528 0.88544885 0.72072787 0.44153888], B intercept: 0.22851046345478862, Train loss: 0.04519, Test loss: 0.05108\n",
      "\n",
      "-- Epoch no(iteration no)  135\n",
      "W intercept: [1.47562028 1.10600518 0.91874496 0.89381151 0.71135631 0.44018793], B intercept: 0.22912886589183312, Train loss: 0.04509, Test loss: 0.05116\n",
      "\n",
      "-- Epoch no(iteration no)  136\n",
      "W intercept: [1.47986235 1.1061617  0.91703132 0.89745587 0.71280838 0.44517405], B intercept: 0.21923763965458645, Train loss: 0.04508, Test loss: 0.05123\n",
      "\n",
      "-- Epoch no(iteration no)  137\n",
      "W intercept: [1.48147128 1.11769865 0.9194093  0.89864079 0.71048157 0.44169977], B intercept: 0.22747232332419395, Train loss: 0.04496, Test loss: 0.05103\n",
      "\n",
      "-- Epoch no(iteration no)  138\n",
      "W intercept: [1.48298428 1.11952379 0.9206658  0.90231905 0.71528112 0.44465812], B intercept: 0.24072646882450124, Train loss: 0.04485, Test loss: 0.05093\n",
      "\n",
      "-- Epoch no(iteration no)  139\n",
      "W intercept: [1.48848279 1.12521203 0.91865399 0.90216729 0.72154139 0.44118709], B intercept: 0.2471770159962347, Train loss: 0.04476, Test loss: 0.05078\n",
      "\n",
      "-- Epoch no(iteration no)  140\n",
      "W intercept: [1.5016387  1.12179263 0.92163397 0.90301001 0.72245305 0.43864575], B intercept: 0.2533465074597552, Train loss: 0.04465, Test loss: 0.05081\n",
      "\n",
      "-- Epoch no(iteration no)  141\n",
      "W intercept: [1.50438926 1.1230596  0.92631049 0.90597047 0.7249054  0.43923305], B intercept: 0.2520990777704867, Train loss: 0.04460, Test loss: 0.05076\n"
     ]
    },
    {
     "name": "stderr",
     "output_type": "stream",
     "text": [
      "100%|██████████| 150/150 [00:00<00:00, 240.70it/s]"
     ]
    },
    {
     "name": "stdout",
     "output_type": "stream",
     "text": [
      "\n",
      "-- Epoch no(iteration no)  142\n",
      "W intercept: [1.51088831 1.12594202 0.92698201 0.90690141 0.72747148 0.43967479], B intercept: 0.2516502208494508, Train loss: 0.04453, Test loss: 0.05072\n",
      "\n",
      "-- Epoch no(iteration no)  143\n",
      "W intercept: [1.51049417 1.1376626  0.92781668 0.90112294 0.72832707 0.45044025], B intercept: 0.2586988310942354, Train loss: 0.04443, Test loss: 0.05065\n",
      "\n",
      "-- Epoch no(iteration no)  144\n",
      "W intercept: [1.51157298 1.13634215 0.92594242 0.90442281 0.73281012 0.45030768], B intercept: 0.2653449892281582, Train loss: 0.04439, Test loss: 0.05060\n",
      "\n",
      "-- Epoch no(iteration no)  145\n",
      "W intercept: [1.5078909  1.13706483 0.92795061 0.91330179 0.72133206 0.45379573], B intercept: 0.26251132607027455, Train loss: 0.04438, Test loss: 0.05066\n",
      "\n",
      "-- Epoch no(iteration no)  146\n",
      "W intercept: [1.50429281 1.13739454 0.93027261 0.90898969 0.71545288 0.45603054], B intercept: 0.25927063271013817, Train loss: 0.04442, Test loss: 0.05073\n",
      "\n",
      "-- Epoch no(iteration no)  147\n",
      "W intercept: [1.50882783 1.13944373 0.93216051 0.91083097 0.71924725 0.45644689], B intercept: 0.25841347338863535, Train loss: 0.04436, Test loss: 0.05068\n",
      "\n",
      "-- Epoch no(iteration no)  148\n",
      "W intercept: [1.51237815 1.14303626 0.93466106 0.91091987 0.72168291 0.45828019], B intercept: 0.2544646494143946, Train loss: 0.04432, Test loss: 0.05065\n",
      "\n",
      "-- Epoch no(iteration no)  149\n",
      "W intercept: [1.52053767 1.1397016  0.93006092 0.91908033 0.71144996 0.45989719], B intercept: 0.247903801686934, Train loss: 0.04429, Test loss: 0.05082\n",
      "\n",
      "-- Epoch no(iteration no)  150\n",
      "W intercept: [1.52609533 1.13963799 0.93533245 0.92297914 0.71511941 0.462287  ], B intercept: 0.24443319102632466, Train loss: 0.04422, Test loss: 0.05081\n"
     ]
    },
    {
     "name": "stderr",
     "output_type": "stream",
     "text": [
      "\n"
     ]
    }
   ],
   "source": [
    "## importing self made SGD classifier as Classifier 1 \n",
    "import Sgd_classifier as classfier_1\n",
    "alpha=0.01\n",
    "t_rate=0.0075\n",
    "N=len(x_train)\n",
    "epochs=150\n",
    "w,b,loss_train,loss_test=classfier_1.train_classifier(x_train,y_train,x_test,y_test,epochs,alpha,t_rate)"
   ]
  },
  {
   "cell_type": "markdown",
   "metadata": {
    "id": "PNjgLcYRYcIm"
   },
   "source": [
    "<h4>2.1.2 Coding Approach</h4>\n",
    "We send our train data, test data, with learning rate and regularization rate to our classifier. The classifier uses Stochastic gradient descent and updates the weights and bais over the epochs. With each epoch we aim to reduce our loss, when we reach a point where the loss is similar to the loss that was in previous epoch we return then updated weights and bais. These weights and bais that are returned are optimal for making predictions."
   ]
  },
  {
   "cell_type": "markdown",
   "metadata": {
    "id": "ndwbS6ZqaLr3"
   },
   "source": [
    "<h3>2.2 SVM with RBF kernel </h3>"
   ]
  },
  {
   "cell_type": "markdown",
   "metadata": {
    "id": "H-Qtsx6LaTN7"
   },
   "source": [
    "<h4>2.2.1 Function Call</h4>"
   ]
  },
  {
   "cell_type": "code",
   "execution_count": 24,
   "metadata": {},
   "outputs": [],
   "source": [
    "import Svm_classifier as classfier_2\n",
    "\n",
    "a1=classfier_2.SVM(kernel='rbf', C=0.5, max_iter=10, gamma=0.001)\n",
    "a1.fit(x_train,y_train)"
   ]
  },
  {
   "cell_type": "markdown",
   "metadata": {
    "id": "FUu-87k2aXIR"
   },
   "source": [
    "<h4>2.2.2 Coding Approach</h4>\n",
    "\n",
    "<!----> Will be going over the coding how it is done and stuff"
   ]
  },
  {
   "cell_type": "markdown",
   "metadata": {
    "id": "swzuVJ19S1Jr"
   },
   "source": [
    "<h2><center>3. Model Accuracy</center></h2>\n",
    "<em>\n",
    "Here we are going to talk about the model accuracies by using test and train loss graphs, in addition to Confussion Matrix and some ROC curves\n",
    "</em>"
   ]
  },
  {
   "cell_type": "markdown",
   "metadata": {
    "id": "qPy611dMa8Bu"
   },
   "source": [
    "<h3>3.1 Model 1 SGD Classifier with Log Loss</h3>\n"
   ]
  },
  {
   "cell_type": "markdown",
   "metadata": {
    "id": "rI7qXtftah1a"
   },
   "source": [
    "<h4>3.1.1 Prediction accuracies</h4>"
   ]
  },
  {
   "cell_type": "code",
   "execution_count": 25,
   "metadata": {
    "colab": {
     "base_uri": "https://localhost:8080/"
    },
    "id": "057fGPgc6x3_",
    "outputId": "c841cc8b-3706-45a5-886f-2b89fe684824",
    "scrolled": true
   },
   "outputs": [
    {
     "name": "stdout",
     "output_type": "stream",
     "text": [
      "Train_Accuracy : 0.96501\n",
      "Test_Accuracy  : 0.96522\n"
     ]
    }
   ],
   "source": [
    "y_train_pred = classfier_1.predict(w,b,x_train)\n",
    "y_test_pred = classfier_1.predict(w,b,x_test)\n",
    "\n",
    "y_train=y_train.reshape(y_train_pred.shape)\n",
    "print('Train_Accuracy : {:.5f}'.format((y_train ==  y_train_pred).sum() / len(x_train)))\n",
    "y_test=y_test.reshape(y_test_pred.shape)\n",
    "print('Test_Accuracy  : {:.5f}'.format((y_test ==  y_test_pred).sum() / len(x_test)))"
   ]
  },
  {
   "cell_type": "markdown",
   "metadata": {
    "id": "7pAXgaM_bjzs"
   },
   "source": [
    "<h4>3.1.2 Test and Train Loss over Epochs</h4>\n",
    "We will plot graph against the number of epochs with respect to the test and train loss. This will give us insight whether our code is performing gradient descent in a correct manner."
   ]
  },
  {
   "cell_type": "code",
   "execution_count": 26,
   "metadata": {
    "id": "1gK7yssz073T",
    "scrolled": true
   },
   "outputs": [
    {
     "name": "stdout",
     "output_type": "stream",
     "text": [
      "==============================================================================================================\n"
     ]
    },
    {
     "data": {
      "image/png": "[encoded data removed]",
      "text/plain": [
       "<Figure size 1080x504 with 1 Axes>"
      ]
     },
     "metadata": {},
     "output_type": "display_data"
    }
   ],
   "source": [
    "epochs = np.arange(1, epochs+1, 1)\n",
    "plt.figure(figsize=(15, 7))\n",
    "plt.plot(epochs,loss_train, label='Train Loss', c = 'blue')\n",
    "plt.plot(epochs,loss_test, label='Test Loss',c = 'red')\n",
    "plt.title('Epoch vs Train,Test Loss')\n",
    "plt.xlabel(\"Epochs\")\n",
    "plt.ylabel('Loss')\n",
    "plt.legend()\n",
    "print(110*'=')\n"
   ]
  },
  {
   "cell_type": "markdown",
   "metadata": {
    "id": "qcN8YgFwb0gH"
   },
   "source": [
    "<h4>3.1.3 Confusion Matrix and Performance Metrics</h4>\n",
    "The confusion matrix we plot here looks like the table mentioned below :-\n",
    "<table>\n",
    "  <tr>\n",
    "    <th><em><h4>Labels</h4></em></th>\n",
    "    <th><em><h4>Malignant</h4></em></th>\n",
    "    <th><em><h4>Benign</h4></em></th>\n",
    "  </tr>\n",
    "  <tr>\n",
    "    <td><center><em><h4>Predicted Malignant</h4></em></center></td>\n",
    "      <td><center><h5>True Positives</h5></center></td>\n",
    "    <td><center><h5>False Positives</h5></center></td> \n",
    "  </tr>\n",
    "  <tr>\n",
    "     <td><em><h4>Predicted Benign</h4></em></td>\n",
    "     <td><center><h5>False Negatives</h5></center></td>\n",
    "     <td><center><h5>True Negatives</h5></center></td>\n",
    "  </tr>\n",
    "</table>\n",
    "\n"
   ]
  },
  {
   "cell_type": "code",
   "execution_count": 27,
   "metadata": {
    "id": "dwjOiXQsTjjO",
    "scrolled": false
   },
   "outputs": [
    {
     "name": "stdout",
     "output_type": "stream",
     "text": [
      "Confusion Matrix\n",
      " [[50  1]\n",
      " [ 3 61]]\n",
      "False Positive Rate :   0.01613\n",
      "True Positive Rate  :   0.94340\n",
      "Precision of model  :   0.98039\n",
      "Area Under Curve (AUC): 0.96522\n",
      "F1 score of model   :   0.96154\n"
     ]
    }
   ],
   "source": [
    "import confusion_matrix as cm\n",
    "cm_sgd,fpr_sgd,recall_sgd,AUC_score_sgd,precision_sgd,F1_score_sgd= cm.confusion_matrix(y_test, y_test_pred)\n",
    "print('Confusion Matrix\\n',cm_sgd)\n",
    "print('False Positive Rate :   {:.5f}'.format(fpr_sgd))\n",
    "print('True Positive Rate  :   {:.5f}'.format(recall_sgd))\n",
    "print('Precision of model  :   {:.5f}'.format(precision_sgd))\n",
    "print('Area Under Curve (AUC): {:.5f}'.format(AUC_score_sgd))\n",
    "print('F1 score of model   :   {:.5f}'.format(F1_score_sgd))"
   ]
  },
  {
   "cell_type": "markdown",
   "metadata": {},
   "source": [
    "<h3> 3.2 Model 2 SVM with RBF Kernel</h3>"
   ]
  },
  {
   "cell_type": "markdown",
   "metadata": {},
   "source": [
    "<h4>3.2.1 Prediction accuracies</h4>"
   ]
  },
  {
   "cell_type": "code",
   "execution_count": 28,
   "metadata": {},
   "outputs": [
    {
     "name": "stdout",
     "output_type": "stream",
     "text": [
      "Train_Accuracy : 1.0\n",
      "Test_Accuracy  : 0.96522\n"
     ]
    }
   ],
   "source": [
    "y_train_pred_svm = a1.predict(x_train)\n",
    "y_test_pred_svm= a1.predict(x_test)\n",
    "print('Train_Accuracy : {:.1f}'.format((y_train ==  y_train_pred_svm).sum() / len(x_train)))\n",
    "print('Test_Accuracy  : {:.5f}'.format((y_test ==  y_test_pred_svm).sum() / len(x_test)))\n"
   ]
  },
  {
   "cell_type": "markdown",
   "metadata": {},
   "source": [
    "<h4>3.2.2  APLS GRAPH</h4>\n",
    "<!---> Some grpah here ALP  <--->"
   ]
  },
  {
   "cell_type": "code",
   "execution_count": null,
   "metadata": {},
   "outputs": [],
   "source": []
  },
  {
   "cell_type": "markdown",
   "metadata": {},
   "source": [
    "<h4>3.2.3 Confusion Matrix and Performance Metrics</h4> \n",
    "The confusion matrix we plot here looks like the table mentioned below :-\n",
    "<table>\n",
    "  <tr>\n",
    "    <th><em><h4>Labels</h4></em></th>\n",
    "    <th><em><h4>Malignant</h4></em></th>\n",
    "    <th><em><h4>Benign</h4></em></th>\n",
    "  </tr>\n",
    "  <tr>\n",
    "    <td><center><em><h4>Predicted Malignant</h4></em></center></td>\n",
    "      <td><center><h5>True Positives</h5></center></td>\n",
    "    <td><center><h5>False Positives</h5></center></td> \n",
    "  </tr>\n",
    "  <tr>\n",
    "     <td><em><h4>Predicted Benign</h4></em></td>\n",
    "     <td><center><h5>False Negatives</h5></center></td>\n",
    "     <td><center><h5>True Negatives</h5></center></td>\n",
    "  </tr>\n",
    "</table>"
   ]
  },
  {
   "cell_type": "code",
   "execution_count": 29,
   "metadata": {
    "scrolled": true
   },
   "outputs": [
    {
     "name": "stdout",
     "output_type": "stream",
     "text": [
      "Confusion Matrix\n",
      " [[50  1]\n",
      " [ 3 61]]\n",
      "False Positive Rate :   0.01613\n",
      "True Positive Rate  :   0.94340\n",
      "Precision of model  :   0.98039\n",
      "Area Under Curve (AUC): 0.96522\n",
      "F1 score of model   :   0.96154\n"
     ]
    }
   ],
   "source": [
    "import confusion_matrix as cm\n",
    "cm_svm,fpr_svm,recall_svm,AUC_score_svm,precision_svm,F1_score_svm= cm.confusion_matrix(y_test, y_test_pred_svm)\n",
    "print('Confusion Matrix\\n',cm_svm)\n",
    "print('False Positive Rate :   {:.5f}'.format(fpr_svm))\n",
    "print('True Positive Rate  :   {:.5f}'.format(recall_svm))\n",
    "print('Precision of model  :   {:.5f}'.format(precision_svm))\n",
    "print('Area Under Curve (AUC): {:.5f}'.format(AUC_score_svm))\n",
    "print('F1 score of model   :   {:.5f}'.format(F1_score_svm))"
   ]
  },
  {
   "cell_type": "markdown",
   "metadata": {},
   "source": [
    "<h2><center>Model Comparisions</center></h2>\n",
    "\n",
    "<h3><center>Metrics Comparsions</center></h3>\n"
   ]
  },
  {
   "cell_type": "code",
   "execution_count": 30,
   "metadata": {},
   "outputs": [],
   "source": [
    "# Making a data frame of all the result \n",
    "cols = ['Metric' , 'SGD Classifier' , 'SVM Classifier']\n",
    "values = [['F1_score',F1_score_sgd,F1_score_svm] ,[ 'Recal',recall_sgd,recall_svm]\\\n",
    "          ,['FPR',fpr_sgd,fpr_svm],['AUC',AUC_score_sgd,AUC_score_svm]\\\n",
    "          ,['Precision',precision_sgd,precision_svm]]\n",
    "result = pd.DataFrame(values, columns = cols) "
   ]
  },
  {
   "cell_type": "code",
   "execution_count": 31,
   "metadata": {},
   "outputs": [
    {
     "data": {
      "text/html": [
       "<div>\n",
       "<style scoped>\n",
       "    .dataframe tbody tr th:only-of-type {\n",
       "        vertical-align: middle;\n",
       "    }\n",
       "\n",
       "    .dataframe tbody tr th {\n",
       "        vertical-align: top;\n",
       "    }\n",
       "\n",
       "    .dataframe thead th {\n",
       "        text-align: right;\n",
       "    }\n",
       "</style>\n",
       "<table border=\"1\" class=\"dataframe\">\n",
       "  <thead>\n",
       "    <tr style=\"text-align: right;\">\n",
       "      <th></th>\n",
       "      <th>Metric</th>\n",
       "      <th>SGD Classifier</th>\n",
       "      <th>SVM Classifier</th>\n",
       "    </tr>\n",
       "  </thead>\n",
       "  <tbody>\n",
       "    <tr>\n",
       "      <th>0</th>\n",
       "      <td>F1_score</td>\n",
       "      <td>0.961538</td>\n",
       "      <td>0.961538</td>\n",
       "    </tr>\n",
       "    <tr>\n",
       "      <th>1</th>\n",
       "      <td>Recal</td>\n",
       "      <td>0.943396</td>\n",
       "      <td>0.943396</td>\n",
       "    </tr>\n",
       "    <tr>\n",
       "      <th>2</th>\n",
       "      <td>FPR</td>\n",
       "      <td>0.016129</td>\n",
       "      <td>0.016129</td>\n",
       "    </tr>\n",
       "    <tr>\n",
       "      <th>3</th>\n",
       "      <td>AUC</td>\n",
       "      <td>0.965217</td>\n",
       "      <td>0.965217</td>\n",
       "    </tr>\n",
       "    <tr>\n",
       "      <th>4</th>\n",
       "      <td>Precision</td>\n",
       "      <td>0.980392</td>\n",
       "      <td>0.980392</td>\n",
       "    </tr>\n",
       "  </tbody>\n",
       "</table>\n",
       "</div>"
      ],
      "text/plain": [
       "      Metric  SGD Classifier  SVM Classifier\n",
       "0   F1_score        0.961538        0.961538\n",
       "1      Recal        0.943396        0.943396\n",
       "2        FPR        0.016129        0.016129\n",
       "3        AUC        0.965217        0.965217\n",
       "4  Precision        0.980392        0.980392"
      ]
     },
     "execution_count": 31,
     "metadata": {},
     "output_type": "execute_result"
    }
   ],
   "source": [
    "# Printing the result\n",
    "result"
   ]
  },
  {
   "cell_type": "markdown",
   "metadata": {
    "id": "XW2Czt08hhqg"
   },
   "source": [
    "<h2><center>Conclusions</center></h2>\n",
    "We were given a task to implement a model which was meant to classify between Malignant and Benign and measure the performance metrics of the implemented model. To achive the aim of the coursework we made two classification models that perform binary classification for the given dataset. \n",
    "<br> </br>\n",
    "<p>\n",
    "<em>\n",
    "The following are the results obtained for the repesctive implemented models :-\n",
    "<p></em>\n",
    "<em>    \n",
    "    \n",
    "<br><h4>1. Stochastic Gradient Descent Classifier </h4>\n"
   ]
  },
  {
   "cell_type": "code",
   "execution_count": 32,
   "metadata": {},
   "outputs": [
    {
     "data": {
      "text/html": [
       "<div>\n",
       "<style scoped>\n",
       "    .dataframe tbody tr th:only-of-type {\n",
       "        vertical-align: middle;\n",
       "    }\n",
       "\n",
       "    .dataframe tbody tr th {\n",
       "        vertical-align: top;\n",
       "    }\n",
       "\n",
       "    .dataframe thead th {\n",
       "        text-align: right;\n",
       "    }\n",
       "</style>\n",
       "<table border=\"1\" class=\"dataframe\">\n",
       "  <thead>\n",
       "    <tr style=\"text-align: right;\">\n",
       "      <th></th>\n",
       "      <th>Metric</th>\n",
       "      <th>SGD Classifier</th>\n",
       "    </tr>\n",
       "  </thead>\n",
       "  <tbody>\n",
       "    <tr>\n",
       "      <th>0</th>\n",
       "      <td>F1_score</td>\n",
       "      <td>0.961538</td>\n",
       "    </tr>\n",
       "    <tr>\n",
       "      <th>1</th>\n",
       "      <td>Recal</td>\n",
       "      <td>0.943396</td>\n",
       "    </tr>\n",
       "    <tr>\n",
       "      <th>2</th>\n",
       "      <td>FPR</td>\n",
       "      <td>0.016129</td>\n",
       "    </tr>\n",
       "    <tr>\n",
       "      <th>3</th>\n",
       "      <td>AUC</td>\n",
       "      <td>0.965217</td>\n",
       "    </tr>\n",
       "    <tr>\n",
       "      <th>4</th>\n",
       "      <td>Precision</td>\n",
       "      <td>0.980392</td>\n",
       "    </tr>\n",
       "  </tbody>\n",
       "</table>\n",
       "</div>"
      ],
      "text/plain": [
       "      Metric  SGD Classifier\n",
       "0   F1_score        0.961538\n",
       "1      Recal        0.943396\n",
       "2        FPR        0.016129\n",
       "3        AUC        0.965217\n",
       "4  Precision        0.980392"
      ]
     },
     "execution_count": 32,
     "metadata": {},
     "output_type": "execute_result"
    }
   ],
   "source": [
    "# printing only the SGD classifier from Result\n",
    "result.iloc[:,0:2]"
   ]
  },
  {
   "cell_type": "markdown",
   "metadata": {},
   "source": [
    "\n",
    "<em><br><h4>2. Support Vector Machine </h4>\n",
    "\n"
   ]
  },
  {
   "cell_type": "code",
   "execution_count": 33,
   "metadata": {},
   "outputs": [
    {
     "data": {
      "text/html": [
       "<div>\n",
       "<style scoped>\n",
       "    .dataframe tbody tr th:only-of-type {\n",
       "        vertical-align: middle;\n",
       "    }\n",
       "\n",
       "    .dataframe tbody tr th {\n",
       "        vertical-align: top;\n",
       "    }\n",
       "\n",
       "    .dataframe thead th {\n",
       "        text-align: right;\n",
       "    }\n",
       "</style>\n",
       "<table border=\"1\" class=\"dataframe\">\n",
       "  <thead>\n",
       "    <tr style=\"text-align: right;\">\n",
       "      <th></th>\n",
       "      <th>Metric</th>\n",
       "      <th>SVM Classifier</th>\n",
       "    </tr>\n",
       "  </thead>\n",
       "  <tbody>\n",
       "    <tr>\n",
       "      <th>0</th>\n",
       "      <td>F1_score</td>\n",
       "      <td>0.961538</td>\n",
       "    </tr>\n",
       "    <tr>\n",
       "      <th>1</th>\n",
       "      <td>Recal</td>\n",
       "      <td>0.943396</td>\n",
       "    </tr>\n",
       "    <tr>\n",
       "      <th>2</th>\n",
       "      <td>FPR</td>\n",
       "      <td>0.016129</td>\n",
       "    </tr>\n",
       "    <tr>\n",
       "      <th>3</th>\n",
       "      <td>AUC</td>\n",
       "      <td>0.965217</td>\n",
       "    </tr>\n",
       "    <tr>\n",
       "      <th>4</th>\n",
       "      <td>Precision</td>\n",
       "      <td>0.980392</td>\n",
       "    </tr>\n",
       "  </tbody>\n",
       "</table>\n",
       "</div>"
      ],
      "text/plain": [
       "      Metric  SVM Classifier\n",
       "0   F1_score        0.961538\n",
       "1      Recal        0.943396\n",
       "2        FPR        0.016129\n",
       "3        AUC        0.965217\n",
       "4  Precision        0.980392"
      ]
     },
     "execution_count": 33,
     "metadata": {},
     "output_type": "execute_result"
    }
   ],
   "source": [
    "# Printing only SVM classifier from Result\n",
    "result.loc[:,['Metric','SVM Classifier']]"
   ]
  },
  {
   "cell_type": "markdown",
   "metadata": {
    "id": "_tB9iqYfg-NA"
   },
   "source": [
    "<h2><center> Coding References</center></h2>\n"
   ]
  },
  {
   "cell_type": "markdown",
   "metadata": {},
   "source": [
    "\n",
    "1. [Confusion Matrix](https://www.nbshare.io/notebook/626706996/Learn-And-Code-Confusion-Matrix-With-Python/)\n",
    "2. [SGD Classifier <sup>[1]</sup>](https://www.cs.princeton.edu/courses/archive/fall18/cos324/files/logistic-regression.pdf)\n",
    "3. [SGD Classifier <sup>[2]</sup>]()\n",
    "4. [Pandas <sup>[1]</sup>](https://stackoverflow.com/questions/43772362/how-to-print-a-specific-row-of-a-pandas-dataframe)\n",
    "5. [Pandas <sup>[2]</sup>]()\n",
    "6. [SVM <sup>[1]</sup>]()\n",
    "7. [SVM <sup>[2]</sup>]()\n",
    "8. [SVM <sup>[3]</sup>]()\n",
    "\n",
    "<!--> ALP add some references add hyper links in there <--->"
   ]
  },
  {
   "cell_type": "code",
   "execution_count": null,
   "metadata": {},
   "outputs": [],
   "source": []
  }
 ],
 "metadata": {
  "colab": {
   "collapsed_sections": [],
   "name": "Main_Code.ipynb",
   "provenance": []
  },
  "kernelspec": {
   "display_name": "Python 3",
   "language": "python",
   "name": "python3"
  },
  "language_info": {
   "codemirror_mode": {
    "name": "ipython",
    "version": 3
   },
   "file_extension": ".py",
   "mimetype": "text/x-python",
   "name": "python",
   "nbconvert_exporter": "python",
   "pygments_lexer": "ipython3",
   "version": "3.8.8"
  }
 },
 "nbformat": 4,
 "nbformat_minor": 1
}
