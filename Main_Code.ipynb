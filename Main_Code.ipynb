{
 "cells": [
  {
   "cell_type": "code",
   "execution_count": 1,
   "metadata": {
    "id": "e6rrsFyi4Bd9"
   },
   "outputs": [],
   "source": [
    "# This is the main jupyter notebook for the coursework of MLIS \n",
    "## Grp 4B\n",
    "## Authors\n",
    "## Alpaslan Erdag , Anshuman Singh , Yixin Fan\n",
    "## Date - 15/01/2022"
   ]
  },
  {
   "cell_type": "markdown",
   "metadata": {
    "id": "G-IY5zC537OU"
   },
   "source": [
    "<h1> <center> Abstract </center> </h1>\n",
    "​<em>\n",
    "\n",
    "There are many factors that can influence the type of tumor but to various extent. This code will construct machine learning models to predict whether a tumour is malignantor benign based on the observed characters.\n",
    "\n",
    "The data is obtanined from UCI repository which can be obtained from the [here](https://archive.ics.uci.edu/ml/datasets/breast+cancer+wisconsin+%28original%29)\n",
    "</em>"
   ]
  },
  {
   "cell_type": "code",
   "execution_count": 2,
   "metadata": {
    "colab": {
     "base_uri": "https://localhost:8080/"
    },
    "id": "3boaTk7A4FrC",
    "outputId": "28e07a26-0a3f-4422-b507-f887576fdaca"
   },
   "outputs": [
    {
     "name": "stdout",
     "output_type": "stream",
     "text": [
      "Citation Request:\n",
      "   This breast cancer databases was obtained from the University of Wisconsin\n",
      "   Hospitals, Madison from Dr. William H. Wolberg.  If you publish results\n",
      "   when using this database, then please include this information in your\n",
      "   acknowledgements.  Also, please cite one or more of:\n",
      "\n",
      "   1. O. L. Mangasarian and W. H. Wolberg: \"Cancer diagnosis via linear \n",
      "      programming\", SIAM News, Volume 23, Number 5, September 1990, pp 1 & 18.\n",
      "\n",
      "   2. William H. Wolberg and O.L. Mangasarian: \"Multisurface method of \n",
      "      pattern separation for medical diagnosis applied to breast cytology\", \n",
      "      Proceedings of the National Academy of Sciences, U.S.A., Volume 87, \n",
      "      December 1990, pp 9193-9196.\n",
      "\n",
      "   3. O. L. Mangasarian, R. Setiono, and W.H. Wolberg: \"Pattern recognition \n",
      "      via linear programming: Theory and application to medical diagnosis\", \n",
      "      in: \"Large-scale numerical optimization\", Thomas F. Coleman and Yuying\n",
      "      Li, editors, SIAM Publications, Philadelphia 1990, pp 22-30.\n",
      "\n",
      "   4. K. P. Bennett & O. L. Mangasarian: \"Robust linear programming \n",
      "      discrimination of two linearly inseparable sets\", Optimization Methods\n",
      "      and Software 1, 1992, 23-34 (Gordon & Breach Science Publishers).\n",
      "\n",
      "1. Title: Wisconsin Breast Cancer Database (January 8, 1991)\n",
      "\n",
      "2. Sources:\n",
      "   -- Dr. WIlliam H. Wolberg (physician)\n",
      "      University of Wisconsin Hospitals\n",
      "      Madison, Wisconsin\n",
      "      USA\n",
      "   -- Donor: Olvi Mangasarian (mangasarian@cs.wisc.edu)\n",
      "      Received by David W. Aha (aha@cs.jhu.edu)\n",
      "   -- Date: 15 July 1992\n",
      "\n",
      "3. Past Usage:\n",
      "\n",
      "   Attributes 2 through 10 have been used to represent instances.\n",
      "   Each instance has one of 2 possible classes: benign or malignant.\n",
      "\n",
      "   1. Wolberg,~W.~H., \\& Mangasarian,~O.~L. (1990). Multisurface method of \n",
      "      pattern separation for medical diagnosis applied to breast cytology. In\n",
      "      {\\it Proceedings of the National Academy of Sciences}, {\\it 87},\n",
      "      9193--9196.\n",
      "      -- Size of data set: only 369 instances (at that point in time)\n",
      "      -- Collected classification results: 1 trial only\n",
      "      -- Two pairs of parallel hyperplanes were found to be consistent with\n",
      "         50% of the data\n",
      "         -- Accuracy on remaining 50% of dataset: 93.5%\n",
      "      -- Three pairs of parallel hyperplanes were found to be consistent with\n",
      "         67% of data\n",
      "         -- Accuracy on remaining 33% of dataset: 95.9%\n",
      "\n",
      "   2. Zhang,~J. (1992). Selecting typical instances in instance-based\n",
      "      learning.  In {\\it Proceedings of the Ninth International Machine\n",
      "      Learning Conference} (pp. 470--479).  Aberdeen, Scotland: Morgan\n",
      "      Kaufmann.\n",
      "      -- Size of data set: only 369 instances (at that point in time)\n",
      "      -- Applied 4 instance-based learning algorithms \n",
      "      -- Collected classification results averaged over 10 trials\n",
      "      -- Best accuracy result: \n",
      "         -- 1-nearest neighbor: 93.7%\n",
      "         -- trained on 200 instances, tested on the other 169\n",
      "      -- Also of interest:\n",
      "         -- Using only typical instances: 92.2% (storing only 23.1 instances)\n",
      "         -- trained on 200 instances, tested on the other 169\n",
      "\n",
      "4. Relevant Information:\n",
      "\n",
      "   Samples arrive periodically as Dr. Wolberg reports his clinical cases.\n",
      "   The database therefore reflects this chronological grouping of the data.\n",
      "   This grouping information appears immediately below, having been removed\n",
      "   from the data itself:\n",
      "\n",
      "     Group 1: 367 instances (January 1989)\n",
      "     Group 2:  70 instances (October 1989)\n",
      "     Group 3:  31 instances (February 1990)\n",
      "     Group 4:  17 instances (April 1990)\n",
      "     Group 5:  48 instances (August 1990)\n",
      "     Group 6:  49 instances (Updated January 1991)\n",
      "     Group 7:  31 instances (June 1991)\n",
      "     Group 8:  86 instances (November 1991)\n",
      "     -----------------------------------------\n",
      "     Total:   699 points (as of the donated datbase on 15 July 1992)\n",
      "\n",
      "   Note that the results summarized above in Past Usage refer to a dataset\n",
      "   of size 369, while Group 1 has only 367 instances.  This is because it\n",
      "   originally contained 369 instances; 2 were removed.  The following\n",
      "   statements summarizes changes to the original Group 1's set of data:\n",
      "\n",
      "   #####  Group 1 : 367 points: 200B 167M (January 1989)\n",
      "   #####  Revised Jan 10, 1991: Replaced zero bare nuclei in 1080185 & 1187805\n",
      "   #####  Revised Nov 22,1991: Removed 765878,4,5,9,7,10,10,10,3,8,1 no record\n",
      "   #####                  : Removed 484201,2,7,8,8,4,3,10,3,4,1 zero epithelial\n",
      "   #####                  : Changed 0 to 1 in field 6 of sample 1219406\n",
      "   #####                  : Changed 0 to 1 in field 8 of following sample:\n",
      "   #####                  : 1182404,2,3,1,1,1,2,0,1,1,1\n",
      "\n",
      "5. Number of Instances: 699 (as of 15 July 1992)\n",
      "\n",
      "6. Number of Attributes: 10 plus the class attribute\n",
      "\n",
      "7. Attribute Information: (class attribute has been moved to last column)\n",
      "\n",
      "   #  Attribute                     Domain\n",
      "   -- -----------------------------------------\n",
      "   1. Sample code number            id number\n",
      "   2. Clump Thickness               1 - 10\n",
      "   3. Uniformity of Cell Size       1 - 10\n",
      "   4. Uniformity of Cell Shape      1 - 10\n",
      "   5. Marginal Adhesion             1 - 10\n",
      "   6. Single Epithelial Cell Size   1 - 10\n",
      "   7. Bare Nuclei                   1 - 10\n",
      "   8. Bland Chromatin               1 - 10\n",
      "   9. Normal Nucleoli               1 - 10\n",
      "  10. Mitoses                       1 - 10\n",
      "  11. Class:                        (2 for benign, 4 for malignant)\n",
      "\n",
      "8. Missing attribute values: 16\n",
      "\n",
      "   There are 16 instances in Groups 1 to 6 that contain a single missing \n",
      "   (i.e., unavailable) attribute value, now denoted by \"?\".  \n",
      "\n",
      "9. Class distribution:\n",
      " \n",
      "   Benign: 458 (65.5%)\n",
      "   Malignant: 241 (34.5%)\n",
      "\n"
     ]
    }
   ],
   "source": [
    "# Loading the Data\n",
    "about_data ='/Users/anshuman/Desktop/Project_Folder/MLIS_Project_Ideal/breast-cancer-wisconsin.names'\n",
    "#about_data = '/content/breast-cancer-wisconsin.names'\n",
    "with open(about_data) as f:\n",
    "    print(f.read())"
   ]
  },
  {
   "cell_type": "markdown",
   "metadata": {
    "id": "ZN6gh3N24R-W"
   },
   "source": [
    "<h1><center>Code Division</center></h1>\n",
    "\n",
    "<h2><em>The code is divided in the following parts</em></h2>\n",
    "<ol>\n",
    "<li> <h4> Data Cleaning and Data Preprocessing </h4></li> \n",
    "<li> <h4>Model Fiting on the clean data </h4></li> \n",
    "<li> <h4>Model Accuracy </h4></li>\n",
    "</ol>\n",
    "</em>"
   ]
  },
  {
   "cell_type": "markdown",
   "metadata": {
    "id": "0TONMQnQ4SDg"
   },
   "source": [
    "<h2><center>1. Data Cleaning and Data Preprocessing</center></h2>\n",
    "\n",
    "<p>To get a good result over model accuracies we are going to first clean the data and then used the cleaned and preprocessed data to train a model. </p>\n",
    "\n",
    "<p> We will be using a systematic approach to clean our data. That will be listed in the following steps</p>\n",
    "<em>\n",
    "&emsp; <li>Data Visulaization</li>\n",
    "&emsp; <li>Checking and Removing nan values</li>\n",
    "&emsp; <li>Removing Useless Attributes</li>\n",
    "&emsp; <li>Deleting Outliers and Data Normalizations</li>\n",
    "</em>"
   ]
  },
  {
   "cell_type": "markdown",
   "metadata": {
    "id": "-daRoybV4SJI"
   },
   "source": [
    "<h3>1.1 Data Visualization </h3>"
   ]
  },
  {
   "cell_type": "markdown",
   "metadata": {
    "id": "dRQhoFvkfl-R"
   },
   "source": [
    "<h4>1.1.1 Code </h4>"
   ]
  },
  {
   "cell_type": "code",
   "execution_count": 3,
   "metadata": {
    "id": "sK9S6Bky4RlC"
   },
   "outputs": [],
   "source": [
    "## Header Files \n",
    "import pandas as pd\n",
    "import numpy as np\n",
    "import warnings\n",
    "warnings.filterwarnings('ignore')\n",
    "import matplotlib.pyplot as plt\n",
    "import seaborn as sns\n",
    "plt.style.use('ggplot')\n",
    "import scipy\n",
    "\n",
    "## Loading Data \n",
    "data = '/Users/anshuman/Desktop/Project_Folder/MLIS_Project_Ideal/breast-cancer-wisconsin.data'\n",
    "#data = '/content/breast-cancer-wisconsin.data'"
   ]
  },
  {
   "cell_type": "code",
   "execution_count": 4,
   "metadata": {
    "id": "xL5c7NTs4omD",
    "scrolled": true
   },
   "outputs": [
    {
     "data": {
      "text/html": [
       "<div>\n",
       "<style scoped>\n",
       "    .dataframe tbody tr th:only-of-type {\n",
       "        vertical-align: middle;\n",
       "    }\n",
       "\n",
       "    .dataframe tbody tr th {\n",
       "        vertical-align: top;\n",
       "    }\n",
       "\n",
       "    .dataframe thead th {\n",
       "        text-align: right;\n",
       "    }\n",
       "</style>\n",
       "<table border=\"1\" class=\"dataframe\">\n",
       "  <thead>\n",
       "    <tr style=\"text-align: right;\">\n",
       "      <th></th>\n",
       "      <th>Samplecodenumber</th>\n",
       "      <th>ClumpThickness</th>\n",
       "      <th>UniformityofCellSize</th>\n",
       "      <th>UniformityofCellShape</th>\n",
       "      <th>MarginalAdhesion</th>\n",
       "      <th>SingleEpithelialCellSize</th>\n",
       "      <th>BareNuclei</th>\n",
       "      <th>BlandChromatin</th>\n",
       "      <th>NormalNucleoli</th>\n",
       "      <th>Mitoses</th>\n",
       "      <th>Class</th>\n",
       "    </tr>\n",
       "  </thead>\n",
       "  <tbody>\n",
       "    <tr>\n",
       "      <th>0</th>\n",
       "      <td>1000025</td>\n",
       "      <td>5</td>\n",
       "      <td>1</td>\n",
       "      <td>1</td>\n",
       "      <td>1</td>\n",
       "      <td>2</td>\n",
       "      <td>1</td>\n",
       "      <td>3</td>\n",
       "      <td>1</td>\n",
       "      <td>1</td>\n",
       "      <td>2</td>\n",
       "    </tr>\n",
       "    <tr>\n",
       "      <th>1</th>\n",
       "      <td>1002945</td>\n",
       "      <td>5</td>\n",
       "      <td>4</td>\n",
       "      <td>4</td>\n",
       "      <td>5</td>\n",
       "      <td>7</td>\n",
       "      <td>10</td>\n",
       "      <td>3</td>\n",
       "      <td>2</td>\n",
       "      <td>1</td>\n",
       "      <td>2</td>\n",
       "    </tr>\n",
       "    <tr>\n",
       "      <th>2</th>\n",
       "      <td>1015425</td>\n",
       "      <td>3</td>\n",
       "      <td>1</td>\n",
       "      <td>1</td>\n",
       "      <td>1</td>\n",
       "      <td>2</td>\n",
       "      <td>2</td>\n",
       "      <td>3</td>\n",
       "      <td>1</td>\n",
       "      <td>1</td>\n",
       "      <td>2</td>\n",
       "    </tr>\n",
       "    <tr>\n",
       "      <th>3</th>\n",
       "      <td>1016277</td>\n",
       "      <td>6</td>\n",
       "      <td>8</td>\n",
       "      <td>8</td>\n",
       "      <td>1</td>\n",
       "      <td>3</td>\n",
       "      <td>4</td>\n",
       "      <td>3</td>\n",
       "      <td>7</td>\n",
       "      <td>1</td>\n",
       "      <td>2</td>\n",
       "    </tr>\n",
       "    <tr>\n",
       "      <th>4</th>\n",
       "      <td>1017023</td>\n",
       "      <td>4</td>\n",
       "      <td>1</td>\n",
       "      <td>1</td>\n",
       "      <td>3</td>\n",
       "      <td>2</td>\n",
       "      <td>1</td>\n",
       "      <td>3</td>\n",
       "      <td>1</td>\n",
       "      <td>1</td>\n",
       "      <td>2</td>\n",
       "    </tr>\n",
       "  </tbody>\n",
       "</table>\n",
       "</div>"
      ],
      "text/plain": [
       "   Samplecodenumber  ClumpThickness  UniformityofCellSize  \\\n",
       "0           1000025               5                     1   \n",
       "1           1002945               5                     4   \n",
       "2           1015425               3                     1   \n",
       "3           1016277               6                     8   \n",
       "4           1017023               4                     1   \n",
       "\n",
       "   UniformityofCellShape  MarginalAdhesion  SingleEpithelialCellSize  \\\n",
       "0                      1                 1                         2   \n",
       "1                      4                 5                         7   \n",
       "2                      1                 1                         2   \n",
       "3                      8                 1                         3   \n",
       "4                      1                 3                         2   \n",
       "\n",
       "  BareNuclei  BlandChromatin  NormalNucleoli  Mitoses  Class  \n",
       "0          1               3               1        1      2  \n",
       "1         10               3               2        1      2  \n",
       "2          2               3               1        1      2  \n",
       "3          4               3               7        1      2  \n",
       "4          1               3               1        1      2  "
      ]
     },
     "execution_count": 4,
     "metadata": {},
     "output_type": "execute_result"
    }
   ],
   "source": [
    "# Nameing the columms\n",
    "col_name = ['Samplecodenumber','ClumpThickness','UniformityofCellSize','UniformityofCellShape',\n",
    "            'MarginalAdhesion','SingleEpithelialCellSize','BareNuclei',\n",
    "            'BlandChromatin','NormalNucleoli','Mitoses','Class']\n",
    "cancerdata = pd.read_csv(data,low_memory=False,names=col_name)\n",
    "cancerdata.head()"
   ]
  },
  {
   "cell_type": "code",
   "execution_count": 5,
   "metadata": {
    "id": "oOGBeeDS4opZ"
   },
   "outputs": [],
   "source": [
    "## Removing attribute that is of no use\n",
    "cancerdata = cancerdata.drop(['Samplecodenumber'], 1)"
   ]
  },
  {
   "cell_type": "code",
   "execution_count": 6,
   "metadata": {
    "id": "nV7-qayy4orv"
   },
   "outputs": [
    {
     "data": {
      "text/plain": [
       "2    458\n",
       "4    241\n",
       "Name: Class, dtype: int64"
      ]
     },
     "execution_count": 6,
     "metadata": {},
     "output_type": "execute_result"
    }
   ],
   "source": [
    "# The number of samples present by class count\n",
    "cancerdata['Class'].value_counts()"
   ]
  },
  {
   "cell_type": "code",
   "execution_count": 7,
   "metadata": {
    "id": "iY_4Kw5F4ous"
   },
   "outputs": [
    {
     "data": {
      "text/html": [
       "<div>\n",
       "<style scoped>\n",
       "    .dataframe tbody tr th:only-of-type {\n",
       "        vertical-align: middle;\n",
       "    }\n",
       "\n",
       "    .dataframe tbody tr th {\n",
       "        vertical-align: top;\n",
       "    }\n",
       "\n",
       "    .dataframe thead th {\n",
       "        text-align: right;\n",
       "    }\n",
       "</style>\n",
       "<table border=\"1\" class=\"dataframe\">\n",
       "  <thead>\n",
       "    <tr style=\"text-align: right;\">\n",
       "      <th></th>\n",
       "      <th>ClumpThickness</th>\n",
       "      <th>UniformityofCellSize</th>\n",
       "      <th>UniformityofCellShape</th>\n",
       "      <th>MarginalAdhesion</th>\n",
       "      <th>SingleEpithelialCellSize</th>\n",
       "      <th>BareNuclei</th>\n",
       "      <th>BlandChromatin</th>\n",
       "      <th>NormalNucleoli</th>\n",
       "      <th>Mitoses</th>\n",
       "      <th>classes</th>\n",
       "    </tr>\n",
       "  </thead>\n",
       "  <tbody>\n",
       "    <tr>\n",
       "      <th>0</th>\n",
       "      <td>5</td>\n",
       "      <td>1</td>\n",
       "      <td>1</td>\n",
       "      <td>1</td>\n",
       "      <td>2</td>\n",
       "      <td>1</td>\n",
       "      <td>3</td>\n",
       "      <td>1</td>\n",
       "      <td>1</td>\n",
       "      <td>0</td>\n",
       "    </tr>\n",
       "    <tr>\n",
       "      <th>1</th>\n",
       "      <td>5</td>\n",
       "      <td>4</td>\n",
       "      <td>4</td>\n",
       "      <td>5</td>\n",
       "      <td>7</td>\n",
       "      <td>10</td>\n",
       "      <td>3</td>\n",
       "      <td>2</td>\n",
       "      <td>1</td>\n",
       "      <td>0</td>\n",
       "    </tr>\n",
       "    <tr>\n",
       "      <th>2</th>\n",
       "      <td>3</td>\n",
       "      <td>1</td>\n",
       "      <td>1</td>\n",
       "      <td>1</td>\n",
       "      <td>2</td>\n",
       "      <td>2</td>\n",
       "      <td>3</td>\n",
       "      <td>1</td>\n",
       "      <td>1</td>\n",
       "      <td>0</td>\n",
       "    </tr>\n",
       "    <tr>\n",
       "      <th>3</th>\n",
       "      <td>8</td>\n",
       "      <td>10</td>\n",
       "      <td>10</td>\n",
       "      <td>8</td>\n",
       "      <td>7</td>\n",
       "      <td>10</td>\n",
       "      <td>9</td>\n",
       "      <td>7</td>\n",
       "      <td>1</td>\n",
       "      <td>1</td>\n",
       "    </tr>\n",
       "    <tr>\n",
       "      <th>4</th>\n",
       "      <td>1</td>\n",
       "      <td>1</td>\n",
       "      <td>1</td>\n",
       "      <td>1</td>\n",
       "      <td>2</td>\n",
       "      <td>10</td>\n",
       "      <td>3</td>\n",
       "      <td>1</td>\n",
       "      <td>1</td>\n",
       "      <td>0</td>\n",
       "    </tr>\n",
       "  </tbody>\n",
       "</table>\n",
       "</div>"
      ],
      "text/plain": [
       "   ClumpThickness  UniformityofCellSize  UniformityofCellShape  \\\n",
       "0               5                     1                      1   \n",
       "1               5                     4                      4   \n",
       "2               3                     1                      1   \n",
       "3               8                    10                     10   \n",
       "4               1                     1                      1   \n",
       "\n",
       "   MarginalAdhesion  SingleEpithelialCellSize BareNuclei  BlandChromatin  \\\n",
       "0                 1                         2          1               3   \n",
       "1                 5                         7         10               3   \n",
       "2                 1                         2          2               3   \n",
       "3                 8                         7         10               9   \n",
       "4                 1                         2         10               3   \n",
       "\n",
       "   NormalNucleoli  Mitoses  classes  \n",
       "0               1        1        0  \n",
       "1               2        1        0  \n",
       "2               1        1        0  \n",
       "3               7        1        1  \n",
       "4               1        1        0  "
      ]
     },
     "execution_count": 7,
     "metadata": {},
     "output_type": "execute_result"
    }
   ],
   "source": [
    "# Making the class counts to similar size\n",
    "Benign = cancerdata[(cancerdata.Class == 2) ].sample(240).index\n",
    "Malignant = cancerdata[(cancerdata.Class == 4) ].sample(240).index\n",
    "cancer = cancerdata.loc[Benign|Malignant]\n",
    "cancer = cancer.reset_index(drop=True)\n",
    "\n",
    "# Making the classess from 2/4 to 0/1 \n",
    "cancer['classes'] = cancer.Class.map({2:0,4:1})\n",
    "cancer = cancer.drop(['Class'], 1)\n",
    "\n",
    "# Printing the updated dataframe\n",
    "cancer.head()"
   ]
  },
  {
   "cell_type": "code",
   "execution_count": 8,
   "metadata": {
    "id": "2gLfIN6F4oxH"
   },
   "outputs": [
    {
     "data": {
      "text/plain": [
       "0    240\n",
       "1    240\n",
       "Name: classes, dtype: int64"
      ]
     },
     "execution_count": 8,
     "metadata": {},
     "output_type": "execute_result"
    }
   ],
   "source": [
    "# Confirming that counts of the classes are similar \n",
    "cancer['classes'].value_counts()\n"
   ]
  },
  {
   "cell_type": "code",
   "execution_count": 9,
   "metadata": {
    "id": "FxwBcGnk429U",
    "scrolled": false
   },
   "outputs": [
    {
     "data": {
      "image/png": "[encoded data removed]",
      "text/plain": [
       "<Figure size 1296x1296 with 9 Axes>"
      ]
     },
     "metadata": {},
     "output_type": "display_data"
    }
   ],
   "source": [
    "# plot date variables and find the variables with similar distributions, keep only one of them.\n",
    "#['ClumpThickness','UniformityofCellSize','UniformityofCellShape','MarginalAdhesion',\n",
    "#'SingleEpithelialCellSize','BareNuclei','BlandChromatin','NormalNucleoli','Mitoses']\n",
    "fig, axs = plt.subplots(3, 3, figsize=(18,18))\n",
    "axs[0,0].hist(cancer['ClumpThickness'])\n",
    "axs[0,0].set_title(\"ClumpThickness\")\n",
    "axs[0,1].hist(cancer['UniformityofCellSize'])\n",
    "axs[0,1].set_title(\"UniformityofCellSize\")\n",
    "axs[0,2].hist(cancer['UniformityofCellShape'])\n",
    "axs[0,2].set_title(\"UniformityofCellShape\")\n",
    "axs[1,0].hist(cancer['MarginalAdhesion'])\n",
    "axs[1,0].set_title(\"MarginalAdhesion\")\n",
    "axs[1,1].hist(cancer['SingleEpithelialCellSize'])\n",
    "axs[1,1].set_title(\"SingleEpithelialCellSize\")\n",
    "axs[1,2].hist(cancer['BareNuclei'])\n",
    "axs[1,2].set_title(\"BareNuclei\")\n",
    "axs[2,0].hist(cancer['BlandChromatin'])\n",
    "axs[2,0].set_title(\"BlandChromatin\")\n",
    "axs[2,1].hist(cancer['NormalNucleoli'])\n",
    "axs[2,1].set_title(\"NormalNucleoli\")\n",
    "axs[2,2].hist(cancer['Mitoses'])\n",
    "axs[2,2].set_title(\"Mitoses\")\n",
    "fig.tight_layout()"
   ]
  },
  {
   "cell_type": "markdown",
   "metadata": {
    "id": "wdpWrB3HWel7"
   },
   "source": [
    "<h4>1.1.2 Observations </h4>\n",
    "<ol>\n",
    "    <li>The class counts is in a 2:1 ratio with benign being 458 and malignant being 241</li>\n",
    "    <li>The graph shows that data is very skewed for every attribute</li>\n",
    "</ol>\n",
    "<h4>1.1.3 Approach </h4>\n",
    "<ol>\n",
    "    <li>First we make the class ratio 1:1 and making data points to 240 for each class</li>\n",
    "</ol>"
   ]
  },
  {
   "cell_type": "markdown",
   "metadata": {
    "id": "fPcTVTlE46vC"
   },
   "source": [
    "<h3>1.2 Checking and Removing nan values</h3>"
   ]
  },
  {
   "cell_type": "markdown",
   "metadata": {
    "id": "wbaWQwlpfyif"
   },
   "source": [
    "<h4>1.2.1 Code </h4>"
   ]
  },
  {
   "cell_type": "code",
   "execution_count": 10,
   "metadata": {
    "id": "dJclAfmh49KE"
   },
   "outputs": [
    {
     "data": {
      "text/plain": [
       "int64     9\n",
       "object    1\n",
       "dtype: int64"
      ]
     },
     "execution_count": 10,
     "metadata": {},
     "output_type": "execute_result"
    }
   ],
   "source": [
    "# Printing all the value counts \n",
    "cancer.dtypes.value_counts()"
   ]
  },
  {
   "cell_type": "code",
   "execution_count": 11,
   "metadata": {
    "id": "3DCa8TIj4_Ty"
   },
   "outputs": [
    {
     "data": {
      "text/html": [
       "<div>\n",
       "<style scoped>\n",
       "    .dataframe tbody tr th:only-of-type {\n",
       "        vertical-align: middle;\n",
       "    }\n",
       "\n",
       "    .dataframe tbody tr th {\n",
       "        vertical-align: top;\n",
       "    }\n",
       "\n",
       "    .dataframe thead th {\n",
       "        text-align: right;\n",
       "    }\n",
       "</style>\n",
       "<table border=\"1\" class=\"dataframe\">\n",
       "  <thead>\n",
       "    <tr style=\"text-align: right;\">\n",
       "      <th></th>\n",
       "      <th>BareNuclei</th>\n",
       "    </tr>\n",
       "  </thead>\n",
       "  <tbody>\n",
       "    <tr>\n",
       "      <th>0</th>\n",
       "      <td>1</td>\n",
       "    </tr>\n",
       "    <tr>\n",
       "      <th>1</th>\n",
       "      <td>10</td>\n",
       "    </tr>\n",
       "    <tr>\n",
       "      <th>2</th>\n",
       "      <td>2</td>\n",
       "    </tr>\n",
       "    <tr>\n",
       "      <th>3</th>\n",
       "      <td>10</td>\n",
       "    </tr>\n",
       "    <tr>\n",
       "      <th>4</th>\n",
       "      <td>10</td>\n",
       "    </tr>\n",
       "    <tr>\n",
       "      <th>...</th>\n",
       "      <td>...</td>\n",
       "    </tr>\n",
       "    <tr>\n",
       "      <th>475</th>\n",
       "      <td>1</td>\n",
       "    </tr>\n",
       "    <tr>\n",
       "      <th>476</th>\n",
       "      <td>2</td>\n",
       "    </tr>\n",
       "    <tr>\n",
       "      <th>477</th>\n",
       "      <td>3</td>\n",
       "    </tr>\n",
       "    <tr>\n",
       "      <th>478</th>\n",
       "      <td>4</td>\n",
       "    </tr>\n",
       "    <tr>\n",
       "      <th>479</th>\n",
       "      <td>5</td>\n",
       "    </tr>\n",
       "  </tbody>\n",
       "</table>\n",
       "<p>480 rows × 1 columns</p>\n",
       "</div>"
      ],
      "text/plain": [
       "    BareNuclei\n",
       "0            1\n",
       "1           10\n",
       "2            2\n",
       "3           10\n",
       "4           10\n",
       "..         ...\n",
       "475          1\n",
       "476          2\n",
       "477          3\n",
       "478          4\n",
       "479          5\n",
       "\n",
       "[480 rows x 1 columns]"
      ]
     },
     "execution_count": 11,
     "metadata": {},
     "output_type": "execute_result"
    }
   ],
   "source": [
    "# Printing data types\n",
    "cancer.select_dtypes('object')"
   ]
  },
  {
   "cell_type": "code",
   "execution_count": 12,
   "metadata": {
    "id": "1CyRzBnb6XnU"
   },
   "outputs": [
    {
     "data": {
      "text/html": [
       "<div>\n",
       "<style scoped>\n",
       "    .dataframe tbody tr th:only-of-type {\n",
       "        vertical-align: middle;\n",
       "    }\n",
       "\n",
       "    .dataframe tbody tr th {\n",
       "        vertical-align: top;\n",
       "    }\n",
       "\n",
       "    .dataframe thead th {\n",
       "        text-align: right;\n",
       "    }\n",
       "</style>\n",
       "<table border=\"1\" class=\"dataframe\">\n",
       "  <thead>\n",
       "    <tr style=\"text-align: right;\">\n",
       "      <th></th>\n",
       "      <th>Count</th>\n",
       "      <th>Percent</th>\n",
       "    </tr>\n",
       "  </thead>\n",
       "  <tbody>\n",
       "    <tr>\n",
       "      <th>BareNuclei</th>\n",
       "      <td>7</td>\n",
       "      <td>1.458333</td>\n",
       "    </tr>\n",
       "  </tbody>\n",
       "</table>\n",
       "</div>"
      ],
      "text/plain": [
       "            Count   Percent\n",
       "BareNuclei      7  1.458333"
      ]
     },
     "execution_count": 12,
     "metadata": {},
     "output_type": "execute_result"
    }
   ],
   "source": [
    "#Replacing nan Values\n",
    "cancer = cancer.replace('?' ,np.nan)\n",
    "\n",
    "##Finding the the count and percentage of values that are missing in the dataframe.\n",
    "null1 = pd.DataFrame({'Count': cancer.isnull().sum(), 'Percent': 100*cancer.isnull().sum()/len(cancer)})\n",
    "\n",
    "##printing columns with null count more than 0\n",
    "null1[null1['Count'] > 0]"
   ]
  },
  {
   "cell_type": "code",
   "execution_count": 13,
   "metadata": {
    "id": "mQKh6EdQ6Xrk"
   },
   "outputs": [],
   "source": [
    "## Filling the columns with nan values with mean of the data\n",
    "cancer[\"BareNuclei\"]=cancer[\"BareNuclei\"].astype(float)\n",
    "cancer=cancer.fillna(cancer.mean())"
   ]
  },
  {
   "cell_type": "markdown",
   "metadata": {
    "id": "PHIdqxDmWMPe"
   },
   "source": [
    "<h4>1.2.2 Observations </h4>\n",
    "<ol>\n",
    "    <li>We obsereve that there is one attribute that is not in integer format</li>\n",
    "    <li>We find that there are nan values in BareNuclei. It also mentioned in the .names file </li>\n",
    "</ol>\n",
    "<h4>1.2.3 Approach </h4>\n",
    "<ol>\n",
    "    <li>We find that BareNuclei is a object type attribute so we convert it to float</li>\n",
    "    <li>We replace nan values in BareNuclei with mean value of BareNuclei</li>\n",
    "</ol>"
   ]
  },
  {
   "cell_type": "markdown",
   "metadata": {
    "id": "uf89AePf6nsZ"
   },
   "source": [
    "<h3>1.3 Removing Useless Attributes </h3>"
   ]
  },
  {
   "cell_type": "markdown",
   "metadata": {
    "id": "aF8wcn9Gf3au"
   },
   "source": [
    "<h4>1.3.1 Code </h4>"
   ]
  },
  {
   "cell_type": "code",
   "execution_count": 14,
   "metadata": {
    "id": "e1xo7hxe6Xv1"
   },
   "outputs": [
    {
     "data": {
      "text/html": [
       "<div>\n",
       "<style scoped>\n",
       "    .dataframe tbody tr th:only-of-type {\n",
       "        vertical-align: middle;\n",
       "    }\n",
       "\n",
       "    .dataframe tbody tr th {\n",
       "        vertical-align: top;\n",
       "    }\n",
       "\n",
       "    .dataframe thead th {\n",
       "        text-align: right;\n",
       "    }\n",
       "</style>\n",
       "<table border=\"1\" class=\"dataframe\">\n",
       "  <thead>\n",
       "    <tr style=\"text-align: right;\">\n",
       "      <th></th>\n",
       "      <th>classes</th>\n",
       "      <th>UniformityofCellShape</th>\n",
       "      <th>UniformityofCellSize</th>\n",
       "      <th>BareNuclei</th>\n",
       "      <th>BlandChromatin</th>\n",
       "      <th>ClumpThickness</th>\n",
       "      <th>NormalNucleoli</th>\n",
       "      <th>MarginalAdhesion</th>\n",
       "      <th>SingleEpithelialCellSize</th>\n",
       "      <th>Mitoses</th>\n",
       "    </tr>\n",
       "  </thead>\n",
       "  <tbody>\n",
       "    <tr>\n",
       "      <th>0</th>\n",
       "      <td>0</td>\n",
       "      <td>1</td>\n",
       "      <td>1</td>\n",
       "      <td>1.0</td>\n",
       "      <td>3</td>\n",
       "      <td>5</td>\n",
       "      <td>1</td>\n",
       "      <td>1</td>\n",
       "      <td>2</td>\n",
       "      <td>1</td>\n",
       "    </tr>\n",
       "    <tr>\n",
       "      <th>1</th>\n",
       "      <td>0</td>\n",
       "      <td>4</td>\n",
       "      <td>4</td>\n",
       "      <td>10.0</td>\n",
       "      <td>3</td>\n",
       "      <td>5</td>\n",
       "      <td>2</td>\n",
       "      <td>5</td>\n",
       "      <td>7</td>\n",
       "      <td>1</td>\n",
       "    </tr>\n",
       "    <tr>\n",
       "      <th>2</th>\n",
       "      <td>0</td>\n",
       "      <td>1</td>\n",
       "      <td>1</td>\n",
       "      <td>2.0</td>\n",
       "      <td>3</td>\n",
       "      <td>3</td>\n",
       "      <td>1</td>\n",
       "      <td>1</td>\n",
       "      <td>2</td>\n",
       "      <td>1</td>\n",
       "    </tr>\n",
       "  </tbody>\n",
       "</table>\n",
       "</div>"
      ],
      "text/plain": [
       "   classes  UniformityofCellShape  UniformityofCellSize  BareNuclei  \\\n",
       "0        0                      1                     1         1.0   \n",
       "1        0                      4                     4        10.0   \n",
       "2        0                      1                     1         2.0   \n",
       "\n",
       "   BlandChromatin  ClumpThickness  NormalNucleoli  MarginalAdhesion  \\\n",
       "0               3               5               1                 1   \n",
       "1               3               5               2                 5   \n",
       "2               3               3               1                 1   \n",
       "\n",
       "   SingleEpithelialCellSize  Mitoses  \n",
       "0                         2        1  \n",
       "1                         7        1  \n",
       "2                         2        1  "
      ]
     },
     "execution_count": 14,
     "metadata": {},
     "output_type": "execute_result"
    }
   ],
   "source": [
    "#Sorting with correlation values\n",
    "corr_list1=cancer.corr()['classes'].abs().sort_values(ascending=False)\n",
    "corr_list_new=corr_list1[corr_list1>0.01].index.values.tolist()\n",
    "corr_list1\n",
    "cancer=cancer[corr_list_new]\n",
    "cancer.head(3)"
   ]
  },
  {
   "cell_type": "code",
   "execution_count": 15,
   "metadata": {
    "id": "5MgSXzzR6XzR"
   },
   "outputs": [
    {
     "data": {
      "text/plain": [
       "classes                   classes                     1.000000\n",
       "UniformityofCellShape     UniformityofCellSize        0.899270\n",
       "                          classes                     0.802039\n",
       "classes                   UniformityofCellSize        0.793652\n",
       "                          BareNuclei                  0.785847\n",
       "                          BlandChromatin              0.743489\n",
       "BlandChromatin            UniformityofCellSize        0.740115\n",
       "UniformityofCellSize      SingleEpithelialCellSize    0.732762\n",
       "UniformityofCellShape     BlandChromatin              0.722539\n",
       "classes                   ClumpThickness              0.718937\n",
       "SingleEpithelialCellSize  UniformityofCellShape       0.701992\n",
       "UniformityofCellShape     NormalNucleoli              0.691749\n",
       "UniformityofCellSize      NormalNucleoli              0.688480\n",
       "classes                   NormalNucleoli              0.686896\n",
       "MarginalAdhesion          UniformityofCellSize        0.682345\n",
       "                          classes                     0.668517\n",
       "BareNuclei                UniformityofCellShape       0.661954\n",
       "UniformityofCellShape     MarginalAdhesion            0.655861\n",
       "classes                   SingleEpithelialCellSize    0.652818\n",
       "MarginalAdhesion          BlandChromatin              0.651522\n",
       "BlandChromatin            BareNuclei                  0.643442\n",
       "ClumpThickness            UniformityofCellShape       0.642338\n",
       "BareNuclei                UniformityofCellSize        0.628653\n",
       "BlandChromatin            NormalNucleoli              0.628351\n",
       "MarginalAdhesion          BareNuclei                  0.627283\n",
       "ClumpThickness            UniformityofCellSize        0.622639\n",
       "BlandChromatin            SingleEpithelialCellSize    0.580676\n",
       "SingleEpithelialCellSize  NormalNucleoli              0.580527\n",
       "NormalNucleoli            MarginalAdhesion            0.568546\n",
       "MarginalAdhesion          SingleEpithelialCellSize    0.562887\n",
       "ClumpThickness            BareNuclei                  0.557382\n",
       "                          BlandChromatin              0.537526\n",
       "BareNuclei                SingleEpithelialCellSize    0.522345\n",
       "NormalNucleoli            BareNuclei                  0.515334\n",
       "                          ClumpThickness              0.497596\n",
       "ClumpThickness            SingleEpithelialCellSize    0.485280\n",
       "SingleEpithelialCellSize  Mitoses                     0.472399\n",
       "MarginalAdhesion          ClumpThickness              0.440674\n",
       "UniformityofCellSize      Mitoses                     0.432114\n",
       "Mitoses                   UniformityofCellShape       0.412463\n",
       "                          NormalNucleoli              0.408417\n",
       "MarginalAdhesion          Mitoses                     0.391235\n",
       "Mitoses                   classes                     0.382380\n",
       "                          ClumpThickness              0.335819\n",
       "                          BlandChromatin              0.316833\n",
       "BareNuclei                Mitoses                     0.288299\n",
       "dtype: float64"
      ]
     },
     "metadata": {},
     "output_type": "display_data"
    }
   ],
   "source": [
    "## To remove outliers first we have to find the correlation between attributes\n",
    "\n",
    "#find the variables with high correlations\n",
    "cor1 = cancer.corr().abs()\n",
    "list1 = cor1.stack().sort_values(ascending=False).drop_duplicates()  \n",
    "high_corr= list1[list1>0.70].index.values.tolist()\n",
    "high_corr.remove(high_corr[0])\n",
    "\n",
    "display(list1)"
   ]
  },
  {
   "cell_type": "code",
   "execution_count": 16,
   "metadata": {
    "id": "x7OKFrzE6X3D"
   },
   "outputs": [],
   "source": [
    "# for variable pairs with high correlation, keep only one of them\n",
    "columnlist=list(cancer.columns)\n",
    "len(high_corr)\n",
    "for i in range(len(high_corr)):\n",
    "    if \"classes\" in high_corr[i]:\n",
    "        columnlist=columnlist\n",
    "    else:\n",
    "        if high_corr[i][0] in columnlist and high_corr[i][1] in columnlist:\n",
    "            columnlist.remove(high_corr[i][1])\n",
    "        else:\n",
    "            columnlist=columnlist\n",
    "cancer_final=cancer[columnlist]"
   ]
  },
  {
   "cell_type": "code",
   "execution_count": 17,
   "metadata": {
    "id": "ZJPMB2Tq6pOq"
   },
   "outputs": [],
   "source": [
    "## Doing a test train split on the data \n",
    "import random\n",
    "from sklearn.model_selection import train_test_split\n",
    "training_data, test_data = train_test_split(cancer_final,random_state=None, shuffle=True)\n",
    "train_x=training_data.drop(['classes'], 1) \n",
    "train_y=training_data[['classes']]\n",
    "test_x=test_data.drop(['classes'], 1)\n",
    "test_y=test_data[['classes']]"
   ]
  },
  {
   "cell_type": "markdown",
   "metadata": {
    "id": "P-oNBnzbV4lI"
   },
   "source": [
    "<h4>1.3.2 Observations </h4>\n",
    "<ol>\n",
    "    <li>We find the correlation list of the attributes</li>\n",
    "</ol>\n",
    "\n",
    "<h4>1.3.3 Approach </h4>\n",
    "<ol>\n",
    "    <li>We remove the attributes that have low correlations from the data frame</li>\n",
    "    <li>We split the data in test and train datasets</li>\n",
    "</ol>"
   ]
  },
  {
   "cell_type": "markdown",
   "metadata": {
    "id": "6mQKJvN27Bfu"
   },
   "source": [
    "<h3>1.4 Deleting Outliers and Data Normalizations</h3>"
   ]
  },
  {
   "cell_type": "markdown",
   "metadata": {
    "id": "tOcvGwDUf8fd"
   },
   "source": [
    "<h4>1.4.1 Code </h4>"
   ]
  },
  {
   "cell_type": "code",
   "execution_count": 18,
   "metadata": {
    "id": "9Z4bemp56pTY"
   },
   "outputs": [],
   "source": [
    "# Remove outliers\n",
    "cancer_norm = cancer_final[(np.abs(scipy.stats.zscore(cancer_final)) < 3).all(axis=1)]\n",
    "# Zero mean normalisation\n",
    "cancer_norm.iloc[:,1:]=(cancer_norm.iloc[:,1:]-cancer_norm.iloc[:,1:].mean())/cancer_norm.iloc[:,1:].std()"
   ]
  },
  {
   "cell_type": "code",
   "execution_count": 19,
   "metadata": {
    "id": "MQpTYu396pXt"
   },
   "outputs": [
    {
     "data": {
      "text/html": [
       "<div>\n",
       "<style scoped>\n",
       "    .dataframe tbody tr th:only-of-type {\n",
       "        vertical-align: middle;\n",
       "    }\n",
       "\n",
       "    .dataframe tbody tr th {\n",
       "        vertical-align: top;\n",
       "    }\n",
       "\n",
       "    .dataframe thead th {\n",
       "        text-align: right;\n",
       "    }\n",
       "</style>\n",
       "<table border=\"1\" class=\"dataframe\">\n",
       "  <thead>\n",
       "    <tr style=\"text-align: right;\">\n",
       "      <th></th>\n",
       "      <th>classes</th>\n",
       "      <th>BareNuclei</th>\n",
       "      <th>ClumpThickness</th>\n",
       "      <th>NormalNucleoli</th>\n",
       "      <th>MarginalAdhesion</th>\n",
       "      <th>SingleEpithelialCellSize</th>\n",
       "      <th>Mitoses</th>\n",
       "    </tr>\n",
       "  </thead>\n",
       "  <tbody>\n",
       "    <tr>\n",
       "      <th>0</th>\n",
       "      <td>0</td>\n",
       "      <td>-0.881493</td>\n",
       "      <td>0.028312</td>\n",
       "      <td>-0.725169</td>\n",
       "      <td>-0.749350</td>\n",
       "      <td>-0.672211</td>\n",
       "      <td>-0.411235</td>\n",
       "    </tr>\n",
       "    <tr>\n",
       "      <th>1</th>\n",
       "      <td>0</td>\n",
       "      <td>1.428897</td>\n",
       "      <td>0.028312</td>\n",
       "      <td>-0.419624</td>\n",
       "      <td>0.554363</td>\n",
       "      <td>1.520614</td>\n",
       "      <td>-0.411235</td>\n",
       "    </tr>\n",
       "    <tr>\n",
       "      <th>2</th>\n",
       "      <td>0</td>\n",
       "      <td>-0.624783</td>\n",
       "      <td>-0.654148</td>\n",
       "      <td>-0.725169</td>\n",
       "      <td>-0.749350</td>\n",
       "      <td>-0.672211</td>\n",
       "      <td>-0.411235</td>\n",
       "    </tr>\n",
       "    <tr>\n",
       "      <th>3</th>\n",
       "      <td>1</td>\n",
       "      <td>1.428897</td>\n",
       "      <td>1.052000</td>\n",
       "      <td>1.108100</td>\n",
       "      <td>1.532147</td>\n",
       "      <td>1.520614</td>\n",
       "      <td>-0.411235</td>\n",
       "    </tr>\n",
       "    <tr>\n",
       "      <th>4</th>\n",
       "      <td>0</td>\n",
       "      <td>1.428897</td>\n",
       "      <td>-1.336607</td>\n",
       "      <td>-0.725169</td>\n",
       "      <td>-0.749350</td>\n",
       "      <td>-0.672211</td>\n",
       "      <td>-0.411235</td>\n",
       "    </tr>\n",
       "  </tbody>\n",
       "</table>\n",
       "</div>"
      ],
      "text/plain": [
       "   classes  BareNuclei  ClumpThickness  NormalNucleoli  MarginalAdhesion  \\\n",
       "0        0   -0.881493        0.028312       -0.725169         -0.749350   \n",
       "1        0    1.428897        0.028312       -0.419624          0.554363   \n",
       "2        0   -0.624783       -0.654148       -0.725169         -0.749350   \n",
       "3        1    1.428897        1.052000        1.108100          1.532147   \n",
       "4        0    1.428897       -1.336607       -0.725169         -0.749350   \n",
       "\n",
       "   SingleEpithelialCellSize   Mitoses  \n",
       "0                 -0.672211 -0.411235  \n",
       "1                  1.520614 -0.411235  \n",
       "2                 -0.672211 -0.411235  \n",
       "3                  1.520614 -0.411235  \n",
       "4                 -0.672211 -0.411235  "
      ]
     },
     "execution_count": 19,
     "metadata": {},
     "output_type": "execute_result"
    }
   ],
   "source": [
    "#printing the normalized head of the data\n",
    "cancer_norm.head()"
   ]
  },
  {
   "cell_type": "code",
   "execution_count": 20,
   "metadata": {
    "id": "Wkh0puJu6pa3"
   },
   "outputs": [],
   "source": [
    "#split the new dataset\n",
    "training_data_norm, test_data_norm = train_test_split(cancer_norm,random_state=None, shuffle=True)\n",
    "train_x_norm=training_data_norm.drop(['classes'], 1) \n",
    "train_y_norm=training_data_norm[['classes']]\n",
    "test_x_norm=test_data_norm.drop(['classes'], 1)\n",
    "test_y_norm=test_data_norm[['classes']]"
   ]
  },
  {
   "cell_type": "code",
   "execution_count": 21,
   "metadata": {
    "colab": {
     "base_uri": "https://localhost:8080/"
    },
    "id": "xlkLRQkM6pee",
    "outputId": "8fc8fc33-4eb4-440d-dd77-37a6680cef4c",
    "scrolled": true
   },
   "outputs": [
    {
     "name": "stdout",
     "output_type": "stream",
     "text": [
      "X_train Shape : (343, 6)\n",
      "Y_train Shape : (343, 1)\n",
      "X_test Shape  : (115, 6)\n",
      "Y_test Shape  : (115, 1)\n"
     ]
    }
   ],
   "source": [
    "# Print the shape of the data attributes\n",
    "x_train = np.array(train_x_norm)\n",
    "print('X_train Shape :',x_train.shape)\n",
    "y_train = np.array(train_y_norm)\n",
    "print('Y_train Shape :',y_train.shape)\n",
    "x_test = np.array(test_x_norm)\n",
    "print('X_test Shape  :',x_test.shape)\n",
    "y_test = np.array(test_y_norm)\n",
    "print('Y_test Shape  :',y_test.shape)"
   ]
  },
  {
   "cell_type": "code",
   "execution_count": 22,
   "metadata": {},
   "outputs": [
    {
     "name": "stdout",
     "output_type": "stream",
     "text": [
      "(343,)\n",
      "(115,)\n"
     ]
    }
   ],
   "source": [
    "# Changed the shape of the y_train from (x,1) to (x,)\n",
    "y_train=y_train.reshape(len(y_train))\n",
    "print(y_train.shape)\n",
    "y_test=y_test.reshape(len(y_test))\n",
    "print(y_test.shape)"
   ]
  },
  {
   "cell_type": "markdown",
   "metadata": {
    "id": "ezxSeKxKWqBF"
   },
   "source": [
    "<h3>1.5 Conclusion </h3>\n",
    "<ol>\n",
    "    <li>We removed the NAN values from our data and replaced them with mean values</li>\n",
    "    <li>We only keep highly correlated attributes in our final attribute list</li>\n",
    "    <li>We filter our data using the zscores and then normalize it usind mean and standard deviation</li>\n",
    "</ol>"
   ]
  },
  {
   "cell_type": "markdown",
   "metadata": {
    "id": "SNNGSB4Vb2CE"
   },
   "source": [
    "<h2><center>2. Model Fiting on the clean data</center></h2>\n",
    "\n",
    "We have a cleaned and a normalized data now we just have to fit a model over the data and make predictions.\n",
    "We are going to implement 2 models that are implemented by us \n",
    "\n",
    "<ol>\n",
    "    <li>SGD Classifier with Log Loss</li>\n",
    "    <li>SVM with RBF kernel</li>\n",
    "</ol>\n"
   ]
  },
  {
   "cell_type": "markdown",
   "metadata": {
    "id": "LGeB6fiFYPuS"
   },
   "source": [
    "<h3>2.1 SGD Classifier with Log Loss</h3>"
   ]
  },
  {
   "cell_type": "markdown",
   "metadata": {
    "id": "3NIP2zzzYi2e"
   },
   "source": [
    "<h4>2.1.1 Function Call</h4>"
   ]
  },
  {
   "cell_type": "code",
   "execution_count": 23,
   "metadata": {
    "id": "qq2Z7Etj6yun"
   },
   "outputs": [
    {
     "name": "stderr",
     "output_type": "stream",
     "text": [
      "  9%|▊         | 26/300 [00:00<00:01, 255.15it/s]"
     ]
    },
    {
     "name": "stdout",
     "output_type": "stream",
     "text": [
      "\n",
      "-- Epoch no(iteration no)  1\n",
      "W intercept: [0.00666611 0.01073877 0.00700281 0.00768923 0.00679907 0.00242409], B intercept: 0.002476315258554171, Train loss: 0.29504, Test loss: 0.29477\n",
      "\n",
      "-- Epoch no(iteration no)  2\n",
      "W intercept: [0.01672597 0.02072387 0.01943654 0.01497522 0.01747447 0.00640625], B intercept: 0.004820178118927689, Train loss: 0.28737, Test loss: 0.28675\n",
      "\n",
      "-- Epoch no(iteration no)  3\n",
      "W intercept: [0.02694891 0.02733492 0.02826777 0.02404302 0.02547486 0.01143421], B intercept: 0.005236620452282797, Train loss: 0.28085, Test loss: 0.27989\n",
      "\n",
      "-- Epoch no(iteration no)  4\n",
      "W intercept: [0.03385728 0.03355503 0.03738674 0.03148751 0.03245657 0.01408362], B intercept: 0.0028803767597499145, Train loss: 0.27551, Test loss: 0.27430\n",
      "\n",
      "-- Epoch no(iteration no)  5\n",
      "W intercept: [0.04306875 0.04023853 0.04452942 0.0409072  0.03967173 0.0169764 ], B intercept: -0.00043483795018285155, Train loss: 0.26978, Test loss: 0.26832\n",
      "\n",
      "-- Epoch no(iteration no)  6\n",
      "W intercept: [0.05291642 0.04842168 0.05375562 0.04813113 0.04576576 0.02191915], B intercept: -0.00023839906312047638, Train loss: 0.26391, Test loss: 0.26215\n",
      "\n",
      "-- Epoch no(iteration no)  7\n",
      "W intercept: [0.06164938 0.05651278 0.06206667 0.05547547 0.05220226 0.02691383], B intercept: -0.0018908358377198585, Train loss: 0.25839, Test loss: 0.25633\n",
      "\n",
      "-- Epoch no(iteration no)  8\n",
      "W intercept: [0.07244812 0.06421363 0.06919279 0.06175862 0.05696851 0.02988259], B intercept: -0.0023325542841696034, Train loss: 0.25333, Test loss: 0.25108\n",
      "\n",
      "-- Epoch no(iteration no)  9\n",
      "W intercept: [0.07975564 0.07310087 0.07602461 0.06890693 0.06501387 0.03249149], B intercept: -0.006426002025895523, Train loss: 0.24827, Test loss: 0.24582\n",
      "\n",
      "-- Epoch no(iteration no)  10\n",
      "W intercept: [0.08824739 0.08313852 0.07976406 0.07261103 0.07411102 0.03596472], B intercept: -0.004964622841284353, Train loss: 0.24363, Test loss: 0.24101\n",
      "\n",
      "-- Epoch no(iteration no)  11\n",
      "W intercept: [0.09801683 0.09144591 0.08549929 0.07939997 0.07897473 0.04078337], B intercept: -0.0043204793047445745, Train loss: 0.23893, Test loss: 0.23609\n",
      "\n",
      "-- Epoch no(iteration no)  12\n",
      "W intercept: [0.10839655 0.0953259  0.09199436 0.08716549 0.08455628 0.04313929], B intercept: -0.004739179030788825, Train loss: 0.23462, Test loss: 0.23167\n",
      "\n",
      "-- Epoch no(iteration no)  13\n",
      "W intercept: [0.11524509 0.10270387 0.09888849 0.09295136 0.0912924  0.04712636], B intercept: -0.007427240873693208, Train loss: 0.23041, Test loss: 0.22727\n",
      "\n",
      "-- Epoch no(iteration no)  14\n",
      "W intercept: [0.12189165 0.10772326 0.10312799 0.10097284 0.09785931 0.04910181], B intercept: -0.005269122300531699, Train loss: 0.22678, Test loss: 0.22356\n",
      "\n",
      "-- Epoch no(iteration no)  15\n",
      "W intercept: [0.12703113 0.11717678 0.10999652 0.10541494 0.10292071 0.05091534], B intercept: -0.003997098858048702, Train loss: 0.22315, Test loss: 0.21983\n",
      "\n",
      "-- Epoch no(iteration no)  16\n",
      "W intercept: [0.13412037 0.12326304 0.11793753 0.11310601 0.11135417 0.05502917], B intercept: -0.000831728361705939, Train loss: 0.21883, Test loss: 0.21538\n",
      "\n",
      "-- Epoch no(iteration no)  17\n",
      "W intercept: [0.14186575 0.12831296 0.12589099 0.11904098 0.11733557 0.05738529], B intercept: -0.0012609216238855525, Train loss: 0.21511, Test loss: 0.21157\n",
      "\n",
      "-- Epoch no(iteration no)  18\n",
      "W intercept: [0.14702126 0.13416232 0.13276525 0.12496119 0.12160654 0.05930141], B intercept: -0.004023908076208526, Train loss: 0.21197, Test loss: 0.20835\n",
      "\n",
      "-- Epoch no(iteration no)  19\n",
      "W intercept: [0.15607893 0.13912282 0.1385064  0.13079659 0.12781184 0.06140448], B intercept: -0.0065045214546997215, Train loss: 0.20843, Test loss: 0.20474\n",
      "\n",
      "-- Epoch no(iteration no)  20\n",
      "W intercept: [0.16303658 0.14640704 0.14559357 0.13615733 0.13264214 0.06546933], B intercept: -0.006174808842139276, Train loss: 0.20493, Test loss: 0.20112\n",
      "\n",
      "-- Epoch no(iteration no)  21\n",
      "W intercept: [0.17028992 0.15199777 0.15074261 0.14139314 0.13666137 0.06841909], B intercept: -0.008499719824845701, Train loss: 0.20195, Test loss: 0.19805\n",
      "\n",
      "-- Epoch no(iteration no)  22\n",
      "W intercept: [0.17824982 0.15827756 0.15696472 0.14638698 0.13973525 0.07083061], B intercept: -0.010568080082793025, Train loss: 0.19888, Test loss: 0.19492\n",
      "\n",
      "-- Epoch no(iteration no)  23\n",
      "W intercept: [0.18417075 0.1652627  0.16153067 0.15313939 0.1466795  0.07267795], B intercept: -0.012964831001360557, Train loss: 0.19572, Test loss: 0.19170\n",
      "\n",
      "-- Epoch no(iteration no)  24\n",
      "W intercept: [0.19211279 0.17337802 0.16557598 0.15524068 0.15359906 0.07588127], B intercept: -0.01048143141321035, Train loss: 0.19271, Test loss: 0.18861\n",
      "\n",
      "-- Epoch no(iteration no)  25\n",
      "W intercept: [0.19966219 0.17983697 0.16966561 0.16054845 0.15770959 0.07887848], B intercept: -0.009071727424026595, Train loss: 0.18991, Test loss: 0.18576\n",
      "\n",
      "-- Epoch no(iteration no)  26\n",
      "W intercept: [0.2070979  0.18324374 0.17447855 0.16561113 0.16156402 0.08132666], B intercept: -0.010408190009383688, Train loss: 0.18745, Test loss: 0.18326\n",
      "\n",
      "-- Epoch no(iteration no)  27\n",
      "W intercept: [0.21321837 0.18851372 0.17908712 0.17044002 0.16676833 0.08350244], B intercept: -0.012296358410656237, Train loss: 0.18492, Test loss: 0.18069\n",
      "\n",
      "-- Epoch no(iteration no)  28\n",
      "W intercept: [0.21675436 0.19366616 0.1832457  0.17682647 0.17246831 0.08420241], B intercept: -0.009282743441100756, Train loss: 0.18268, Test loss: 0.17845\n",
      "\n",
      "-- Epoch no(iteration no)  29\n",
      "W intercept: [0.22255463 0.20023063 0.18793747 0.18050077 0.17615627 0.08733806], B intercept: -0.00939896810615331, Train loss: 0.18033, Test loss: 0.17604\n",
      "\n",
      "-- Epoch no(iteration no)  30\n",
      "W intercept: [0.22829316 0.20439721 0.19401121 0.18576387 0.18210465 0.08873279], B intercept: -0.00626996732827981, Train loss: 0.17790, Test loss: 0.17362\n",
      "\n",
      "-- Epoch no(iteration no)  31\n",
      "W intercept: [0.23325528 0.20895139 0.20102647 0.19110257 0.18717578 0.09140653], B intercept: -0.008542712010360078, Train loss: 0.17547, Test loss: 0.17115\n",
      "\n",
      "-- Epoch no(iteration no)  32\n",
      "W intercept: [0.23829963 0.21306307 0.20686669 0.19637759 0.19017938 0.09360368], B intercept: -0.010893533451644427, Train loss: 0.17337, Test loss: 0.16903\n",
      "\n",
      "-- Epoch no(iteration no)  33\n",
      "W intercept: [0.24589061 0.21772854 0.21102871 0.20038841 0.19532686 0.09512855], B intercept: -0.011793215803723053, Train loss: 0.17111, Test loss: 0.16676\n",
      "\n",
      "-- Epoch no(iteration no)  34\n",
      "W intercept: [0.25076915 0.22341425 0.21546283 0.20430269 0.19736095 0.09801636], B intercept: -0.013895589832065248, Train loss: 0.16922, Test loss: 0.16483\n",
      "\n",
      "-- Epoch no(iteration no)  35\n",
      "W intercept: [0.25790903 0.22839353 0.22001095 0.20878491 0.20050221 0.10035088], B intercept: -0.013363571456618841, Train loss: 0.16710, Test loss: 0.16270\n",
      "\n",
      "-- Epoch no(iteration no)  36\n",
      "W intercept: [0.26315942 0.2344339  0.22504762 0.21249721 0.20481332 0.10097714], B intercept: -0.014841136543767085, Train loss: 0.16509, Test loss: 0.16069\n",
      "\n",
      "-- Epoch no(iteration no)  37\n",
      "W intercept: [0.2690387  0.24030171 0.22880866 0.2169699  0.20972119 0.10290725], B intercept: -0.016888422270031074, Train loss: 0.16302, Test loss: 0.15860\n",
      "\n",
      "-- Epoch no(iteration no)  38\n",
      "W intercept: [0.27512683 0.24657747 0.23152171 0.21970868 0.21472467 0.10583088], B intercept: -0.014322336370930796, Train loss: 0.16111, Test loss: 0.15666\n",
      "\n",
      "-- Epoch no(iteration no)  39\n",
      "W intercept: [0.28189164 0.25101253 0.23543548 0.22483958 0.21775124 0.1079312 ], B intercept: -0.013939423331923837, Train loss: 0.15921, Test loss: 0.15476\n",
      "\n",
      "-- Epoch no(iteration no)  40\n",
      "W intercept: [0.28752564 0.25495885 0.23914225 0.22788675 0.22192655 0.1094721 ], B intercept: -0.015549237812921321, Train loss: 0.15756, Test loss: 0.15311\n",
      "\n",
      "-- Epoch no(iteration no)  41\n",
      "W intercept: [0.29144954 0.25794639 0.24197313 0.23266571 0.22616889 0.11091274], B intercept: -0.014428878956057347, Train loss: 0.15613, Test loss: 0.15169\n",
      "\n",
      "-- Epoch no(iteration no)  42\n",
      "W intercept: [0.29532806 0.26367651 0.24510345 0.23671285 0.22825231 0.1129694 ], B intercept: -0.013470607583254798, Train loss: 0.15465, Test loss: 0.15020\n",
      "\n",
      "-- Epoch no(iteration no)  43\n",
      "W intercept: [0.30034302 0.26882764 0.24976901 0.24017735 0.23290617 0.11375693], B intercept: -0.012490527345004547, Train loss: 0.15293, Test loss: 0.14850\n",
      "\n",
      "-- Epoch no(iteration no)  44\n",
      "W intercept: [0.30481848 0.27135782 0.2550663  0.24472238 0.2371788  0.11560173], B intercept: -0.010977801044593689, Train loss: 0.15137, Test loss: 0.14695\n",
      "\n",
      "-- Epoch no(iteration no)  45\n",
      "W intercept: [0.30965782 0.27409004 0.26123849 0.24895848 0.24170808 0.11771089], B intercept: -0.013232146043634822, Train loss: 0.14971, Test loss: 0.14530\n"
     ]
    },
    {
     "name": "stderr",
     "output_type": "stream",
     "text": [
      "\r",
      " 18%|█▊        | 54/300 [00:00<00:00, 267.68it/s]"
     ]
    },
    {
     "name": "stdout",
     "output_type": "stream",
     "text": [
      "\n",
      "-- Epoch no(iteration no)  46\n",
      "W intercept: [0.31373177 0.27853248 0.26530882 0.25349965 0.24400979 0.11911289], B intercept: -0.014639023235269635, Train loss: 0.14829, Test loss: 0.14388\n",
      "\n",
      "-- Epoch no(iteration no)  47\n",
      "W intercept: [0.31854119 0.28275151 0.26957944 0.25625749 0.24748253 0.12101463], B intercept: -0.015557163256309512, Train loss: 0.14685, Test loss: 0.14245\n",
      "\n",
      "-- Epoch no(iteration no)  48\n",
      "W intercept: [0.32390022 0.28749546 0.27306394 0.25959983 0.24919071 0.12286852], B intercept: -0.016343447111707748, Train loss: 0.14547, Test loss: 0.14107\n",
      "\n",
      "-- Epoch no(iteration no)  49\n",
      "W intercept: [0.329512   0.29093138 0.27771433 0.26285691 0.25200559 0.12459209], B intercept: -0.017726767937151174, Train loss: 0.14405, Test loss: 0.13966\n",
      "\n",
      "-- Epoch no(iteration no)  50\n",
      "W intercept: [0.33388654 0.29672941 0.28091595 0.2661801  0.25591183 0.12559076], B intercept: -0.01913805540424065, Train loss: 0.14263, Test loss: 0.13824\n",
      "\n",
      "-- Epoch no(iteration no)  51\n",
      "W intercept: [0.33803278 0.3026082  0.2835626  0.2695232  0.2604171  0.12639294], B intercept: -0.019622190888045277, Train loss: 0.14125, Test loss: 0.13686\n",
      "\n",
      "-- Epoch no(iteration no)  52\n",
      "W intercept: [0.344102   0.30719697 0.28584289 0.2718734  0.26329976 0.12938379], B intercept: -0.01693278096155193, Train loss: 0.13994, Test loss: 0.13555\n",
      "\n",
      "-- Epoch no(iteration no)  53\n",
      "W intercept: [0.35121701 0.30905448 0.28872813 0.27579933 0.26608328 0.13037904], B intercept: -0.016507347294985368, Train loss: 0.13867, Test loss: 0.13432\n",
      "\n",
      "-- Epoch no(iteration no)  54\n",
      "W intercept: [0.35476746 0.31377654 0.29239885 0.27929555 0.269707   0.13176756], B intercept: -0.018410573993317025, Train loss: 0.13742, Test loss: 0.13308\n"
     ]
    },
    {
     "name": "stderr",
     "output_type": "stream",
     "text": [
      "\r",
      " 27%|██▋       | 81/300 [00:00<00:00, 265.54it/s]"
     ]
    },
    {
     "name": "stdout",
     "output_type": "stream",
     "text": [
      "\n",
      "-- Epoch no(iteration no)  55\n",
      "W intercept: [0.35806125 0.31599437 0.29373748 0.28343547 0.27236222 0.13315719], B intercept: -0.016974015185693497, Train loss: 0.13653, Test loss: 0.13221\n",
      "\n",
      "-- Epoch no(iteration no)  56\n",
      "W intercept: [0.36089749 0.32126207 0.2969558  0.28652256 0.27459201 0.13455452], B intercept: -0.015588588326958575, Train loss: 0.13546, Test loss: 0.13114\n",
      "\n",
      "-- Epoch no(iteration no)  57\n",
      "W intercept: [0.36457088 0.32511439 0.30167027 0.28914027 0.27915595 0.13642293], B intercept: -0.014467990485844979, Train loss: 0.13423, Test loss: 0.12992\n",
      "\n",
      "-- Epoch no(iteration no)  58\n",
      "W intercept: [0.36898353 0.3275849  0.30637919 0.29240816 0.2822876  0.13744938], B intercept: -0.013955439610035819, Train loss: 0.13310, Test loss: 0.12883\n",
      "\n",
      "-- Epoch no(iteration no)  59\n",
      "W intercept: [0.37264521 0.33114649 0.31113854 0.29664716 0.28580448 0.13844085], B intercept: -0.014772070419375892, Train loss: 0.13190, Test loss: 0.12765\n",
      "\n",
      "-- Epoch no(iteration no)  60\n",
      "W intercept: [0.37697208 0.33386783 0.31500761 0.30002473 0.28787349 0.1397095 ], B intercept: -0.01664695068147892, Train loss: 0.13088, Test loss: 0.12665\n",
      "\n",
      "-- Epoch no(iteration no)  61\n",
      "W intercept: [0.38169421 0.33745226 0.31800601 0.30250148 0.28991078 0.14129948], B intercept: -0.01732955383419195, Train loss: 0.12988, Test loss: 0.12567\n",
      "\n",
      "-- Epoch no(iteration no)  62\n",
      "W intercept: [0.38591667 0.34145212 0.320682   0.30481185 0.291886   0.14318235], B intercept: -0.01904755356265508, Train loss: 0.12892, Test loss: 0.12471\n",
      "\n",
      "-- Epoch no(iteration no)  63\n",
      "W intercept: [0.39055992 0.34505501 0.32520125 0.3081628  0.29342786 0.1439528 ], B intercept: -0.019574879441334805, Train loss: 0.12786, Test loss: 0.12368\n",
      "\n",
      "-- Epoch no(iteration no)  64\n",
      "W intercept: [0.39400142 0.34925488 0.32796661 0.31090515 0.29778383 0.14542222], B intercept: -0.022422378850314666, Train loss: 0.12683, Test loss: 0.12266\n",
      "\n",
      "-- Epoch no(iteration no)  65\n",
      "W intercept: [0.39851473 0.35402662 0.32928251 0.31275334 0.30155653 0.14650051], B intercept: -0.020430813470236092, Train loss: 0.12587, Test loss: 0.12170\n",
      "\n",
      "-- Epoch no(iteration no)  66\n",
      "W intercept: [0.40364563 0.35817828 0.33163907 0.31573803 0.30407997 0.14825395], B intercept: -0.018844003750877813, Train loss: 0.12485, Test loss: 0.12070\n",
      "\n",
      "-- Epoch no(iteration no)  67\n",
      "W intercept: [0.40935552 0.35976138 0.33478116 0.31884373 0.3065102  0.14936673], B intercept: -0.019479123369288257, Train loss: 0.12391, Test loss: 0.11980\n",
      "\n",
      "-- Epoch no(iteration no)  68\n",
      "W intercept: [0.41204539 0.36329833 0.3373518  0.32129054 0.30883204 0.15094561], B intercept: -0.019549039521377674, Train loss: 0.12314, Test loss: 0.11903\n",
      "\n",
      "-- Epoch no(iteration no)  69\n",
      "W intercept: [0.41435987 0.36564806 0.33832372 0.32540595 0.31164474 0.1506646 ], B intercept: -0.0172480716372832, Train loss: 0.12248, Test loss: 0.11841\n",
      "\n",
      "-- Epoch no(iteration no)  70\n",
      "W intercept: [0.41732337 0.37055574 0.34173283 0.32780348 0.31340585 0.15270976], B intercept: -0.016730665583096892, Train loss: 0.12160, Test loss: 0.11754\n",
      "\n",
      "-- Epoch no(iteration no)  71\n",
      "W intercept: [0.42094938 0.37251461 0.34502128 0.33098238 0.31710663 0.15347012], B intercept: -0.014723552353060353, Train loss: 0.12076, Test loss: 0.11673\n",
      "\n",
      "-- Epoch no(iteration no)  72\n",
      "W intercept: [0.42409415 0.3755214  0.34998524 0.3337126  0.32028685 0.15488177], B intercept: -0.015509451690854536, Train loss: 0.11985, Test loss: 0.11584\n",
      "\n",
      "-- Epoch no(iteration no)  73\n",
      "W intercept: [0.42692905 0.378419   0.35389681 0.33693539 0.3217301  0.15640768], B intercept: -0.01769222387019116, Train loss: 0.11907, Test loss: 0.11508\n",
      "\n",
      "-- Epoch no(iteration no)  74\n",
      "W intercept: [0.43219092 0.38098398 0.35647632 0.33956117 0.32453803 0.15727189], B intercept: -0.01845351742218625, Train loss: 0.11821, Test loss: 0.11425\n",
      "\n",
      "-- Epoch no(iteration no)  75\n",
      "W intercept: [0.43529284 0.38459822 0.3586423  0.34097745 0.32514038 0.15892704], B intercept: -0.019795268451441382, Train loss: 0.11759, Test loss: 0.11364\n",
      "\n",
      "-- Epoch no(iteration no)  76\n",
      "W intercept: [0.43956416 0.388224   0.36165712 0.3434841  0.32695982 0.16016573], B intercept: -0.019865555561058366, Train loss: 0.11677, Test loss: 0.11284\n",
      "\n",
      "-- Epoch no(iteration no)  77\n",
      "W intercept: [0.44338938 0.39153885 0.36482831 0.34576043 0.32962202 0.1607544 ], B intercept: -0.02140754070834714, Train loss: 0.11598, Test loss: 0.11208\n",
      "\n",
      "-- Epoch no(iteration no)  78\n",
      "W intercept: [0.44685437 0.39532356 0.36743328 0.34906478 0.33230969 0.16152081], B intercept: -0.02218223476033394, Train loss: 0.11518, Test loss: 0.11130\n",
      "\n",
      "-- Epoch no(iteration no)  79\n",
      "W intercept: [0.45127399 0.39937156 0.36893064 0.35036148 0.33589255 0.16251308], B intercept: -0.020854477722199723, Train loss: 0.11441, Test loss: 0.11054\n",
      "\n",
      "-- Epoch no(iteration no)  80\n",
      "W intercept: [0.45548699 0.40300131 0.37072123 0.35323836 0.33804441 0.16467348], B intercept: -0.019836978467233073, Train loss: 0.11364, Test loss: 0.10978\n",
      "\n",
      "-- Epoch no(iteration no)  81\n",
      "W intercept: [0.45986523 0.40495535 0.37308648 0.35533612 0.34019081 0.1652621 ], B intercept: -0.02004738214154522, Train loss: 0.11298, Test loss: 0.10916\n",
      "\n",
      "-- Epoch no(iteration no)  82\n",
      "W intercept: [0.46241661 0.40662976 0.37475978 0.35833995 0.34238352 0.16633877], B intercept: -0.019345846611366027, Train loss: 0.11244, Test loss: 0.10864\n",
      "\n",
      "-- Epoch no(iteration no)  83\n",
      "W intercept: [0.46396242 0.41030203 0.37627226 0.36092723 0.34461116 0.16764932], B intercept: -0.01746802057652581, Train loss: 0.11188, Test loss: 0.10809\n",
      "\n",
      "-- Epoch no(iteration no)  84\n",
      "W intercept: [0.46769898 0.41394138 0.37942335 0.36352114 0.34583953 0.16831598], B intercept: -0.017142567146441728, Train loss: 0.11117, Test loss: 0.10741\n",
      "\n",
      "-- Epoch no(iteration no)  85\n",
      "W intercept: [0.4704331  0.41558623 0.38283592 0.36620316 0.3491229  0.16879106], B intercept: -0.015417300489314898, Train loss: 0.11054, Test loss: 0.10681\n",
      "\n",
      "-- Epoch no(iteration no)  86\n",
      "W intercept: [0.47361359 0.41739859 0.3874254  0.36914034 0.35221897 0.17026353], B intercept: -0.016581730481331294, Train loss: 0.10981, Test loss: 0.10611\n",
      "\n",
      "-- Epoch no(iteration no)  87\n",
      "W intercept: [0.47573036 0.42020565 0.39087001 0.37196294 0.35346335 0.17192709], B intercept: -0.01902996967522524, Train loss: 0.10921, Test loss: 0.10554\n",
      "\n",
      "-- Epoch no(iteration no)  88\n",
      "W intercept: [0.48037637 0.42297707 0.39311626 0.37393116 0.35576504 0.17217547], B intercept: -0.018726956525142974, Train loss: 0.10855, Test loss: 0.10490\n",
      "\n",
      "-- Epoch no(iteration no)  89\n",
      "W intercept: [0.48283412 0.42610726 0.39473909 0.37543774 0.35593254 0.17395516], B intercept: -0.02060040927701615, Train loss: 0.10810, Test loss: 0.10446\n",
      "\n",
      "-- Epoch no(iteration no)  90\n",
      "W intercept: [0.48738769 0.428391   0.39750562 0.37752614 0.35750577 0.17480462], B intercept: -0.020951033889247763, Train loss: 0.10747, Test loss: 0.10386\n",
      "\n",
      "-- Epoch no(iteration no)  91\n",
      "W intercept: [0.4899706  0.43239907 0.40047713 0.37939997 0.36012129 0.17523932], B intercept: -0.021782843102372572, Train loss: 0.10684, Test loss: 0.10325\n",
      "\n",
      "-- Epoch no(iteration no)  92\n",
      "W intercept: [0.49356914 0.43639529 0.40188843 0.38184739 0.36270968 0.17556938], B intercept: -0.022078710843100934, Train loss: 0.10620, Test loss: 0.10263\n",
      "\n",
      "-- Epoch no(iteration no)  93\n",
      "W intercept: [0.49711807 0.43955002 0.40314302 0.38368938 0.36554707 0.17749775], B intercept: -0.020620150339381117, Train loss: 0.10561, Test loss: 0.10205\n",
      "\n",
      "-- Epoch no(iteration no)  94\n",
      "W intercept: [0.50202903 0.44166928 0.40505431 0.38590646 0.36708201 0.17862983], B intercept: -0.01989765638060485, Train loss: 0.10502, Test loss: 0.10149\n",
      "\n",
      "-- Epoch no(iteration no)  95\n",
      "W intercept: [0.50473926 0.44462166 0.40733369 0.3877429  0.36924593 0.17898894], B intercept: -0.019981376258727725, Train loss: 0.10450, Test loss: 0.10099\n",
      "\n",
      "-- Epoch no(iteration no)  96\n",
      "W intercept: [0.50735459 0.44568462 0.40760245 0.39047523 0.37051074 0.17989094], B intercept: -0.018785537920915456, Train loss: 0.10414, Test loss: 0.10065\n",
      "\n",
      "-- Epoch no(iteration no)  97\n",
      "W intercept: [0.50877594 0.4496729  0.4096779  0.393158   0.37151974 0.18101245], B intercept: -0.016821029878991776, Train loss: 0.10365, Test loss: 0.10019\n",
      "\n",
      "-- Epoch no(iteration no)  98\n",
      "W intercept: [0.51147495 0.45242757 0.41335244 0.39471236 0.37460114 0.18192834], B intercept: -0.016405018121013425, Train loss: 0.10307, Test loss: 0.09962\n"
     ]
    },
    {
     "name": "stdout",
     "output_type": "stream",
     "text": [
      "\n",
      "-- Epoch no(iteration no)  99\n",
      "W intercept: [0.51473567 0.45353089 0.41619251 0.39721982 0.37684898 0.1824385 ], B intercept: -0.015938573768327167, Train loss: 0.10257, Test loss: 0.09915\n",
      "\n",
      "-- Epoch no(iteration no)  100\n",
      "W intercept: [0.51729769 0.4560157  0.42013979 0.39982455 0.37948662 0.1836837 ], B intercept: -0.016190263471302126, Train loss: 0.10197, Test loss: 0.09859\n",
      "\n",
      "-- Epoch no(iteration no)  101\n",
      "W intercept: [0.51989078 0.4581326  0.42256953 0.40234647 0.38040381 0.1846152 ], B intercept: -0.017723869049046326, Train loss: 0.10152, Test loss: 0.09817\n",
      "\n",
      "-- Epoch no(iteration no)  102\n",
      "W intercept: [0.52274472 0.4600515  0.42541019 0.40386829 0.38185042 0.18593307], B intercept: -0.018404027940822857, Train loss: 0.10107, Test loss: 0.09773\n",
      "\n",
      "-- Epoch no(iteration no)  103\n",
      "W intercept: [0.52588989 0.46332933 0.42666345 0.40527354 0.3827107  0.18695557], B intercept: -0.0203937681283253, Train loss: 0.10063, Test loss: 0.09731\n",
      "\n",
      "-- Epoch no(iteration no)  104\n",
      "W intercept: [0.5297643  0.46548521 0.42958373 0.4070767  0.38383966 0.18738834], B intercept: -0.020411846724328025, Train loss: 0.10013, Test loss: 0.09684\n",
      "\n",
      "-- Epoch no(iteration no)  105\n",
      "W intercept: [0.53180337 0.46907833 0.43166136 0.40877315 0.38665189 0.18825318], B intercept: -0.02184837995681257, Train loss: 0.09964, Test loss: 0.09636\n",
      "\n",
      "-- Epoch no(iteration no) "
     ]
    },
    {
     "name": "stderr",
     "output_type": "stream",
     "text": [
      " 45%|████▌     | 136/300 [00:00<00:00, 260.05it/s]"
     ]
    },
    {
     "name": "stdout",
     "output_type": "stream",
     "text": [
      " 106\n",
      "W intercept: [0.53466061 0.47302282 0.43286587 0.41066282 0.38959253 0.18865642], B intercept: -0.021222125722621075, Train loss: 0.09913, Test loss: 0.09586\n",
      "\n",
      "-- Epoch no(iteration no)  107\n",
      "W intercept: [0.5387373  0.47576224 0.43403577 0.41247303 0.39075048 0.19034703], B intercept: -0.019514112467493946, Train loss: 0.09864, Test loss: 0.09540\n",
      "\n",
      "-- Epoch no(iteration no)  108\n",
      "W intercept: [0.54362354 0.47669287 0.43556631 0.41467452 0.39278484 0.19083   ], B intercept: -0.019218073403975206, Train loss: 0.09817, Test loss: 0.09496\n",
      "\n",
      "-- Epoch no(iteration no)  109\n",
      "W intercept: [0.5454122  0.47970581 0.43758716 0.41604966 0.39445036 0.19209184], B intercept: -0.019200932794554124, Train loss: 0.09777, Test loss: 0.09457\n",
      "\n",
      "-- Epoch no(iteration no)  110\n",
      "W intercept: [0.54729584 0.48064554 0.43781468 0.41925431 0.39521683 0.19163435], B intercept: -0.017112791790426123, Train loss: 0.09751, Test loss: 0.09434\n",
      "\n",
      "-- Epoch no(iteration no)  111\n",
      "W intercept: [0.54882788 0.48440144 0.44050914 0.42093979 0.39663004 0.19298032], B intercept: -0.016071066109929467, Train loss: 0.09707, Test loss: 0.09392\n",
      "\n",
      "-- Epoch no(iteration no)  112\n",
      "W intercept: [0.55118857 0.4864423  0.44292218 0.42288762 0.39919089 0.19392503], B intercept: -0.015210062676443167, Train loss: 0.09664, Test loss: 0.09351\n",
      "\n",
      "-- Epoch no(iteration no)  113\n",
      "W intercept: [0.5542452  0.48743046 0.44615663 0.42499613 0.40168633 0.19465191], B intercept: -0.01498144236727474, Train loss: 0.09619, Test loss: 0.09309\n",
      "\n",
      "-- Epoch no(iteration no)  114\n",
      "W intercept: [0.55553897 0.4899266  0.44974397 0.42727948 0.40247002 0.19561306], B intercept: -0.015948022463849507, Train loss: 0.09580, Test loss: 0.09273\n",
      "\n",
      "-- Epoch no(iteration no)  115\n",
      "W intercept: [0.55913282 0.49212965 0.45200033 0.42945149 0.404448   0.1963197 ], B intercept: -0.01702633059025908, Train loss: 0.09533, Test loss: 0.09229\n",
      "\n",
      "-- Epoch no(iteration no)  116\n",
      "W intercept: [0.56200032 0.49420775 0.45391093 0.43050661 0.40555468 0.19721553], B intercept: -0.017549894440922368, Train loss: 0.09498, Test loss: 0.09195\n",
      "\n",
      "-- Epoch no(iteration no)  117\n",
      "W intercept: [0.56479266 0.49664361 0.45521296 0.43169545 0.4058867  0.19817696], B intercept: -0.018736676882593464, Train loss: 0.09465, Test loss: 0.09164\n",
      "\n",
      "-- Epoch no(iteration no)  118\n",
      "W intercept: [0.56814308 0.49913791 0.45793387 0.43340268 0.40707366 0.19890107], B intercept: -0.019989209428311182, Train loss: 0.09421, Test loss: 0.09123\n",
      "\n",
      "-- Epoch no(iteration no)  119\n",
      "W intercept: [0.56989262 0.50168387 0.45938717 0.43610467 0.41004229 0.19924937], B intercept: -0.020582273206367303, Train loss: 0.09382, Test loss: 0.09086\n",
      "\n",
      "-- Epoch no(iteration no)  120\n",
      "W intercept: [0.57344358 0.50503207 0.46028221 0.43654178 0.41215983 0.19961335], B intercept: -0.01915037205343951, Train loss: 0.09342, Test loss: 0.09047\n",
      "\n",
      "-- Epoch no(iteration no)  121\n",
      "W intercept: [0.57654092 0.50822819 0.46169066 0.43821573 0.41375363 0.20158232], B intercept: -0.017899669503684736, Train loss: 0.09299, Test loss: 0.09006\n",
      "\n",
      "-- Epoch no(iteration no)  122\n",
      "W intercept: [0.58042027 0.50975229 0.46311691 0.43984261 0.41498792 0.20159876], B intercept: -0.017586250482522877, Train loss: 0.09263, Test loss: 0.08972\n",
      "\n",
      "-- Epoch no(iteration no)  123\n",
      "W intercept: [0.58248496 0.51114026 0.46510757 0.44168147 0.41654616 0.20294961], B intercept: -0.017736999250269017, Train loss: 0.09231, Test loss: 0.08942\n",
      "\n",
      "-- Epoch no(iteration no)  124\n",
      "W intercept: [0.58343764 0.51277368 0.46543309 0.44450244 0.41825922 0.20222966], B intercept: -0.01528525968679576, Train loss: 0.09207, Test loss: 0.08921\n",
      "\n",
      "-- Epoch no(iteration no)  125\n",
      "W intercept: [0.58561731 0.51597339 0.46758444 0.4462671  0.41889037 0.20406699], B intercept: -0.01494373419171396, Train loss: 0.09169, Test loss: 0.08885\n",
      "\n",
      "-- Epoch no(iteration no)  126\n",
      "W intercept: [0.5881622  0.51701224 0.4699119  0.44805641 0.42124881 0.20426516], B intercept: -0.01314518813869884, Train loss: 0.09135, Test loss: 0.08853\n",
      "\n",
      "-- Epoch no(iteration no)  127\n",
      "W intercept: [0.58987818 0.51890689 0.47352732 0.45011772 0.42367155 0.20531646], B intercept: -0.013841535059658863, Train loss: 0.09096, Test loss: 0.08817\n",
      "\n",
      "-- Epoch no(iteration no)  128\n",
      "W intercept: [0.59174726 0.5207471  0.47632236 0.45210307 0.42404636 0.20661007], B intercept: -0.015200412178377254, Train loss: 0.09064, Test loss: 0.08788\n",
      "\n",
      "-- Epoch no(iteration no)  129\n",
      "W intercept: [0.5956475  0.5226721  0.47797746 0.45357993 0.42576312 0.20695611], B intercept: -0.01546614472827675, Train loss: 0.09026, Test loss: 0.08753\n",
      "\n",
      "-- Epoch no(iteration no)  130\n",
      "W intercept: [0.597306   0.5252256  0.47875083 0.45418815 0.42542176 0.20813232], B intercept: -0.017399758380031476, Train loss: 0.09006, Test loss: 0.08733\n",
      "\n",
      "-- Epoch no(iteration no)  131\n",
      "W intercept: [0.60058017 0.52709816 0.48073692 0.45555441 0.42644101 0.20881531], B intercept: -0.01751032941798651, Train loss: 0.08972, Test loss: 0.08701\n",
      "\n",
      "-- Epoch no(iteration no)  132\n",
      "W intercept: [0.60294623 0.5301056  0.48282132 0.45700518 0.42832856 0.20891993], B intercept: -0.018104714686097735, Train loss: 0.08936, Test loss: 0.08667\n",
      "\n",
      "-- Epoch no(iteration no)  133\n",
      "W intercept: [0.60524808 0.53248296 0.48458758 0.45914797 0.43049068 0.20937716], B intercept: -0.018550133624377255, Train loss: 0.08901, Test loss: 0.08634\n",
      "\n",
      "-- Epoch no(iteration no)  134\n",
      "W intercept: [0.6081809  0.53540615 0.485161   0.46018426 0.43245026 0.21049464], B intercept: -0.01671964028153518, Train loss: 0.08867, Test loss: 0.08601\n",
      "\n",
      "-- Epoch no(iteration no)  135\n",
      "W intercept: [0.61136958 0.53781345 0.48655323 0.46209995 0.43390728 0.2117686 ], B intercept: -0.016478352976815897, Train loss: 0.08831, Test loss: 0.08568\n",
      "\n",
      "-- Epoch no(iteration no)  136\n",
      "W intercept: [0.6145748  0.53940872 0.48785126 0.46307472 0.43520121 0.21171739], B intercept: -0.01606085310106552, Train loss: 0.08803, Test loss: 0.08541\n",
      "\n",
      "-- Epoch no(iteration no)  137\n",
      "W intercept: [0.61563977 0.54021552 0.48860895 0.4651946  0.43678351 0.21216759], B intercept: -0.014087180769190653, Train loss: 0.08783, Test loss: 0.08523\n",
      "\n",
      "-- Epoch no(iteration no)  138\n",
      "W intercept: [0.6173337  0.54308984 0.48985459 0.46714926 0.43665157 0.21352376], B intercept: -0.01304873232374938, Train loss: 0.08755, Test loss: 0.08498\n",
      "\n",
      "-- Epoch no(iteration no)  139\n",
      "W intercept: [0.6195351  0.54543173 0.49185279 0.46879347 0.43846393 0.21379633], B intercept: -0.01238478152749694, Train loss: 0.08723, Test loss: 0.08468\n",
      "\n",
      "-- Epoch no(iteration no)  140\n",
      "W intercept: [0.62154707 0.54614093 0.49421788 0.47080418 0.44056196 0.21400235], B intercept: -0.01119169522183241, Train loss: 0.08695, Test loss: 0.08443\n",
      "\n",
      "-- Epoch no(iteration no)  141\n",
      "W intercept: [0.62388716 0.54723361 0.49789933 0.47289685 0.44301931 0.21520177], B intercept: -0.012215289045049229, Train loss: 0.08659, Test loss: 0.08410\n",
      "\n",
      "-- Epoch no(iteration no)  142\n",
      "W intercept: [0.62539988 0.54942552 0.49996973 0.47459531 0.44302788 0.2162107 ], B intercept: -0.013345749333819493, Train loss: 0.08635, Test loss: 0.08388\n",
      "\n",
      "-- Epoch no(iteration no)  143\n",
      "W intercept: [0.62761717 0.55105756 0.50180508 0.4753501  0.44419729 0.21691398], B intercept: -0.013899718991803946, Train loss: 0.08610, Test loss: 0.08364\n",
      "\n",
      "-- Epoch no(iteration no)  144\n",
      "W intercept: [0.6301152  0.55338332 0.50246271 0.47639429 0.44419009 0.21769878], B intercept: -0.01525393705887167, Train loss: 0.08587, Test loss: 0.08343\n",
      "\n",
      "-- Epoch no(iteration no)  145\n",
      "W intercept: [0.63309853 0.55515363 0.50488952 0.47757815 0.44516899 0.21817848], B intercept: -0.015489432962440439, Train loss: 0.08557, Test loss: 0.08316\n",
      "\n",
      "-- Epoch no(iteration no)  146\n",
      "W intercept: [0.63495595 0.55805024 0.50642523 0.47870165 0.44717792 0.21858155], B intercept: -0.016156033354943165, Train loss: 0.08528, Test loss: 0.08288\n",
      "\n",
      "-- Epoch no(iteration no)  147\n",
      "W intercept: [0.63696257 0.56115084 0.50757718 0.48088431 0.44908527 0.21870549], B intercept: -0.016344291364549807, Train loss: 0.08497, Test loss: 0.08259\n",
      "\n",
      "-- Epoch no(iteration no)  148\n",
      "W intercept: [0.64005584 0.56359298 0.50792485 0.4816061  0.45069689 0.22039311], B intercept: -0.014417558488153072, Train loss: 0.08469, Test loss: 0.08231\n",
      "\n",
      "-- Epoch no(iteration no)  149\n",
      "W intercept: [0.64443555 0.5642863  0.50884465 0.48320117 0.45185473 0.22060548], B intercept: -0.013620800242332743, Train loss: 0.08440, Test loss: 0.08205\n"
     ]
    },
    {
     "name": "stdout",
     "output_type": "stream",
     "text": [
      "\n",
      "-- Epoch no(iteration no)  150\n",
      "W intercept: [0.64598467 0.56681039 0.51068574 0.4847006  0.45322569 0.22077339], B intercept: -0.013686831478087559, Train loss: 0.08414, Test loss: 0.08181\n",
      "\n",
      "-- Epoch no(iteration no)  151\n",
      "W intercept: [0.64768612 0.56728565 0.5104947  0.48654172 0.45368945 0.22149304], B intercept: -0.01224779089452949, Train loss: 0.08400, Test loss: 0.08169\n",
      "\n",
      "-- Epoch no(iteration no)  152\n",
      "W intercept: [0.64851152 0.57030354 0.51207918 0.48856814 0.45419317 0.22239639], B intercept: -0.010327468967570978, Train loss: 0.08375, Test loss: 0.08146\n",
      "\n",
      "-- Epoch no(iteration no)  153\n",
      "W intercept: [0.65022739 0.57204554 0.5146286  0.48952837 0.45626336 0.22311816], B intercept: -0.009948663790403565, Train loss: 0.08349, Test loss: 0.08121\n",
      "\n",
      "-- Epoch no(iteration no)  154\n",
      "W intercept: [0.65241771 0.57272228 0.51733207 0.49115209 0.45825512 0.22359139], B intercept: -0.009197269486036684, Train loss: 0.08322, Test loss: 0.08098\n",
      "\n",
      "-- Epoch no(iteration no)  155\n",
      "W intercept: [0.65447835 0.57482263 0.51996591 0.4934149  0.46006245 0.22411445], B intercept: -0.009211884717340675, Train loss: 0.08291, Test loss: 0.08070\n",
      "\n",
      "-- Epoch no(iteration no)  156\n",
      "W intercept: [0.65621536 0.57629645 0.52193874 0.49497817 0.46004858 0.22489694], B intercept: -0.010656148594956394, Train loss: 0.08271, Test loss: 0.08052\n"
     ]
    },
    {
     "name": "stderr",
     "output_type": "stream",
     "text": [
      " 64%|██████▍   | 192/300 [00:00<00:00, 258.98it/s]"
     ]
    },
    {
     "name": "stdout",
     "output_type": "stream",
     "text": [
      "\n",
      "-- Epoch no(iteration no)  157\n",
      "W intercept: [0.65830174 0.57735633 0.52373294 0.49584378 0.46097751 0.22559257], B intercept: -0.011595982871517294, Train loss: 0.08251, Test loss: 0.08033\n",
      "\n",
      "-- Epoch no(iteration no)  158\n",
      "W intercept: [0.66089175 0.58002157 0.52403458 0.49620772 0.46085619 0.22655804], B intercept: -0.012866254769668597, Train loss: 0.08231, Test loss: 0.08015\n",
      "\n",
      "-- Epoch no(iteration no)  159\n",
      "W intercept: [0.66336842 0.58151277 0.52671832 0.49786115 0.46173633 0.22663609], B intercept: -0.012777517342726332, Train loss: 0.08205, Test loss: 0.07991\n",
      "\n",
      "-- Epoch no(iteration no)  160\n",
      "W intercept: [0.66493173 0.58395768 0.52794687 0.49882186 0.4641414  0.22738197], B intercept: -0.014459569175861912, Train loss: 0.08181, Test loss: 0.07968\n",
      "\n",
      "-- Epoch no(iteration no)  161\n",
      "W intercept: [0.66748578 0.58647969 0.52817594 0.49998425 0.46588862 0.2273803 ], B intercept: -0.012859316445410487, Train loss: 0.08157, Test loss: 0.07945\n",
      "\n",
      "-- Epoch no(iteration no)  162\n",
      "W intercept: [0.66997598 0.58897486 0.52939722 0.50155184 0.46682445 0.22885421], B intercept: -0.011784979992909238, Train loss: 0.08130, Test loss: 0.07920\n",
      "\n",
      "-- Epoch no(iteration no)  163\n",
      "W intercept: [0.67403877 0.58959811 0.53077139 0.50278158 0.46846566 0.22909718], B intercept: -0.011287207921931063, Train loss: 0.08104, Test loss: 0.07896\n",
      "\n",
      "-- Epoch no(iteration no)  164\n",
      "W intercept: [0.67519402 0.59133433 0.53188942 0.50389407 0.46897864 0.22995122], B intercept: -0.010461311743187245, Train loss: 0.08087, Test loss: 0.07881\n",
      "\n",
      "-- Epoch no(iteration no)  165\n",
      "W intercept: [0.67601004 0.59247987 0.53171561 0.50639351 0.47024321 0.22924544], B intercept: -0.008223060514609387, Train loss: 0.08072, Test loss: 0.07868\n",
      "\n",
      "-- Epoch no(iteration no)  166\n",
      "W intercept: [0.67744275 0.59545314 0.53343006 0.5075255  0.4705564  0.23086463], B intercept: -0.007649441559149182, Train loss: 0.08049, Test loss: 0.07847\n",
      "\n",
      "-- Epoch no(iteration no)  167\n",
      "W intercept: [0.67921787 0.59643753 0.53520637 0.50963701 0.4722612  0.23105352], B intercept: -0.006348491922972491, Train loss: 0.08027, Test loss: 0.07827\n",
      "\n",
      "-- Epoch no(iteration no)  168\n",
      "W intercept: [0.68089947 0.59748431 0.53851602 0.51069671 0.47446277 0.23166819], B intercept: -0.006273623858164799, Train loss: 0.08003, Test loss: 0.07805\n",
      "\n",
      "-- Epoch no(iteration no)  169\n",
      "W intercept: [0.68210636 0.59922721 0.5408088  0.51223799 0.47454478 0.23280915], B intercept: -0.007821234246053008, Train loss: 0.07983, Test loss: 0.07789\n",
      "\n",
      "-- Epoch no(iteration no)  170\n",
      "W intercept: [0.68533237 0.60069741 0.54189123 0.51359572 0.47581742 0.23301805], B intercept: -0.007859429544474815, Train loss: 0.07960, Test loss: 0.07767\n",
      "\n",
      "-- Epoch no(iteration no)  171\n",
      "W intercept: [0.68675368 0.60254374 0.54241646 0.51349836 0.47515019 0.23407359], B intercept: -0.00961437919038598, Train loss: 0.07949, Test loss: 0.07757\n",
      "\n",
      "-- Epoch no(iteration no)  172\n",
      "W intercept: [0.68898379 0.60419092 0.54420743 0.51493657 0.47613422 0.23462702], B intercept: -0.009864689051186414, Train loss: 0.07927, Test loss: 0.07737\n",
      "\n",
      "-- Epoch no(iteration no)  173\n",
      "W intercept: [0.6914001  0.60650943 0.54604135 0.51567393 0.47763266 0.23488777], B intercept: -0.010618219942896134, Train loss: 0.07903, Test loss: 0.07715\n",
      "\n",
      "-- Epoch no(iteration no)  174\n",
      "W intercept: [0.6929638  0.60826767 0.54726916 0.51789083 0.47928236 0.23513793], B intercept: -0.010965046103132486, Train loss: 0.07882, Test loss: 0.07696\n",
      "\n",
      "-- Epoch no(iteration no)  175\n",
      "W intercept: [0.69566561 0.61043795 0.54789333 0.51843835 0.48099713 0.23524536], B intercept: -0.009947327123838699, Train loss: 0.07861, Test loss: 0.07675\n",
      "\n",
      "-- Epoch no(iteration no)  176\n",
      "W intercept: [0.69827613 0.61299345 0.54868276 0.51973985 0.48204759 0.23693531], B intercept: -0.008681582677705075, Train loss: 0.07836, Test loss: 0.07652\n",
      "\n",
      "-- Epoch no(iteration no)  177\n",
      "W intercept: [0.70108991 0.61423096 0.54965189 0.52054992 0.48303813 0.2368277 ], B intercept: -0.00806482432435108, Train loss: 0.07817, Test loss: 0.07635\n",
      "\n",
      "-- Epoch no(iteration no)  178\n",
      "W intercept: [0.70233126 0.61465646 0.55030008 0.52233541 0.48394224 0.23741001], B intercept: -0.006682356194445044, Train loss: 0.07804, Test loss: 0.07623\n",
      "\n",
      "-- Epoch no(iteration no)  179\n",
      "W intercept: [0.70285262 0.6168188  0.55069732 0.523825   0.48472728 0.23843612], B intercept: -0.004914836058821692, Train loss: 0.07789, Test loss: 0.07610\n",
      "\n",
      "-- Epoch no(iteration no)  180\n",
      "W intercept: [0.70502864 0.61909673 0.55275165 0.52544725 0.485125   0.2387402 ], B intercept: -0.004593026812686241, Train loss: 0.07766, Test loss: 0.07589\n",
      "\n",
      "-- Epoch no(iteration no)  181\n",
      "W intercept: [0.7065783  0.61960478 0.55470459 0.52692107 0.48707141 0.23866928], B intercept: -0.0032866052574912685, Train loss: 0.07748, Test loss: 0.07573\n",
      "\n",
      "-- Epoch no(iteration no)  182\n",
      "W intercept: [0.70830828 0.62053959 0.55774213 0.52866306 0.48898858 0.23958657], B intercept: -0.0036962309110607516, Train loss: 0.07725, Test loss: 0.07553\n",
      "\n",
      "-- Epoch no(iteration no)  183\n",
      "W intercept: [0.70913876 0.62220331 0.55982655 0.52997296 0.48897955 0.24079703], B intercept: -0.005441683942313527, Train loss: 0.07710, Test loss: 0.07541\n",
      "\n",
      "-- Epoch no(iteration no)  184\n",
      "W intercept: [0.71214604 0.62376269 0.56088585 0.53095464 0.49015552 0.24079125], B intercept: -0.005043273050104912, Train loss: 0.07689, Test loss: 0.07522\n",
      "\n",
      "-- Epoch no(iteration no)  185\n",
      "W intercept: [0.71323944 0.62552663 0.56124414 0.53103899 0.48936176 0.24199849], B intercept: -0.007232430549576489, Train loss: 0.07681, Test loss: 0.07514\n",
      "\n",
      "-- Epoch no(iteration no)  186\n",
      "W intercept: [0.71610015 0.62667351 0.56288224 0.5322046  0.49002668 0.24227633], B intercept: -0.00724379581129386, Train loss: 0.07661, Test loss: 0.07497\n",
      "\n",
      "-- Epoch no(iteration no)  187\n",
      "W intercept: [0.71752918 0.62927886 0.56461555 0.53285859 0.49173309 0.24245373], B intercept: -0.007567456047880231, Train loss: 0.07642, Test loss: 0.07478\n",
      "\n",
      "-- Epoch no(iteration no)  188\n",
      "W intercept: [0.71935728 0.63154243 0.56560901 0.53474889 0.49316399 0.24255553], B intercept: -0.00781994999864693, Train loss: 0.07621, Test loss: 0.07459\n",
      "\n",
      "-- Epoch no(iteration no)  189\n",
      "W intercept: [0.72169742 0.63345869 0.56582557 0.53563839 0.49479675 0.24358761], B intercept: -0.006334274767803549, Train loss: 0.07602, Test loss: 0.07441\n",
      "\n",
      "-- Epoch no(iteration no)  190\n",
      "W intercept: [0.72435127 0.63515278 0.56716015 0.53696454 0.49579968 0.24456574], B intercept: -0.006142397695627999, Train loss: 0.07581, Test loss: 0.07422\n",
      "\n",
      "-- Epoch no(iteration no)  191\n",
      "W intercept: [0.72671516 0.63676575 0.56783369 0.53746021 0.49665443 0.24436301], B intercept: -0.005397431204749029, Train loss: 0.07565, Test loss: 0.07407\n",
      "\n",
      "-- Epoch no(iteration no)  192\n",
      "W intercept: [0.72821531 0.636949   0.56742534 0.53939135 0.49685515 0.24472677], B intercept: -0.0034500445633580882, Train loss: 0.07556, Test loss: 0.07400\n",
      "\n",
      "-- Epoch no(iteration no)  193\n",
      "W intercept: [0.7287965  0.63946253 0.5688121  0.54083431 0.49685065 0.24569751], B intercept: -0.0016349484335666802, Train loss: 0.07540, Test loss: 0.07386\n",
      "\n",
      "-- Epoch no(iteration no)  194\n",
      "W intercept: [0.73010633 0.64112479 0.57090989 0.54190158 0.49887131 0.24619716], B intercept: -0.0012355085769401837, Train loss: 0.07521, Test loss: 0.07368\n",
      "\n",
      "-- Epoch no(iteration no)  195\n",
      "W intercept: [0.73217243 0.64142378 0.57273485 0.54340944 0.50024691 0.24616555], B intercept: -0.0005516853749604983, Train loss: 0.07504, Test loss: 0.07354\n",
      "\n",
      "-- Epoch no(iteration no)  196\n",
      "W intercept: [0.73370161 0.64245718 0.5758031  0.54537211 0.50229317 0.24692025], B intercept: -0.0009446399620005194, Train loss: 0.07483, Test loss: 0.07336\n",
      "\n",
      "-- Epoch no(iteration no)  197\n",
      "W intercept: [0.73502985 0.64442382 0.57702386 0.54626295 0.50177682 0.24772426], B intercept: -0.0017358610965569987, Train loss: 0.07470, Test loss: 0.07324\n",
      "\n",
      "-- Epoch no(iteration no)  198\n",
      "W intercept: [0.73646968 0.6451982  0.57858981 0.54686798 0.50245259 0.24843246], B intercept: -0.0025575706733810292, Train loss: 0.07458, Test loss: 0.07314\n",
      "\n",
      "-- Epoch no(iteration no)  199\n",
      "W intercept: [0.73842163 0.64733702 0.57864612 0.54732059 0.50222587 0.24918376], B intercept: -0.004049871638368603, Train loss: 0.07445, Test loss: 0.07303\n",
      "\n",
      "-- Epoch no(iteration no)  200\n",
      "W intercept: [0.74100961 0.64848669 0.58067052 0.54824886 0.50280551 0.24931593], B intercept: -0.004008986133682406, Train loss: 0.07428, Test loss: 0.07287\n",
      "\n",
      "-- Epoch no(iteration no)  201\n",
      "W intercept: [0.74211373 0.65097075 0.58188995 0.54894222 0.50474178 0.24979898], B intercept: -0.004976775844339312, Train loss: 0.07411, Test loss: 0.07271\n",
      "\n",
      "-- Epoch no(iteration no)  202\n",
      "W intercept: [0.74367793 0.65341213 0.58257293 0.55051753 0.50648303 0.24959876], B intercept: -0.004445210266762096, Train loss: 0.07393, Test loss: 0.07254\n"
     ]
    },
    {
     "name": "stdout",
     "output_type": "stream",
     "text": [
      "\n",
      "-- Epoch no(iteration no)  203\n",
      "W intercept: [0.74635322 0.65525171 0.58295725 0.55130014 0.50696964 0.25099288], B intercept: -0.002591428278787963, Train loss: 0.07375, Test loss: 0.07238\n",
      "\n",
      "-- Epoch no(iteration no)  204\n",
      "W intercept: [0.75019077 0.65545811 0.58358794 0.55245541 0.5082824  0.2511579 ], B intercept: -0.002073432808040601, Train loss: 0.07358, Test loss: 0.07222\n",
      "\n",
      "-- Epoch no(iteration no)  205\n",
      "W intercept: [0.75118158 0.6576778  0.58486749 0.55353898 0.50926644 0.25128956], B intercept: -0.0021856870897309782, Train loss: 0.07343, Test loss: 0.07209\n",
      "\n",
      "-- Epoch no(iteration no)  206\n",
      "W intercept: [0.75182507 0.65787996 0.5844417  0.55532843 0.50883114 0.25138567], B intercept: 0.0005881182387070157, Train loss: 0.07337, Test loss: 0.07205\n",
      "\n",
      "-- Epoch no(iteration no)  207\n",
      "W intercept: [0.75257041 0.66054278 0.58615379 0.55635244 0.50957984 0.25243246], B intercept: 0.0019663578211261902, Train loss: 0.07321, Test loss: 0.07190\n",
      "\n",
      "-- Epoch no(iteration no)  208\n",
      "W intercept: [0.75399704 0.66154849 0.58760457 0.55759311 0.51112214 0.25296581], B intercept: 0.00247633327641157, Train loss: 0.07306, Test loss: 0.07176\n",
      "\n",
      "-- Epoch no(iteration no)  209\n",
      "W intercept: [0.75589386 0.66201952 0.5899202  0.55872072 0.51278544 0.25349213], B intercept: 0.0025789611523602085, Train loss: 0.07289, Test loss: 0.07162\n",
      "\n",
      "-- Epoch no(iteration no)  210\n",
      "W intercept: [0.75640166 0.66358113 0.59243296 0.56020216 0.51279242 0.25419091], B intercept: 0.0020237077124508145, Train loss: 0.07276, Test loss: 0.07151\n",
      "\n",
      "-- Epoch no(iteration no)  211\n",
      "W intercept: [0.75875288 0.66502512 0.59372864 0.56148101 0.51385937 0.25454547], B intercept: 0.0014857709222382055, Train loss: 0.07259, Test loss: 0.07136\n",
      "\n",
      "-- Epoch no(iteration no)  212\n",
      "W intercept: [0.76051378 0.66606688 0.59491685 0.56185061 0.51432878 0.2550587 ], B intercept: 0.0007929331411775963, Train loss: 0.07248, Test loss: 0.07126\n",
      "\n",
      "-- Epoch no(iteration no)  213\n",
      "W intercept: [0.76242398 0.66791333 0.59488662 0.56215644 0.5140116  0.25592718], B intercept: -0.0007396272537160281, Train loss: 0.07237, Test loss: 0.07117\n",
      "\n",
      "-- Epoch no(iteration no) "
     ]
    },
    {
     "name": "stderr",
     "output_type": "stream",
     "text": [
      " 83%|████████▎ | 249/300 [00:00<00:00, 270.25it/s]"
     ]
    },
    {
     "name": "stdout",
     "output_type": "stream",
     "text": [
      " 214\n",
      "W intercept: [0.76450019 0.66930984 0.59702765 0.56308155 0.51460493 0.25616415], B intercept: -0.0011858280165419149, Train loss: 0.07221, Test loss: 0.07103\n",
      "\n",
      "-- Epoch no(iteration no)  215\n",
      "W intercept: [0.76584174 0.67121289 0.59792581 0.56407028 0.51653323 0.2564436 ], B intercept: -0.0018111286445257769, Train loss: 0.07207, Test loss: 0.07089\n",
      "\n",
      "-- Epoch no(iteration no)  216\n",
      "W intercept: [0.7678957  0.67297702 0.59816734 0.56515088 0.51792426 0.25623044], B intercept: -0.00021339486229614816, Train loss: 0.07192, Test loss: 0.07075\n",
      "\n",
      "-- Epoch no(iteration no)  217\n",
      "W intercept: [0.76984704 0.67507437 0.59907617 0.56600169 0.51893394 0.25763181], B intercept: 0.0006590494749383412, Train loss: 0.07175, Test loss: 0.07060\n",
      "\n",
      "-- Epoch no(iteration no)  218\n",
      "W intercept: [0.77318501 0.67548842 0.60012687 0.5671734  0.52003889 0.25784237], B intercept: 0.0010217095777732472, Train loss: 0.07159, Test loss: 0.07046\n",
      "\n",
      "-- Epoch no(iteration no)  219\n",
      "W intercept: [0.77395088 0.67689027 0.6009276  0.56791436 0.52023867 0.25855317], B intercept: 0.0021872752612427057, Train loss: 0.07149, Test loss: 0.07037\n",
      "\n",
      "-- Epoch no(iteration no)  220\n",
      "W intercept: [0.77428372 0.6778605  0.60056925 0.5700264  0.52109691 0.25768033], B intercept: 0.004582964286439145, Train loss: 0.07141, Test loss: 0.07030\n",
      "\n",
      "-- Epoch no(iteration no)  221\n",
      "W intercept: [0.7755477  0.680187   0.60204632 0.5711546  0.52115719 0.25921832], B intercept: 0.005070782058919324, Train loss: 0.07126, Test loss: 0.07017\n",
      "\n",
      "-- Epoch no(iteration no)  222\n",
      "W intercept: [0.77730153 0.68048478 0.60363722 0.57245414 0.52278694 0.2591871 ], B intercept: 0.006505971187339227, Train loss: 0.07112, Test loss: 0.07005\n",
      "\n",
      "-- Epoch no(iteration no)  223\n",
      "W intercept: [0.77827166 0.68167403 0.6062579  0.57372863 0.52448397 0.25990952], B intercept: 0.00608343196068517, Train loss: 0.07097, Test loss: 0.06992\n",
      "\n",
      "-- Epoch no(iteration no)  224\n",
      "W intercept: [0.77914858 0.68295864 0.60819073 0.57478576 0.52414008 0.26095047], B intercept: 0.004933067542336004, Train loss: 0.07086, Test loss: 0.06984\n",
      "\n",
      "-- Epoch no(iteration no)  225\n",
      "W intercept: [0.78194147 0.68419308 0.60898459 0.57577055 0.52516553 0.26103257], B intercept: 0.004801040360680226, Train loss: 0.07071, Test loss: 0.06970\n",
      "\n",
      "-- Epoch no(iteration no)  226\n",
      "W intercept: [0.78283502 0.68577479 0.60904686 0.57547675 0.52412097 0.26195848], B intercept: 0.0030026395398808493, Train loss: 0.07067, Test loss: 0.06967\n",
      "\n",
      "-- Epoch no(iteration no)  227\n",
      "W intercept: [0.78506256 0.68684889 0.61044976 0.57627986 0.52467903 0.26230893], B intercept: 0.0029103689944489303, Train loss: 0.07053, Test loss: 0.06955\n",
      "\n",
      "-- Epoch no(iteration no)  228\n",
      "W intercept: [0.7864985  0.68904671 0.61187125 0.57688115 0.52611832 0.26239008], B intercept: 0.002466475339266457, Train loss: 0.07039, Test loss: 0.06941\n",
      "\n",
      "-- Epoch no(iteration no)  229\n",
      "W intercept: [0.78793563 0.69053666 0.61294923 0.57861341 0.52752944 0.2625351 ], B intercept: 0.002382774934476857, Train loss: 0.07025, Test loss: 0.06929\n",
      "\n",
      "-- Epoch no(iteration no)  230\n",
      "W intercept: [0.78973268 0.69254366 0.61324759 0.57883181 0.52891132 0.26336679], B intercept: 0.0036907659973557452, Train loss: 0.07011, Test loss: 0.06916\n",
      "\n",
      "-- Epoch no(iteration no)  231\n",
      "W intercept: [0.79214762 0.69421023 0.61388511 0.58027163 0.529616   0.26417145], B intercept: 0.004322858968383912, Train loss: 0.06996, Test loss: 0.06902\n",
      "\n",
      "-- Epoch no(iteration no)  232\n",
      "W intercept: [0.79453146 0.69532402 0.61453111 0.58073478 0.53030859 0.2638951 ], B intercept: 0.005097862007431642, Train loss: 0.06984, Test loss: 0.06891\n",
      "\n",
      "-- Epoch no(iteration no)  233\n",
      "W intercept: [0.79495609 0.69563722 0.61479726 0.58222823 0.53128814 0.264153  ], B intercept: 0.0073326304133578026, Train loss: 0.06976, Test loss: 0.06885\n",
      "\n",
      "-- Epoch no(iteration no)  234\n",
      "W intercept: [0.79586518 0.69740746 0.6152285  0.58347349 0.53133283 0.26524054], B intercept: 0.008602688840386114, Train loss: 0.06966, Test loss: 0.06876\n",
      "\n",
      "-- Epoch no(iteration no)  235\n",
      "W intercept: [0.79742244 0.6991133  0.61678746 0.58476777 0.53157824 0.26546553], B intercept: 0.008884940748178647, Train loss: 0.06952, Test loss: 0.06865\n",
      "\n",
      "-- Epoch no(iteration no)  236\n",
      "W intercept: [0.79881513 0.69941988 0.6184713  0.58613392 0.5332071  0.26533193], B intercept: 0.010035528931555479, Train loss: 0.06940, Test loss: 0.06854\n",
      "\n",
      "-- Epoch no(iteration no)  237\n",
      "W intercept: [0.80031981 0.7000682  0.62118822 0.5875871  0.53497188 0.26622176], B intercept: 0.009485472543932451, Train loss: 0.06925, Test loss: 0.06842\n",
      "\n",
      "-- Epoch no(iteration no)  238\n",
      "W intercept: [0.80105882 0.70167757 0.62258382 0.58844777 0.53434477 0.26706278], B intercept: 0.008519545798607074, Train loss: 0.06916, Test loss: 0.06835\n",
      "\n",
      "-- Epoch no(iteration no)  239\n",
      "W intercept: [0.80319818 0.70287841 0.62355168 0.58918654 0.53542994 0.26727185], B intercept: 0.008652119650180852, Train loss: 0.06903, Test loss: 0.06823\n",
      "\n",
      "-- Epoch no(iteration no)  240\n",
      "W intercept: [0.80409202 0.70426106 0.6236264  0.58902546 0.53433698 0.26818055], B intercept: 0.0064905817504113915, Train loss: 0.06900, Test loss: 0.06820\n",
      "\n",
      "-- Epoch no(iteration no)  241\n",
      "W intercept: [0.8062182  0.70526719 0.62544743 0.58975196 0.53491543 0.26835518], B intercept: 0.006529438130880223, Train loss: 0.06887, Test loss: 0.06809\n",
      "\n",
      "-- Epoch no(iteration no)  242\n",
      "W intercept: [0.80738721 0.70737206 0.62642203 0.59025322 0.536436   0.26860576], B intercept: 0.006079998799340895, Train loss: 0.06875, Test loss: 0.06798\n",
      "\n",
      "-- Epoch no(iteration no)  243\n",
      "W intercept: [0.80863781 0.70957465 0.62715979 0.59202053 0.53775231 0.26856841], B intercept: 0.006100669224453357, Train loss: 0.06861, Test loss: 0.06786\n",
      "\n",
      "-- Epoch no(iteration no)  244\n",
      "W intercept: [0.81079637 0.71125355 0.62711403 0.59230382 0.53873254 0.2698423 ], B intercept: 0.0077924288880744244, Train loss: 0.06848, Test loss: 0.06774\n",
      "\n",
      "-- Epoch no(iteration no)  245\n",
      "W intercept: [0.81381886 0.71169272 0.62787578 0.59335641 0.53947264 0.27004269], B intercept: 0.008182763123282859, Train loss: 0.06836, Test loss: 0.06763\n",
      "\n",
      "-- Epoch no(iteration no)  246\n",
      "W intercept: [0.81523484 0.71346795 0.62873747 0.59419513 0.54028219 0.26980096], B intercept: 0.008924180936172536, Train loss: 0.06824, Test loss: 0.06752\n",
      "\n",
      "-- Epoch no(iteration no)  247\n",
      "W intercept: [0.81627539 0.71350065 0.62815245 0.59558208 0.54013162 0.27030141], B intercept: 0.010648213107744135, Train loss: 0.06819, Test loss: 0.06749\n",
      "\n",
      "-- Epoch no(iteration no)  248\n",
      "W intercept: [0.81658251 0.71584702 0.62919233 0.5970292  0.54014069 0.27106736], B intercept: 0.012589568771985108, Train loss: 0.06808, Test loss: 0.06739\n",
      "\n",
      "-- Epoch no(iteration no)  249\n",
      "W intercept: [0.81772365 0.71695812 0.63111259 0.59766674 0.54163765 0.27155645], B intercept: 0.012751407793651593, Train loss: 0.06796, Test loss: 0.06729\n",
      "\n",
      "-- Epoch no(iteration no)  250\n",
      "W intercept: [0.81924204 0.71707013 0.63314262 0.59879667 0.54313241 0.27179581], B intercept: 0.013600927330262353, Train loss: 0.06785, Test loss: 0.06719\n",
      "\n",
      "-- Epoch no(iteration no)  251\n",
      "W intercept: [0.82078102 0.71862861 0.63508159 0.60031529 0.54436742 0.27224013], B intercept: 0.013596014508976375, Train loss: 0.06770, Test loss: 0.06707\n",
      "\n",
      "-- Epoch no(iteration no)  252\n",
      "W intercept: [0.82155336 0.7196886  0.6364233  0.60119425 0.54381791 0.27278499], B intercept: 0.012533926049379371, Train loss: 0.06763, Test loss: 0.06702\n",
      "\n",
      "-- Epoch no(iteration no)  253\n",
      "W intercept: [0.82292242 0.72022298 0.63773136 0.60161747 0.54426091 0.27328889], B intercept: 0.011472243294781859, Train loss: 0.06755, Test loss: 0.06695\n",
      "\n",
      "-- Epoch no(iteration no)  254\n",
      "W intercept: [0.82472205 0.72222547 0.63728315 0.60145321 0.5435992  0.27399954], B intercept: 0.010403536171920668, Train loss: 0.06748, Test loss: 0.06689\n",
      "\n",
      "-- Epoch no(iteration no)  255\n",
      "W intercept: [0.82646219 0.72289918 0.63946561 0.60262527 0.54414844 0.27407515], B intercept: 0.01053008777102954, Train loss: 0.06737, Test loss: 0.06679\n",
      "\n",
      "-- Epoch no(iteration no)  256\n",
      "W intercept: [0.82752055 0.72487741 0.64015105 0.6030432  0.54603091 0.27451676], B intercept: 0.009238957969281706, Train loss: 0.06726, Test loss: 0.06669\n",
      "\n",
      "-- Epoch no(iteration no)  257\n",
      "W intercept: [0.82939668 0.72656428 0.64012205 0.60407385 0.5472343  0.27428161], B intercept: 0.010595266236888853, Train loss: 0.06715, Test loss: 0.06658\n",
      "\n",
      "-- Epoch no(iteration no)  258\n",
      "W intercept: [0.83103365 0.72844601 0.64092661 0.60500385 0.54781923 0.2755782 ], B intercept: 0.011561876966086349, Train loss: 0.06702, Test loss: 0.06647\n",
      "\n",
      "-- Epoch no(iteration no)  259\n",
      "W intercept: [0.8343603  0.72866689 0.64133687 0.60596862 0.54897407 0.27570849], B intercept: 0.012009636485901443, Train loss: 0.06690, Test loss: 0.06637\n",
      "\n",
      "-- Epoch no(iteration no)  260\n",
      "W intercept: [0.83488375 0.73062294 0.64214753 0.60622699 0.54944376 0.27651814], B intercept: 0.01286281451993181, Train loss: 0.06681, Test loss: 0.06629\n",
      "\n",
      "-- Epoch no(iteration no)  261\n",
      "W intercept: [0.83558949 0.73073238 0.64215824 0.60817997 0.54884515 0.27557585], B intercept: 0.015397568465755887, Train loss: 0.06676, Test loss: 0.06626\n",
      "\n"
     ]
    },
    {
     "name": "stdout",
     "output_type": "stream",
     "text": [
      "-- Epoch no(iteration no)  262\n",
      "W intercept: [0.83612383 0.73297105 0.64318493 0.60923248 0.54949606 0.27675761], B intercept: 0.01629105330181327, Train loss: 0.06665, Test loss: 0.06616\n",
      "\n",
      "-- Epoch no(iteration no)  263\n",
      "W intercept: [0.83735389 0.7334494  0.64433502 0.61086646 0.55074184 0.27682886], B intercept: 0.01757587482825059, Train loss: 0.06655, Test loss: 0.06608\n",
      "\n",
      "-- Epoch no(iteration no)  264\n",
      "W intercept: [0.83879293 0.73378    0.64674015 0.61162756 0.55234208 0.27739549], B intercept: 0.017413500293006888, Train loss: 0.06644, Test loss: 0.06598\n",
      "\n",
      "-- Epoch no(iteration no)  265\n",
      "W intercept: [0.83906626 0.73540834 0.64865061 0.61231182 0.55204816 0.27826293], B intercept: 0.016359928029660378, Train loss: 0.06636, Test loss: 0.06592\n",
      "\n",
      "-- Epoch no(iteration no)  266\n",
      "W intercept: [0.84164382 0.73642877 0.64933591 0.61328874 0.55292256 0.27834844], B intercept: 0.016398041702530487, Train loss: 0.06624, Test loss: 0.06582\n",
      "\n",
      "-- Epoch no(iteration no)  267\n",
      "W intercept: [0.84231973 0.73767987 0.64919498 0.61266761 0.55173384 0.27920229], B intercept: 0.014627052844519458, Train loss: 0.06623, Test loss: 0.06581\n",
      "\n",
      "-- Epoch no(iteration no)  268\n",
      "W intercept: [0.84399066 0.73877994 0.65060963 0.61370975 0.5524044  0.27951184], B intercept: 0.014422414249387429, Train loss: 0.06612, Test loss: 0.06572\n",
      "\n",
      "-- Epoch no(iteration no)  269\n",
      "W intercept: [0.84569894 0.74050263 0.65184313 0.61395646 0.55361728 0.27970269], B intercept: 0.013901647563147374, Train loss: 0.06601, Test loss: 0.06562\n",
      "\n",
      "-- Epoch no(iteration no)  270\n",
      "W intercept: [0.84647742 0.74136784 0.65275902 0.61592063 0.55498436 0.27989611], B intercept: 0.013520402359479256, Train loss: 0.06592, Test loss: 0.06554\n",
      "\n",
      "-- Epoch no(iteration no)  271\n",
      "W intercept: [0.8486629  0.74314918 0.65297135 0.61604276 0.55592331 0.27979828], B intercept: 0.01447305403960072, Train loss: 0.06581, Test loss: 0.06544\n",
      "\n",
      "-- Epoch no(iteration no)  272\n",
      "W intercept: [0.85030443 0.745138   0.65372271 0.61671239 0.55677457 0.28130496], B intercept: 0.015433850969440692, Train loss: 0.06569, Test loss: 0.06533\n",
      "\n",
      "-- Epoch no(iteration no)  273\n",
      "W intercept: [0.85282217 0.74607595 0.6540096  0.61730733 0.55716958 0.28092668], B intercept: 0.016520006944949123, Train loss: 0.06559, Test loss: 0.06524\n",
      "\n",
      "-- Epoch no(iteration no)  274\n",
      "W intercept: [0.85426816 0.74634046 0.65482681 0.61822379 0.55757698 0.28164039], B intercept: 0.017572696987248095, Train loss: 0.06551, Test loss: 0.06518\n",
      "\n",
      "-- Epoch no(iteration no)  275\n",
      "W intercept: [0.85378475 0.74777187 0.65432787 0.6197821  0.55795766 0.28224548], B intercept: 0.019934552904603914, Train loss: 0.06546, Test loss: 0.06514\n",
      "\n",
      "-- Epoch no(iteration no) "
     ]
    },
    {
     "name": "stderr",
     "output_type": "stream",
     "text": [
      "100%|██████████| 300/300 [00:01<00:00, 264.97it/s]"
     ]
    },
    {
     "name": "stdout",
     "output_type": "stream",
     "text": [
      " 276\n",
      "W intercept: [0.85523066 0.74935609 0.65597235 0.6208792  0.55819445 0.28240457], B intercept: 0.02025620861403476, Train loss: 0.06535, Test loss: 0.06504\n",
      "\n",
      "-- Epoch no(iteration no)  277\n",
      "W intercept: [0.85650007 0.74937585 0.65727497 0.62216644 0.5595847  0.28226068], B intercept: 0.02137284744739998, Train loss: 0.06527, Test loss: 0.06497\n",
      "\n",
      "-- Epoch no(iteration no)  278\n",
      "W intercept: [0.85746777 0.75038249 0.65964069 0.62326938 0.56106584 0.28297378], B intercept: 0.02105127135432221, Train loss: 0.06515, Test loss: 0.06488\n",
      "\n",
      "-- Epoch no(iteration no)  279\n",
      "W intercept: [0.85786032 0.7514882  0.66128415 0.62404901 0.56052809 0.28388273], B intercept: 0.019852666777119134, Train loss: 0.06509, Test loss: 0.06484\n",
      "\n",
      "-- Epoch no(iteration no)  280\n",
      "W intercept: [0.86033263 0.75256501 0.66195774 0.6247735  0.5613664  0.28386601], B intercept: 0.020134872305388633, Train loss: 0.06499, Test loss: 0.06475\n",
      "\n",
      "-- Epoch no(iteration no)  281\n",
      "W intercept: [0.86092663 0.75378054 0.66173841 0.62439632 0.56015542 0.28478699], B intercept: 0.01794046555176026, Train loss: 0.06497, Test loss: 0.06474\n",
      "\n",
      "-- Epoch no(iteration no)  282\n",
      "W intercept: [0.86294321 0.75453278 0.66297648 0.6250985  0.56052012 0.28496172], B intercept: 0.018081102518429034, Train loss: 0.06488, Test loss: 0.06466\n",
      "\n",
      "-- Epoch no(iteration no)  283\n",
      "W intercept: [0.86398282 0.75655266 0.66426969 0.62538596 0.56199597 0.28510645], B intercept: 0.017764452304145584, Train loss: 0.06478, Test loss: 0.06457\n",
      "\n",
      "-- Epoch no(iteration no)  284\n",
      "W intercept: [0.86517695 0.75812943 0.66493827 0.62697239 0.56299545 0.28506333], B intercept: 0.017796576268126623, Train loss: 0.06468, Test loss: 0.06448\n",
      "\n",
      "-- Epoch no(iteration no)  285\n",
      "W intercept: [0.86686241 0.75951371 0.66507078 0.62745026 0.56413545 0.28583652], B intercept: 0.0188862090679639, Train loss: 0.06459, Test loss: 0.06439\n",
      "\n",
      "-- Epoch no(iteration no)  286\n",
      "W intercept: [0.86894348 0.76078056 0.66588987 0.62843154 0.56485747 0.28663223], B intercept: 0.01927590913018678, Train loss: 0.06448, Test loss: 0.06430\n",
      "\n",
      "-- Epoch no(iteration no)  287\n",
      "W intercept: [0.87091815 0.76206222 0.66611183 0.62861902 0.5653303  0.28628768], B intercept: 0.020180502688469833, Train loss: 0.06439, Test loss: 0.06422\n",
      "\n",
      "-- Epoch no(iteration no)  288\n",
      "W intercept: [0.87161604 0.76198493 0.6657171  0.63025948 0.56490251 0.28667573], B intercept: 0.022089159815881672, Train loss: 0.06436, Test loss: 0.06420\n",
      "\n",
      "-- Epoch no(iteration no)  289\n",
      "W intercept: [0.87211315 0.76394826 0.66651399 0.63132384 0.56486733 0.2873827 ], B intercept: 0.024094145640465445, Train loss: 0.06427, Test loss: 0.06413\n",
      "\n",
      "-- Epoch no(iteration no)  290\n",
      "W intercept: [0.87312559 0.76515191 0.66792925 0.63206082 0.56615988 0.28759855], B intercept: 0.024337266767058597, Train loss: 0.06418, Test loss: 0.06405\n",
      "\n",
      "-- Epoch no(iteration no)  291\n",
      "W intercept: [0.87458179 0.76507004 0.66953965 0.63321862 0.56744749 0.2875845 ], B intercept: 0.02515553540404138, Train loss: 0.06409, Test loss: 0.06398\n",
      "\n",
      "-- Epoch no(iteration no)  292\n",
      "W intercept: [0.8757607  0.76578633 0.67195804 0.63468211 0.56904366 0.28822259], B intercept: 0.024834041198670328, Train loss: 0.06398, Test loss: 0.06389\n",
      "\n",
      "-- Epoch no(iteration no)  293\n",
      "W intercept: [0.87640165 0.76737337 0.67289554 0.63511752 0.5681554  0.2888913 ], B intercept: 0.024199539938528174, Train loss: 0.06392, Test loss: 0.06385\n",
      "\n",
      "-- Epoch no(iteration no)  294\n",
      "W intercept: [0.87733498 0.7677709  0.67406544 0.63538871 0.56849734 0.28945722], B intercept: 0.023325589838767636, Train loss: 0.06387, Test loss: 0.06381\n",
      "\n",
      "-- Epoch no(iteration no)  295\n",
      "W intercept: [0.87874496 0.76937826 0.67359393 0.6354424  0.5678902  0.29006588], B intercept: 0.02193460074844227, Train loss: 0.06383, Test loss: 0.06377\n",
      "\n",
      "-- Epoch no(iteration no)  296\n",
      "W intercept: [0.88075462 0.770148   0.67520666 0.63609244 0.56827458 0.29013161], B intercept: 0.021956847401437392, Train loss: 0.06373, Test loss: 0.06369\n",
      "\n",
      "-- Epoch no(iteration no)  297\n",
      "W intercept: [0.88152031 0.77206717 0.6759909  0.6363066  0.56977009 0.29041081], B intercept: 0.02139716652910157, Train loss: 0.06365, Test loss: 0.06361\n",
      "\n",
      "-- Epoch no(iteration no)  298\n",
      "W intercept: [0.88252287 0.7739168  0.67653965 0.63780833 0.57115368 0.29023059], B intercept: 0.021732119740780553, Train loss: 0.06356, Test loss: 0.06353\n",
      "\n",
      "-- Epoch no(iteration no)  299\n",
      "W intercept: [0.8845948  0.77526937 0.67673439 0.6381716  0.57144496 0.29133676], B intercept: 0.02341157745157797, Train loss: 0.06346, Test loss: 0.06344\n",
      "\n",
      "-- Epoch no(iteration no)  300\n",
      "W intercept: [0.88777523 0.7752986  0.67697886 0.63891858 0.5723531  0.2913382 ], B intercept: 0.024147316911869568, Train loss: 0.06337, Test loss: 0.06336\n"
     ]
    },
    {
     "name": "stderr",
     "output_type": "stream",
     "text": [
      "\n"
     ]
    }
   ],
   "source": [
    "## importing self made SGD classifier as Classifier 1 \n",
    "import Sgd_classifier as classfier_1\n",
    "alpha=0.001\n",
    "t_rate=0.001\n",
    "N=len(x_train)\n",
    "epochs=300\n",
    "w,b,loss_train,loss_test=classfier_1.train_classifier(x_train,y_train,x_test,y_test,epochs,alpha,t_rate)"
   ]
  },
  {
   "cell_type": "markdown",
   "metadata": {
    "id": "PNjgLcYRYcIm"
   },
   "source": [
    "<h4>2.1.2 Coding Approach</h4>\n",
    "We send our train data, test data, with learning rate and regularization rate to our classifier. The classifier uses Stochastic gradient descent and updates the weights and bais over the epochs. With each epoch we aim to reduce our loss, when we reach a point where the loss is similar to the loss that was in previous epoch we return then updated weights and bais. These weights and bais that are returned are optimal for making predictions."
   ]
  },
  {
   "cell_type": "markdown",
   "metadata": {
    "id": "ndwbS6ZqaLr3"
   },
   "source": [
    "<h3>2.2 SVM with RBF kernel </h3>"
   ]
  },
  {
   "cell_type": "markdown",
   "metadata": {
    "id": "H-Qtsx6LaTN7"
   },
   "source": [
    "<h4>2.2.1 Function Call</h4>"
   ]
  },
  {
   "cell_type": "code",
   "execution_count": 24,
   "metadata": {},
   "outputs": [],
   "source": [
    "import Svm_classifier as classfier_2\n",
    "\n",
    "a1=classfier_2.SVM(kernel='rbf', C=0.5, max_iter=10, gamma=0.001)\n",
    "a1.fit(x_train,y_train)"
   ]
  },
  {
   "cell_type": "markdown",
   "metadata": {
    "id": "FUu-87k2aXIR"
   },
   "source": [
    "<h4>2.2.2 Coding Approach</h4>\n",
    "\n",
    "<!----> Will be going over the coding how it is done and stuff"
   ]
  },
  {
   "cell_type": "markdown",
   "metadata": {
    "id": "swzuVJ19S1Jr"
   },
   "source": [
    "<h2><center>3. Model Accuracy</center></h2>\n",
    "<em>\n",
    "Here we are going to talk about the model accuracies by using test and train loss graphs, in addition to Confussion Matrix and some ROC curves\n",
    "</em>"
   ]
  },
  {
   "cell_type": "markdown",
   "metadata": {
    "id": "qPy611dMa8Bu"
   },
   "source": [
    "<h3>3.1 Model 1 SGD Classifier with Log Loss</h3>\n"
   ]
  },
  {
   "cell_type": "markdown",
   "metadata": {
    "id": "rI7qXtftah1a"
   },
   "source": [
    "<h4>3.1.1 Prediction accuracies</h4>"
   ]
  },
  {
   "cell_type": "code",
   "execution_count": 25,
   "metadata": {
    "colab": {
     "base_uri": "https://localhost:8080/"
    },
    "id": "057fGPgc6x3_",
    "outputId": "c841cc8b-3706-45a5-886f-2b89fe684824",
    "scrolled": true
   },
   "outputs": [
    {
     "name": "stdout",
     "output_type": "stream",
     "text": [
      "Train_Accuracy : 0.96501\n",
      "Test_Accuracy  : 0.95652\n"
     ]
    }
   ],
   "source": [
    "# Getting the predict vector for the train and test data\n",
    "y_train_pred = classfier_1.predict(w,b,x_train)\n",
    "y_test_pred = classfier_1.predict(w,b,x_test)\n",
    "\n",
    "#y_train=y_train.reshape(y_train_pred.shape)\n",
    "print('Train_Accuracy : {:.5f}'.format((y_train ==  y_train_pred).sum() / len(x_train)))\n",
    "#y_test=y_test.reshape(y_test_pred.shape)\n",
    "print('Test_Accuracy  : {:.5f}'.format((y_test ==  y_test_pred).sum() / len(x_test)))"
   ]
  },
  {
   "cell_type": "markdown",
   "metadata": {
    "id": "7pAXgaM_bjzs"
   },
   "source": [
    "<h4>3.1.2 Test and Train Loss over Epochs</h4>\n",
    "We will plot graph against the number of epochs with respect to the test and train loss. This will give us insight whether our code is performing gradient descent in a correct manner."
   ]
  },
  {
   "cell_type": "code",
   "execution_count": 26,
   "metadata": {
    "id": "1gK7yssz073T",
    "scrolled": true
   },
   "outputs": [
    {
     "name": "stdout",
     "output_type": "stream",
     "text": [
      "==============================================================================================================\n"
     ]
    },
    {
     "data": {
      "image/png": "[encoded data removed]",
      "text/plain": [
       "<Figure size 1080x504 with 1 Axes>"
      ]
     },
     "metadata": {},
     "output_type": "display_data"
    }
   ],
   "source": [
    "# Converting epochs to an array and ploting the graphs of test and train loss over the epochs\n",
    "epochs = np.arange(1, epochs+1, 1)\n",
    "plt.figure(figsize=(15, 7))\n",
    "plt.plot(epochs,loss_train, label='Train Loss', c = 'blue')\n",
    "plt.plot(epochs,loss_test, label='Test Loss',c = 'red')\n",
    "plt.title('Epoch vs Train,Test Loss')\n",
    "plt.xlabel(\"Epochs\")\n",
    "plt.ylabel('Loss')\n",
    "plt.legend()\n",
    "print(110*'=')\n"
   ]
  },
  {
   "cell_type": "markdown",
   "metadata": {
    "id": "qcN8YgFwb0gH"
   },
   "source": [
    "<h4>3.1.3 Confusion Matrix and Performance Metrics</h4>\n",
    "The confusion matrix we plot here looks like the table mentioned below :-\n",
    "<table>\n",
    "  <tr>\n",
    "    <th><em><h4>Labels</h4></em></th>\n",
    "    <th><em><h4>Malignant</h4></em></th>\n",
    "    <th><em><h4>Benign</h4></em></th>\n",
    "  </tr>\n",
    "  <tr>\n",
    "    <td><center><em><h4>Predicted Malignant</h4></em></center></td>\n",
    "      <td><center><h5>True Positives</h5></center></td>\n",
    "    <td><center><h5>False Positives</h5></center></td> \n",
    "  </tr>\n",
    "  <tr>\n",
    "     <td><em><h4>Predicted Benign</h4></em></td>\n",
    "     <td><center><h5>False Negatives</h5></center></td>\n",
    "     <td><center><h5>True Negatives</h5></center></td>\n",
    "  </tr>\n",
    "</table>\n",
    "\n"
   ]
  },
  {
   "cell_type": "code",
   "execution_count": 27,
   "metadata": {
    "id": "dwjOiXQsTjjO",
    "scrolled": true
   },
   "outputs": [
    {
     "name": "stdout",
     "output_type": "stream",
     "text": [
      "Confusion Matrix\n",
      " [[50  1]\n",
      " [ 4 60]]\n",
      "False Positive Rate :   0.01639\n",
      "True Positive Rate  :   0.92593\n",
      "Precision of model  :   0.98039\n",
      "Area Under Curve (AUC): 0.95652\n",
      "F1 score of model   :   0.95238\n"
     ]
    }
   ],
   "source": [
    "# Calling our confusion matrix from the directory\n",
    "\n",
    "import confusion_matrix as cm\n",
    "cm_sgd,fpr_sgd,recall_sgd,AUC_score_sgd,precision_sgd,F1_score_sgd= cm.confusion_matrix(y_test, y_test_pred)\n",
    "print('Confusion Matrix\\n',cm_sgd)\n",
    "print('False Positive Rate :   {:.5f}'.format(fpr_sgd))\n",
    "print('True Positive Rate  :   {:.5f}'.format(recall_sgd))\n",
    "print('Precision of model  :   {:.5f}'.format(precision_sgd))\n",
    "print('Area Under Curve (AUC): {:.5f}'.format(AUC_score_sgd))\n",
    "print('F1 score of model   :   {:.5f}'.format(F1_score_sgd))\n"
   ]
  },
  {
   "cell_type": "markdown",
   "metadata": {},
   "source": [
    "<h3> 3.2 Model 2 SVM with RBF Kernel</h3>"
   ]
  },
  {
   "cell_type": "markdown",
   "metadata": {},
   "source": [
    "<h4>3.2.1 Prediction accuracies</h4>"
   ]
  },
  {
   "cell_type": "code",
   "execution_count": 28,
   "metadata": {},
   "outputs": [
    {
     "name": "stdout",
     "output_type": "stream",
     "text": [
      "Train_Accuracy : 1.0\n",
      "Test_Accuracy  : 0.95652\n"
     ]
    }
   ],
   "source": [
    "# Getting the predict vector for the train and test data\n",
    "\n",
    "y_train_pred_svm = a1.predict(x_train)\n",
    "y_test_pred_svm= a1.predict(x_test)\n",
    "print('Train_Accuracy : {:.1f}'.format((y_train ==  y_train_pred_svm).sum() / len(x_train)))\n",
    "print('Test_Accuracy  : {:.5f}'.format((y_test ==  y_test_pred_svm).sum() / len(x_test)))\n"
   ]
  },
  {
   "cell_type": "markdown",
   "metadata": {},
   "source": [
    "<h4>3.2.2  APLS GRAPH</h4>\n",
    "<!---> Some grpah here ALP  <--->"
   ]
  },
  {
   "cell_type": "code",
   "execution_count": null,
   "metadata": {},
   "outputs": [],
   "source": []
  },
  {
   "cell_type": "markdown",
   "metadata": {},
   "source": [
    "<h4>3.2.3 Confusion Matrix and Performance Metrics</h4> \n",
    "The confusion matrix we plot here looks like the table mentioned below :-\n",
    "<table>\n",
    "  <tr>\n",
    "    <th><em><h4>Labels</h4></em></th>\n",
    "    <th><em><h4>Malignant</h4></em></th>\n",
    "    <th><em><h4>Benign</h4></em></th>\n",
    "  </tr>\n",
    "  <tr>\n",
    "    <td><center><em><h4>Predicted Malignant</h4></em></center></td>\n",
    "      <td><center><h5>True Positives</h5></center></td>\n",
    "    <td><center><h5>False Positives</h5></center></td> \n",
    "  </tr>\n",
    "  <tr>\n",
    "     <td><em><h4>Predicted Benign</h4></em></td>\n",
    "     <td><center><h5>False Negatives</h5></center></td>\n",
    "     <td><center><h5>True Negatives</h5></center></td>\n",
    "  </tr>\n",
    "</table>"
   ]
  },
  {
   "cell_type": "code",
   "execution_count": 29,
   "metadata": {
    "scrolled": true
   },
   "outputs": [
    {
     "name": "stdout",
     "output_type": "stream",
     "text": [
      "Confusion Matrix\n",
      " [[50  1]\n",
      " [ 4 60]]\n",
      "False Positive Rate :   0.01639\n",
      "True Positive Rate  :   0.92593\n",
      "Precision of model  :   0.98039\n",
      "Area Under Curve (AUC): 0.95652\n",
      "F1 score of model   :   0.95238\n"
     ]
    }
   ],
   "source": [
    "# Calling our confusion matrix from the directory\n",
    "\n",
    "import confusion_matrix as cm\n",
    "cm_svm,fpr_svm,recall_svm,AUC_score_svm,precision_svm,F1_score_svm= cm.confusion_matrix(y_test, y_test_pred_svm)\n",
    "print('Confusion Matrix\\n',cm_svm)\n",
    "print('False Positive Rate :   {:.5f}'.format(fpr_svm))\n",
    "print('True Positive Rate  :   {:.5f}'.format(recall_svm))\n",
    "print('Precision of model  :   {:.5f}'.format(precision_svm))\n",
    "print('Area Under Curve (AUC): {:.5f}'.format(AUC_score_svm))\n",
    "print('F1 score of model   :   {:.5f}'.format(F1_score_svm))\n",
    "\n"
   ]
  },
  {
   "cell_type": "markdown",
   "metadata": {},
   "source": [
    "<h2><center>Model Comparisions</center></h2>\n",
    "\n",
    "<h3><center>Metrics Comparsions</center></h3>\n"
   ]
  },
  {
   "cell_type": "code",
   "execution_count": 30,
   "metadata": {},
   "outputs": [],
   "source": [
    "# Making a data frame of all the result \n",
    "cols = ['Metric' , 'SGD Classifier' , 'SVM Classifier']\n",
    "values = [['F1_score',F1_score_sgd,F1_score_svm] ,[ 'Recal',recall_sgd,recall_svm]\\\n",
    "          ,['FPR',fpr_sgd,fpr_svm],['AUC',AUC_score_sgd,AUC_score_svm]\\\n",
    "          ,['Precision',precision_sgd,precision_svm]]\n",
    "result = pd.DataFrame(values, columns = cols) "
   ]
  },
  {
   "cell_type": "code",
   "execution_count": 31,
   "metadata": {},
   "outputs": [
    {
     "data": {
      "text/html": [
       "<div>\n",
       "<style scoped>\n",
       "    .dataframe tbody tr th:only-of-type {\n",
       "        vertical-align: middle;\n",
       "    }\n",
       "\n",
       "    .dataframe tbody tr th {\n",
       "        vertical-align: top;\n",
       "    }\n",
       "\n",
       "    .dataframe thead th {\n",
       "        text-align: right;\n",
       "    }\n",
       "</style>\n",
       "<table border=\"1\" class=\"dataframe\">\n",
       "  <thead>\n",
       "    <tr style=\"text-align: right;\">\n",
       "      <th></th>\n",
       "      <th>Metric</th>\n",
       "      <th>SGD Classifier</th>\n",
       "      <th>SVM Classifier</th>\n",
       "    </tr>\n",
       "  </thead>\n",
       "  <tbody>\n",
       "    <tr>\n",
       "      <th>0</th>\n",
       "      <td>F1_score</td>\n",
       "      <td>0.952381</td>\n",
       "      <td>0.952381</td>\n",
       "    </tr>\n",
       "    <tr>\n",
       "      <th>1</th>\n",
       "      <td>Recal</td>\n",
       "      <td>0.925926</td>\n",
       "      <td>0.925926</td>\n",
       "    </tr>\n",
       "    <tr>\n",
       "      <th>2</th>\n",
       "      <td>FPR</td>\n",
       "      <td>0.016393</td>\n",
       "      <td>0.016393</td>\n",
       "    </tr>\n",
       "    <tr>\n",
       "      <th>3</th>\n",
       "      <td>AUC</td>\n",
       "      <td>0.956522</td>\n",
       "      <td>0.956522</td>\n",
       "    </tr>\n",
       "    <tr>\n",
       "      <th>4</th>\n",
       "      <td>Precision</td>\n",
       "      <td>0.980392</td>\n",
       "      <td>0.980392</td>\n",
       "    </tr>\n",
       "  </tbody>\n",
       "</table>\n",
       "</div>"
      ],
      "text/plain": [
       "      Metric  SGD Classifier  SVM Classifier\n",
       "0   F1_score        0.952381        0.952381\n",
       "1      Recal        0.925926        0.925926\n",
       "2        FPR        0.016393        0.016393\n",
       "3        AUC        0.956522        0.956522\n",
       "4  Precision        0.980392        0.980392"
      ]
     },
     "execution_count": 31,
     "metadata": {},
     "output_type": "execute_result"
    }
   ],
   "source": [
    "# Printing the result\n",
    "result"
   ]
  },
  {
   "cell_type": "markdown",
   "metadata": {
    "id": "XW2Czt08hhqg"
   },
   "source": [
    "<h2><center>Conclusions</center></h2>\n",
    "We were given a task to implement a model which was meant to classify between Malignant and Benign and measure the performance metrics of the implemented model. To achive the aim of the coursework we made two classification models that perform binary classification for the given dataset. \n",
    "<br> </br>\n",
    "<p>\n",
    "<em>\n",
    "The following are the results obtained for the repesctive implemented models :-\n",
    "<p></em>\n",
    "<em>    \n",
    "    \n",
    "<br><h4>1. Stochastic Gradient Descent Classifier </h4>\n"
   ]
  },
  {
   "cell_type": "code",
   "execution_count": 34,
   "metadata": {},
   "outputs": [
    {
     "data": {
      "text/html": [
       "<div>\n",
       "<style scoped>\n",
       "    .dataframe tbody tr th:only-of-type {\n",
       "        vertical-align: middle;\n",
       "    }\n",
       "\n",
       "    .dataframe tbody tr th {\n",
       "        vertical-align: top;\n",
       "    }\n",
       "\n",
       "    .dataframe thead th {\n",
       "        text-align: right;\n",
       "    }\n",
       "</style>\n",
       "<table border=\"1\" class=\"dataframe\">\n",
       "  <thead>\n",
       "    <tr style=\"text-align: right;\">\n",
       "      <th></th>\n",
       "      <th>Metric</th>\n",
       "      <th>SGD Classifier</th>\n",
       "    </tr>\n",
       "  </thead>\n",
       "  <tbody>\n",
       "    <tr>\n",
       "      <th>0</th>\n",
       "      <td>F1_score</td>\n",
       "      <td>0.952381</td>\n",
       "    </tr>\n",
       "    <tr>\n",
       "      <th>1</th>\n",
       "      <td>Recal</td>\n",
       "      <td>0.925926</td>\n",
       "    </tr>\n",
       "    <tr>\n",
       "      <th>2</th>\n",
       "      <td>FPR</td>\n",
       "      <td>0.016393</td>\n",
       "    </tr>\n",
       "    <tr>\n",
       "      <th>3</th>\n",
       "      <td>AUC</td>\n",
       "      <td>0.956522</td>\n",
       "    </tr>\n",
       "    <tr>\n",
       "      <th>4</th>\n",
       "      <td>Precision</td>\n",
       "      <td>0.980392</td>\n",
       "    </tr>\n",
       "  </tbody>\n",
       "</table>\n",
       "</div>"
      ],
      "text/plain": [
       "      Metric  SGD Classifier\n",
       "0   F1_score        0.952381\n",
       "1      Recal        0.925926\n",
       "2        FPR        0.016393\n",
       "3        AUC        0.956522\n",
       "4  Precision        0.980392"
      ]
     },
     "execution_count": 34,
     "metadata": {},
     "output_type": "execute_result"
    }
   ],
   "source": [
    "# printing only the SGD classifier from Result\n",
    "result.loc[:,['Metric','SGD Classifier']]"
   ]
  },
  {
   "cell_type": "markdown",
   "metadata": {},
   "source": [
    "\n",
    "<em><br><h4>2. Support Vector Machine </h4>\n",
    "\n"
   ]
  },
  {
   "cell_type": "code",
   "execution_count": 33,
   "metadata": {},
   "outputs": [
    {
     "data": {
      "text/html": [
       "<div>\n",
       "<style scoped>\n",
       "    .dataframe tbody tr th:only-of-type {\n",
       "        vertical-align: middle;\n",
       "    }\n",
       "\n",
       "    .dataframe tbody tr th {\n",
       "        vertical-align: top;\n",
       "    }\n",
       "\n",
       "    .dataframe thead th {\n",
       "        text-align: right;\n",
       "    }\n",
       "</style>\n",
       "<table border=\"1\" class=\"dataframe\">\n",
       "  <thead>\n",
       "    <tr style=\"text-align: right;\">\n",
       "      <th></th>\n",
       "      <th>Metric</th>\n",
       "      <th>SVM Classifier</th>\n",
       "    </tr>\n",
       "  </thead>\n",
       "  <tbody>\n",
       "    <tr>\n",
       "      <th>0</th>\n",
       "      <td>F1_score</td>\n",
       "      <td>0.952381</td>\n",
       "    </tr>\n",
       "    <tr>\n",
       "      <th>1</th>\n",
       "      <td>Recal</td>\n",
       "      <td>0.925926</td>\n",
       "    </tr>\n",
       "    <tr>\n",
       "      <th>2</th>\n",
       "      <td>FPR</td>\n",
       "      <td>0.016393</td>\n",
       "    </tr>\n",
       "    <tr>\n",
       "      <th>3</th>\n",
       "      <td>AUC</td>\n",
       "      <td>0.956522</td>\n",
       "    </tr>\n",
       "    <tr>\n",
       "      <th>4</th>\n",
       "      <td>Precision</td>\n",
       "      <td>0.980392</td>\n",
       "    </tr>\n",
       "  </tbody>\n",
       "</table>\n",
       "</div>"
      ],
      "text/plain": [
       "      Metric  SVM Classifier\n",
       "0   F1_score        0.952381\n",
       "1      Recal        0.925926\n",
       "2        FPR        0.016393\n",
       "3        AUC        0.956522\n",
       "4  Precision        0.980392"
      ]
     },
     "execution_count": 33,
     "metadata": {},
     "output_type": "execute_result"
    }
   ],
   "source": [
    "# Printing only SVM classifier from Result\n",
    "result.loc[:,['Metric','SVM Classifier']]"
   ]
  },
  {
   "cell_type": "markdown",
   "metadata": {
    "id": "_tB9iqYfg-NA"
   },
   "source": [
    "<h2><center> Coding References</center></h2>\n"
   ]
  },
  {
   "cell_type": "markdown",
   "metadata": {},
   "source": [
    "\n",
    "1. [Confusion Matrix](https://www.nbshare.io/notebook/626706996/Learn-And-Code-Confusion-Matrix-With-Python/)\n",
    "2. [SGD Classifier <sup>[1]</sup>](https://www.cs.princeton.edu/courses/archive/fall18/cos324/files/logistic-regression.pdf)\n",
    "3. [SGD Classifier <sup>[2]</sup>]()\n",
    "4. [Pandas <sup>[1]</sup>](https://stackoverflow.com/questions/43772362/how-to-print-a-specific-row-of-a-pandas-dataframe)\n",
    "5. [Pandas <sup>[2]</sup>]()\n",
    "6. [SVM <sup>[1]</sup>]()\n",
    "7. [SVM <sup>[2]</sup>]()\n",
    "8. [SVM <sup>[3]</sup>]()\n",
    "\n",
    "<!--> ALP add some references add hyper links in there <--->"
   ]
  },
  {
   "cell_type": "code",
   "execution_count": null,
   "metadata": {},
   "outputs": [],
   "source": []
  }
 ],
 "metadata": {
  "colab": {
   "collapsed_sections": [],
   "name": "Main_Code.ipynb",
   "provenance": []
  },
  "kernelspec": {
   "display_name": "Python 3",
   "language": "python",
   "name": "python3"
  },
  "language_info": {
   "codemirror_mode": {
    "name": "ipython",
    "version": 3
   },
   "file_extension": ".py",
   "mimetype": "text/x-python",
   "name": "python",
   "nbconvert_exporter": "python",
   "pygments_lexer": "ipython3",
   "version": "3.8.8"
  }
 },
 "nbformat": 4,
 "nbformat_minor": 1
}
