{
 "cells": [
  {
   "cell_type": "code",
   "execution_count": 1,
   "metadata": {
    "id": "e6rrsFyi4Bd9"
   },
   "outputs": [],
   "source": [
    "# This is the main jupyter notebook for the coursework of MLIS \n",
    "## Grp 4B\n",
    "## Authors\n",
    "## Alpaslan Erdag , Anshuman Singh , Yixin Fan\n",
    "## Date - 15/01/2022"
   ]
  },
  {
   "cell_type": "markdown",
   "metadata": {
    "id": "G-IY5zC537OU"
   },
   "source": [
    "<h1> <center> Abstract </center> </h1>\n",
    "​<em>\n",
    "\n",
    "Todo - Write some abstract about the data giving some information about.\n",
    "\n",
    "The data is obtanined from UCI repository which can be obtained from the [here](https://archive.ics.uci.edu/ml/datasets/breast+cancer+wisconsin+%28original%29)\n",
    "</em>"
   ]
  },
  {
   "cell_type": "code",
   "execution_count": 2,
   "metadata": {
    "colab": {
     "base_uri": "https://localhost:8080/"
    },
    "id": "3boaTk7A4FrC",
    "outputId": "28e07a26-0a3f-4422-b507-f887576fdaca"
   },
   "outputs": [
    {
     "name": "stdout",
     "output_type": "stream",
     "text": [
      "Citation Request:\n",
      "   This breast cancer databases was obtained from the University of Wisconsin\n",
      "   Hospitals, Madison from Dr. William H. Wolberg.  If you publish results\n",
      "   when using this database, then please include this information in your\n",
      "   acknowledgements.  Also, please cite one or more of:\n",
      "\n",
      "   1. O. L. Mangasarian and W. H. Wolberg: \"Cancer diagnosis via linear \n",
      "      programming\", SIAM News, Volume 23, Number 5, September 1990, pp 1 & 18.\n",
      "\n",
      "   2. William H. Wolberg and O.L. Mangasarian: \"Multisurface method of \n",
      "      pattern separation for medical diagnosis applied to breast cytology\", \n",
      "      Proceedings of the National Academy of Sciences, U.S.A., Volume 87, \n",
      "      December 1990, pp 9193-9196.\n",
      "\n",
      "   3. O. L. Mangasarian, R. Setiono, and W.H. Wolberg: \"Pattern recognition \n",
      "      via linear programming: Theory and application to medical diagnosis\", \n",
      "      in: \"Large-scale numerical optimization\", Thomas F. Coleman and Yuying\n",
      "      Li, editors, SIAM Publications, Philadelphia 1990, pp 22-30.\n",
      "\n",
      "   4. K. P. Bennett & O. L. Mangasarian: \"Robust linear programming \n",
      "      discrimination of two linearly inseparable sets\", Optimization Methods\n",
      "      and Software 1, 1992, 23-34 (Gordon & Breach Science Publishers).\n",
      "\n",
      "1. Title: Wisconsin Breast Cancer Database (January 8, 1991)\n",
      "\n",
      "2. Sources:\n",
      "   -- Dr. WIlliam H. Wolberg (physician)\n",
      "      University of Wisconsin Hospitals\n",
      "      Madison, Wisconsin\n",
      "      USA\n",
      "   -- Donor: Olvi Mangasarian (mangasarian@cs.wisc.edu)\n",
      "      Received by David W. Aha (aha@cs.jhu.edu)\n",
      "   -- Date: 15 July 1992\n",
      "\n",
      "3. Past Usage:\n",
      "\n",
      "   Attributes 2 through 10 have been used to represent instances.\n",
      "   Each instance has one of 2 possible classes: benign or malignant.\n",
      "\n",
      "   1. Wolberg,~W.~H., \\& Mangasarian,~O.~L. (1990). Multisurface method of \n",
      "      pattern separation for medical diagnosis applied to breast cytology. In\n",
      "      {\\it Proceedings of the National Academy of Sciences}, {\\it 87},\n",
      "      9193--9196.\n",
      "      -- Size of data set: only 369 instances (at that point in time)\n",
      "      -- Collected classification results: 1 trial only\n",
      "      -- Two pairs of parallel hyperplanes were found to be consistent with\n",
      "         50% of the data\n",
      "         -- Accuracy on remaining 50% of dataset: 93.5%\n",
      "      -- Three pairs of parallel hyperplanes were found to be consistent with\n",
      "         67% of data\n",
      "         -- Accuracy on remaining 33% of dataset: 95.9%\n",
      "\n",
      "   2. Zhang,~J. (1992). Selecting typical instances in instance-based\n",
      "      learning.  In {\\it Proceedings of the Ninth International Machine\n",
      "      Learning Conference} (pp. 470--479).  Aberdeen, Scotland: Morgan\n",
      "      Kaufmann.\n",
      "      -- Size of data set: only 369 instances (at that point in time)\n",
      "      -- Applied 4 instance-based learning algorithms \n",
      "      -- Collected classification results averaged over 10 trials\n",
      "      -- Best accuracy result: \n",
      "         -- 1-nearest neighbor: 93.7%\n",
      "         -- trained on 200 instances, tested on the other 169\n",
      "      -- Also of interest:\n",
      "         -- Using only typical instances: 92.2% (storing only 23.1 instances)\n",
      "         -- trained on 200 instances, tested on the other 169\n",
      "\n",
      "4. Relevant Information:\n",
      "\n",
      "   Samples arrive periodically as Dr. Wolberg reports his clinical cases.\n",
      "   The database therefore reflects this chronological grouping of the data.\n",
      "   This grouping information appears immediately below, having been removed\n",
      "   from the data itself:\n",
      "\n",
      "     Group 1: 367 instances (January 1989)\n",
      "     Group 2:  70 instances (October 1989)\n",
      "     Group 3:  31 instances (February 1990)\n",
      "     Group 4:  17 instances (April 1990)\n",
      "     Group 5:  48 instances (August 1990)\n",
      "     Group 6:  49 instances (Updated January 1991)\n",
      "     Group 7:  31 instances (June 1991)\n",
      "     Group 8:  86 instances (November 1991)\n",
      "     -----------------------------------------\n",
      "     Total:   699 points (as of the donated datbase on 15 July 1992)\n",
      "\n",
      "   Note that the results summarized above in Past Usage refer to a dataset\n",
      "   of size 369, while Group 1 has only 367 instances.  This is because it\n",
      "   originally contained 369 instances; 2 were removed.  The following\n",
      "   statements summarizes changes to the original Group 1's set of data:\n",
      "\n",
      "   #####  Group 1 : 367 points: 200B 167M (January 1989)\n",
      "   #####  Revised Jan 10, 1991: Replaced zero bare nuclei in 1080185 & 1187805\n",
      "   #####  Revised Nov 22,1991: Removed 765878,4,5,9,7,10,10,10,3,8,1 no record\n",
      "   #####                  : Removed 484201,2,7,8,8,4,3,10,3,4,1 zero epithelial\n",
      "   #####                  : Changed 0 to 1 in field 6 of sample 1219406\n",
      "   #####                  : Changed 0 to 1 in field 8 of following sample:\n",
      "   #####                  : 1182404,2,3,1,1,1,2,0,1,1,1\n",
      "\n",
      "5. Number of Instances: 699 (as of 15 July 1992)\n",
      "\n",
      "6. Number of Attributes: 10 plus the class attribute\n",
      "\n",
      "7. Attribute Information: (class attribute has been moved to last column)\n",
      "\n",
      "   #  Attribute                     Domain\n",
      "   -- -----------------------------------------\n",
      "   1. Sample code number            id number\n",
      "   2. Clump Thickness               1 - 10\n",
      "   3. Uniformity of Cell Size       1 - 10\n",
      "   4. Uniformity of Cell Shape      1 - 10\n",
      "   5. Marginal Adhesion             1 - 10\n",
      "   6. Single Epithelial Cell Size   1 - 10\n",
      "   7. Bare Nuclei                   1 - 10\n",
      "   8. Bland Chromatin               1 - 10\n",
      "   9. Normal Nucleoli               1 - 10\n",
      "  10. Mitoses                       1 - 10\n",
      "  11. Class:                        (2 for benign, 4 for malignant)\n",
      "\n",
      "8. Missing attribute values: 16\n",
      "\n",
      "   There are 16 instances in Groups 1 to 6 that contain a single missing \n",
      "   (i.e., unavailable) attribute value, now denoted by \"?\".  \n",
      "\n",
      "9. Class distribution:\n",
      " \n",
      "   Benign: 458 (65.5%)\n",
      "   Malignant: 241 (34.5%)\n",
      "\n"
     ]
    }
   ],
   "source": [
    "# Also should we show this ? tell me your thoughts\n",
    "about_data ='/Users/anshuman/Desktop/Project_Folder/MLIS_Project_Ideal/breast-cancer-wisconsin.names'\n",
    "#about_data = '/content/breast-cancer-wisconsin.names'\n",
    "with open(about_data) as f:\n",
    "    print(f.read())"
   ]
  },
  {
   "cell_type": "markdown",
   "metadata": {
    "id": "ZN6gh3N24R-W"
   },
   "source": [
    "<h1><center>About code (Suggest a good heading)</center></h1>\n",
    "\n",
    "<h2><em>The code is divided in the following modules/parts/chapters?</h2>\n",
    "<ol>\n",
    "<li> <h4> Data Cleaning and Data Preprocessing </h4></li> \n",
    "<li> <h4>Model Fiting on the clean data </h4></li> \n",
    "<li> <h4>Model Accuracy </h4></li>\n",
    "</ol>\n",
    "</em>"
   ]
  },
  {
   "cell_type": "markdown",
   "metadata": {
    "id": "0TONMQnQ4SDg"
   },
   "source": [
    "<h2><center>1. Data Cleaning and Data Preprocessing</center></h2>\n",
    "\n",
    "<p>To get a good result over model accuracies we are going to first clean the data and then used the cleaned and preprocessed data to train a model. </p>\n",
    "\n",
    "<p> We will be using a systematic approach to clean our data. That will be listed in the following steps</p>\n",
    "<em>\n",
    "&emsp; <li>Data Visulaization</li>\n",
    "&emsp; <li>Checking and Removing nan values</li>\n",
    "&emsp; <li>Removing Useless Attributes</li>\n",
    "&emsp; <li>Deleting Outliers and Data Normalizations</li>\n",
    "</em>"
   ]
  },
  {
   "cell_type": "markdown",
   "metadata": {
    "id": "-daRoybV4SJI"
   },
   "source": [
    "<h3>1.1 Data Visualization </h3>"
   ]
  },
  {
   "cell_type": "markdown",
   "metadata": {
    "id": "dRQhoFvkfl-R"
   },
   "source": [
    "<h4>1.1.1 Code </h4>"
   ]
  },
  {
   "cell_type": "code",
   "execution_count": 3,
   "metadata": {
    "id": "sK9S6Bky4RlC"
   },
   "outputs": [],
   "source": [
    "## Header Files \n",
    "import pandas as pd\n",
    "import numpy as np\n",
    "import warnings\n",
    "warnings.filterwarnings('ignore')\n",
    "import matplotlib.pyplot as plt\n",
    "import seaborn as sns\n",
    "plt.style.use('ggplot')\n",
    "import scipy\n",
    "\n",
    "## Loading Data \n",
    "data = '/Users/anshuman/Desktop/Project_Folder/MLIS_Project_Ideal/breast-cancer-wisconsin.data'\n",
    "#data = '/content/breast-cancer-wisconsin.data'"
   ]
  },
  {
   "cell_type": "code",
   "execution_count": 4,
   "metadata": {
    "id": "xL5c7NTs4omD",
    "scrolled": true
   },
   "outputs": [
    {
     "data": {
      "text/html": [
       "<div>\n",
       "<style scoped>\n",
       "    .dataframe tbody tr th:only-of-type {\n",
       "        vertical-align: middle;\n",
       "    }\n",
       "\n",
       "    .dataframe tbody tr th {\n",
       "        vertical-align: top;\n",
       "    }\n",
       "\n",
       "    .dataframe thead th {\n",
       "        text-align: right;\n",
       "    }\n",
       "</style>\n",
       "<table border=\"1\" class=\"dataframe\">\n",
       "  <thead>\n",
       "    <tr style=\"text-align: right;\">\n",
       "      <th></th>\n",
       "      <th>Samplecodenumber</th>\n",
       "      <th>ClumpThickness</th>\n",
       "      <th>UniformityofCellSize</th>\n",
       "      <th>UniformityofCellShape</th>\n",
       "      <th>MarginalAdhesion</th>\n",
       "      <th>SingleEpithelialCellSize</th>\n",
       "      <th>BareNuclei</th>\n",
       "      <th>BlandChromatin</th>\n",
       "      <th>NormalNucleoli</th>\n",
       "      <th>Mitoses</th>\n",
       "      <th>Class</th>\n",
       "    </tr>\n",
       "  </thead>\n",
       "  <tbody>\n",
       "    <tr>\n",
       "      <th>0</th>\n",
       "      <td>1000025</td>\n",
       "      <td>5</td>\n",
       "      <td>1</td>\n",
       "      <td>1</td>\n",
       "      <td>1</td>\n",
       "      <td>2</td>\n",
       "      <td>1</td>\n",
       "      <td>3</td>\n",
       "      <td>1</td>\n",
       "      <td>1</td>\n",
       "      <td>2</td>\n",
       "    </tr>\n",
       "    <tr>\n",
       "      <th>1</th>\n",
       "      <td>1002945</td>\n",
       "      <td>5</td>\n",
       "      <td>4</td>\n",
       "      <td>4</td>\n",
       "      <td>5</td>\n",
       "      <td>7</td>\n",
       "      <td>10</td>\n",
       "      <td>3</td>\n",
       "      <td>2</td>\n",
       "      <td>1</td>\n",
       "      <td>2</td>\n",
       "    </tr>\n",
       "    <tr>\n",
       "      <th>2</th>\n",
       "      <td>1015425</td>\n",
       "      <td>3</td>\n",
       "      <td>1</td>\n",
       "      <td>1</td>\n",
       "      <td>1</td>\n",
       "      <td>2</td>\n",
       "      <td>2</td>\n",
       "      <td>3</td>\n",
       "      <td>1</td>\n",
       "      <td>1</td>\n",
       "      <td>2</td>\n",
       "    </tr>\n",
       "    <tr>\n",
       "      <th>3</th>\n",
       "      <td>1016277</td>\n",
       "      <td>6</td>\n",
       "      <td>8</td>\n",
       "      <td>8</td>\n",
       "      <td>1</td>\n",
       "      <td>3</td>\n",
       "      <td>4</td>\n",
       "      <td>3</td>\n",
       "      <td>7</td>\n",
       "      <td>1</td>\n",
       "      <td>2</td>\n",
       "    </tr>\n",
       "    <tr>\n",
       "      <th>4</th>\n",
       "      <td>1017023</td>\n",
       "      <td>4</td>\n",
       "      <td>1</td>\n",
       "      <td>1</td>\n",
       "      <td>3</td>\n",
       "      <td>2</td>\n",
       "      <td>1</td>\n",
       "      <td>3</td>\n",
       "      <td>1</td>\n",
       "      <td>1</td>\n",
       "      <td>2</td>\n",
       "    </tr>\n",
       "  </tbody>\n",
       "</table>\n",
       "</div>"
      ],
      "text/plain": [
       "   Samplecodenumber  ClumpThickness  UniformityofCellSize  \\\n",
       "0           1000025               5                     1   \n",
       "1           1002945               5                     4   \n",
       "2           1015425               3                     1   \n",
       "3           1016277               6                     8   \n",
       "4           1017023               4                     1   \n",
       "\n",
       "   UniformityofCellShape  MarginalAdhesion  SingleEpithelialCellSize  \\\n",
       "0                      1                 1                         2   \n",
       "1                      4                 5                         7   \n",
       "2                      1                 1                         2   \n",
       "3                      8                 1                         3   \n",
       "4                      1                 3                         2   \n",
       "\n",
       "  BareNuclei  BlandChromatin  NormalNucleoli  Mitoses  Class  \n",
       "0          1               3               1        1      2  \n",
       "1         10               3               2        1      2  \n",
       "2          2               3               1        1      2  \n",
       "3          4               3               7        1      2  \n",
       "4          1               3               1        1      2  "
      ]
     },
     "execution_count": 4,
     "metadata": {},
     "output_type": "execute_result"
    }
   ],
   "source": [
    "# Nameing the columms\n",
    "col_name = ['Samplecodenumber','ClumpThickness','UniformityofCellSize','UniformityofCellShape',\n",
    "            'MarginalAdhesion','SingleEpithelialCellSize','BareNuclei',\n",
    "            'BlandChromatin','NormalNucleoli','Mitoses','Class']\n",
    "cancerdata = pd.read_csv(data,low_memory=False,names=col_name)\n",
    "cancerdata.head()"
   ]
  },
  {
   "cell_type": "code",
   "execution_count": 5,
   "metadata": {
    "id": "oOGBeeDS4opZ"
   },
   "outputs": [],
   "source": [
    "## Removing attribute that is of no use\n",
    "cancerdata = cancerdata.drop(['Samplecodenumber'], 1)"
   ]
  },
  {
   "cell_type": "code",
   "execution_count": 6,
   "metadata": {
    "id": "nV7-qayy4orv"
   },
   "outputs": [
    {
     "data": {
      "text/plain": [
       "2    458\n",
       "4    241\n",
       "Name: Class, dtype: int64"
      ]
     },
     "execution_count": 6,
     "metadata": {},
     "output_type": "execute_result"
    }
   ],
   "source": [
    "# The number of samples present by class count\n",
    "cancerdata['Class'].value_counts()"
   ]
  },
  {
   "cell_type": "code",
   "execution_count": 7,
   "metadata": {
    "id": "iY_4Kw5F4ous"
   },
   "outputs": [
    {
     "data": {
      "text/html": [
       "<div>\n",
       "<style scoped>\n",
       "    .dataframe tbody tr th:only-of-type {\n",
       "        vertical-align: middle;\n",
       "    }\n",
       "\n",
       "    .dataframe tbody tr th {\n",
       "        vertical-align: top;\n",
       "    }\n",
       "\n",
       "    .dataframe thead th {\n",
       "        text-align: right;\n",
       "    }\n",
       "</style>\n",
       "<table border=\"1\" class=\"dataframe\">\n",
       "  <thead>\n",
       "    <tr style=\"text-align: right;\">\n",
       "      <th></th>\n",
       "      <th>ClumpThickness</th>\n",
       "      <th>UniformityofCellSize</th>\n",
       "      <th>UniformityofCellShape</th>\n",
       "      <th>MarginalAdhesion</th>\n",
       "      <th>SingleEpithelialCellSize</th>\n",
       "      <th>BareNuclei</th>\n",
       "      <th>BlandChromatin</th>\n",
       "      <th>NormalNucleoli</th>\n",
       "      <th>Mitoses</th>\n",
       "      <th>classes</th>\n",
       "    </tr>\n",
       "  </thead>\n",
       "  <tbody>\n",
       "    <tr>\n",
       "      <th>0</th>\n",
       "      <td>5</td>\n",
       "      <td>4</td>\n",
       "      <td>4</td>\n",
       "      <td>5</td>\n",
       "      <td>7</td>\n",
       "      <td>10</td>\n",
       "      <td>3</td>\n",
       "      <td>2</td>\n",
       "      <td>1</td>\n",
       "      <td>0</td>\n",
       "    </tr>\n",
       "    <tr>\n",
       "      <th>1</th>\n",
       "      <td>3</td>\n",
       "      <td>1</td>\n",
       "      <td>1</td>\n",
       "      <td>1</td>\n",
       "      <td>2</td>\n",
       "      <td>2</td>\n",
       "      <td>3</td>\n",
       "      <td>1</td>\n",
       "      <td>1</td>\n",
       "      <td>0</td>\n",
       "    </tr>\n",
       "    <tr>\n",
       "      <th>2</th>\n",
       "      <td>8</td>\n",
       "      <td>10</td>\n",
       "      <td>10</td>\n",
       "      <td>8</td>\n",
       "      <td>7</td>\n",
       "      <td>10</td>\n",
       "      <td>9</td>\n",
       "      <td>7</td>\n",
       "      <td>1</td>\n",
       "      <td>1</td>\n",
       "    </tr>\n",
       "    <tr>\n",
       "      <th>3</th>\n",
       "      <td>1</td>\n",
       "      <td>1</td>\n",
       "      <td>1</td>\n",
       "      <td>1</td>\n",
       "      <td>2</td>\n",
       "      <td>10</td>\n",
       "      <td>3</td>\n",
       "      <td>1</td>\n",
       "      <td>1</td>\n",
       "      <td>0</td>\n",
       "    </tr>\n",
       "    <tr>\n",
       "      <th>4</th>\n",
       "      <td>1</td>\n",
       "      <td>1</td>\n",
       "      <td>1</td>\n",
       "      <td>1</td>\n",
       "      <td>1</td>\n",
       "      <td>1</td>\n",
       "      <td>3</td>\n",
       "      <td>1</td>\n",
       "      <td>1</td>\n",
       "      <td>0</td>\n",
       "    </tr>\n",
       "  </tbody>\n",
       "</table>\n",
       "</div>"
      ],
      "text/plain": [
       "   ClumpThickness  UniformityofCellSize  UniformityofCellShape  \\\n",
       "0               5                     4                      4   \n",
       "1               3                     1                      1   \n",
       "2               8                    10                     10   \n",
       "3               1                     1                      1   \n",
       "4               1                     1                      1   \n",
       "\n",
       "   MarginalAdhesion  SingleEpithelialCellSize BareNuclei  BlandChromatin  \\\n",
       "0                 5                         7         10               3   \n",
       "1                 1                         2          2               3   \n",
       "2                 8                         7         10               9   \n",
       "3                 1                         2         10               3   \n",
       "4                 1                         1          1               3   \n",
       "\n",
       "   NormalNucleoli  Mitoses  classes  \n",
       "0               2        1        0  \n",
       "1               1        1        0  \n",
       "2               7        1        1  \n",
       "3               1        1        0  \n",
       "4               1        1        0  "
      ]
     },
     "execution_count": 7,
     "metadata": {},
     "output_type": "execute_result"
    }
   ],
   "source": [
    "# Making the class counts to similar size\n",
    "Benign = cancerdata[(cancerdata.Class == 2) ].sample(240).index\n",
    "Malignant = cancerdata[(cancerdata.Class == 4) ].sample(240).index\n",
    "cancer = cancerdata.loc[Benign|Malignant]\n",
    "cancer = cancer.reset_index(drop=True)\n",
    "\n",
    "# Making the classess from 2/4 to 0/1 \n",
    "cancer['classes'] = cancer.Class.map({2:0,4:1})\n",
    "cancer = cancer.drop(['Class'], 1)\n",
    "\n",
    "# Printing the updated dataframe\n",
    "cancer.head()"
   ]
  },
  {
   "cell_type": "code",
   "execution_count": 8,
   "metadata": {
    "id": "2gLfIN6F4oxH"
   },
   "outputs": [
    {
     "data": {
      "text/plain": [
       "0    240\n",
       "1    240\n",
       "Name: classes, dtype: int64"
      ]
     },
     "execution_count": 8,
     "metadata": {},
     "output_type": "execute_result"
    }
   ],
   "source": [
    "# Confirming that counts of the classes are similar \n",
    "cancer['classes'].value_counts()\n"
   ]
  },
  {
   "cell_type": "code",
   "execution_count": 9,
   "metadata": {
    "id": "FxwBcGnk429U",
    "scrolled": false
   },
   "outputs": [
    {
     "data": {
      "image/png": "[encoded data removed]",
      "text/plain": [
       "<Figure size 1296x1296 with 9 Axes>"
      ]
     },
     "metadata": {},
     "output_type": "display_data"
    }
   ],
   "source": [
    "# plot date variables and find the variables with similar distributions, keep only one of them.\n",
    "#['ClumpThickness','UniformityofCellSize','UniformityofCellShape','MarginalAdhesion',\n",
    "#'SingleEpithelialCellSize','BareNuclei','BlandChromatin','NormalNucleoli','Mitoses']\n",
    "fig, axs = plt.subplots(3, 3, figsize=(18,18))\n",
    "axs[0,0].hist(cancer['ClumpThickness'])\n",
    "axs[0,0].set_title(\"ClumpThickness\")\n",
    "axs[0,1].hist(cancer['UniformityofCellSize'])\n",
    "axs[0,1].set_title(\"UniformityofCellSize\")\n",
    "axs[0,2].hist(cancer['UniformityofCellShape'])\n",
    "axs[0,2].set_title(\"UniformityofCellShape\")\n",
    "axs[1,0].hist(cancer['MarginalAdhesion'])\n",
    "axs[1,0].set_title(\"MarginalAdhesion\")\n",
    "axs[1,1].hist(cancer['SingleEpithelialCellSize'])\n",
    "axs[1,1].set_title(\"SingleEpithelialCellSize\")\n",
    "axs[1,2].hist(cancer['BareNuclei'])\n",
    "axs[1,2].set_title(\"BareNuclei\")\n",
    "axs[2,0].hist(cancer['BlandChromatin'])\n",
    "axs[2,0].set_title(\"BlandChromatin\")\n",
    "axs[2,1].hist(cancer['NormalNucleoli'])\n",
    "axs[2,1].set_title(\"NormalNucleoli\")\n",
    "axs[2,2].hist(cancer['Mitoses'])\n",
    "axs[2,2].set_title(\"Mitoses\")\n",
    "fig.tight_layout()"
   ]
  },
  {
   "cell_type": "markdown",
   "metadata": {
    "id": "wdpWrB3HWel7"
   },
   "source": [
    "<h4>1.1.2 Observations </h4>\n",
    "<ol>\n",
    "    <li>The class counts is in a 2:1 ratio with benign being 458 and malignant being 241</li>\n",
    "    <li>The graph shows that data is very skewed for every attribute</li>\n",
    "</ol>\n",
    "<h4>1.1.3 Approach </h4>\n",
    "<ol>\n",
    "    <li>First we make the class ratio 1:1 and making data points to 240 for each class</li>\n",
    "</ol>"
   ]
  },
  {
   "cell_type": "markdown",
   "metadata": {
    "id": "fPcTVTlE46vC"
   },
   "source": [
    "<h3>1.2 Checking and Removing nan values</h3>"
   ]
  },
  {
   "cell_type": "markdown",
   "metadata": {
    "id": "wbaWQwlpfyif"
   },
   "source": [
    "<h4>1.2.1 Code </h4>"
   ]
  },
  {
   "cell_type": "code",
   "execution_count": 10,
   "metadata": {
    "id": "dJclAfmh49KE"
   },
   "outputs": [
    {
     "data": {
      "text/plain": [
       "int64     9\n",
       "object    1\n",
       "dtype: int64"
      ]
     },
     "execution_count": 10,
     "metadata": {},
     "output_type": "execute_result"
    }
   ],
   "source": [
    "# Printing all the value counts \n",
    "cancer.dtypes.value_counts()"
   ]
  },
  {
   "cell_type": "code",
   "execution_count": 11,
   "metadata": {
    "id": "3DCa8TIj4_Ty"
   },
   "outputs": [
    {
     "data": {
      "text/html": [
       "<div>\n",
       "<style scoped>\n",
       "    .dataframe tbody tr th:only-of-type {\n",
       "        vertical-align: middle;\n",
       "    }\n",
       "\n",
       "    .dataframe tbody tr th {\n",
       "        vertical-align: top;\n",
       "    }\n",
       "\n",
       "    .dataframe thead th {\n",
       "        text-align: right;\n",
       "    }\n",
       "</style>\n",
       "<table border=\"1\" class=\"dataframe\">\n",
       "  <thead>\n",
       "    <tr style=\"text-align: right;\">\n",
       "      <th></th>\n",
       "      <th>BareNuclei</th>\n",
       "    </tr>\n",
       "  </thead>\n",
       "  <tbody>\n",
       "    <tr>\n",
       "      <th>0</th>\n",
       "      <td>10</td>\n",
       "    </tr>\n",
       "    <tr>\n",
       "      <th>1</th>\n",
       "      <td>2</td>\n",
       "    </tr>\n",
       "    <tr>\n",
       "      <th>2</th>\n",
       "      <td>10</td>\n",
       "    </tr>\n",
       "    <tr>\n",
       "      <th>3</th>\n",
       "      <td>10</td>\n",
       "    </tr>\n",
       "    <tr>\n",
       "      <th>4</th>\n",
       "      <td>1</td>\n",
       "    </tr>\n",
       "    <tr>\n",
       "      <th>...</th>\n",
       "      <td>...</td>\n",
       "    </tr>\n",
       "    <tr>\n",
       "      <th>475</th>\n",
       "      <td>1</td>\n",
       "    </tr>\n",
       "    <tr>\n",
       "      <th>476</th>\n",
       "      <td>1</td>\n",
       "    </tr>\n",
       "    <tr>\n",
       "      <th>477</th>\n",
       "      <td>3</td>\n",
       "    </tr>\n",
       "    <tr>\n",
       "      <th>478</th>\n",
       "      <td>4</td>\n",
       "    </tr>\n",
       "    <tr>\n",
       "      <th>479</th>\n",
       "      <td>5</td>\n",
       "    </tr>\n",
       "  </tbody>\n",
       "</table>\n",
       "<p>480 rows × 1 columns</p>\n",
       "</div>"
      ],
      "text/plain": [
       "    BareNuclei\n",
       "0           10\n",
       "1            2\n",
       "2           10\n",
       "3           10\n",
       "4            1\n",
       "..         ...\n",
       "475          1\n",
       "476          1\n",
       "477          3\n",
       "478          4\n",
       "479          5\n",
       "\n",
       "[480 rows x 1 columns]"
      ]
     },
     "execution_count": 11,
     "metadata": {},
     "output_type": "execute_result"
    }
   ],
   "source": [
    "# Printing data types\n",
    "cancer.select_dtypes('object')"
   ]
  },
  {
   "cell_type": "code",
   "execution_count": 12,
   "metadata": {
    "id": "1CyRzBnb6XnU"
   },
   "outputs": [
    {
     "data": {
      "text/html": [
       "<div>\n",
       "<style scoped>\n",
       "    .dataframe tbody tr th:only-of-type {\n",
       "        vertical-align: middle;\n",
       "    }\n",
       "\n",
       "    .dataframe tbody tr th {\n",
       "        vertical-align: top;\n",
       "    }\n",
       "\n",
       "    .dataframe thead th {\n",
       "        text-align: right;\n",
       "    }\n",
       "</style>\n",
       "<table border=\"1\" class=\"dataframe\">\n",
       "  <thead>\n",
       "    <tr style=\"text-align: right;\">\n",
       "      <th></th>\n",
       "      <th>Count</th>\n",
       "      <th>Percent</th>\n",
       "    </tr>\n",
       "  </thead>\n",
       "  <tbody>\n",
       "    <tr>\n",
       "      <th>BareNuclei</th>\n",
       "      <td>6</td>\n",
       "      <td>1.25</td>\n",
       "    </tr>\n",
       "  </tbody>\n",
       "</table>\n",
       "</div>"
      ],
      "text/plain": [
       "            Count  Percent\n",
       "BareNuclei      6     1.25"
      ]
     },
     "execution_count": 12,
     "metadata": {},
     "output_type": "execute_result"
    }
   ],
   "source": [
    "#Replacing nan Values\n",
    "cancer = cancer.replace('?' ,np.nan)\n",
    "\n",
    "##Finding the the count and percentage of values that are missing in the dataframe.\n",
    "null1 = pd.DataFrame({'Count': cancer.isnull().sum(), 'Percent': 100*cancer.isnull().sum()/len(cancer)})\n",
    "\n",
    "##printing columns with null count more than 0\n",
    "null1[null1['Count'] > 0]"
   ]
  },
  {
   "cell_type": "code",
   "execution_count": 13,
   "metadata": {
    "id": "mQKh6EdQ6Xrk"
   },
   "outputs": [],
   "source": [
    "## Filling the columns with nan values with mean of the data\n",
    "cancer[\"BareNuclei\"]=cancer[\"BareNuclei\"].astype(float)\n",
    "cancer=cancer.fillna(cancer.mean())"
   ]
  },
  {
   "cell_type": "markdown",
   "metadata": {
    "id": "PHIdqxDmWMPe"
   },
   "source": [
    "<h4>1.2.2 Observations </h4>\n",
    "<ol>\n",
    "    <li>We obsereve that there is one attribute that is not in integer format</li>\n",
    "    <li>We find that there are nan values in BareNuclei</li>\n",
    "</ol>\n",
    "<h4>1.2.3 Approach </h4>\n",
    "<ol>\n",
    "    <li>We find that BareNuclei is a object type attribute so we convert it to float</li>\n",
    "    <li>We replace nan values in BareNuclei with mean value of BareNuclei</li>\n",
    "</ol>"
   ]
  },
  {
   "cell_type": "markdown",
   "metadata": {
    "id": "uf89AePf6nsZ"
   },
   "source": [
    "<h3>1.3 Removing Useless Attributes </h3>"
   ]
  },
  {
   "cell_type": "markdown",
   "metadata": {
    "id": "aF8wcn9Gf3au"
   },
   "source": [
    "<h4>1.3.1 Code </h4>"
   ]
  },
  {
   "cell_type": "code",
   "execution_count": 14,
   "metadata": {
    "id": "e1xo7hxe6Xv1"
   },
   "outputs": [
    {
     "data": {
      "text/html": [
       "<div>\n",
       "<style scoped>\n",
       "    .dataframe tbody tr th:only-of-type {\n",
       "        vertical-align: middle;\n",
       "    }\n",
       "\n",
       "    .dataframe tbody tr th {\n",
       "        vertical-align: top;\n",
       "    }\n",
       "\n",
       "    .dataframe thead th {\n",
       "        text-align: right;\n",
       "    }\n",
       "</style>\n",
       "<table border=\"1\" class=\"dataframe\">\n",
       "  <thead>\n",
       "    <tr style=\"text-align: right;\">\n",
       "      <th></th>\n",
       "      <th>classes</th>\n",
       "      <th>UniformityofCellShape</th>\n",
       "      <th>UniformityofCellSize</th>\n",
       "      <th>BareNuclei</th>\n",
       "      <th>BlandChromatin</th>\n",
       "      <th>ClumpThickness</th>\n",
       "      <th>NormalNucleoli</th>\n",
       "      <th>SingleEpithelialCellSize</th>\n",
       "      <th>MarginalAdhesion</th>\n",
       "      <th>Mitoses</th>\n",
       "    </tr>\n",
       "  </thead>\n",
       "  <tbody>\n",
       "    <tr>\n",
       "      <th>0</th>\n",
       "      <td>0</td>\n",
       "      <td>4</td>\n",
       "      <td>4</td>\n",
       "      <td>10.0</td>\n",
       "      <td>3</td>\n",
       "      <td>5</td>\n",
       "      <td>2</td>\n",
       "      <td>7</td>\n",
       "      <td>5</td>\n",
       "      <td>1</td>\n",
       "    </tr>\n",
       "    <tr>\n",
       "      <th>1</th>\n",
       "      <td>0</td>\n",
       "      <td>1</td>\n",
       "      <td>1</td>\n",
       "      <td>2.0</td>\n",
       "      <td>3</td>\n",
       "      <td>3</td>\n",
       "      <td>1</td>\n",
       "      <td>2</td>\n",
       "      <td>1</td>\n",
       "      <td>1</td>\n",
       "    </tr>\n",
       "    <tr>\n",
       "      <th>2</th>\n",
       "      <td>1</td>\n",
       "      <td>10</td>\n",
       "      <td>10</td>\n",
       "      <td>10.0</td>\n",
       "      <td>9</td>\n",
       "      <td>8</td>\n",
       "      <td>7</td>\n",
       "      <td>7</td>\n",
       "      <td>8</td>\n",
       "      <td>1</td>\n",
       "    </tr>\n",
       "  </tbody>\n",
       "</table>\n",
       "</div>"
      ],
      "text/plain": [
       "   classes  UniformityofCellShape  UniformityofCellSize  BareNuclei  \\\n",
       "0        0                      4                     4        10.0   \n",
       "1        0                      1                     1         2.0   \n",
       "2        1                     10                    10        10.0   \n",
       "\n",
       "   BlandChromatin  ClumpThickness  NormalNucleoli  SingleEpithelialCellSize  \\\n",
       "0               3               5               2                         7   \n",
       "1               3               3               1                         2   \n",
       "2               9               8               7                         7   \n",
       "\n",
       "   MarginalAdhesion  Mitoses  \n",
       "0                 5        1  \n",
       "1                 1        1  \n",
       "2                 8        1  "
      ]
     },
     "execution_count": 14,
     "metadata": {},
     "output_type": "execute_result"
    }
   ],
   "source": [
    "#Sorting with correlation values\n",
    "corr_list1=cancer.corr()['classes'].abs().sort_values(ascending=False)\n",
    "corr_list_new=corr_list1[corr_list1>0.01].index.values.tolist()\n",
    "corr_list1\n",
    "cancer=cancer[corr_list_new]\n",
    "cancer.head(3)"
   ]
  },
  {
   "cell_type": "code",
   "execution_count": 15,
   "metadata": {
    "id": "5MgSXzzR6XzR"
   },
   "outputs": [
    {
     "data": {
      "text/plain": [
       "classes                   classes                     1.000000\n",
       "UniformityofCellShape     UniformityofCellSize        0.901245\n",
       "                          classes                     0.799041\n",
       "classes                   UniformityofCellSize        0.793707\n",
       "                          BareNuclei                  0.783758\n",
       "SingleEpithelialCellSize  UniformityofCellSize        0.745568\n",
       "classes                   BlandChromatin              0.744707\n",
       "UniformityofCellSize      BlandChromatin              0.740332\n",
       "classes                   ClumpThickness              0.724437\n",
       "BlandChromatin            UniformityofCellShape       0.723609\n",
       "SingleEpithelialCellSize  UniformityofCellShape       0.704474\n",
       "UniformityofCellSize      NormalNucleoli              0.685937\n",
       "NormalNucleoli            classes                     0.683802\n",
       "UniformityofCellShape     NormalNucleoli              0.683676\n",
       "MarginalAdhesion          UniformityofCellSize        0.676628\n",
       "classes                   SingleEpithelialCellSize    0.669578\n",
       "BareNuclei                UniformityofCellShape       0.664702\n",
       "MarginalAdhesion          classes                     0.663817\n",
       "                          BlandChromatin              0.649008\n",
       "                          UniformityofCellShape       0.648870\n",
       "BlandChromatin            BareNuclei                  0.647018\n",
       "ClumpThickness            UniformityofCellShape       0.645461\n",
       "BlandChromatin            NormalNucleoli              0.637584\n",
       "UniformityofCellSize      BareNuclei                  0.635664\n",
       "                          ClumpThickness              0.634575\n",
       "MarginalAdhesion          BareNuclei                  0.622117\n",
       "SingleEpithelialCellSize  BlandChromatin              0.605065\n",
       "NormalNucleoli            SingleEpithelialCellSize    0.581449\n",
       "BareNuclei                ClumpThickness              0.568959\n",
       "MarginalAdhesion          SingleEpithelialCellSize    0.564514\n",
       "NormalNucleoli            MarginalAdhesion            0.558045\n",
       "ClumpThickness            BlandChromatin              0.546899\n",
       "BareNuclei                SingleEpithelialCellSize    0.539281\n",
       "                          NormalNucleoli              0.521581\n",
       "SingleEpithelialCellSize  ClumpThickness              0.516487\n",
       "NormalNucleoli            ClumpThickness              0.515473\n",
       "SingleEpithelialCellSize  Mitoses                     0.477945\n",
       "MarginalAdhesion          ClumpThickness              0.450888\n",
       "UniformityofCellSize      Mitoses                     0.433110\n",
       "UniformityofCellShape     Mitoses                     0.413907\n",
       "NormalNucleoli            Mitoses                     0.406491\n",
       "Mitoses                   MarginalAdhesion            0.391959\n",
       "                          classes                     0.383296\n",
       "                          ClumpThickness              0.336639\n",
       "                          BlandChromatin              0.316658\n",
       "                          BareNuclei                  0.288419\n",
       "dtype: float64"
      ]
     },
     "metadata": {},
     "output_type": "display_data"
    }
   ],
   "source": [
    "## To remove outliers first we have to find the correlation between attributes\n",
    "\n",
    "#find the variables with high correlations\n",
    "cor1 = cancer.corr().abs()\n",
    "list1 = cor1.stack().sort_values(ascending=False).drop_duplicates()  \n",
    "high_corr= list1[list1>0.70].index.values.tolist()\n",
    "high_corr.remove(high_corr[0])\n",
    "\n",
    "display(list1)"
   ]
  },
  {
   "cell_type": "code",
   "execution_count": 16,
   "metadata": {
    "id": "x7OKFrzE6X3D"
   },
   "outputs": [],
   "source": [
    "# for variable pairs with high correlation, keep only one of them\n",
    "columnlist=list(cancer.columns)\n",
    "len(high_corr)\n",
    "for i in range(len(high_corr)):\n",
    "    if \"classes\" in high_corr[i]:\n",
    "        columnlist=columnlist\n",
    "    else:\n",
    "        if high_corr[i][0] in columnlist and high_corr[i][1] in columnlist:\n",
    "            columnlist.remove(high_corr[i][1])\n",
    "        else:\n",
    "            columnlist=columnlist\n",
    "cancer_final=cancer[columnlist]"
   ]
  },
  {
   "cell_type": "code",
   "execution_count": 17,
   "metadata": {
    "id": "ZJPMB2Tq6pOq"
   },
   "outputs": [],
   "source": [
    "## Doing a test train split on the data \n",
    "import random\n",
    "from sklearn.model_selection import train_test_split\n",
    "training_data, test_data = train_test_split(cancer_final,random_state=None, shuffle=True)\n",
    "train_x=training_data.drop(['classes'], 1) \n",
    "train_y=training_data[['classes']]\n",
    "test_x=test_data.drop(['classes'], 1)\n",
    "test_y=test_data[['classes']]"
   ]
  },
  {
   "cell_type": "markdown",
   "metadata": {
    "id": "P-oNBnzbV4lI"
   },
   "source": [
    "<h4>1.3.2 Observations </h4>\n",
    "<ol>\n",
    "    <li>We find the correlation list of the attributes</li>\n",
    "</ol>\n",
    "\n",
    "<h4>1.3.3 Approach </h4>\n",
    "<ol>\n",
    "    <li>We remove the attributes that have low correlations from the data frame</li>\n",
    "    <li>We split the data in test and train datasets</li>\n",
    "</ol>"
   ]
  },
  {
   "cell_type": "markdown",
   "metadata": {
    "id": "6mQKJvN27Bfu"
   },
   "source": [
    "<h3>1.4 Deleting Outliers and Data Normalizations</h3>"
   ]
  },
  {
   "cell_type": "markdown",
   "metadata": {
    "id": "tOcvGwDUf8fd"
   },
   "source": [
    "<h4>1.4.1 Code </h4>"
   ]
  },
  {
   "cell_type": "code",
   "execution_count": 18,
   "metadata": {
    "id": "9Z4bemp56pTY"
   },
   "outputs": [],
   "source": [
    "# Remove outliers\n",
    "cancer_norm = cancer_final[(np.abs(scipy.stats.zscore(cancer_final)) < 3).all(axis=1)]\n",
    "# Zero mean normalisation\n",
    "cancer_norm.iloc[:,1:]=(cancer_norm.iloc[:,1:]-cancer_norm.iloc[:,1:].mean())/cancer_norm.iloc[:,1:].std()"
   ]
  },
  {
   "cell_type": "code",
   "execution_count": 19,
   "metadata": {
    "id": "MQpTYu396pXt"
   },
   "outputs": [
    {
     "data": {
      "text/html": [
       "<div>\n",
       "<style scoped>\n",
       "    .dataframe tbody tr th:only-of-type {\n",
       "        vertical-align: middle;\n",
       "    }\n",
       "\n",
       "    .dataframe tbody tr th {\n",
       "        vertical-align: top;\n",
       "    }\n",
       "\n",
       "    .dataframe thead th {\n",
       "        text-align: right;\n",
       "    }\n",
       "</style>\n",
       "<table border=\"1\" class=\"dataframe\">\n",
       "  <thead>\n",
       "    <tr style=\"text-align: right;\">\n",
       "      <th></th>\n",
       "      <th>classes</th>\n",
       "      <th>BareNuclei</th>\n",
       "      <th>BlandChromatin</th>\n",
       "      <th>ClumpThickness</th>\n",
       "      <th>NormalNucleoli</th>\n",
       "      <th>SingleEpithelialCellSize</th>\n",
       "      <th>MarginalAdhesion</th>\n",
       "      <th>Mitoses</th>\n",
       "    </tr>\n",
       "  </thead>\n",
       "  <tbody>\n",
       "    <tr>\n",
       "      <th>0</th>\n",
       "      <td>0</td>\n",
       "      <td>1.424665</td>\n",
       "      <td>-0.350823</td>\n",
       "      <td>0.043811</td>\n",
       "      <td>-0.421820</td>\n",
       "      <td>1.547239</td>\n",
       "      <td>0.558835</td>\n",
       "      <td>-0.402558</td>\n",
       "    </tr>\n",
       "    <tr>\n",
       "      <th>1</th>\n",
       "      <td>0</td>\n",
       "      <td>-0.622505</td>\n",
       "      <td>-0.350823</td>\n",
       "      <td>-0.625043</td>\n",
       "      <td>-0.727022</td>\n",
       "      <td>-0.663103</td>\n",
       "      <td>-0.752030</td>\n",
       "      <td>-0.402558</td>\n",
       "    </tr>\n",
       "    <tr>\n",
       "      <th>2</th>\n",
       "      <td>1</td>\n",
       "      <td>1.424665</td>\n",
       "      <td>1.950042</td>\n",
       "      <td>1.047093</td>\n",
       "      <td>1.104194</td>\n",
       "      <td>1.547239</td>\n",
       "      <td>1.541983</td>\n",
       "      <td>-0.402558</td>\n",
       "    </tr>\n",
       "    <tr>\n",
       "      <th>3</th>\n",
       "      <td>0</td>\n",
       "      <td>1.424665</td>\n",
       "      <td>-0.350823</td>\n",
       "      <td>-1.293897</td>\n",
       "      <td>-0.727022</td>\n",
       "      <td>-0.663103</td>\n",
       "      <td>-0.752030</td>\n",
       "      <td>-0.402558</td>\n",
       "    </tr>\n",
       "    <tr>\n",
       "      <th>4</th>\n",
       "      <td>0</td>\n",
       "      <td>-0.878401</td>\n",
       "      <td>-0.350823</td>\n",
       "      <td>-1.293897</td>\n",
       "      <td>-0.727022</td>\n",
       "      <td>-1.105171</td>\n",
       "      <td>-0.752030</td>\n",
       "      <td>-0.402558</td>\n",
       "    </tr>\n",
       "  </tbody>\n",
       "</table>\n",
       "</div>"
      ],
      "text/plain": [
       "   classes  BareNuclei  BlandChromatin  ClumpThickness  NormalNucleoli  \\\n",
       "0        0    1.424665       -0.350823        0.043811       -0.421820   \n",
       "1        0   -0.622505       -0.350823       -0.625043       -0.727022   \n",
       "2        1    1.424665        1.950042        1.047093        1.104194   \n",
       "3        0    1.424665       -0.350823       -1.293897       -0.727022   \n",
       "4        0   -0.878401       -0.350823       -1.293897       -0.727022   \n",
       "\n",
       "   SingleEpithelialCellSize  MarginalAdhesion   Mitoses  \n",
       "0                  1.547239          0.558835 -0.402558  \n",
       "1                 -0.663103         -0.752030 -0.402558  \n",
       "2                  1.547239          1.541983 -0.402558  \n",
       "3                 -0.663103         -0.752030 -0.402558  \n",
       "4                 -1.105171         -0.752030 -0.402558  "
      ]
     },
     "execution_count": 19,
     "metadata": {},
     "output_type": "execute_result"
    }
   ],
   "source": [
    "#printing the normalized head of the data\n",
    "cancer_norm.head()"
   ]
  },
  {
   "cell_type": "code",
   "execution_count": 20,
   "metadata": {
    "id": "Wkh0puJu6pa3"
   },
   "outputs": [],
   "source": [
    "#split the new dataset\n",
    "training_data_norm, test_data_norm = train_test_split(cancer_norm,random_state=None, shuffle=True)\n",
    "train_x_norm=training_data_norm.drop(['classes'], 1) \n",
    "train_y_norm=training_data_norm[['classes']]\n",
    "test_x_norm=test_data_norm.drop(['classes'], 1)\n",
    "test_y_norm=test_data_norm[['classes']]"
   ]
  },
  {
   "cell_type": "code",
   "execution_count": 21,
   "metadata": {
    "colab": {
     "base_uri": "https://localhost:8080/"
    },
    "id": "xlkLRQkM6pee",
    "outputId": "8fc8fc33-4eb4-440d-dd77-37a6680cef4c",
    "scrolled": true
   },
   "outputs": [
    {
     "name": "stdout",
     "output_type": "stream",
     "text": [
      "X_train Shape : (343, 7)\n",
      "Y_train Shape : (343, 1)\n",
      "X_test Shape  : (115, 7)\n",
      "Y_test Shape  : (115, 1)\n"
     ]
    }
   ],
   "source": [
    "# Print the shape of the data attributes\n",
    "x_train = np.array(train_x_norm)\n",
    "print('X_train Shape :',x_train.shape)\n",
    "y_train = np.array(train_y_norm)\n",
    "print('Y_train Shape :',y_train.shape)\n",
    "x_test = np.array(test_x_norm)\n",
    "print('X_test Shape  :',x_test.shape)\n",
    "y_test = np.array(test_y_norm)\n",
    "print('Y_test Shape  :',y_test.shape)"
   ]
  },
  {
   "cell_type": "code",
   "execution_count": 22,
   "metadata": {},
   "outputs": [
    {
     "name": "stdout",
     "output_type": "stream",
     "text": [
      "(343,)\n",
      "(115,)\n"
     ]
    }
   ],
   "source": [
    "# Changed the shape of the y_train from (x,1) to (x,)\n",
    "y_train=y_train.reshape(len(y_train))\n",
    "print(y_train.shape)\n",
    "y_test=y_test.reshape(len(y_test))\n",
    "print(y_test.shape)"
   ]
  },
  {
   "cell_type": "markdown",
   "metadata": {
    "id": "ezxSeKxKWqBF"
   },
   "source": [
    "<h3>1.5 Conclusion </h3>\n",
    "<ol>\n",
    "    <li>We removed the NAN values from our data and replaced them with mean values</li>\n",
    "    <li>We only keep highly correlated attributes in our final attribute list</li>\n",
    "    <li>We filter our data using the zscores and then normalize it usind mean and standard deviation</li>\n",
    "</ol>"
   ]
  },
  {
   "cell_type": "markdown",
   "metadata": {
    "id": "SNNGSB4Vb2CE"
   },
   "source": [
    "<h2><center>2. Model Fiting on the clean data</center></h2>\n",
    "\n",
    "We have a cleaned and a normalized data now we just have to fit a model over the data and make predictions.\n",
    "We are going to implement 2 models that are implemented by us \n",
    "\n",
    "<ol>\n",
    "    <li>SGD Classifier with Log Loss</li>\n",
    "    <li>SVM with RBF kernel</li>\n",
    "</ol>\n"
   ]
  },
  {
   "cell_type": "markdown",
   "metadata": {
    "id": "LGeB6fiFYPuS"
   },
   "source": [
    "<h3>2.1 SGD Classifier with Log Loss</h3>"
   ]
  },
  {
   "cell_type": "markdown",
   "metadata": {
    "id": "3NIP2zzzYi2e"
   },
   "source": [
    "<h4>2.1.1 Function Call</h4>"
   ]
  },
  {
   "cell_type": "code",
   "execution_count": 23,
   "metadata": {
    "id": "qq2Z7Etj6yun"
   },
   "outputs": [
    {
     "name": "stderr",
     "output_type": "stream",
     "text": [
      " 15%|█▍        | 22/150 [00:00<00:00, 218.52it/s]"
     ]
    },
    {
     "name": "stdout",
     "output_type": "stream",
     "text": [
      "\n",
      "-- Epoch no(iteration no)  1\n",
      "W intercept: [0.07628916 0.04561407 0.05795406 0.06117208 0.05792623 0.05682072\n",
      " 0.02726073], B intercept: -0.017889386713385608, Train loss: 0.24819, Test loss: 0.24794\n",
      "\n",
      "-- Epoch no(iteration no)  2\n",
      "W intercept: [0.13798406 0.09934325 0.10745957 0.102538   0.08568181 0.10811233\n",
      " 0.05183649], B intercept: -0.03001735972099804, Train loss: 0.21227, Test loss: 0.21134\n",
      "\n",
      "-- Epoch no(iteration no)  3\n",
      "W intercept: [0.19251782 0.13746442 0.15923263 0.1367259  0.14441345 0.14936481\n",
      " 0.08042119], B intercept: -0.033316224188123314, Train loss: 0.18236, Test loss: 0.18220\n",
      "\n",
      "-- Epoch no(iteration no)  4\n",
      "W intercept: [0.23388342 0.17055581 0.19684512 0.18434287 0.16172125 0.18576478\n",
      " 0.10262312], B intercept: -0.037603183627752654, Train loss: 0.16278, Test loss: 0.16276\n",
      "\n",
      "-- Epoch no(iteration no)  5\n",
      "W intercept: [0.27072296 0.20526459 0.2303734  0.22259754 0.19809182 0.21032915\n",
      " 0.11833053], B intercept: -0.04028272059953105, Train loss: 0.14652, Test loss: 0.14718\n",
      "\n",
      "-- Epoch no(iteration no)  6\n",
      "W intercept: [0.30586291 0.23173834 0.25226362 0.25155008 0.22937351 0.24708936\n",
      " 0.12870276], B intercept: -0.0364719937241734, Train loss: 0.13409, Test loss: 0.13536\n",
      "\n",
      "-- Epoch no(iteration no)  7\n",
      "W intercept: [0.33955674 0.2588963  0.28753921 0.27392991 0.2588135  0.26772031\n",
      " 0.13228872], B intercept: -0.033926373669128713, Train loss: 0.12360, Test loss: 0.12563\n",
      "\n",
      "-- Epoch no(iteration no)  8\n",
      "W intercept: [0.35626619 0.29095791 0.31362042 0.29828876 0.2884934  0.29049477\n",
      " 0.14411277], B intercept: -0.03295497477452495, Train loss: 0.11512, Test loss: 0.11780\n",
      "\n",
      "-- Epoch no(iteration no)  9\n",
      "W intercept: [0.39258685 0.30929871 0.343807   0.31676677 0.31504729 0.30523331\n",
      " 0.14663848], B intercept: -0.032700595904501084, Train loss: 0.10764, Test loss: 0.11111\n",
      "\n",
      "-- Epoch no(iteration no)  10\n",
      "W intercept: [0.41063918 0.33721554 0.36740096 0.333706   0.33211803 0.31769165\n",
      " 0.14948178], B intercept: -0.02600303029089582, Train loss: 0.10223, Test loss: 0.10614\n",
      "\n",
      "-- Epoch no(iteration no)  11\n",
      "W intercept: [0.42812962 0.34962528 0.39082493 0.35265784 0.34931223 0.33268639\n",
      " 0.15344462], B intercept: -0.030404435536258198, Train loss: 0.09768, Test loss: 0.10219\n",
      "\n",
      "-- Epoch no(iteration no)  12\n",
      "W intercept: [0.45460207 0.36928859 0.40290852 0.3694915  0.36699424 0.34871101\n",
      " 0.16130904], B intercept: -0.033535876295282055, Train loss: 0.09322, Test loss: 0.09819\n",
      "\n",
      "-- Epoch no(iteration no)  13\n",
      "W intercept: [0.46890407 0.38381351 0.42677711 0.36451076 0.378676   0.34869652\n",
      " 0.16528827], B intercept: -0.0318247172251877, Train loss: 0.09071, Test loss: 0.09597\n",
      "\n",
      "-- Epoch no(iteration no)  14\n",
      "W intercept: [0.49124879 0.39773818 0.44567585 0.3773731  0.39325458 0.3673206\n",
      " 0.17602198], B intercept: -0.037732862015783505, Train loss: 0.08696, Test loss: 0.09265\n",
      "\n",
      "-- Epoch no(iteration no)  15\n",
      "W intercept: [0.51443733 0.41253192 0.46281919 0.39544291 0.40731782 0.38056744\n",
      " 0.18038728], B intercept: -0.04123707430204865, Train loss: 0.08353, Test loss: 0.08971\n",
      "\n",
      "-- Epoch no(iteration no)  16\n",
      "W intercept: [0.53210591 0.4214704  0.47684154 0.40854031 0.41611372 0.38585918\n",
      " 0.18973838], B intercept: -0.03375903366781899, Train loss: 0.08120, Test loss: 0.08766\n",
      "\n",
      "-- Epoch no(iteration no)  17\n",
      "W intercept: [0.54786844 0.43305715 0.4932825  0.41025827 0.42653604 0.39582957\n",
      " 0.19939724], B intercept: -0.03642496379081088, Train loss: 0.07907, Test loss: 0.08577\n",
      "\n",
      "-- Epoch no(iteration no)  18\n",
      "W intercept: [0.55507071 0.44676092 0.50304522 0.43448595 0.42435369 0.40449137\n",
      " 0.20477697], B intercept: -0.03627594586303329, Train loss: 0.07731, Test loss: 0.08416\n",
      "\n",
      "-- Epoch no(iteration no)  19\n",
      "W intercept: [0.57193674 0.4581561  0.51724594 0.45287682 0.43518023 0.41426053\n",
      " 0.21076825], B intercept: -0.03322027221099867, Train loss: 0.07501, Test loss: 0.08223\n",
      "\n",
      "-- Epoch no(iteration no)  20\n",
      "W intercept: [0.58581978 0.46599592 0.52615251 0.45943962 0.45287239 0.42740156\n",
      " 0.21086215], B intercept: -0.024124839082460117, Train loss: 0.07323, Test loss: 0.08087\n",
      "\n",
      "-- Epoch no(iteration no)  21\n",
      "W intercept: [0.60535598 0.48070305 0.53906902 0.46761695 0.46276747 0.43275397\n",
      " 0.20947356], B intercept: -0.016787107014485887, Train loss: 0.07136, Test loss: 0.07938\n",
      "\n",
      "-- Epoch no(iteration no)  22\n",
      "W intercept: [0.61375558 0.49636174 0.55214589 0.47703656 0.47623977 0.44642338\n",
      " 0.21389396], B intercept: -0.02005389534911429, Train loss: 0.06965, Test loss: 0.07798\n",
      "\n",
      "-- Epoch no(iteration no)  23\n",
      "W intercept: [0.62814093 0.50197697 0.56610628 0.48694339 0.48967248 0.45151601\n",
      " 0.21447432], B intercept: -0.01987002358052391, Train loss: 0.06818, Test loss: 0.07691\n",
      "\n",
      "-- Epoch no(iteration no)  24\n",
      "W intercept: [0.63540193 0.51552771 0.58106365 0.49450112 0.49715564 0.45600553\n",
      " 0.21310257], B intercept: -0.013608952162646138, Train loss: 0.06692, Test loss: 0.07594\n",
      "\n",
      "-- Epoch no(iteration no)  25\n",
      "W intercept: [0.64960531 0.52269598 0.5938194  0.50386546 0.50986789 0.46195272\n",
      " 0.21106757], B intercept: -0.005374463695791445, Train loss: 0.06555, Test loss: 0.07497\n",
      "\n",
      "-- Epoch no(iteration no)  26\n",
      "W intercept: [0.66314941 0.53422761 0.60524766 0.5141403  0.51563202 0.47148101\n",
      " 0.21502188], B intercept: -0.0077911945175966986, Train loss: 0.06427, Test loss: 0.07393\n",
      "\n",
      "-- Epoch no(iteration no)  27\n",
      "W intercept: [0.66952876 0.53645347 0.61901102 0.50250605 0.52024265 0.46800342\n",
      " 0.21636097], B intercept: -0.007146050128087273, Train loss: 0.06389, Test loss: 0.07365\n",
      "\n",
      "-- Epoch no(iteration no)  28\n",
      "W intercept: [0.68305581 0.5488563  0.62589888 0.51136634 0.52897401 0.47978302\n",
      " 0.22093687], B intercept: -0.012851055867330903, Train loss: 0.06273, Test loss: 0.07272\n",
      "\n",
      "-- Epoch no(iteration no)  29\n",
      "W intercept: [0.69584685 0.5520846  0.63209672 0.52024166 0.53742501 0.48456084\n",
      " 0.22868124], B intercept: -0.007621747721716475, Train loss: 0.06183, Test loss: 0.07202\n",
      "\n",
      "-- Epoch no(iteration no)  30\n",
      "W intercept: [0.70443308 0.55729416 0.64874992 0.52599984 0.54164789 0.48337281\n",
      " 0.23497729], B intercept: -0.003541949935741068, Train loss: 0.06099, Test loss: 0.07136\n",
      "\n",
      "-- Epoch no(iteration no)  31\n",
      "W intercept: [0.70652038 0.56705474 0.65349046 0.53219176 0.53703336 0.48485185\n",
      " 0.24009588], B intercept: -0.009980714658411825, Train loss: 0.06064, Test loss: 0.07097\n",
      "\n",
      "-- Epoch no(iteration no)  32\n",
      "W intercept: [0.71504322 0.57713884 0.66022778 0.54564118 0.54158983 0.4930122\n",
      " 0.24248445], B intercept: -0.005565372794056916, Train loss: 0.05976, Test loss: 0.07029\n",
      "\n",
      "-- Epoch no(iteration no)  33\n",
      "W intercept: [0.72793503 0.57862253 0.66501333 0.55837674 0.54120214 0.50162081\n",
      " 0.24223513], B intercept: 0.0013257439374650688, Train loss: 0.05907, Test loss: 0.06978\n",
      "\n",
      "-- Epoch no(iteration no)  34\n",
      "W intercept: [0.73934737 0.58593031 0.67358869 0.56097718 0.55583339 0.51065835\n",
      " 0.24194626], B intercept: 0.006228382496472318, Train loss: 0.05818, Test loss: 0.06922\n",
      "\n",
      "-- Epoch no(iteration no)  35\n",
      "W intercept: [0.75029344 0.59690933 0.68040738 0.56491592 0.56602023 0.5138523\n",
      " 0.24127271], B intercept: 0.011492676049860916, Train loss: 0.05742, Test loss: 0.06873\n",
      "\n",
      "-- Epoch no(iteration no) "
     ]
    },
    {
     "name": "stderr",
     "output_type": "stream",
     "text": [
      "\r",
      " 29%|██▉       | 44/150 [00:00<00:00, 214.26it/s]"
     ]
    },
    {
     "name": "stdout",
     "output_type": "stream",
     "text": [
      " 36\n",
      "W intercept: [0.75717546 0.6049489  0.69267246 0.56926145 0.57432359 0.5193988\n",
      " 0.24299109], B intercept: 0.011573676503607678, Train loss: 0.05671, Test loss: 0.06824\n",
      "\n",
      "-- Epoch no(iteration no)  37\n",
      "W intercept: [0.7658437  0.61153228 0.69889168 0.57641275 0.58236894 0.5263798\n",
      " 0.2431514 ], B intercept: 0.010610735040324552, Train loss: 0.05609, Test loss: 0.06784\n",
      "\n",
      "-- Epoch no(iteration no)  38\n",
      "W intercept: [0.7678757  0.61551235 0.71372649 0.58056323 0.58858058 0.53169348\n",
      " 0.23763648], B intercept: 0.024879351311882417, Train loss: 0.05549, Test loss: 0.06752\n",
      "\n",
      "-- Epoch no(iteration no)  39\n",
      "W intercept: [0.77905666 0.62396723 0.7206636  0.59224625 0.59793627 0.53274599\n",
      " 0.23831799], B intercept: 0.025120617452706544, Train loss: 0.05480, Test loss: 0.06709\n",
      "\n",
      "-- Epoch no(iteration no)  40\n",
      "W intercept: [0.78973616 0.63099639 0.72878874 0.5946641  0.60256828 0.53863236\n",
      " 0.2414914 ], B intercept: 0.022287402447495296, Train loss: 0.05426, Test loss: 0.06669\n",
      "\n",
      "-- Epoch no(iteration no)  41\n",
      "W intercept: [0.79318331 0.63050308 0.73809477 0.58151595 0.6044125  0.53499712\n",
      " 0.24202702], B intercept: 0.02359159358251672, Train loss: 0.05419, Test loss: 0.06665\n",
      "\n",
      "-- Epoch no(iteration no)  42\n",
      "W intercept: [0.80544327 0.63706402 0.74387993 0.58924728 0.61203781 0.54129018\n",
      " 0.24404116], B intercept: 0.02088703510336528, Train loss: 0.05359, Test loss: 0.06626\n",
      "\n",
      "-- Epoch no(iteration no)  43\n",
      "W intercept: [0.81205147 0.64004461 0.74979802 0.59723883 0.61576454 0.54372231\n",
      " 0.2513371 ], B intercept: 0.025738621388681115, Train loss: 0.05316, Test loss: 0.06594\n",
      "\n",
      "-- Epoch no(iteration no)  44\n",
      "W intercept: [0.81949697 0.64539914 0.76107072 0.59569767 0.61777928 0.54171553\n",
      " 0.2552628 ], B intercept: 0.03229101067588815, Train loss: 0.05275, Test loss: 0.06564\n",
      "\n",
      "-- Epoch no(iteration no)  45\n",
      "W intercept: [0.81918494 0.65206488 0.76478499 0.60302578 0.61051671 0.54298839\n",
      " 0.26073799], B intercept: 0.02390064007863394, Train loss: 0.05264, Test loss: 0.06543\n",
      "\n",
      "-- Epoch no(iteration no)  46\n",
      "W intercept: [0.82442245 0.65970527 0.77140909 0.6133645  0.61491159 0.54765813\n",
      " 0.26250359], B intercept: 0.02826111502723013, Train loss: 0.05216, Test loss: 0.06511\n"
     ]
    },
    {
     "name": "stderr",
     "output_type": "stream",
     "text": [
      "\r",
      " 44%|████▍     | 66/150 [00:00<00:00, 207.84it/s]"
     ]
    },
    {
     "name": "stdout",
     "output_type": "stream",
     "text": [
      "\n",
      "-- Epoch no(iteration no)  47\n",
      "W intercept: [0.83250354 0.65959051 0.77102367 0.62277547 0.61360633 0.55492768\n",
      " 0.26092646], B intercept: 0.03449681284134961, Train loss: 0.05189, Test loss: 0.06495\n",
      "\n",
      "-- Epoch no(iteration no)  48\n",
      "W intercept: [0.8438915  0.66504434 0.77882421 0.62365053 0.62637846 0.56107213\n",
      " 0.25951269], B intercept: 0.04080521958670173, Train loss: 0.05133, Test loss: 0.06469\n",
      "\n",
      "-- Epoch no(iteration no)  49\n",
      "W intercept: [0.84843238 0.67435873 0.78417232 0.62709749 0.63333372 0.56343475\n",
      " 0.25969523], B intercept: 0.042875014469542325, Train loss: 0.05095, Test loss: 0.06447\n",
      "\n",
      "-- Epoch no(iteration no)  50\n",
      "W intercept: [0.85663788 0.68041848 0.7926242  0.63070153 0.6409615  0.56626518\n",
      " 0.25899732], B intercept: 0.04491542639904415, Train loss: 0.05052, Test loss: 0.06425\n",
      "\n",
      "-- Epoch no(iteration no)  51\n",
      "W intercept: [0.86200656 0.68703361 0.7986586  0.63436816 0.64911098 0.57186664\n",
      " 0.25847791], B intercept: 0.04808137260071567, Train loss: 0.05013, Test loss: 0.06406\n",
      "\n",
      "-- Epoch no(iteration no)  52\n",
      "W intercept: [0.86290817 0.68766401 0.81191952 0.64154864 0.65303388 0.57527491\n",
      " 0.25539624], B intercept: 0.055890759283950146, Train loss: 0.04978, Test loss: 0.06390\n",
      "\n",
      "-- Epoch no(iteration no)  53\n",
      "W intercept: [0.8743489  0.69512957 0.81441561 0.64464248 0.65964438 0.58030898\n",
      " 0.25620767], B intercept: 0.05600816781626618, Train loss: 0.04940, Test loss: 0.06369\n",
      "\n",
      "-- Epoch no(iteration no)  54\n",
      "W intercept: [0.87773736 0.6890688  0.82252831 0.63412528 0.6592865  0.57393164\n",
      " 0.25602304], B intercept: 0.05318280104162773, Train loss: 0.04944, Test loss: 0.06374\n",
      "\n",
      "-- Epoch no(iteration no)  55\n",
      "W intercept: [0.88351189 0.69887758 0.82830137 0.63589797 0.66356914 0.58018825\n",
      " 0.25858268], B intercept: 0.05366057173515741, Train loss: 0.04910, Test loss: 0.06350\n",
      "\n",
      "-- Epoch no(iteration no)  56\n",
      "W intercept: [0.89286125 0.70378112 0.83370583 0.64175468 0.66874826 0.58376571\n",
      " 0.25958583], B intercept: 0.05228704425292551, Train loss: 0.04876, Test loss: 0.06332\n",
      "\n",
      "-- Epoch no(iteration no)  57\n",
      "W intercept: [0.89773765 0.70583609 0.83929682 0.64387785 0.67007954 0.58010623\n",
      " 0.26470253], B intercept: 0.06374666823671604, Train loss: 0.04853, Test loss: 0.06317\n",
      "\n",
      "-- Epoch no(iteration no)  58\n",
      "W intercept: [0.9039705  0.71017721 0.84677932 0.64062755 0.67212853 0.58207502\n",
      " 0.271077  ], B intercept: 0.06134322305959648, Train loss: 0.04831, Test loss: 0.06298\n",
      "\n",
      "-- Epoch no(iteration no)  59\n",
      "W intercept: [0.89934391 0.71639879 0.84958397 0.6531459  0.66125859 0.58233121\n",
      " 0.27266006], B intercept: 0.06092747329054797, Train loss: 0.04826, Test loss: 0.06284\n",
      "\n",
      "-- Epoch no(iteration no)  60\n",
      "W intercept: [0.90500916 0.72212177 0.85546255 0.66029952 0.66691763 0.58559364\n",
      " 0.27557239], B intercept: 0.0609133467677903, Train loss: 0.04795, Test loss: 0.06267\n",
      "\n",
      "-- Epoch no(iteration no)  61\n",
      "W intercept: [0.91028836 0.72071379 0.85406841 0.66661751 0.6710686  0.59382352\n",
      " 0.27255206], B intercept: 0.0698685296239906, Train loss: 0.04776, Test loss: 0.06263\n",
      "\n",
      "-- Epoch no(iteration no)  62\n",
      "W intercept: [0.9215894  0.72515848 0.85978472 0.66910562 0.67618081 0.59691647\n",
      " 0.27232673], B intercept: 0.0734763696999338, Train loss: 0.04743, Test loss: 0.06248\n",
      "\n",
      "-- Epoch no(iteration no)  63\n",
      "W intercept: [0.92597852 0.73435946 0.86472395 0.67071657 0.68423698 0.59966463\n",
      " 0.27223793], B intercept: 0.0769496817023272, Train loss: 0.04714, Test loss: 0.06235\n",
      "\n",
      "-- Epoch no(iteration no)  64\n",
      "W intercept: [0.93311781 0.7355786  0.87152323 0.67418723 0.68918505 0.60189134\n",
      " 0.27170947], B intercept: 0.07703988429254512, Train loss: 0.04690, Test loss: 0.06227\n",
      "\n",
      "-- Epoch no(iteration no)  65\n",
      "W intercept: [0.9345008  0.74239512 0.88155934 0.67760871 0.69323577 0.60323973\n",
      " 0.26989484], B intercept: 0.08202541958647731, Train loss: 0.04663, Test loss: 0.06215\n",
      "\n",
      "-- Epoch no(iteration no)  66\n",
      "W intercept: [0.93965606 0.74571673 0.8873831  0.68134272 0.69938706 0.60754358\n",
      " 0.26662383], B intercept: 0.0901617151599878, Train loss: 0.04636, Test loss: 0.06208\n",
      "\n",
      "-- Epoch no(iteration no)  67\n",
      "W intercept: [0.94831952 0.75102402 0.89208324 0.68541638 0.70342809 0.61273943\n",
      " 0.26789581], B intercept: 0.0886491420190643, Train loss: 0.04610, Test loss: 0.06195\n",
      "\n",
      "-- Epoch no(iteration no)  68\n",
      "W intercept: [0.94646649 0.74866474 0.89545321 0.67241715 0.70457044 0.60805414\n",
      " 0.26681782], B intercept: 0.08697368175789733, Train loss: 0.04620, Test loss: 0.06202\n",
      "\n",
      "-- Epoch no(iteration no)  69\n",
      "W intercept: [0.95454509 0.75247356 0.90153437 0.67628917 0.70845284 0.61207464\n",
      " 0.27011818], B intercept: 0.08467562440157887, Train loss: 0.04596, Test loss: 0.06188\n",
      "\n",
      "-- Epoch no(iteration no)  70\n",
      "W intercept: [0.96193739 0.7562998  0.90585114 0.68060922 0.71149692 0.61491805\n",
      " 0.2705623 ], B intercept: 0.08442080063225184, Train loss: 0.04575, Test loss: 0.06179\n",
      "\n",
      "-- Epoch no(iteration no)  71\n",
      "W intercept: [0.96621576 0.75642075 0.91498448 0.68185325 0.71238748 0.60829489\n",
      " 0.27938816], B intercept: 0.09776479168272284, Train loss: 0.04554, Test loss: 0.06165\n",
      "\n",
      "-- Epoch no(iteration no)  72\n",
      "W intercept: [0.97187454 0.76020835 0.91647356 0.67903208 0.71407239 0.61203163\n",
      " 0.28160204], B intercept: 0.09431349983179041, Train loss: 0.04544, Test loss: 0.06157\n",
      "\n",
      "-- Epoch no(iteration no)  73\n",
      "W intercept: [0.965751   0.76766221 0.91939765 0.68970859 0.70355449 0.61146894\n",
      " 0.28325247], B intercept: 0.09303083056034057, Train loss: 0.04543, Test loss: 0.06145\n",
      "\n",
      "-- Epoch no(iteration no)  74\n",
      "W intercept: [0.97232986 0.77077062 0.92472897 0.69719586 0.70547077 0.61510694\n",
      " 0.28455797], B intercept: 0.09458238732729089, Train loss: 0.04521, Test loss: 0.06134\n",
      "\n",
      "-- Epoch no(iteration no)  75\n",
      "W intercept: [0.97610817 0.76986544 0.92355438 0.70186559 0.71120715 0.61979803\n",
      " 0.28201266], B intercept: 0.10358209165789817, Train loss: 0.04507, Test loss: 0.06135\n",
      "\n",
      "-- Epoch no(iteration no)  76\n",
      "W intercept: [0.98706794 0.77552659 0.92668378 0.7004914  0.71709323 0.62102285\n",
      " 0.28011393], B intercept: 0.10966078073996595, Train loss: 0.04483, Test loss: 0.06130\n",
      "\n",
      "-- Epoch no(iteration no)  77\n",
      "W intercept: [0.9886894  0.78067913 0.93186285 0.70358718 0.72203609 0.62638187\n",
      " 0.28161747], B intercept: 0.1081466715643766, Train loss: 0.04467, Test loss: 0.06122\n",
      "\n",
      "-- Epoch no(iteration no)  78\n",
      "W intercept: [0.9938191  0.78202025 0.93660393 0.7072143  0.72669565 0.62841632\n",
      " 0.28146534], B intercept: 0.10726764442166405, Train loss: 0.04452, Test loss: 0.06118\n",
      "\n",
      "-- Epoch no(iteration no)  79\n",
      "W intercept: [0.99551395 0.78711312 0.94848256 0.70997809 0.729256   0.62555839\n",
      " 0.27774876], B intercept: 0.11661889231543872, Train loss: 0.04429, Test loss: 0.06113\n",
      "\n",
      "-- Epoch no(iteration no) "
     ]
    },
    {
     "name": "stderr",
     "output_type": "stream",
     "text": [
      "\r",
      " 60%|██████    | 90/150 [00:00<00:00, 217.04it/s]"
     ]
    },
    {
     "name": "stdout",
     "output_type": "stream",
     "text": [
      " 80\n",
      "W intercept: [1.00118726 0.79044427 0.95095373 0.71376665 0.73699109 0.63323722\n",
      " 0.27639023], B intercept: 0.12076752783765846, Train loss: 0.04409, Test loss: 0.06110\n",
      "\n",
      "-- Epoch no(iteration no)  81\n",
      "W intercept: [1.00690147 0.79466043 0.95528538 0.71706274 0.73906565 0.63779583\n",
      " 0.27756428], B intercept: 0.1196763416425824, Train loss: 0.04393, Test loss: 0.06102\n",
      "\n",
      "-- Epoch no(iteration no)  82\n",
      "W intercept: [1.00770676 0.79100519 0.96058174 0.70350162 0.73889787 0.63229655\n",
      " 0.27638743], B intercept: 0.11919802355239487, Train loss: 0.04398, Test loss: 0.06106\n",
      "\n",
      "-- Epoch no(iteration no)  83\n",
      "W intercept: [1.01506359 0.79609634 0.96296183 0.70775282 0.74291858 0.63655193\n",
      " 0.27813969], B intercept: 0.11702395615399346, Train loss: 0.04381, Test loss: 0.06099\n",
      "\n",
      "-- Epoch no(iteration no)  84\n",
      "W intercept: [1.01900173 0.79619474 0.9657688  0.71237965 0.74554623 0.63567\n",
      " 0.28485186], B intercept: 0.12328333934478679, Train loss: 0.04368, Test loss: 0.06092\n",
      "\n",
      "-- Epoch no(iteration no)  85\n",
      "W intercept: [1.0215943  0.79790204 0.97497827 0.71069599 0.74634612 0.63234784\n",
      " 0.28771067], B intercept: 0.12831049496900923, Train loss: 0.04355, Test loss: 0.06085\n",
      "\n",
      "-- Epoch no(iteration no)  86\n",
      "W intercept: [1.01714602 0.80392267 0.97627473 0.71280377 0.73676954 0.63039792\n",
      " 0.29243666], B intercept: 0.11887626654668079, Train loss: 0.04363, Test loss: 0.06074\n",
      "\n",
      "-- Epoch no(iteration no)  87\n",
      "W intercept: [1.01971486 0.80958769 0.97849589 0.71930461 0.73756664 0.63439558\n",
      " 0.29258937], B intercept: 0.12250058604733556, Train loss: 0.04348, Test loss: 0.06067\n",
      "\n",
      "-- Epoch no(iteration no)  88\n",
      "W intercept: [1.0258533  0.80649697 0.97743476 0.72734672 0.73429398 0.63912521\n",
      " 0.29012177], B intercept: 0.130752527540797, Train loss: 0.04339, Test loss: 0.06066\n",
      "\n",
      "-- Epoch no(iteration no)  89\n",
      "W intercept: [1.03400595 0.80919748 0.98121638 0.72635863 0.744146   0.64368914\n",
      " 0.28886388], B intercept: 0.13545378198122715, Train loss: 0.04319, Test loss: 0.06066\n",
      "\n",
      "-- Epoch no(iteration no)  90\n",
      "W intercept: [1.03882243 0.8154083  0.98360879 0.72741503 0.7486975  0.64375341\n",
      " 0.28788803], B intercept: 0.1390418854788355, Train loss: 0.04305, Test loss: 0.06064\n",
      "\n",
      "-- Epoch no(iteration no)  91\n",
      "W intercept: [1.0414147  0.81969998 0.98978774 0.72977273 0.75291099 0.64706959\n",
      " 0.28835038], B intercept: 0.13779104558749472, Train loss: 0.04292, Test loss: 0.06060\n",
      "\n",
      "-- Epoch no(iteration no)  92\n",
      "W intercept: [1.04385143 0.82236662 0.99512017 0.73247388 0.75917683 0.65046166\n",
      " 0.28768545], B intercept: 0.14021612555095314, Train loss: 0.04277, Test loss: 0.06058\n"
     ]
    },
    {
     "name": "stderr",
     "output_type": "stream",
     "text": [
      "\r",
      " 76%|███████▌  | 114/150 [00:00<00:00, 224.39it/s]"
     ]
    },
    {
     "name": "stdout",
     "output_type": "stream",
     "text": [
      "\n",
      "-- Epoch no(iteration no)  93\n",
      "W intercept: [1.0446021  0.82370811 1.00238608 0.73600043 0.76153903 0.65393567\n",
      " 0.28455153], B intercept: 0.148000112796043, Train loss: 0.04263, Test loss: 0.06057\n",
      "\n",
      "-- Epoch no(iteration no)  94\n",
      "W intercept: [1.05080835 0.82831131 1.0052197  0.74196874 0.76631625 0.65525161\n",
      " 0.28367568], B intercept: 0.15109490195918088, Train loss: 0.04247, Test loss: 0.06055\n",
      "\n",
      "-- Epoch no(iteration no)  95\n",
      "W intercept: [1.057556   0.82851992 1.01740518 0.73813088 0.76760798 0.65448494\n",
      " 0.28683327], B intercept: 0.1528312349575014, Train loss: 0.04232, Test loss: 0.06049\n",
      "\n",
      "-- Epoch no(iteration no)  96\n",
      "W intercept: [1.05670967 0.82712159 1.01361623 0.72803828 0.76783071 0.65331775\n",
      " 0.28436423], B intercept: 0.14783864491166354, Train loss: 0.04243, Test loss: 0.06054\n",
      "\n",
      "-- Epoch no(iteration no)  97\n",
      "W intercept: [1.06321085 0.83106196 1.01674941 0.73216105 0.77227094 0.65672873\n",
      " 0.28567398], B intercept: 0.14511694455930535, Train loss: 0.04230, Test loss: 0.06051\n",
      "\n",
      "-- Epoch no(iteration no)  98\n",
      "W intercept: [1.06676642 0.83181897 1.01926026 0.73647131 0.77401816 0.65574876\n",
      " 0.2928707 ], B intercept: 0.15074448865521253, Train loss: 0.04219, Test loss: 0.06044\n",
      "\n",
      "-- Epoch no(iteration no)  99\n",
      "W intercept: [1.07014992 0.83388857 1.02694968 0.73361139 0.77471414 0.65319487\n",
      " 0.29359797], B intercept: 0.15965055153721133, Train loss: 0.04207, Test loss: 0.06041\n",
      "\n",
      "-- Epoch no(iteration no)  100\n",
      "W intercept: [1.06417144 0.83941107 1.02795834 0.73665547 0.76432799 0.65144681\n",
      " 0.29926842], B intercept: 0.1473817248409291, Train loss: 0.04216, Test loss: 0.06029\n",
      "\n",
      "-- Epoch no(iteration no)  101\n",
      "W intercept: [1.06631209 0.84365139 1.03175685 0.74250809 0.76498798 0.65341279\n",
      " 0.2993078 ], B intercept: 0.15184315140745744, Train loss: 0.04204, Test loss: 0.06024\n",
      "\n",
      "-- Epoch no(iteration no)  102\n",
      "W intercept: [1.07157109 0.84084911 1.02798435 0.7493997  0.76150619 0.65798795\n",
      " 0.29694421], B intercept: 0.15850716833574113, Train loss: 0.04200, Test loss: 0.06025\n",
      "\n",
      "-- Epoch no(iteration no)  103\n",
      "W intercept: [1.07841323 0.84327069 1.03229906 0.74889166 0.77052088 0.66203164\n",
      " 0.29552062], B intercept: 0.16343495758185053, Train loss: 0.04184, Test loss: 0.06028\n",
      "\n",
      "-- Epoch no(iteration no)  104\n",
      "W intercept: [1.08071518 0.84909304 1.03581675 0.75003599 0.77665119 0.66341691\n",
      " 0.29538934], B intercept: 0.16624432153922988, Train loss: 0.04172, Test loss: 0.06027\n",
      "\n",
      "-- Epoch no(iteration no)  105\n",
      "W intercept: [1.08652976 0.85075694 1.04009324 0.75243259 0.78016968 0.66537531\n",
      " 0.29495211], B intercept: 0.16578361661614321, Train loss: 0.04161, Test loss: 0.06027\n",
      "\n",
      "-- Epoch no(iteration no)  106\n",
      "W intercept: [1.08747305 0.85526827 1.04753733 0.75344104 0.78330245 0.6664313\n",
      " 0.29381971], B intercept: 0.16906235470162387, Train loss: 0.04150, Test loss: 0.06025\n",
      "\n",
      "-- Epoch no(iteration no)  107\n",
      "W intercept: [1.08713643 0.85520404 1.05287922 0.75869897 0.78832953 0.67098908\n",
      " 0.29122687], B intercept: 0.17549740650037096, Train loss: 0.04138, Test loss: 0.06027\n",
      "\n",
      "-- Epoch no(iteration no)  108\n",
      "W intercept: [1.09519945 0.86008399 1.05368542 0.75981516 0.79220904 0.67401453\n",
      " 0.29129636], B intercept: 0.17617976150986747, Train loss: 0.04127, Test loss: 0.06026\n",
      "\n",
      "-- Epoch no(iteration no)  109\n",
      "W intercept: [1.09361016 0.85709386 1.05634279 0.74639262 0.79118322 0.66910543\n",
      " 0.28950782], B intercept: 0.17415495802663164, Train loss: 0.04135, Test loss: 0.06029\n",
      "\n",
      "-- Epoch no(iteration no)  110\n",
      "W intercept: [1.09906472 0.85908656 1.06066653 0.74845121 0.79319104 0.67165908\n",
      " 0.29159092], B intercept: 0.17301689675046866, Train loss: 0.04125, Test loss: 0.06026\n",
      "\n",
      "-- Epoch no(iteration no)  111\n",
      "W intercept: [1.10481884 0.86220041 1.06365876 0.75218294 0.79609114 0.67378006\n",
      " 0.2921524 ], B intercept: 0.17205786615181942, Train loss: 0.04115, Test loss: 0.06025\n",
      "\n",
      "-- Epoch no(iteration no)  112\n",
      "W intercept: [1.10743384 0.86228087 1.06775183 0.75264906 0.79658055 0.66808118\n",
      " 0.29743124], B intercept: 0.18320743522178495, Train loss: 0.04106, Test loss: 0.06022\n",
      "\n",
      "-- Epoch no(iteration no)  113\n",
      "W intercept: [1.11053387 0.8647636  1.07255986 0.74708246 0.79704066 0.66929599\n",
      " 0.30253655], B intercept: 0.1796240731490939, Train loss: 0.04102, Test loss: 0.06016\n",
      "\n",
      "-- Epoch no(iteration no)  114\n",
      "W intercept: [1.10273513 0.86981967 1.0738122  0.75659007 0.78472481 0.66750777\n",
      " 0.30380303], B intercept: 0.17825257153103144, Train loss: 0.04106, Test loss: 0.06005\n",
      "\n",
      "-- Epoch no(iteration no)  115\n",
      "W intercept: [1.10721704 0.87228543 1.076889   0.76243694 0.78610741 0.6697385\n",
      " 0.30438214], B intercept: 0.18081354931599394, Train loss: 0.04096, Test loss: 0.06003\n",
      "\n",
      "-- Epoch no(iteration no)  116\n",
      "W intercept: [1.11087355 0.87029922 1.0739778  0.76543943 0.79046701 0.67467973\n",
      " 0.30204418], B intercept: 0.18829124397786948, Train loss: 0.04090, Test loss: 0.06008\n",
      "\n",
      "-- Epoch no(iteration no)  117\n",
      "W intercept: [1.11990369 0.87490152 1.07677769 0.76465365 0.79477865 0.67486468\n",
      " 0.29978798], B intercept: 0.1941955600118567, Train loss: 0.04077, Test loss: 0.06011\n",
      "\n",
      "-- Epoch no(iteration no)  118\n",
      "W intercept: [1.12060807 0.87883742 1.08038336 0.76726742 0.79868478 0.67891503\n",
      " 0.30114424], B intercept: 0.19275357841011015, Train loss: 0.04070, Test loss: 0.06009\n",
      "\n",
      "-- Epoch no(iteration no)  119\n",
      "W intercept: [1.12437191 0.87905234 1.08379052 0.76975674 0.80172655 0.68026668\n",
      " 0.30096547], B intercept: 0.19202134168066395, Train loss: 0.04063, Test loss: 0.06010\n",
      "\n",
      "-- Epoch no(iteration no)  120\n",
      "W intercept: [1.12470326 0.88335442 1.09148737 0.77209905 0.80465016 0.68097712\n",
      " 0.29960537], B intercept: 0.19553071746614326, Train loss: 0.04053, Test loss: 0.06009\n",
      "\n",
      "-- Epoch no(iteration no)  121\n",
      "W intercept: [1.1286556  0.88508989 1.09491857 0.77424348 0.80996652 0.68446084\n",
      " 0.29612397], B intercept: 0.2046206016974119, Train loss: 0.04041, Test loss: 0.06014\n",
      "\n",
      "-- Epoch no(iteration no)  122\n",
      "W intercept: [1.13378737 0.88862845 1.09812457 0.77736434 0.81234779 0.68896191\n",
      " 0.29757962], B intercept: 0.2020536108526631, Train loss: 0.04033, Test loss: 0.06011\n",
      "\n",
      "-- Epoch no(iteration no)  123\n",
      "W intercept: [1.1327746  0.88352074 1.10137134 0.76313389 0.81097    0.68275933\n",
      " 0.29559349], B intercept: 0.20167232243348793, Train loss: 0.04039, Test loss: 0.06015\n",
      "\n",
      "-- Epoch no(iteration no)  124\n",
      "W intercept: [1.13730364 0.88801245 1.10288446 0.76592335 0.81429476 0.68673243\n",
      " 0.29751222], B intercept: 0.1981296215459058, Train loss: 0.04032, Test loss: 0.06013\n",
      "\n",
      "-- Epoch no(iteration no)  125\n",
      "W intercept: [1.13955255 0.88736259 1.10496309 0.76834917 0.81548359 0.68508931\n",
      " 0.30494764], B intercept: 0.2027833648742464, Train loss: 0.04027, Test loss: 0.06009\n",
      "\n",
      "-- Epoch no(iteration no)  126\n",
      "W intercept: [1.14312325 0.88845601 1.11246641 0.76808526 0.81668721 0.68102198\n",
      " 0.30598146], B intercept: 0.21006841961213527, Train loss: 0.04017, Test loss: 0.06009\n",
      "\n",
      "-- Epoch no(iteration no)  127\n",
      "W intercept: [1.14677099 0.89125287 1.11327838 0.76535498 0.81732191 0.68293583\n",
      " 0.30774665], B intercept: 0.20656964957426419, Train loss: 0.04014, Test loss: 0.06007\n",
      "\n",
      "-- Epoch no(iteration no)  128\n",
      "W intercept: [1.13795243 0.89756702 1.11479316 0.77346273 0.8056505  0.68123602\n",
      " 0.31011281], B intercept: 0.20417702763576465, Train loss: 0.04018, Test loss: 0.05994\n",
      "\n",
      "-- Epoch no(iteration no)  129\n",
      "W intercept: [1.14366178 0.89452185 1.11221643 0.7810165  0.80192254 0.68551186\n",
      " 0.30769084], B intercept: 0.21110042886366903, Train loss: 0.04014, Test loss: 0.05995\n"
     ]
    },
    {
     "name": "stderr",
     "output_type": "stream",
     "text": [
      "\r",
      " 93%|█████████▎| 140/150 [00:00<00:00, 233.92it/s]"
     ]
    },
    {
     "name": "stdout",
     "output_type": "stream",
     "text": [
      "\n",
      "-- Epoch no(iteration no)  130\n",
      "W intercept: [1.14824958 0.89675552 1.11476172 0.78074979 0.80925587 0.68961598\n",
      " 0.30699883], B intercept: 0.2143004949417455, Train loss: 0.04004, Test loss: 0.05999\n",
      "\n",
      "-- Epoch no(iteration no)  131\n",
      "W intercept: [1.15409359 0.90118742 1.11649722 0.78024223 0.81447542 0.68924381\n",
      " 0.30558886], B intercept: 0.21851188755913198, Train loss: 0.03995, Test loss: 0.06003\n",
      "\n",
      "-- Epoch no(iteration no)  132\n",
      "W intercept: [1.15514048 0.90411097 1.12087322 0.7821327  0.8173412  0.69184334\n",
      " 0.30658316], B intercept: 0.2174735323365968, Train loss: 0.03989, Test loss: 0.06002\n",
      "\n",
      "-- Epoch no(iteration no)  133\n",
      "W intercept: [1.15823284 0.90620995 1.12290873 0.78525697 0.82094034 0.6944195\n",
      " 0.30671165], B intercept: 0.2159537144208147, Train loss: 0.03984, Test loss: 0.06003\n",
      "\n",
      "-- Epoch no(iteration no)  134\n",
      "W intercept: [1.15583586 0.90573909 1.13142987 0.78626313 0.82471429 0.69907359\n",
      " 0.30197474], B intercept: 0.22769574041376103, Train loss: 0.03974, Test loss: 0.06007\n",
      "\n",
      "-- Epoch no(iteration no)  135\n",
      "W intercept: [1.16202171 0.91026523 1.13370499 0.79215749 0.82866824 0.69878208\n",
      " 0.3017792 ], B intercept: 0.22861510960732714, Train loss: 0.03965, Test loss: 0.06009\n",
      "\n",
      "-- Epoch no(iteration no)  136\n",
      "W intercept: [1.16662795 0.91282497 1.13642405 0.79154013 0.83058073 0.7018371\n",
      " 0.30325165], B intercept: 0.22601802056626433, Train loss: 0.03960, Test loss: 0.06008\n",
      "\n",
      "-- Epoch no(iteration no)  137\n",
      "W intercept: [1.16590874 0.90763654 1.13903096 0.77768953 0.82946366 0.69646478\n",
      " 0.30161333], B intercept: 0.22495235070444516, Train loss: 0.03965, Test loss: 0.06010\n",
      "\n",
      "-- Epoch no(iteration no)  138\n",
      "W intercept: [1.17123503 0.9107692  1.14102973 0.78097761 0.83307837 0.69937307\n",
      " 0.30278903], B intercept: 0.2225273240371832, Train loss: 0.03959, Test loss: 0.06011\n",
      "\n",
      "-- Epoch no(iteration no)  139\n",
      "W intercept: [1.17310917 0.9104494  1.14304861 0.78427235 0.83432302 0.69786734\n",
      " 0.30965226], B intercept: 0.2284073191214209, Train loss: 0.03953, Test loss: 0.06008\n",
      "\n",
      "-- Epoch no(iteration no)  140\n",
      "W intercept: [1.17564551 0.91252737 1.14975183 0.781021   0.83398888 0.69375189\n",
      " 0.31083981], B intercept: 0.2347165925740123, Train loss: 0.03946, Test loss: 0.06007\n",
      "\n",
      "-- Epoch no(iteration no)  141\n",
      "W intercept: [1.16875257 0.91711234 1.15022614 0.7823143  0.82357103 0.69180116\n",
      " 0.31595009], B intercept: 0.2232502244030543, Train loss: 0.03955, Test loss: 0.05993\n",
      "\n",
      "-- Epoch no(iteration no)  142\n",
      "W intercept: [1.16987344 0.92071117 1.15278009 0.7874572  0.82340349 0.69381436\n",
      " 0.31543132], B intercept: 0.22773830292673344, Train loss: 0.03948, Test loss: 0.05992\n",
      "\n",
      "-- Epoch no(iteration no)  143\n",
      "W intercept: [1.17436112 0.91739211 1.14889839 0.79390345 0.81926247 0.6977975\n",
      " 0.31284006], B intercept: 0.23488872978646722, Train loss: 0.03946, Test loss: 0.05994\n",
      "\n",
      "-- Epoch no(iteration no) "
     ]
    },
    {
     "name": "stderr",
     "output_type": "stream",
     "text": [
      "\r",
      "100%|██████████| 150/150 [00:00<00:00, 217.59it/s]"
     ]
    },
    {
     "name": "stdout",
     "output_type": "stream",
     "text": [
      " 144\n",
      "W intercept: [1.18014785 0.91929076 1.15178924 0.79302023 0.82723207 0.7014223\n",
      " 0.3116376 ], B intercept: 0.2388305648070451, Train loss: 0.03936, Test loss: 0.06000\n",
      "\n",
      "-- Epoch no(iteration no)  145\n",
      "W intercept: [1.18260949 0.92404058 1.15426483 0.79377289 0.83176875 0.70193508\n",
      " 0.3112231 ], B intercept: 0.24051840560857157, Train loss: 0.03930, Test loss: 0.06002\n",
      "\n",
      "-- Epoch no(iteration no)  146\n",
      "W intercept: [1.18543422 0.92651716 1.15748252 0.79542334 0.83435265 0.70338495\n",
      " 0.31103453], B intercept: 0.2407410170501387, Train loss: 0.03925, Test loss: 0.06003\n",
      "\n",
      "-- Epoch no(iteration no)  147\n",
      "W intercept: [1.18747677 0.92944828 1.16037737 0.79736946 0.84004782 0.70620546\n",
      " 0.31045463], B intercept: 0.2425641084655958, Train loss: 0.03918, Test loss: 0.06006\n",
      "\n",
      "-- Epoch no(iteration no)  148\n",
      "W intercept: [1.18715285 0.92875782 1.16688294 0.79981366 0.84146861 0.71007095\n",
      " 0.30801592], B intercept: 0.24858113352297398, Train loss: 0.03911, Test loss: 0.06008\n",
      "\n",
      "-- Epoch no(iteration no)  149\n",
      "W intercept: [1.19332436 0.93224582 1.1690917  0.80180322 0.845883   0.71212147\n",
      " 0.30777651], B intercept: 0.24971218658476035, Train loss: 0.03904, Test loss: 0.06012\n",
      "\n",
      "-- Epoch no(iteration no)  150\n",
      "W intercept: [1.19268167 0.92296162 1.17093549 0.78993024 0.84388387 0.7058544\n",
      " 0.30655123], B intercept: 0.24520931988651146, Train loss: 0.03912, Test loss: 0.06014\n"
     ]
    },
    {
     "name": "stderr",
     "output_type": "stream",
     "text": [
      "\n"
     ]
    }
   ],
   "source": [
    "## importing self made SGD classifier as Classifier 1 \n",
    "import Sgd_classifier as classfier_1\n",
    "alpha=0.01\n",
    "t_rate=0.0075\n",
    "N=len(x_train)\n",
    "epochs=150\n",
    "w,b,loss_train,loss_test=classfier_1.train_classifier(x_train,y_train,x_test,y_test,epochs,alpha,t_rate)"
   ]
  },
  {
   "cell_type": "markdown",
   "metadata": {
    "id": "PNjgLcYRYcIm"
   },
   "source": [
    "<h4>2.1.2 Coding Approach</h4>\n",
    "We send our train data, test data, with learning rate and regularization rate to our classifier. The classifier uses Stochastic gradient descent and updates the weights and bais over the epochs. With each epoch we aim to reduce our loss, when we reach a point where the loss is similar to the loss that was in previous epoch we return then updated weights and bais. These weights and bais that are returned are optimal for making predictions."
   ]
  },
  {
   "cell_type": "markdown",
   "metadata": {
    "id": "ndwbS6ZqaLr3"
   },
   "source": [
    "<h3>2.2 SVM with RBF kernel </h3>"
   ]
  },
  {
   "cell_type": "markdown",
   "metadata": {
    "id": "H-Qtsx6LaTN7"
   },
   "source": [
    "<h4>2.2.1 Function Call</h4>"
   ]
  },
  {
   "cell_type": "code",
   "execution_count": 24,
   "metadata": {},
   "outputs": [],
   "source": [
    "import Svm_classifier as classfier_2\n",
    "\n",
    "a1=classfier_2.SVM(kernel='rbf', C=0.5, max_iter=10, gamma=0.001)\n",
    "a1.fit(x_train,y_train)"
   ]
  },
  {
   "cell_type": "markdown",
   "metadata": {
    "id": "FUu-87k2aXIR"
   },
   "source": [
    "<h4>2.2.2 Coding Approach</h4>\n",
    "\n",
    "<!----> Will be going over the coding how it is done and stuff"
   ]
  },
  {
   "cell_type": "markdown",
   "metadata": {
    "id": "swzuVJ19S1Jr"
   },
   "source": [
    "<h2><center>3. Model Accuracy</center></h2>\n",
    "<em>\n",
    "Here we are going to talk about the model accuracies by using test and train loss graphs, in addition to Confussion Matrix and some ROC curves\n",
    "</em>"
   ]
  },
  {
   "cell_type": "markdown",
   "metadata": {
    "id": "qPy611dMa8Bu"
   },
   "source": [
    "<h3>3.1 Model 1 SGD Classifier with Log Loss</h3>\n"
   ]
  },
  {
   "cell_type": "markdown",
   "metadata": {
    "id": "rI7qXtftah1a"
   },
   "source": [
    "<h4>3.1.1 Prediction accuracies</h4>"
   ]
  },
  {
   "cell_type": "code",
   "execution_count": 25,
   "metadata": {
    "colab": {
     "base_uri": "https://localhost:8080/"
    },
    "id": "057fGPgc6x3_",
    "outputId": "c841cc8b-3706-45a5-886f-2b89fe684824",
    "scrolled": true
   },
   "outputs": [
    {
     "name": "stdout",
     "output_type": "stream",
     "text": [
      "Train_Accuracy : 0.97376\n",
      "Test_Accuracy  : 0.95652\n"
     ]
    }
   ],
   "source": [
    "y_train_pred = classfier_1.predict(w,b,x_train)\n",
    "y_test_pred = classfier_1.predict(w,b,x_test)\n",
    "\n",
    "y_train=y_train.reshape(y_train_pred.shape)\n",
    "print('Train_Accuracy : {:.5f}'.format((y_train ==  y_train_pred).sum() / len(x_train)))\n",
    "y_test=y_test.reshape(y_test_pred.shape)\n",
    "print('Test_Accuracy  : {:.5f}'.format((y_test ==  y_test_pred).sum() / len(x_test)))"
   ]
  },
  {
   "cell_type": "markdown",
   "metadata": {
    "id": "7pAXgaM_bjzs"
   },
   "source": [
    "<h4>3.1.2 Test and Train Loss over Epochs</h4>\n",
    "We will plot graph against the number of epochs with respect to the test and train loss. This will give us insight whehter our code is performing gradient descent in a correct manner."
   ]
  },
  {
   "cell_type": "code",
   "execution_count": 26,
   "metadata": {
    "id": "1gK7yssz073T",
    "scrolled": true
   },
   "outputs": [
    {
     "name": "stdout",
     "output_type": "stream",
     "text": [
      "==============================================================================================================\n"
     ]
    },
    {
     "data": {
      "image/png": "[encoded data removed]",
      "text/plain": [
       "<Figure size 1080x504 with 1 Axes>"
      ]
     },
     "metadata": {},
     "output_type": "display_data"
    }
   ],
   "source": [
    "epochs = np.arange(1, epochs+1, 1)\n",
    "plt.figure(figsize=(15, 7))\n",
    "plt.plot(epochs,loss_train, label='Train Loss', c = 'blue')\n",
    "plt.plot(epochs,loss_test, label='Test Loss',c = 'red')\n",
    "plt.title('Epoch vs Train,Test Loss')\n",
    "plt.xlabel(\"Epochs\")\n",
    "plt.ylabel('Loss')\n",
    "plt.legend()\n",
    "print(110*'=')\n"
   ]
  },
  {
   "cell_type": "markdown",
   "metadata": {
    "id": "qcN8YgFwb0gH"
   },
   "source": [
    "<h4>3.1.3 Confusion Matrix and Performance Metrics</h4>\n",
    "The confusion matrix we plot here looks like the table mentioned below :-\n",
    "<table>\n",
    "  <tr>\n",
    "    <th><em><h4>Labels</h4></em></th>\n",
    "    <th><em><h4>Malignant</h4></em></th>\n",
    "    <th><em><h4>Benign</h4></em></th>\n",
    "  </tr>\n",
    "  <tr>\n",
    "    <td><center><em><h4>Predicted Malignant</h4></em></center></td>\n",
    "      <td><center><h5>True Positives</h5></center></td>\n",
    "    <td><center><h5>False Positives</h5></center></td> \n",
    "  </tr>\n",
    "  <tr>\n",
    "     <td><em><h4>Predicted Benign</h4></em></td>\n",
    "     <td><center><h5>False Negatives</h5></center></td>\n",
    "     <td><center><h5>True Negatives</h5></center></td>\n",
    "  </tr>\n",
    "</table>\n",
    "\n"
   ]
  },
  {
   "cell_type": "code",
   "execution_count": 31,
   "metadata": {
    "id": "dwjOiXQsTjjO",
    "scrolled": false
   },
   "outputs": [
    {
     "name": "stdout",
     "output_type": "stream",
     "text": [
      "Confusion Matrix\n",
      " [[58  3]\n",
      " [ 2 52]]\n",
      "False Positive Rate :   0.05455\n",
      "True Positive Rate  :   0.96667\n",
      "Precision of model  :   0.95082\n",
      "Area Under Curve (AUC): 0.95652\n",
      "F1 score of model   :   0.95868\n"
     ]
    }
   ],
   "source": [
    "import confusion_matrix as cm\n",
    "cm_sgd,fpr_sgd,recall_sgd,AUC_score_sgd,precision_sgd,F1_score_sgd= cm.confusion_matrix(y_test, y_test_pred)\n",
    "print('Confusion Matrix\\n',cm_sgd)\n",
    "print('False Positive Rate :   {:.5f}'.format(fpr_sgd))\n",
    "print('True Positive Rate  :   {:.5f}'.format(recall_sgd))\n",
    "print('Precision of model  :   {:.5f}'.format(precision_sgd))\n",
    "print('Area Under Curve (AUC): {:.5f}'.format(AUC_score_sgd))\n",
    "print('F1 score of model   :   {:.5f}'.format(F1_score_sgd))"
   ]
  },
  {
   "cell_type": "markdown",
   "metadata": {},
   "source": [
    "<h3> 3.2 Model 2 SVM with RBF Kernel</h3>"
   ]
  },
  {
   "cell_type": "markdown",
   "metadata": {},
   "source": [
    "<h4>3.2.1 Prediction accuracies</h4>"
   ]
  },
  {
   "cell_type": "code",
   "execution_count": 28,
   "metadata": {},
   "outputs": [
    {
     "name": "stdout",
     "output_type": "stream",
     "text": [
      "Train_Accuracy : 1.0\n",
      "Test_Accuracy  : 0.94783\n"
     ]
    }
   ],
   "source": [
    "y_train_pred_svm = a1.predict(x_train)\n",
    "y_test_pred_svm= a1.predict(x_test)\n",
    "print('Train_Accuracy : {:.1f}'.format((y_train ==  y_train_pred_svm).sum() / len(x_train)))\n",
    "print('Test_Accuracy  : {:.5f}'.format((y_test ==  y_test_pred_svm).sum() / len(x_test)))\n"
   ]
  },
  {
   "cell_type": "markdown",
   "metadata": {},
   "source": [
    "<h4>3.2.2 </h4>\n",
    "<!--->Some grpah here ALP <--->"
   ]
  },
  {
   "cell_type": "code",
   "execution_count": null,
   "metadata": {},
   "outputs": [],
   "source": []
  },
  {
   "cell_type": "markdown",
   "metadata": {},
   "source": [
    "<h4>3.2.3 Confusion Matrix  and Performance Metrics</h4> \n",
    "The confusion matrix we plot here looks like the table mentioned below :-\n",
    "<table>\n",
    "  <tr>\n",
    "    <th><em><h4>Labels</h4></em></th>\n",
    "    <th><em><h4>Malignant</h4></em></th>\n",
    "    <th><em><h4>Benign</h4></em></th>\n",
    "  </tr>\n",
    "  <tr>\n",
    "    <td><center><em><h4>Predicted Malignant</h4></em></center></td>\n",
    "      <td><center><h5>True Positives</h5></center></td>\n",
    "    <td><center><h5>False Positives</h5></center></td> \n",
    "  </tr>\n",
    "  <tr>\n",
    "     <td><em><h4>Predicted Benign</h4></em></td>\n",
    "     <td><center><h5>False Negatives</h5></center></td>\n",
    "     <td><center><h5>True Negatives</h5></center></td>\n",
    "  </tr>\n",
    "</table>"
   ]
  },
  {
   "cell_type": "code",
   "execution_count": 29,
   "metadata": {
    "scrolled": true
   },
   "outputs": [
    {
     "name": "stdout",
     "output_type": "stream",
     "text": [
      "Confusion Matrix\n",
      " [[57  3]\n",
      " [ 3 52]]\n",
      "False Positive Rate :   0.05455\n",
      "True Positive Rate  :   0.95000\n",
      "Precision of model  :   0.95000\n",
      "Area Under Curve (AUC): 0.94783\n",
      "F1 score of model   :   0.95000\n"
     ]
    }
   ],
   "source": [
    "import confusion_matrix as cm\n",
    "cm_svm,fpr_svm,recall_svm,AUC_score_svm,precision_svm,F1_score_svm= cm.confusion_matrix(y_test, y_test_pred_svm)\n",
    "print('Confusion Matrix\\n',cm_svm)\n",
    "print('False Positive Rate :   {:.5f}'.format(fpr_svm))\n",
    "print('True Positive Rate  :   {:.5f}'.format(recall_svm))\n",
    "print('Precision of model  :   {:.5f}'.format(precision_svm))\n",
    "print('Area Under Curve (AUC): {:.5f}'.format(AUC_score_svm))\n",
    "print('F1 score of model   :   {:.5f}'.format(F1_score_svm))"
   ]
  },
  {
   "cell_type": "markdown",
   "metadata": {},
   "source": [
    "<h2><center>Model Comparisions</center></h2>\n",
    "\n",
    "<h3><center>Metrics Comparsions</center></h3>\n"
   ]
  },
  {
   "cell_type": "code",
   "execution_count": 65,
   "metadata": {},
   "outputs": [],
   "source": [
    "# Making a data frame of all the result \n",
    "cols = ['Metric' , 'SGD Classifier' , 'SVM Classifier']\n",
    "values = [['F1_score',F1_score_sgd,F1_score_svm] ,[ 'Recal',recall_sgd,recall_svm]\\\n",
    "          ,['FPR',fpr_sgd,fpr_svm],['AUC',AUC_score_sgd,AUC_score_svm]\\\n",
    "          ,['Precision',precision_sgd,precision_svm]]\n",
    "result = pd.DataFrame(values, columns = cols) "
   ]
  },
  {
   "cell_type": "code",
   "execution_count": 74,
   "metadata": {},
   "outputs": [
    {
     "data": {
      "text/html": [
       "<div>\n",
       "<style scoped>\n",
       "    .dataframe tbody tr th:only-of-type {\n",
       "        vertical-align: middle;\n",
       "    }\n",
       "\n",
       "    .dataframe tbody tr th {\n",
       "        vertical-align: top;\n",
       "    }\n",
       "\n",
       "    .dataframe thead th {\n",
       "        text-align: right;\n",
       "    }\n",
       "</style>\n",
       "<table border=\"1\" class=\"dataframe\">\n",
       "  <thead>\n",
       "    <tr style=\"text-align: right;\">\n",
       "      <th></th>\n",
       "      <th>Metric</th>\n",
       "      <th>SGD Classifier</th>\n",
       "      <th>SVM Classifier</th>\n",
       "    </tr>\n",
       "  </thead>\n",
       "  <tbody>\n",
       "    <tr>\n",
       "      <th>0</th>\n",
       "      <td>F1_score</td>\n",
       "      <td>0.958678</td>\n",
       "      <td>0.950000</td>\n",
       "    </tr>\n",
       "    <tr>\n",
       "      <th>1</th>\n",
       "      <td>Recal</td>\n",
       "      <td>0.966667</td>\n",
       "      <td>0.950000</td>\n",
       "    </tr>\n",
       "    <tr>\n",
       "      <th>2</th>\n",
       "      <td>FPR</td>\n",
       "      <td>0.054545</td>\n",
       "      <td>0.054545</td>\n",
       "    </tr>\n",
       "    <tr>\n",
       "      <th>3</th>\n",
       "      <td>AUC</td>\n",
       "      <td>0.956522</td>\n",
       "      <td>0.947826</td>\n",
       "    </tr>\n",
       "    <tr>\n",
       "      <th>4</th>\n",
       "      <td>Precision</td>\n",
       "      <td>0.950820</td>\n",
       "      <td>0.950000</td>\n",
       "    </tr>\n",
       "  </tbody>\n",
       "</table>\n",
       "</div>"
      ],
      "text/plain": [
       "      Metric  SGD Classifier  SVM Classifier\n",
       "0   F1_score        0.958678        0.950000\n",
       "1      Recal        0.966667        0.950000\n",
       "2        FPR        0.054545        0.054545\n",
       "3        AUC        0.956522        0.947826\n",
       "4  Precision        0.950820        0.950000"
      ]
     },
     "execution_count": 74,
     "metadata": {},
     "output_type": "execute_result"
    }
   ],
   "source": [
    "result"
   ]
  },
  {
   "cell_type": "markdown",
   "metadata": {
    "id": "XW2Czt08hhqg"
   },
   "source": [
    "<h2><center>Conclusions</center></h2>\n",
    "We were given a task to implement a model that will help classify between M/B(still have to refine these lines).\n",
    "To do this we first normalize and clean the data so that we can get maximum efficiency in our classification model.\n",
    "Then we implement the models that we created using python scripts and make a call back to then in our main IPython notebook.\n",
    "<br> </br>\n",
    "<p>\n",
    "<em>\n",
    "The following are the results obtained for the repesctive implemnted models :-\n",
    "</p>\n",
    "</em>\n",
    "<em>    \n",
    "\n",
    "<br><h4>1. Stochastic Gradient Descent Classifier </h4>\n",
    "<em>\n",
    "    <ol>\n",
    "    <li></li>\n",
    "    <li></li>\n",
    "    <li></li>\n",
    "    </ol>\n",
    "</em>\n",
    "</br>\n",
    "<br><h4>2. Support Vector Machine </h4>\n",
    "<em>\n",
    "    <ol>\n",
    "    <li></li>\n",
    "    <li></li>\n",
    "    <li></li>\n",
    "    </ol>\n",
    "</em>\n",
    "</br>\n",
    "</em>\n",
    "<h2><center>Code's Shortcomings</center></h2>\n",
    "This code works on assumption that #Gradient descents fault... \n",
    "<em>\n",
    "&emsp;<li>Very High Accuracy (Overfitting?) but still high precission and recall? Why?</li>\n",
    "<li>Really Low Data Points </li>\n",
    "<!---> Some shortcommings about the SVMs stuff? What assumptions we make with the SVM stuff?\n"
   ]
  },
  {
   "cell_type": "markdown",
   "metadata": {
    "id": "_tB9iqYfg-NA"
   },
   "source": [
    "<h2><center>References</center></h2>\n"
   ]
  },
  {
   "cell_type": "markdown",
   "metadata": {},
   "source": []
  }
 ],
 "metadata": {
  "colab": {
   "collapsed_sections": [],
   "name": "Main_Code.ipynb",
   "provenance": []
  },
  "kernelspec": {
   "display_name": "Python 3",
   "language": "python",
   "name": "python3"
  },
  "language_info": {
   "codemirror_mode": {
    "name": "ipython",
    "version": 3
   },
   "file_extension": ".py",
   "mimetype": "text/x-python",
   "name": "python",
   "nbconvert_exporter": "python",
   "pygments_lexer": "ipython3",
   "version": "3.8.8"
  }
 },
 "nbformat": 4,
 "nbformat_minor": 1
}
